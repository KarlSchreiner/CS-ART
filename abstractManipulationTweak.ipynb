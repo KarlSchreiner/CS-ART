{
 "cells": [
  {
   "cell_type": "code",
   "execution_count": null,
   "id": "enabling-serve",
   "metadata": {},
   "outputs": [],
   "source": [
    "#Manipulates an image by creating entropy towards a purpose \n",
    "# creates an animation that is simultaneously a destruction and reimagination of the original image "
   ]
  },
  {
   "cell_type": "code",
   "execution_count": 2,
   "id": "floating-burner",
   "metadata": {},
   "outputs": [
    {
     "name": "stdout",
     "output_type": "stream",
     "text": [
      "Requirement already satisfied: scikit-image in c:\\users\\karl\\appdata\\local\\programs\\python\\python39\\lib\\site-packages (0.18.1)Note: you may need to restart the kernel to use updated packages.\n"
     ]
    },
    {
     "name": "stderr",
     "output_type": "stream",
     "text": [
      "WARNING: You are using pip version 20.2.3; however, version 21.0.1 is available.\n",
      "You should consider upgrading via the 'c:\\users\\karl\\appdata\\local\\programs\\python\\python39\\python.exe -m pip install --upgrade pip' command.\n"
     ]
    },
    {
     "name": "stdout",
     "output_type": "stream",
     "text": [
      "\n",
      "Requirement already satisfied: pillow!=7.1.0,!=7.1.1,>=4.3.0 in c:\\users\\karl\\appdata\\local\\programs\\python\\python39\\lib\\site-packages (from scikit-image) (8.1.2)\n",
      "Requirement already satisfied: imageio>=2.3.0 in c:\\users\\karl\\appdata\\local\\programs\\python\\python39\\lib\\site-packages (from scikit-image) (2.9.0)\n",
      "Requirement already satisfied: tifffile>=2019.7.26 in c:\\users\\karl\\appdata\\local\\programs\\python\\python39\\lib\\site-packages (from scikit-image) (2021.3.5)\n",
      "Requirement already satisfied: scipy>=1.0.1 in c:\\users\\karl\\appdata\\local\\programs\\python\\python39\\lib\\site-packages (from scikit-image) (1.6.1)\n",
      "Requirement already satisfied: numpy>=1.16.5 in c:\\users\\karl\\appdata\\local\\programs\\python\\python39\\lib\\site-packages (from scikit-image) (1.20.1)\n",
      "Requirement already satisfied: PyWavelets>=1.1.1 in c:\\users\\karl\\appdata\\local\\programs\\python\\python39\\lib\\site-packages (from scikit-image) (1.1.1)\n",
      "Requirement already satisfied: networkx>=2.0 in c:\\users\\karl\\appdata\\local\\programs\\python\\python39\\lib\\site-packages (from scikit-image) (2.5)\n",
      "Requirement already satisfied: matplotlib!=3.0.0,>=2.0.0 in c:\\users\\karl\\appdata\\local\\programs\\python\\python39\\lib\\site-packages (from scikit-image) (3.3.4)\n",
      "Requirement already satisfied: decorator>=4.3.0 in c:\\users\\karl\\appdata\\local\\programs\\python\\python39\\lib\\site-packages (from networkx>=2.0->scikit-image) (4.4.2)\n",
      "Requirement already satisfied: python-dateutil>=2.1 in c:\\users\\karl\\appdata\\local\\programs\\python\\python39\\lib\\site-packages (from matplotlib!=3.0.0,>=2.0.0->scikit-image) (2.8.1)\n",
      "Requirement already satisfied: cycler>=0.10 in c:\\users\\karl\\appdata\\local\\programs\\python\\python39\\lib\\site-packages (from matplotlib!=3.0.0,>=2.0.0->scikit-image) (0.10.0)\n",
      "Requirement already satisfied: kiwisolver>=1.0.1 in c:\\users\\karl\\appdata\\local\\programs\\python\\python39\\lib\\site-packages (from matplotlib!=3.0.0,>=2.0.0->scikit-image) (1.3.1)\n",
      "Requirement already satisfied: pyparsing!=2.0.4,!=2.1.2,!=2.1.6,>=2.0.3 in c:\\users\\karl\\appdata\\local\\programs\\python\\python39\\lib\\site-packages (from matplotlib!=3.0.0,>=2.0.0->scikit-image) (2.4.7)\n",
      "Requirement already satisfied: six>=1.5 in c:\\users\\karl\\appdata\\local\\programs\\python\\python39\\lib\\site-packages (from python-dateutil>=2.1->matplotlib!=3.0.0,>=2.0.0->scikit-image) (1.15.0)\n"
     ]
    }
   ],
   "source": [
    "pip install scikit-image"
   ]
  },
  {
   "cell_type": "code",
   "execution_count": 3,
   "id": "limiting-egypt",
   "metadata": {},
   "outputs": [
    {
     "name": "stdout",
     "output_type": "stream",
     "text": [
      "Requirement already satisfied: pydrive in c:\\users\\karl\\appdata\\local\\programs\\python\\python39\\lib\\site-packages (1.3.1)Note: you may need to restart the kernel to use updated packages.\n",
      "Requirement already satisfied: google-api-python-client>=1.2 in c:\\users\\karl\\appdata\\local\\programs\\python\\python39\\lib\\site-packages (from pydrive) (2.0.2)\n",
      "Requirement already satisfied: oauth2client>=4.0.0 in c:\\users\\karl\\appdata\\local\\programs\\python\\python39\\lib\\site-packages (from pydrive) (4.1.3)\n",
      "Requirement already satisfied: PyYAML>=3.0 in c:\\users\\karl\\appdata\\local\\programs\\python\\python39\\lib\\site-packages (from pydrive) (5.4.1)\n",
      "Requirement already satisfied: httplib2<1dev,>=0.15.0 in c:\\users\\karl\\appdata\\local\\programs\\python\\python39\\lib\\site-packages (from google-api-python-client>=1.2->pydrive) (0.19.0)\n",
      "Requirement already satisfied: uritemplate<4dev,>=3.0.0 in c:\\users\\karl\\appdata\\local\\programs\\python\\python39\\lib\\site-packages (from google-api-python-client>=1.2->pydrive) (3.0.1)\n",
      "Requirement already satisfied: google-auth<2dev,>=1.16.0 in c:\\users\\karl\\appdata\\local\\programs\\python\\python39\\lib\\site-packages (from google-api-python-client>=1.2->pydrive) (1.27.1)\n"
     ]
    },
    {
     "name": "stderr",
     "output_type": "stream",
     "text": [
      "WARNING: You are using pip version 20.2.3; however, version 21.0.1 is available.\n",
      "You should consider upgrading via the 'c:\\users\\karl\\appdata\\local\\programs\\python\\python39\\python.exe -m pip install --upgrade pip' command.\n"
     ]
    },
    {
     "name": "stdout",
     "output_type": "stream",
     "text": [
      "\n",
      "Requirement already satisfied: google-api-core<2dev,>=1.21.0 in c:\\users\\karl\\appdata\\local\\programs\\python\\python39\\lib\\site-packages (from google-api-python-client>=1.2->pydrive) (1.26.1)\n",
      "Requirement already satisfied: six<2dev,>=1.13.0 in c:\\users\\karl\\appdata\\local\\programs\\python\\python39\\lib\\site-packages (from google-api-python-client>=1.2->pydrive) (1.15.0)\n",
      "Requirement already satisfied: google-auth-httplib2>=0.0.3 in c:\\users\\karl\\appdata\\local\\programs\\python\\python39\\lib\\site-packages (from google-api-python-client>=1.2->pydrive) (0.1.0)\n",
      "Requirement already satisfied: pyasn1>=0.1.7 in c:\\users\\karl\\appdata\\local\\programs\\python\\python39\\lib\\site-packages (from oauth2client>=4.0.0->pydrive) (0.4.8)\n",
      "Requirement already satisfied: rsa>=3.1.4 in c:\\users\\karl\\appdata\\local\\programs\\python\\python39\\lib\\site-packages (from oauth2client>=4.0.0->pydrive) (4.7.2)\n",
      "Requirement already satisfied: pyasn1-modules>=0.0.5 in c:\\users\\karl\\appdata\\local\\programs\\python\\python39\\lib\\site-packages (from oauth2client>=4.0.0->pydrive) (0.2.8)\n",
      "Requirement already satisfied: pyparsing<3,>=2.4.2 in c:\\users\\karl\\appdata\\local\\programs\\python\\python39\\lib\\site-packages (from httplib2<1dev,>=0.15.0->google-api-python-client>=1.2->pydrive) (2.4.7)\n",
      "Requirement already satisfied: cachetools<5.0,>=2.0.0 in c:\\users\\karl\\appdata\\local\\programs\\python\\python39\\lib\\site-packages (from google-auth<2dev,>=1.16.0->google-api-python-client>=1.2->pydrive) (4.2.1)\n",
      "Requirement already satisfied: setuptools>=40.3.0 in c:\\users\\karl\\appdata\\local\\programs\\python\\python39\\lib\\site-packages (from google-auth<2dev,>=1.16.0->google-api-python-client>=1.2->pydrive) (49.2.1)\n",
      "Requirement already satisfied: requests<3.0.0dev,>=2.18.0 in c:\\users\\karl\\appdata\\local\\programs\\python\\python39\\lib\\site-packages (from google-api-core<2dev,>=1.21.0->google-api-python-client>=1.2->pydrive) (2.25.1)\n",
      "Requirement already satisfied: protobuf>=3.12.0 in c:\\users\\karl\\appdata\\local\\programs\\python\\python39\\lib\\site-packages (from google-api-core<2dev,>=1.21.0->google-api-python-client>=1.2->pydrive) (3.15.6)\n",
      "Requirement already satisfied: pytz in c:\\users\\karl\\appdata\\local\\programs\\python\\python39\\lib\\site-packages (from google-api-core<2dev,>=1.21.0->google-api-python-client>=1.2->pydrive) (2021.1)\n",
      "Requirement already satisfied: googleapis-common-protos<2.0dev,>=1.6.0 in c:\\users\\karl\\appdata\\local\\programs\\python\\python39\\lib\\site-packages (from google-api-core<2dev,>=1.21.0->google-api-python-client>=1.2->pydrive) (1.53.0)\n",
      "Requirement already satisfied: packaging>=14.3 in c:\\users\\karl\\appdata\\local\\programs\\python\\python39\\lib\\site-packages (from google-api-core<2dev,>=1.21.0->google-api-python-client>=1.2->pydrive) (20.9)\n",
      "Requirement already satisfied: idna<3,>=2.5 in c:\\users\\karl\\appdata\\local\\programs\\python\\python39\\lib\\site-packages (from requests<3.0.0dev,>=2.18.0->google-api-core<2dev,>=1.21.0->google-api-python-client>=1.2->pydrive) (2.10)\n",
      "Requirement already satisfied: urllib3<1.27,>=1.21.1 in c:\\users\\karl\\appdata\\local\\programs\\python\\python39\\lib\\site-packages (from requests<3.0.0dev,>=2.18.0->google-api-core<2dev,>=1.21.0->google-api-python-client>=1.2->pydrive) (1.26.3)\n",
      "Requirement already satisfied: certifi>=2017.4.17 in c:\\users\\karl\\appdata\\local\\programs\\python\\python39\\lib\\site-packages (from requests<3.0.0dev,>=2.18.0->google-api-core<2dev,>=1.21.0->google-api-python-client>=1.2->pydrive) (2020.12.5)\n",
      "Requirement already satisfied: chardet<5,>=3.0.2 in c:\\users\\karl\\appdata\\local\\programs\\python\\python39\\lib\\site-packages (from requests<3.0.0dev,>=2.18.0->google-api-core<2dev,>=1.21.0->google-api-python-client>=1.2->pydrive) (4.0.0)\n"
     ]
    }
   ],
   "source": [
    "pip install pydrive"
   ]
  },
  {
   "cell_type": "code",
   "execution_count": 4,
   "id": "great-perception",
   "metadata": {
    "scrolled": false
   },
   "outputs": [
    {
     "name": "stdout",
     "output_type": "stream",
     "text": [
      "Requirement already satisfied: Pillow in c:\\users\\karl\\appdata\\local\\programs\\python\\python39\\lib\\site-packages (8.1.2)\n",
      "Note: you may need to restart the kernel to use updated packages.\n"
     ]
    },
    {
     "name": "stderr",
     "output_type": "stream",
     "text": [
      "WARNING: You are using pip version 20.2.3; however, version 21.0.1 is available.\n",
      "You should consider upgrading via the 'c:\\users\\karl\\appdata\\local\\programs\\python\\python39\\python.exe -m pip install --upgrade pip' command.\n"
     ]
    }
   ],
   "source": []
  },
  {
   "cell_type": "code",
   "execution_count": 2,
   "id": "curious-camel",
   "metadata": {},
   "outputs": [],
   "source": [
    "import skimage\n",
    "import os\n",
    "from skimage import io\n",
    "from skimage.io import imsave\n",
    "from skimage.color import rgb2gray\n",
    "from matplotlib import pyplot as plt\n",
    "\n",
    "\n",
    "from random import seed\n",
    "from random import randint\n",
    "\n"
   ]
  },
  {
   "cell_type": "code",
   "execution_count": 3,
   "id": "located-durham",
   "metadata": {},
   "outputs": [],
   "source": [
    "#decide where pixels should aggregate \n",
    "redCluster = [50,0]\n",
    "greenCluster = [500, 1720]\n",
    "blueCluster = [1000, 960]\n",
    "#what percentage of the time should we move toward the desired cluster? less than 100% adds entropy/graininess\n",
    "clusterCoefficient = 70;\n",
    "#how many pixels away are we willing to swap with \n",
    "maxJump = 6;"
   ]
  },
  {
   "cell_type": "code",
   "execution_count": 4,
   "id": "dried-potential",
   "metadata": {},
   "outputs": [],
   "source": [
    "#returns the cluster location for the primary color of a pixel\n",
    "#@param pixel a pixel with rgb values\n",
    "def findMainColor(pixel):\n",
    "    if pixel[0] > pixel [1] and pixel[0] > pixel[2]:\n",
    "        return redCluster\n",
    "    if pixel[1] > pixel[2]:\n",
    "        return greenCluster\n",
    "    else:\n",
    "        return blueCluster"
   ]
  },
  {
   "cell_type": "code",
   "execution_count": 5,
   "id": "dirty-filter",
   "metadata": {},
   "outputs": [],
   "source": [
    "#decides if the pixel should go right or left depending on which direction is closer to the desired cluster \n",
    "#returns true if the pixel should go right otherwise left \n",
    "#param pixel location a point with the x value stored in index 1 for the pixel we are moving\n",
    "#param cluster a point value  with the x value stored in index 1 for the cluster we are moving toward\n",
    "def goRight(pixelLocation, cluster):\n",
    "    if pixelLocation[1] < cluster[1]:\n",
    "        return True \n",
    "    else:\n",
    "        return False"
   ]
  },
  {
   "cell_type": "code",
   "execution_count": 6,
   "id": "marine-vocabulary",
   "metadata": {},
   "outputs": [],
   "source": [
    "#decides if the pixel should go up or down depending on which direction is closer to the desired cluster \n",
    "#returns true if the pixel should go down otherwise up \n",
    "#param pixel location a point with the y value stored in index o for the pixel we are moving\n",
    "#param cluster a point value  with the y value stored in index o for the cluster we are moving toward\n",
    "def goDown(pixelLocation, cluster):\n",
    "    if pixelLocation[0] < cluster[0]:\n",
    "        return True \n",
    "    else:\n",
    "        return False"
   ]
  },
  {
   "cell_type": "code",
   "execution_count": 9,
   "id": "instrumental-clause",
   "metadata": {},
   "outputs": [
    {
     "name": "stdout",
     "output_type": "stream",
     "text": [
      "C:\\Users\\Karl\\Desktop\\why didn't you choose me\\abstractImageTweakedpng\\abstractImageT700001.png\n",
      "C:\\Users\\Karl\\Desktop\\why didn't you choose me\\abstractImageTweakedpng\\abstractImageT700002.png\n",
      "C:\\Users\\Karl\\Desktop\\why didn't you choose me\\abstractImageTweakedpng\\abstractImageT700003.png\n",
      "C:\\Users\\Karl\\Desktop\\why didn't you choose me\\abstractImageTweakedpng\\abstractImageT700004.png\n",
      "C:\\Users\\Karl\\Desktop\\why didn't you choose me\\abstractImageTweakedpng\\abstractImageT700005.png\n",
      "C:\\Users\\Karl\\Desktop\\why didn't you choose me\\abstractImageTweakedpng\\abstractImageT700006.png\n",
      "C:\\Users\\Karl\\Desktop\\why didn't you choose me\\abstractImageTweakedpng\\abstractImageT700007.png\n",
      "C:\\Users\\Karl\\Desktop\\why didn't you choose me\\abstractImageTweakedpng\\abstractImageT700008.png\n",
      "C:\\Users\\Karl\\Desktop\\why didn't you choose me\\abstractImageTweakedpng\\abstractImageT700009.png\n",
      "C:\\Users\\Karl\\Desktop\\why didn't you choose me\\abstractImageTweakedpng\\abstractImageT700010.png\n",
      "C:\\Users\\Karl\\Desktop\\why didn't you choose me\\abstractImageTweakedpng\\abstractImageT700011.png\n",
      "C:\\Users\\Karl\\Desktop\\why didn't you choose me\\abstractImageTweakedpng\\abstractImageT700012.png\n",
      "C:\\Users\\Karl\\Desktop\\why didn't you choose me\\abstractImageTweakedpng\\abstractImageT700013.png\n",
      "C:\\Users\\Karl\\Desktop\\why didn't you choose me\\abstractImageTweakedpng\\abstractImageT700014.png\n",
      "C:\\Users\\Karl\\Desktop\\why didn't you choose me\\abstractImageTweakedpng\\abstractImageT700015.png\n",
      "C:\\Users\\Karl\\Desktop\\why didn't you choose me\\abstractImageTweakedpng\\abstractImageT700016.png\n",
      "C:\\Users\\Karl\\Desktop\\why didn't you choose me\\abstractImageTweakedpng\\abstractImageT700017.png\n",
      "C:\\Users\\Karl\\Desktop\\why didn't you choose me\\abstractImageTweakedpng\\abstractImageT700018.png\n",
      "C:\\Users\\Karl\\Desktop\\why didn't you choose me\\abstractImageTweakedpng\\abstractImageT700019.png\n",
      "C:\\Users\\Karl\\Desktop\\why didn't you choose me\\abstractImageTweakedpng\\abstractImageT700020.png\n",
      "C:\\Users\\Karl\\Desktop\\why didn't you choose me\\abstractImageTweakedpng\\abstractImageT700021.png\n",
      "C:\\Users\\Karl\\Desktop\\why didn't you choose me\\abstractImageTweakedpng\\abstractImageT700022.png\n",
      "C:\\Users\\Karl\\Desktop\\why didn't you choose me\\abstractImageTweakedpng\\abstractImageT700023.png\n",
      "C:\\Users\\Karl\\Desktop\\why didn't you choose me\\abstractImageTweakedpng\\abstractImageT700024.png\n",
      "C:\\Users\\Karl\\Desktop\\why didn't you choose me\\abstractImageTweakedpng\\abstractImageT700025.png\n",
      "C:\\Users\\Karl\\Desktop\\why didn't you choose me\\abstractImageTweakedpng\\abstractImageT700026.png\n",
      "C:\\Users\\Karl\\Desktop\\why didn't you choose me\\abstractImageTweakedpng\\abstractImageT700027.png\n",
      "C:\\Users\\Karl\\Desktop\\why didn't you choose me\\abstractImageTweakedpng\\abstractImageT700028.png\n",
      "C:\\Users\\Karl\\Desktop\\why didn't you choose me\\abstractImageTweakedpng\\abstractImageT700029.png\n",
      "C:\\Users\\Karl\\Desktop\\why didn't you choose me\\abstractImageTweakedpng\\abstractImageT700030.png\n",
      "C:\\Users\\Karl\\Desktop\\why didn't you choose me\\abstractImageTweakedpng\\abstractImageT700031.png\n",
      "C:\\Users\\Karl\\Desktop\\why didn't you choose me\\abstractImageTweakedpng\\abstractImageT700032.png\n",
      "C:\\Users\\Karl\\Desktop\\why didn't you choose me\\abstractImageTweakedpng\\abstractImageT700033.png\n",
      "C:\\Users\\Karl\\Desktop\\why didn't you choose me\\abstractImageTweakedpng\\abstractImageT700034.png\n",
      "C:\\Users\\Karl\\Desktop\\why didn't you choose me\\abstractImageTweakedpng\\abstractImageT700035.png\n",
      "C:\\Users\\Karl\\Desktop\\why didn't you choose me\\abstractImageTweakedpng\\abstractImageT700036.png\n",
      "C:\\Users\\Karl\\Desktop\\why didn't you choose me\\abstractImageTweakedpng\\abstractImageT700037.png\n",
      "C:\\Users\\Karl\\Desktop\\why didn't you choose me\\abstractImageTweakedpng\\abstractImageT700038.png\n",
      "C:\\Users\\Karl\\Desktop\\why didn't you choose me\\abstractImageTweakedpng\\abstractImageT700039.png\n",
      "C:\\Users\\Karl\\Desktop\\why didn't you choose me\\abstractImageTweakedpng\\abstractImageT700040.png\n",
      "C:\\Users\\Karl\\Desktop\\why didn't you choose me\\abstractImageTweakedpng\\abstractImageT700041.png\n",
      "C:\\Users\\Karl\\Desktop\\why didn't you choose me\\abstractImageTweakedpng\\abstractImageT700042.png\n",
      "C:\\Users\\Karl\\Desktop\\why didn't you choose me\\abstractImageTweakedpng\\abstractImageT700043.png\n",
      "C:\\Users\\Karl\\Desktop\\why didn't you choose me\\abstractImageTweakedpng\\abstractImageT700044.png\n",
      "C:\\Users\\Karl\\Desktop\\why didn't you choose me\\abstractImageTweakedpng\\abstractImageT700045.png\n",
      "C:\\Users\\Karl\\Desktop\\why didn't you choose me\\abstractImageTweakedpng\\abstractImageT700046.png\n",
      "C:\\Users\\Karl\\Desktop\\why didn't you choose me\\abstractImageTweakedpng\\abstractImageT700047.png\n",
      "C:\\Users\\Karl\\Desktop\\why didn't you choose me\\abstractImageTweakedpng\\abstractImageT700048.png\n",
      "C:\\Users\\Karl\\Desktop\\why didn't you choose me\\abstractImageTweakedpng\\abstractImageT700049.png\n",
      "C:\\Users\\Karl\\Desktop\\why didn't you choose me\\abstractImageTweakedpng\\abstractImageT700050.png\n",
      "C:\\Users\\Karl\\Desktop\\why didn't you choose me\\abstractImageTweakedpng\\abstractImageT700051.png\n",
      "C:\\Users\\Karl\\Desktop\\why didn't you choose me\\abstractImageTweakedpng\\abstractImageT700052.png\n",
      "C:\\Users\\Karl\\Desktop\\why didn't you choose me\\abstractImageTweakedpng\\abstractImageT700053.png\n",
      "C:\\Users\\Karl\\Desktop\\why didn't you choose me\\abstractImageTweakedpng\\abstractImageT700054.png\n",
      "C:\\Users\\Karl\\Desktop\\why didn't you choose me\\abstractImageTweakedpng\\abstractImageT700055.png\n",
      "C:\\Users\\Karl\\Desktop\\why didn't you choose me\\abstractImageTweakedpng\\abstractImageT700056.png\n",
      "C:\\Users\\Karl\\Desktop\\why didn't you choose me\\abstractImageTweakedpng\\abstractImageT700057.png\n",
      "C:\\Users\\Karl\\Desktop\\why didn't you choose me\\abstractImageTweakedpng\\abstractImageT700058.png\n",
      "C:\\Users\\Karl\\Desktop\\why didn't you choose me\\abstractImageTweakedpng\\abstractImageT700059.png\n",
      "C:\\Users\\Karl\\Desktop\\why didn't you choose me\\abstractImageTweakedpng\\abstractImageT700060.png\n",
      "C:\\Users\\Karl\\Desktop\\why didn't you choose me\\abstractImageTweakedpng\\abstractImageT700061.png\n",
      "C:\\Users\\Karl\\Desktop\\why didn't you choose me\\abstractImageTweakedpng\\abstractImageT700062.png\n",
      "C:\\Users\\Karl\\Desktop\\why didn't you choose me\\abstractImageTweakedpng\\abstractImageT700063.png\n",
      "C:\\Users\\Karl\\Desktop\\why didn't you choose me\\abstractImageTweakedpng\\abstractImageT700064.png\n",
      "C:\\Users\\Karl\\Desktop\\why didn't you choose me\\abstractImageTweakedpng\\abstractImageT700065.png\n",
      "C:\\Users\\Karl\\Desktop\\why didn't you choose me\\abstractImageTweakedpng\\abstractImageT700066.png\n",
      "C:\\Users\\Karl\\Desktop\\why didn't you choose me\\abstractImageTweakedpng\\abstractImageT700067.png\n",
      "C:\\Users\\Karl\\Desktop\\why didn't you choose me\\abstractImageTweakedpng\\abstractImageT700068.png\n",
      "C:\\Users\\Karl\\Desktop\\why didn't you choose me\\abstractImageTweakedpng\\abstractImageT700069.png\n",
      "C:\\Users\\Karl\\Desktop\\why didn't you choose me\\abstractImageTweakedpng\\abstractImageT700070.png\n",
      "C:\\Users\\Karl\\Desktop\\why didn't you choose me\\abstractImageTweakedpng\\abstractImageT700071.png\n",
      "C:\\Users\\Karl\\Desktop\\why didn't you choose me\\abstractImageTweakedpng\\abstractImageT700072.png\n",
      "C:\\Users\\Karl\\Desktop\\why didn't you choose me\\abstractImageTweakedpng\\abstractImageT700073.png\n",
      "C:\\Users\\Karl\\Desktop\\why didn't you choose me\\abstractImageTweakedpng\\abstractImageT700074.png\n",
      "C:\\Users\\Karl\\Desktop\\why didn't you choose me\\abstractImageTweakedpng\\abstractImageT700075.png\n",
      "C:\\Users\\Karl\\Desktop\\why didn't you choose me\\abstractImageTweakedpng\\abstractImageT700076.png\n",
      "C:\\Users\\Karl\\Desktop\\why didn't you choose me\\abstractImageTweakedpng\\abstractImageT700077.png\n",
      "C:\\Users\\Karl\\Desktop\\why didn't you choose me\\abstractImageTweakedpng\\abstractImageT700078.png\n",
      "C:\\Users\\Karl\\Desktop\\why didn't you choose me\\abstractImageTweakedpng\\abstractImageT700079.png\n",
      "C:\\Users\\Karl\\Desktop\\why didn't you choose me\\abstractImageTweakedpng\\abstractImageT700080.png\n",
      "C:\\Users\\Karl\\Desktop\\why didn't you choose me\\abstractImageTweakedpng\\abstractImageT700081.png\n",
      "C:\\Users\\Karl\\Desktop\\why didn't you choose me\\abstractImageTweakedpng\\abstractImageT700082.png\n",
      "C:\\Users\\Karl\\Desktop\\why didn't you choose me\\abstractImageTweakedpng\\abstractImageT700083.png\n",
      "C:\\Users\\Karl\\Desktop\\why didn't you choose me\\abstractImageTweakedpng\\abstractImageT700084.png\n",
      "C:\\Users\\Karl\\Desktop\\why didn't you choose me\\abstractImageTweakedpng\\abstractImageT700085.png\n",
      "C:\\Users\\Karl\\Desktop\\why didn't you choose me\\abstractImageTweakedpng\\abstractImageT700086.png\n"
     ]
    },
    {
     "name": "stdout",
     "output_type": "stream",
     "text": [
      "C:\\Users\\Karl\\Desktop\\why didn't you choose me\\abstractImageTweakedpng\\abstractImageT700087.png\n",
      "C:\\Users\\Karl\\Desktop\\why didn't you choose me\\abstractImageTweakedpng\\abstractImageT700088.png\n",
      "C:\\Users\\Karl\\Desktop\\why didn't you choose me\\abstractImageTweakedpng\\abstractImageT700089.png\n",
      "C:\\Users\\Karl\\Desktop\\why didn't you choose me\\abstractImageTweakedpng\\abstractImageT700090.png\n",
      "C:\\Users\\Karl\\Desktop\\why didn't you choose me\\abstractImageTweakedpng\\abstractImageT700091.png\n",
      "C:\\Users\\Karl\\Desktop\\why didn't you choose me\\abstractImageTweakedpng\\abstractImageT700092.png\n",
      "C:\\Users\\Karl\\Desktop\\why didn't you choose me\\abstractImageTweakedpng\\abstractImageT700093.png\n",
      "C:\\Users\\Karl\\Desktop\\why didn't you choose me\\abstractImageTweakedpng\\abstractImageT700094.png\n",
      "C:\\Users\\Karl\\Desktop\\why didn't you choose me\\abstractImageTweakedpng\\abstractImageT700095.png\n",
      "C:\\Users\\Karl\\Desktop\\why didn't you choose me\\abstractImageTweakedpng\\abstractImageT700096.png\n",
      "C:\\Users\\Karl\\Desktop\\why didn't you choose me\\abstractImageTweakedpng\\abstractImageT700097.png\n",
      "C:\\Users\\Karl\\Desktop\\why didn't you choose me\\abstractImageTweakedpng\\abstractImageT700098.png\n",
      "C:\\Users\\Karl\\Desktop\\why didn't you choose me\\abstractImageTweakedpng\\abstractImageT700099.png\n",
      "C:\\Users\\Karl\\Desktop\\why didn't you choose me\\abstractImageTweakedpng\\abstractImageT700100.png\n",
      "C:\\Users\\Karl\\Desktop\\why didn't you choose me\\abstractImageTweakedpng\\abstractImageT700101.png\n",
      "C:\\Users\\Karl\\Desktop\\why didn't you choose me\\abstractImageTweakedpng\\abstractImageT700102.png\n",
      "C:\\Users\\Karl\\Desktop\\why didn't you choose me\\abstractImageTweakedpng\\abstractImageT700103.png\n",
      "C:\\Users\\Karl\\Desktop\\why didn't you choose me\\abstractImageTweakedpng\\abstractImageT700104.png\n",
      "C:\\Users\\Karl\\Desktop\\why didn't you choose me\\abstractImageTweakedpng\\abstractImageT700105.png\n",
      "C:\\Users\\Karl\\Desktop\\why didn't you choose me\\abstractImageTweakedpng\\abstractImageT700106.png\n",
      "C:\\Users\\Karl\\Desktop\\why didn't you choose me\\abstractImageTweakedpng\\abstractImageT700107.png\n",
      "C:\\Users\\Karl\\Desktop\\why didn't you choose me\\abstractImageTweakedpng\\abstractImageT700108.png\n",
      "C:\\Users\\Karl\\Desktop\\why didn't you choose me\\abstractImageTweakedpng\\abstractImageT700109.png\n",
      "C:\\Users\\Karl\\Desktop\\why didn't you choose me\\abstractImageTweakedpng\\abstractImageT700110.png\n",
      "C:\\Users\\Karl\\Desktop\\why didn't you choose me\\abstractImageTweakedpng\\abstractImageT700111.png\n",
      "C:\\Users\\Karl\\Desktop\\why didn't you choose me\\abstractImageTweakedpng\\abstractImageT700112.png\n",
      "C:\\Users\\Karl\\Desktop\\why didn't you choose me\\abstractImageTweakedpng\\abstractImageT700113.png\n",
      "C:\\Users\\Karl\\Desktop\\why didn't you choose me\\abstractImageTweakedpng\\abstractImageT700114.png\n",
      "C:\\Users\\Karl\\Desktop\\why didn't you choose me\\abstractImageTweakedpng\\abstractImageT700115.png\n",
      "C:\\Users\\Karl\\Desktop\\why didn't you choose me\\abstractImageTweakedpng\\abstractImageT700116.png\n",
      "C:\\Users\\Karl\\Desktop\\why didn't you choose me\\abstractImageTweakedpng\\abstractImageT700117.png\n",
      "C:\\Users\\Karl\\Desktop\\why didn't you choose me\\abstractImageTweakedpng\\abstractImageT700118.png\n",
      "C:\\Users\\Karl\\Desktop\\why didn't you choose me\\abstractImageTweakedpng\\abstractImageT700119.png\n",
      "C:\\Users\\Karl\\Desktop\\why didn't you choose me\\abstractImageTweakedpng\\abstractImageT700120.png\n",
      "C:\\Users\\Karl\\Desktop\\why didn't you choose me\\abstractImageTweakedpng\\abstractImageT700121.png\n",
      "C:\\Users\\Karl\\Desktop\\why didn't you choose me\\abstractImageTweakedpng\\abstractImageT700122.png\n",
      "C:\\Users\\Karl\\Desktop\\why didn't you choose me\\abstractImageTweakedpng\\abstractImageT700123.png\n",
      "C:\\Users\\Karl\\Desktop\\why didn't you choose me\\abstractImageTweakedpng\\abstractImageT700124.png\n",
      "C:\\Users\\Karl\\Desktop\\why didn't you choose me\\abstractImageTweakedpng\\abstractImageT700125.png\n",
      "C:\\Users\\Karl\\Desktop\\why didn't you choose me\\abstractImageTweakedpng\\abstractImageT700126.png\n",
      "C:\\Users\\Karl\\Desktop\\why didn't you choose me\\abstractImageTweakedpng\\abstractImageT700127.png\n",
      "C:\\Users\\Karl\\Desktop\\why didn't you choose me\\abstractImageTweakedpng\\abstractImageT700128.png\n",
      "C:\\Users\\Karl\\Desktop\\why didn't you choose me\\abstractImageTweakedpng\\abstractImageT700129.png\n",
      "C:\\Users\\Karl\\Desktop\\why didn't you choose me\\abstractImageTweakedpng\\abstractImageT700130.png\n",
      "C:\\Users\\Karl\\Desktop\\why didn't you choose me\\abstractImageTweakedpng\\abstractImageT700131.png\n",
      "C:\\Users\\Karl\\Desktop\\why didn't you choose me\\abstractImageTweakedpng\\abstractImageT700132.png\n",
      "C:\\Users\\Karl\\Desktop\\why didn't you choose me\\abstractImageTweakedpng\\abstractImageT700133.png\n",
      "C:\\Users\\Karl\\Desktop\\why didn't you choose me\\abstractImageTweakedpng\\abstractImageT700134.png\n",
      "C:\\Users\\Karl\\Desktop\\why didn't you choose me\\abstractImageTweakedpng\\abstractImageT700135.png\n",
      "C:\\Users\\Karl\\Desktop\\why didn't you choose me\\abstractImageTweakedpng\\abstractImageT700136.png\n",
      "C:\\Users\\Karl\\Desktop\\why didn't you choose me\\abstractImageTweakedpng\\abstractImageT700137.png\n",
      "C:\\Users\\Karl\\Desktop\\why didn't you choose me\\abstractImageTweakedpng\\abstractImageT700138.png\n",
      "C:\\Users\\Karl\\Desktop\\why didn't you choose me\\abstractImageTweakedpng\\abstractImageT700139.png\n",
      "C:\\Users\\Karl\\Desktop\\why didn't you choose me\\abstractImageTweakedpng\\abstractImageT700140.png\n",
      "C:\\Users\\Karl\\Desktop\\why didn't you choose me\\abstractImageTweakedpng\\abstractImageT700141.png\n",
      "C:\\Users\\Karl\\Desktop\\why didn't you choose me\\abstractImageTweakedpng\\abstractImageT700142.png\n",
      "C:\\Users\\Karl\\Desktop\\why didn't you choose me\\abstractImageTweakedpng\\abstractImageT700143.png\n",
      "C:\\Users\\Karl\\Desktop\\why didn't you choose me\\abstractImageTweakedpng\\abstractImageT700144.png\n",
      "C:\\Users\\Karl\\Desktop\\why didn't you choose me\\abstractImageTweakedpng\\abstractImageT700145.png\n",
      "C:\\Users\\Karl\\Desktop\\why didn't you choose me\\abstractImageTweakedpng\\abstractImageT700146.png\n",
      "C:\\Users\\Karl\\Desktop\\why didn't you choose me\\abstractImageTweakedpng\\abstractImageT700147.png\n",
      "C:\\Users\\Karl\\Desktop\\why didn't you choose me\\abstractImageTweakedpng\\abstractImageT700148.png\n",
      "C:\\Users\\Karl\\Desktop\\why didn't you choose me\\abstractImageTweakedpng\\abstractImageT700149.png\n",
      "C:\\Users\\Karl\\Desktop\\why didn't you choose me\\abstractImageTweakedpng\\abstractImageT700150.png\n",
      "C:\\Users\\Karl\\Desktop\\why didn't you choose me\\abstractImageTweakedpng\\abstractImageT700151.png\n",
      "C:\\Users\\Karl\\Desktop\\why didn't you choose me\\abstractImageTweakedpng\\abstractImageT700152.png\n",
      "C:\\Users\\Karl\\Desktop\\why didn't you choose me\\abstractImageTweakedpng\\abstractImageT700153.png\n",
      "C:\\Users\\Karl\\Desktop\\why didn't you choose me\\abstractImageTweakedpng\\abstractImageT700154.png\n",
      "C:\\Users\\Karl\\Desktop\\why didn't you choose me\\abstractImageTweakedpng\\abstractImageT700155.png\n",
      "C:\\Users\\Karl\\Desktop\\why didn't you choose me\\abstractImageTweakedpng\\abstractImageT700156.png\n",
      "C:\\Users\\Karl\\Desktop\\why didn't you choose me\\abstractImageTweakedpng\\abstractImageT700157.png\n",
      "C:\\Users\\Karl\\Desktop\\why didn't you choose me\\abstractImageTweakedpng\\abstractImageT700158.png\n",
      "C:\\Users\\Karl\\Desktop\\why didn't you choose me\\abstractImageTweakedpng\\abstractImageT700159.png\n",
      "C:\\Users\\Karl\\Desktop\\why didn't you choose me\\abstractImageTweakedpng\\abstractImageT700160.png\n",
      "C:\\Users\\Karl\\Desktop\\why didn't you choose me\\abstractImageTweakedpng\\abstractImageT700161.png\n",
      "C:\\Users\\Karl\\Desktop\\why didn't you choose me\\abstractImageTweakedpng\\abstractImageT700162.png\n",
      "C:\\Users\\Karl\\Desktop\\why didn't you choose me\\abstractImageTweakedpng\\abstractImageT700163.png\n",
      "C:\\Users\\Karl\\Desktop\\why didn't you choose me\\abstractImageTweakedpng\\abstractImageT700164.png\n",
      "C:\\Users\\Karl\\Desktop\\why didn't you choose me\\abstractImageTweakedpng\\abstractImageT700165.png\n",
      "C:\\Users\\Karl\\Desktop\\why didn't you choose me\\abstractImageTweakedpng\\abstractImageT700166.png\n",
      "C:\\Users\\Karl\\Desktop\\why didn't you choose me\\abstractImageTweakedpng\\abstractImageT700167.png\n",
      "C:\\Users\\Karl\\Desktop\\why didn't you choose me\\abstractImageTweakedpng\\abstractImageT700168.png\n",
      "C:\\Users\\Karl\\Desktop\\why didn't you choose me\\abstractImageTweakedpng\\abstractImageT700169.png\n",
      "C:\\Users\\Karl\\Desktop\\why didn't you choose me\\abstractImageTweakedpng\\abstractImageT700170.png\n",
      "C:\\Users\\Karl\\Desktop\\why didn't you choose me\\abstractImageTweakedpng\\abstractImageT700171.png\n",
      "C:\\Users\\Karl\\Desktop\\why didn't you choose me\\abstractImageTweakedpng\\abstractImageT700172.png\n"
     ]
    },
    {
     "name": "stdout",
     "output_type": "stream",
     "text": [
      "C:\\Users\\Karl\\Desktop\\why didn't you choose me\\abstractImageTweakedpng\\abstractImageT700173.png\n",
      "C:\\Users\\Karl\\Desktop\\why didn't you choose me\\abstractImageTweakedpng\\abstractImageT700174.png\n",
      "C:\\Users\\Karl\\Desktop\\why didn't you choose me\\abstractImageTweakedpng\\abstractImageT700175.png\n",
      "C:\\Users\\Karl\\Desktop\\why didn't you choose me\\abstractImageTweakedpng\\abstractImageT700176.png\n",
      "C:\\Users\\Karl\\Desktop\\why didn't you choose me\\abstractImageTweakedpng\\abstractImageT700177.png\n",
      "C:\\Users\\Karl\\Desktop\\why didn't you choose me\\abstractImageTweakedpng\\abstractImageT700178.png\n",
      "C:\\Users\\Karl\\Desktop\\why didn't you choose me\\abstractImageTweakedpng\\abstractImageT700179.png\n",
      "C:\\Users\\Karl\\Desktop\\why didn't you choose me\\abstractImageTweakedpng\\abstractImageT700180.png\n",
      "C:\\Users\\Karl\\Desktop\\why didn't you choose me\\abstractImageTweakedpng\\abstractImageT700181.png\n",
      "C:\\Users\\Karl\\Desktop\\why didn't you choose me\\abstractImageTweakedpng\\abstractImageT700182.png\n",
      "C:\\Users\\Karl\\Desktop\\why didn't you choose me\\abstractImageTweakedpng\\abstractImageT700183.png\n",
      "C:\\Users\\Karl\\Desktop\\why didn't you choose me\\abstractImageTweakedpng\\abstractImageT700184.png\n",
      "C:\\Users\\Karl\\Desktop\\why didn't you choose me\\abstractImageTweakedpng\\abstractImageT700185.png\n",
      "C:\\Users\\Karl\\Desktop\\why didn't you choose me\\abstractImageTweakedpng\\abstractImageT700186.png\n",
      "C:\\Users\\Karl\\Desktop\\why didn't you choose me\\abstractImageTweakedpng\\abstractImageT700187.png\n",
      "C:\\Users\\Karl\\Desktop\\why didn't you choose me\\abstractImageTweakedpng\\abstractImageT700188.png\n",
      "C:\\Users\\Karl\\Desktop\\why didn't you choose me\\abstractImageTweakedpng\\abstractImageT700189.png\n",
      "C:\\Users\\Karl\\Desktop\\why didn't you choose me\\abstractImageTweakedpng\\abstractImageT700190.png\n",
      "C:\\Users\\Karl\\Desktop\\why didn't you choose me\\abstractImageTweakedpng\\abstractImageT700191.png\n",
      "C:\\Users\\Karl\\Desktop\\why didn't you choose me\\abstractImageTweakedpng\\abstractImageT700192.png\n",
      "C:\\Users\\Karl\\Desktop\\why didn't you choose me\\abstractImageTweakedpng\\abstractImageT700193.png\n",
      "C:\\Users\\Karl\\Desktop\\why didn't you choose me\\abstractImageTweakedpng\\abstractImageT700194.png\n",
      "C:\\Users\\Karl\\Desktop\\why didn't you choose me\\abstractImageTweakedpng\\abstractImageT700195.png\n",
      "C:\\Users\\Karl\\Desktop\\why didn't you choose me\\abstractImageTweakedpng\\abstractImageT700196.png\n",
      "C:\\Users\\Karl\\Desktop\\why didn't you choose me\\abstractImageTweakedpng\\abstractImageT700197.png\n",
      "C:\\Users\\Karl\\Desktop\\why didn't you choose me\\abstractImageTweakedpng\\abstractImageT700198.png\n",
      "C:\\Users\\Karl\\Desktop\\why didn't you choose me\\abstractImageTweakedpng\\abstractImageT700199.png\n",
      "C:\\Users\\Karl\\Desktop\\why didn't you choose me\\abstractImageTweakedpng\\abstractImageT700200.png\n",
      "C:\\Users\\Karl\\Desktop\\why didn't you choose me\\abstractImageTweakedpng\\abstractImageT700201.png\n",
      "C:\\Users\\Karl\\Desktop\\why didn't you choose me\\abstractImageTweakedpng\\abstractImageT700202.png\n",
      "C:\\Users\\Karl\\Desktop\\why didn't you choose me\\abstractImageTweakedpng\\abstractImageT700203.png\n",
      "C:\\Users\\Karl\\Desktop\\why didn't you choose me\\abstractImageTweakedpng\\abstractImageT700204.png\n",
      "C:\\Users\\Karl\\Desktop\\why didn't you choose me\\abstractImageTweakedpng\\abstractImageT700205.png\n",
      "C:\\Users\\Karl\\Desktop\\why didn't you choose me\\abstractImageTweakedpng\\abstractImageT700206.png\n",
      "C:\\Users\\Karl\\Desktop\\why didn't you choose me\\abstractImageTweakedpng\\abstractImageT700207.png\n",
      "C:\\Users\\Karl\\Desktop\\why didn't you choose me\\abstractImageTweakedpng\\abstractImageT700208.png\n",
      "C:\\Users\\Karl\\Desktop\\why didn't you choose me\\abstractImageTweakedpng\\abstractImageT700209.png\n",
      "C:\\Users\\Karl\\Desktop\\why didn't you choose me\\abstractImageTweakedpng\\abstractImageT700210.png\n",
      "C:\\Users\\Karl\\Desktop\\why didn't you choose me\\abstractImageTweakedpng\\abstractImageT700211.png\n",
      "C:\\Users\\Karl\\Desktop\\why didn't you choose me\\abstractImageTweakedpng\\abstractImageT700212.png\n",
      "C:\\Users\\Karl\\Desktop\\why didn't you choose me\\abstractImageTweakedpng\\abstractImageT700213.png\n",
      "C:\\Users\\Karl\\Desktop\\why didn't you choose me\\abstractImageTweakedpng\\abstractImageT700214.png\n",
      "C:\\Users\\Karl\\Desktop\\why didn't you choose me\\abstractImageTweakedpng\\abstractImageT700215.png\n",
      "C:\\Users\\Karl\\Desktop\\why didn't you choose me\\abstractImageTweakedpng\\abstractImageT700216.png\n",
      "C:\\Users\\Karl\\Desktop\\why didn't you choose me\\abstractImageTweakedpng\\abstractImageT700217.png\n",
      "C:\\Users\\Karl\\Desktop\\why didn't you choose me\\abstractImageTweakedpng\\abstractImageT700218.png\n",
      "C:\\Users\\Karl\\Desktop\\why didn't you choose me\\abstractImageTweakedpng\\abstractImageT700219.png\n",
      "C:\\Users\\Karl\\Desktop\\why didn't you choose me\\abstractImageTweakedpng\\abstractImageT700220.png\n",
      "C:\\Users\\Karl\\Desktop\\why didn't you choose me\\abstractImageTweakedpng\\abstractImageT700221.png\n",
      "C:\\Users\\Karl\\Desktop\\why didn't you choose me\\abstractImageTweakedpng\\abstractImageT700222.png\n",
      "C:\\Users\\Karl\\Desktop\\why didn't you choose me\\abstractImageTweakedpng\\abstractImageT700223.png\n",
      "C:\\Users\\Karl\\Desktop\\why didn't you choose me\\abstractImageTweakedpng\\abstractImageT700224.png\n",
      "C:\\Users\\Karl\\Desktop\\why didn't you choose me\\abstractImageTweakedpng\\abstractImageT700225.png\n",
      "C:\\Users\\Karl\\Desktop\\why didn't you choose me\\abstractImageTweakedpng\\abstractImageT700226.png\n",
      "C:\\Users\\Karl\\Desktop\\why didn't you choose me\\abstractImageTweakedpng\\abstractImageT700227.png\n",
      "C:\\Users\\Karl\\Desktop\\why didn't you choose me\\abstractImageTweakedpng\\abstractImageT700228.png\n",
      "C:\\Users\\Karl\\Desktop\\why didn't you choose me\\abstractImageTweakedpng\\abstractImageT700229.png\n",
      "C:\\Users\\Karl\\Desktop\\why didn't you choose me\\abstractImageTweakedpng\\abstractImageT700230.png\n",
      "C:\\Users\\Karl\\Desktop\\why didn't you choose me\\abstractImageTweakedpng\\abstractImageT700231.png\n",
      "C:\\Users\\Karl\\Desktop\\why didn't you choose me\\abstractImageTweakedpng\\abstractImageT700232.png\n",
      "C:\\Users\\Karl\\Desktop\\why didn't you choose me\\abstractImageTweakedpng\\abstractImageT700233.png\n",
      "C:\\Users\\Karl\\Desktop\\why didn't you choose me\\abstractImageTweakedpng\\abstractImageT700234.png\n",
      "C:\\Users\\Karl\\Desktop\\why didn't you choose me\\abstractImageTweakedpng\\abstractImageT700235.png\n",
      "C:\\Users\\Karl\\Desktop\\why didn't you choose me\\abstractImageTweakedpng\\abstractImageT700236.png\n",
      "C:\\Users\\Karl\\Desktop\\why didn't you choose me\\abstractImageTweakedpng\\abstractImageT700237.png\n",
      "C:\\Users\\Karl\\Desktop\\why didn't you choose me\\abstractImageTweakedpng\\abstractImageT700238.png\n",
      "C:\\Users\\Karl\\Desktop\\why didn't you choose me\\abstractImageTweakedpng\\abstractImageT700239.png\n",
      "C:\\Users\\Karl\\Desktop\\why didn't you choose me\\abstractImageTweakedpng\\abstractImageT700240.png\n",
      "C:\\Users\\Karl\\Desktop\\why didn't you choose me\\abstractImageTweakedpng\\abstractImageT700241.png\n",
      "C:\\Users\\Karl\\Desktop\\why didn't you choose me\\abstractImageTweakedpng\\abstractImageT700242.png\n",
      "C:\\Users\\Karl\\Desktop\\why didn't you choose me\\abstractImageTweakedpng\\abstractImageT700243.png\n",
      "C:\\Users\\Karl\\Desktop\\why didn't you choose me\\abstractImageTweakedpng\\abstractImageT700244.png\n",
      "C:\\Users\\Karl\\Desktop\\why didn't you choose me\\abstractImageTweakedpng\\abstractImageT700245.png\n",
      "C:\\Users\\Karl\\Desktop\\why didn't you choose me\\abstractImageTweakedpng\\abstractImageT700246.png\n",
      "C:\\Users\\Karl\\Desktop\\why didn't you choose me\\abstractImageTweakedpng\\abstractImageT700247.png\n",
      "C:\\Users\\Karl\\Desktop\\why didn't you choose me\\abstractImageTweakedpng\\abstractImageT700248.png\n",
      "C:\\Users\\Karl\\Desktop\\why didn't you choose me\\abstractImageTweakedpng\\abstractImageT700249.png\n",
      "C:\\Users\\Karl\\Desktop\\why didn't you choose me\\abstractImageTweakedpng\\abstractImageT700250.png\n",
      "C:\\Users\\Karl\\Desktop\\why didn't you choose me\\abstractImageTweakedpng\\abstractImageT700251.png\n",
      "C:\\Users\\Karl\\Desktop\\why didn't you choose me\\abstractImageTweakedpng\\abstractImageT700252.png\n",
      "C:\\Users\\Karl\\Desktop\\why didn't you choose me\\abstractImageTweakedpng\\abstractImageT700253.png\n",
      "C:\\Users\\Karl\\Desktop\\why didn't you choose me\\abstractImageTweakedpng\\abstractImageT700254.png\n",
      "C:\\Users\\Karl\\Desktop\\why didn't you choose me\\abstractImageTweakedpng\\abstractImageT700255.png\n",
      "C:\\Users\\Karl\\Desktop\\why didn't you choose me\\abstractImageTweakedpng\\abstractImageT700256.png\n",
      "C:\\Users\\Karl\\Desktop\\why didn't you choose me\\abstractImageTweakedpng\\abstractImageT700257.png\n",
      "C:\\Users\\Karl\\Desktop\\why didn't you choose me\\abstractImageTweakedpng\\abstractImageT700258.png\n"
     ]
    },
    {
     "name": "stdout",
     "output_type": "stream",
     "text": [
      "C:\\Users\\Karl\\Desktop\\why didn't you choose me\\abstractImageTweakedpng\\abstractImageT700259.png\n",
      "C:\\Users\\Karl\\Desktop\\why didn't you choose me\\abstractImageTweakedpng\\abstractImageT700260.png\n",
      "C:\\Users\\Karl\\Desktop\\why didn't you choose me\\abstractImageTweakedpng\\abstractImageT700261.png\n",
      "C:\\Users\\Karl\\Desktop\\why didn't you choose me\\abstractImageTweakedpng\\abstractImageT700262.png\n",
      "C:\\Users\\Karl\\Desktop\\why didn't you choose me\\abstractImageTweakedpng\\abstractImageT700263.png\n",
      "C:\\Users\\Karl\\Desktop\\why didn't you choose me\\abstractImageTweakedpng\\abstractImageT700264.png\n",
      "C:\\Users\\Karl\\Desktop\\why didn't you choose me\\abstractImageTweakedpng\\abstractImageT700265.png\n",
      "C:\\Users\\Karl\\Desktop\\why didn't you choose me\\abstractImageTweakedpng\\abstractImageT700266.png\n",
      "C:\\Users\\Karl\\Desktop\\why didn't you choose me\\abstractImageTweakedpng\\abstractImageT700267.png\n",
      "C:\\Users\\Karl\\Desktop\\why didn't you choose me\\abstractImageTweakedpng\\abstractImageT700268.png\n",
      "C:\\Users\\Karl\\Desktop\\why didn't you choose me\\abstractImageTweakedpng\\abstractImageT700269.png\n",
      "C:\\Users\\Karl\\Desktop\\why didn't you choose me\\abstractImageTweakedpng\\abstractImageT700270.png\n",
      "C:\\Users\\Karl\\Desktop\\why didn't you choose me\\abstractImageTweakedpng\\abstractImageT700271.png\n",
      "C:\\Users\\Karl\\Desktop\\why didn't you choose me\\abstractImageTweakedpng\\abstractImageT700272.png\n",
      "C:\\Users\\Karl\\Desktop\\why didn't you choose me\\abstractImageTweakedpng\\abstractImageT700273.png\n",
      "C:\\Users\\Karl\\Desktop\\why didn't you choose me\\abstractImageTweakedpng\\abstractImageT700274.png\n",
      "C:\\Users\\Karl\\Desktop\\why didn't you choose me\\abstractImageTweakedpng\\abstractImageT700275.png\n",
      "C:\\Users\\Karl\\Desktop\\why didn't you choose me\\abstractImageTweakedpng\\abstractImageT700276.png\n",
      "C:\\Users\\Karl\\Desktop\\why didn't you choose me\\abstractImageTweakedpng\\abstractImageT700277.png\n",
      "C:\\Users\\Karl\\Desktop\\why didn't you choose me\\abstractImageTweakedpng\\abstractImageT700278.png\n",
      "C:\\Users\\Karl\\Desktop\\why didn't you choose me\\abstractImageTweakedpng\\abstractImageT700279.png\n",
      "C:\\Users\\Karl\\Desktop\\why didn't you choose me\\abstractImageTweakedpng\\abstractImageT700280.png\n",
      "C:\\Users\\Karl\\Desktop\\why didn't you choose me\\abstractImageTweakedpng\\abstractImageT700281.png\n",
      "C:\\Users\\Karl\\Desktop\\why didn't you choose me\\abstractImageTweakedpng\\abstractImageT700282.png\n",
      "C:\\Users\\Karl\\Desktop\\why didn't you choose me\\abstractImageTweakedpng\\abstractImageT700283.png\n",
      "C:\\Users\\Karl\\Desktop\\why didn't you choose me\\abstractImageTweakedpng\\abstractImageT700284.png\n",
      "C:\\Users\\Karl\\Desktop\\why didn't you choose me\\abstractImageTweakedpng\\abstractImageT700285.png\n",
      "C:\\Users\\Karl\\Desktop\\why didn't you choose me\\abstractImageTweakedpng\\abstractImageT700286.png\n",
      "C:\\Users\\Karl\\Desktop\\why didn't you choose me\\abstractImageTweakedpng\\abstractImageT700287.png\n",
      "C:\\Users\\Karl\\Desktop\\why didn't you choose me\\abstractImageTweakedpng\\abstractImageT700288.png\n",
      "C:\\Users\\Karl\\Desktop\\why didn't you choose me\\abstractImageTweakedpng\\abstractImageT700289.png\n",
      "C:\\Users\\Karl\\Desktop\\why didn't you choose me\\abstractImageTweakedpng\\abstractImageT700290.png\n",
      "C:\\Users\\Karl\\Desktop\\why didn't you choose me\\abstractImageTweakedpng\\abstractImageT700291.png\n",
      "C:\\Users\\Karl\\Desktop\\why didn't you choose me\\abstractImageTweakedpng\\abstractImageT700292.png\n",
      "C:\\Users\\Karl\\Desktop\\why didn't you choose me\\abstractImageTweakedpng\\abstractImageT700293.png\n",
      "C:\\Users\\Karl\\Desktop\\why didn't you choose me\\abstractImageTweakedpng\\abstractImageT700294.png\n",
      "C:\\Users\\Karl\\Desktop\\why didn't you choose me\\abstractImageTweakedpng\\abstractImageT700295.png\n",
      "C:\\Users\\Karl\\Desktop\\why didn't you choose me\\abstractImageTweakedpng\\abstractImageT700296.png\n",
      "C:\\Users\\Karl\\Desktop\\why didn't you choose me\\abstractImageTweakedpng\\abstractImageT700297.png\n",
      "C:\\Users\\Karl\\Desktop\\why didn't you choose me\\abstractImageTweakedpng\\abstractImageT700298.png\n",
      "C:\\Users\\Karl\\Desktop\\why didn't you choose me\\abstractImageTweakedpng\\abstractImageT700299.png\n",
      "C:\\Users\\Karl\\Desktop\\why didn't you choose me\\abstractImageTweakedpng\\abstractImageT700300.png\n",
      "C:\\Users\\Karl\\Desktop\\why didn't you choose me\\abstractImageTweakedpng\\abstractImageT700301.png\n",
      "C:\\Users\\Karl\\Desktop\\why didn't you choose me\\abstractImageTweakedpng\\abstractImageT700302.png\n",
      "C:\\Users\\Karl\\Desktop\\why didn't you choose me\\abstractImageTweakedpng\\abstractImageT700303.png\n",
      "C:\\Users\\Karl\\Desktop\\why didn't you choose me\\abstractImageTweakedpng\\abstractImageT700304.png\n",
      "C:\\Users\\Karl\\Desktop\\why didn't you choose me\\abstractImageTweakedpng\\abstractImageT700305.png\n",
      "C:\\Users\\Karl\\Desktop\\why didn't you choose me\\abstractImageTweakedpng\\abstractImageT700306.png\n",
      "C:\\Users\\Karl\\Desktop\\why didn't you choose me\\abstractImageTweakedpng\\abstractImageT700307.png\n",
      "C:\\Users\\Karl\\Desktop\\why didn't you choose me\\abstractImageTweakedpng\\abstractImageT700308.png\n",
      "C:\\Users\\Karl\\Desktop\\why didn't you choose me\\abstractImageTweakedpng\\abstractImageT700309.png\n",
      "C:\\Users\\Karl\\Desktop\\why didn't you choose me\\abstractImageTweakedpng\\abstractImageT700310.png\n",
      "C:\\Users\\Karl\\Desktop\\why didn't you choose me\\abstractImageTweakedpng\\abstractImageT700311.png\n",
      "C:\\Users\\Karl\\Desktop\\why didn't you choose me\\abstractImageTweakedpng\\abstractImageT700312.png\n",
      "C:\\Users\\Karl\\Desktop\\why didn't you choose me\\abstractImageTweakedpng\\abstractImageT700313.png\n",
      "C:\\Users\\Karl\\Desktop\\why didn't you choose me\\abstractImageTweakedpng\\abstractImageT700314.png\n",
      "C:\\Users\\Karl\\Desktop\\why didn't you choose me\\abstractImageTweakedpng\\abstractImageT700315.png\n",
      "C:\\Users\\Karl\\Desktop\\why didn't you choose me\\abstractImageTweakedpng\\abstractImageT700316.png\n",
      "C:\\Users\\Karl\\Desktop\\why didn't you choose me\\abstractImageTweakedpng\\abstractImageT700317.png\n",
      "C:\\Users\\Karl\\Desktop\\why didn't you choose me\\abstractImageTweakedpng\\abstractImageT700318.png\n",
      "C:\\Users\\Karl\\Desktop\\why didn't you choose me\\abstractImageTweakedpng\\abstractImageT700319.png\n",
      "C:\\Users\\Karl\\Desktop\\why didn't you choose me\\abstractImageTweakedpng\\abstractImageT700320.png\n",
      "C:\\Users\\Karl\\Desktop\\why didn't you choose me\\abstractImageTweakedpng\\abstractImageT700321.png\n",
      "C:\\Users\\Karl\\Desktop\\why didn't you choose me\\abstractImageTweakedpng\\abstractImageT700322.png\n",
      "C:\\Users\\Karl\\Desktop\\why didn't you choose me\\abstractImageTweakedpng\\abstractImageT700323.png\n",
      "C:\\Users\\Karl\\Desktop\\why didn't you choose me\\abstractImageTweakedpng\\abstractImageT700324.png\n",
      "C:\\Users\\Karl\\Desktop\\why didn't you choose me\\abstractImageTweakedpng\\abstractImageT700325.png\n",
      "C:\\Users\\Karl\\Desktop\\why didn't you choose me\\abstractImageTweakedpng\\abstractImageT700326.png\n",
      "C:\\Users\\Karl\\Desktop\\why didn't you choose me\\abstractImageTweakedpng\\abstractImageT700327.png\n",
      "C:\\Users\\Karl\\Desktop\\why didn't you choose me\\abstractImageTweakedpng\\abstractImageT700328.png\n",
      "C:\\Users\\Karl\\Desktop\\why didn't you choose me\\abstractImageTweakedpng\\abstractImageT700329.png\n",
      "C:\\Users\\Karl\\Desktop\\why didn't you choose me\\abstractImageTweakedpng\\abstractImageT700330.png\n",
      "C:\\Users\\Karl\\Desktop\\why didn't you choose me\\abstractImageTweakedpng\\abstractImageT700331.png\n",
      "C:\\Users\\Karl\\Desktop\\why didn't you choose me\\abstractImageTweakedpng\\abstractImageT700332.png\n",
      "C:\\Users\\Karl\\Desktop\\why didn't you choose me\\abstractImageTweakedpng\\abstractImageT700333.png\n",
      "C:\\Users\\Karl\\Desktop\\why didn't you choose me\\abstractImageTweakedpng\\abstractImageT700334.png\n",
      "C:\\Users\\Karl\\Desktop\\why didn't you choose me\\abstractImageTweakedpng\\abstractImageT700335.png\n",
      "C:\\Users\\Karl\\Desktop\\why didn't you choose me\\abstractImageTweakedpng\\abstractImageT700336.png\n",
      "C:\\Users\\Karl\\Desktop\\why didn't you choose me\\abstractImageTweakedpng\\abstractImageT700337.png\n",
      "C:\\Users\\Karl\\Desktop\\why didn't you choose me\\abstractImageTweakedpng\\abstractImageT700338.png\n",
      "C:\\Users\\Karl\\Desktop\\why didn't you choose me\\abstractImageTweakedpng\\abstractImageT700339.png\n",
      "C:\\Users\\Karl\\Desktop\\why didn't you choose me\\abstractImageTweakedpng\\abstractImageT700340.png\n",
      "C:\\Users\\Karl\\Desktop\\why didn't you choose me\\abstractImageTweakedpng\\abstractImageT700341.png\n",
      "C:\\Users\\Karl\\Desktop\\why didn't you choose me\\abstractImageTweakedpng\\abstractImageT700342.png\n",
      "C:\\Users\\Karl\\Desktop\\why didn't you choose me\\abstractImageTweakedpng\\abstractImageT700343.png\n",
      "C:\\Users\\Karl\\Desktop\\why didn't you choose me\\abstractImageTweakedpng\\abstractImageT700344.png\n"
     ]
    },
    {
     "name": "stdout",
     "output_type": "stream",
     "text": [
      "C:\\Users\\Karl\\Desktop\\why didn't you choose me\\abstractImageTweakedpng\\abstractImageT700345.png\n",
      "C:\\Users\\Karl\\Desktop\\why didn't you choose me\\abstractImageTweakedpng\\abstractImageT700346.png\n",
      "C:\\Users\\Karl\\Desktop\\why didn't you choose me\\abstractImageTweakedpng\\abstractImageT700347.png\n",
      "C:\\Users\\Karl\\Desktop\\why didn't you choose me\\abstractImageTweakedpng\\abstractImageT700348.png\n",
      "C:\\Users\\Karl\\Desktop\\why didn't you choose me\\abstractImageTweakedpng\\abstractImageT700349.png\n",
      "C:\\Users\\Karl\\Desktop\\why didn't you choose me\\abstractImageTweakedpng\\abstractImageT700350.png\n",
      "C:\\Users\\Karl\\Desktop\\why didn't you choose me\\abstractImageTweakedpng\\abstractImageT700351.png\n",
      "C:\\Users\\Karl\\Desktop\\why didn't you choose me\\abstractImageTweakedpng\\abstractImageT700352.png\n",
      "C:\\Users\\Karl\\Desktop\\why didn't you choose me\\abstractImageTweakedpng\\abstractImageT700353.png\n",
      "C:\\Users\\Karl\\Desktop\\why didn't you choose me\\abstractImageTweakedpng\\abstractImageT700354.png\n",
      "C:\\Users\\Karl\\Desktop\\why didn't you choose me\\abstractImageTweakedpng\\abstractImageT700355.png\n",
      "C:\\Users\\Karl\\Desktop\\why didn't you choose me\\abstractImageTweakedpng\\abstractImageT700356.png\n",
      "C:\\Users\\Karl\\Desktop\\why didn't you choose me\\abstractImageTweakedpng\\abstractImageT700357.png\n",
      "C:\\Users\\Karl\\Desktop\\why didn't you choose me\\abstractImageTweakedpng\\abstractImageT700358.png\n",
      "C:\\Users\\Karl\\Desktop\\why didn't you choose me\\abstractImageTweakedpng\\abstractImageT700359.png\n",
      "C:\\Users\\Karl\\Desktop\\why didn't you choose me\\abstractImageTweakedpng\\abstractImageT700360.png\n",
      "C:\\Users\\Karl\\Desktop\\why didn't you choose me\\abstractImageTweakedpng\\abstractImageT700361.png\n",
      "C:\\Users\\Karl\\Desktop\\why didn't you choose me\\abstractImageTweakedpng\\abstractImageT700362.png\n",
      "C:\\Users\\Karl\\Desktop\\why didn't you choose me\\abstractImageTweakedpng\\abstractImageT700363.png\n",
      "C:\\Users\\Karl\\Desktop\\why didn't you choose me\\abstractImageTweakedpng\\abstractImageT700364.png\n",
      "C:\\Users\\Karl\\Desktop\\why didn't you choose me\\abstractImageTweakedpng\\abstractImageT700365.png\n",
      "C:\\Users\\Karl\\Desktop\\why didn't you choose me\\abstractImageTweakedpng\\abstractImageT700366.png\n",
      "C:\\Users\\Karl\\Desktop\\why didn't you choose me\\abstractImageTweakedpng\\abstractImageT700367.png\n",
      "C:\\Users\\Karl\\Desktop\\why didn't you choose me\\abstractImageTweakedpng\\abstractImageT700368.png\n",
      "C:\\Users\\Karl\\Desktop\\why didn't you choose me\\abstractImageTweakedpng\\abstractImageT700369.png\n",
      "C:\\Users\\Karl\\Desktop\\why didn't you choose me\\abstractImageTweakedpng\\abstractImageT700370.png\n",
      "C:\\Users\\Karl\\Desktop\\why didn't you choose me\\abstractImageTweakedpng\\abstractImageT700371.png\n",
      "C:\\Users\\Karl\\Desktop\\why didn't you choose me\\abstractImageTweakedpng\\abstractImageT700372.png\n",
      "C:\\Users\\Karl\\Desktop\\why didn't you choose me\\abstractImageTweakedpng\\abstractImageT700373.png\n",
      "C:\\Users\\Karl\\Desktop\\why didn't you choose me\\abstractImageTweakedpng\\abstractImageT700374.png\n",
      "C:\\Users\\Karl\\Desktop\\why didn't you choose me\\abstractImageTweakedpng\\abstractImageT700375.png\n",
      "C:\\Users\\Karl\\Desktop\\why didn't you choose me\\abstractImageTweakedpng\\abstractImageT700376.png\n",
      "C:\\Users\\Karl\\Desktop\\why didn't you choose me\\abstractImageTweakedpng\\abstractImageT700377.png\n",
      "C:\\Users\\Karl\\Desktop\\why didn't you choose me\\abstractImageTweakedpng\\abstractImageT700378.png\n",
      "C:\\Users\\Karl\\Desktop\\why didn't you choose me\\abstractImageTweakedpng\\abstractImageT700379.png\n",
      "C:\\Users\\Karl\\Desktop\\why didn't you choose me\\abstractImageTweakedpng\\abstractImageT700380.png\n",
      "C:\\Users\\Karl\\Desktop\\why didn't you choose me\\abstractImageTweakedpng\\abstractImageT700381.png\n",
      "C:\\Users\\Karl\\Desktop\\why didn't you choose me\\abstractImageTweakedpng\\abstractImageT700382.png\n",
      "C:\\Users\\Karl\\Desktop\\why didn't you choose me\\abstractImageTweakedpng\\abstractImageT700383.png\n",
      "C:\\Users\\Karl\\Desktop\\why didn't you choose me\\abstractImageTweakedpng\\abstractImageT700384.png\n",
      "C:\\Users\\Karl\\Desktop\\why didn't you choose me\\abstractImageTweakedpng\\abstractImageT700385.png\n",
      "C:\\Users\\Karl\\Desktop\\why didn't you choose me\\abstractImageTweakedpng\\abstractImageT700386.png\n",
      "C:\\Users\\Karl\\Desktop\\why didn't you choose me\\abstractImageTweakedpng\\abstractImageT700387.png\n",
      "C:\\Users\\Karl\\Desktop\\why didn't you choose me\\abstractImageTweakedpng\\abstractImageT700388.png\n",
      "C:\\Users\\Karl\\Desktop\\why didn't you choose me\\abstractImageTweakedpng\\abstractImageT700389.png\n",
      "C:\\Users\\Karl\\Desktop\\why didn't you choose me\\abstractImageTweakedpng\\abstractImageT700390.png\n",
      "C:\\Users\\Karl\\Desktop\\why didn't you choose me\\abstractImageTweakedpng\\abstractImageT700391.png\n",
      "C:\\Users\\Karl\\Desktop\\why didn't you choose me\\abstractImageTweakedpng\\abstractImageT700392.png\n",
      "C:\\Users\\Karl\\Desktop\\why didn't you choose me\\abstractImageTweakedpng\\abstractImageT700393.png\n",
      "C:\\Users\\Karl\\Desktop\\why didn't you choose me\\abstractImageTweakedpng\\abstractImageT700394.png\n",
      "C:\\Users\\Karl\\Desktop\\why didn't you choose me\\abstractImageTweakedpng\\abstractImageT700395.png\n",
      "C:\\Users\\Karl\\Desktop\\why didn't you choose me\\abstractImageTweakedpng\\abstractImageT700396.png\n",
      "C:\\Users\\Karl\\Desktop\\why didn't you choose me\\abstractImageTweakedpng\\abstractImageT700397.png\n",
      "C:\\Users\\Karl\\Desktop\\why didn't you choose me\\abstractImageTweakedpng\\abstractImageT700398.png\n",
      "C:\\Users\\Karl\\Desktop\\why didn't you choose me\\abstractImageTweakedpng\\abstractImageT700399.png\n",
      "C:\\Users\\Karl\\Desktop\\why didn't you choose me\\abstractImageTweakedpng\\abstractImageT700400.png\n",
      "C:\\Users\\Karl\\Desktop\\why didn't you choose me\\abstractImageTweakedpng\\abstractImageT700401.png\n",
      "C:\\Users\\Karl\\Desktop\\why didn't you choose me\\abstractImageTweakedpng\\abstractImageT700402.png\n",
      "C:\\Users\\Karl\\Desktop\\why didn't you choose me\\abstractImageTweakedpng\\abstractImageT700403.png\n",
      "C:\\Users\\Karl\\Desktop\\why didn't you choose me\\abstractImageTweakedpng\\abstractImageT700404.png\n",
      "C:\\Users\\Karl\\Desktop\\why didn't you choose me\\abstractImageTweakedpng\\abstractImageT700405.png\n",
      "C:\\Users\\Karl\\Desktop\\why didn't you choose me\\abstractImageTweakedpng\\abstractImageT700406.png\n",
      "C:\\Users\\Karl\\Desktop\\why didn't you choose me\\abstractImageTweakedpng\\abstractImageT700407.png\n",
      "C:\\Users\\Karl\\Desktop\\why didn't you choose me\\abstractImageTweakedpng\\abstractImageT700408.png\n",
      "C:\\Users\\Karl\\Desktop\\why didn't you choose me\\abstractImageTweakedpng\\abstractImageT700409.png\n",
      "C:\\Users\\Karl\\Desktop\\why didn't you choose me\\abstractImageTweakedpng\\abstractImageT700410.png\n",
      "C:\\Users\\Karl\\Desktop\\why didn't you choose me\\abstractImageTweakedpng\\abstractImageT700411.png\n",
      "C:\\Users\\Karl\\Desktop\\why didn't you choose me\\abstractImageTweakedpng\\abstractImageT700412.png\n",
      "C:\\Users\\Karl\\Desktop\\why didn't you choose me\\abstractImageTweakedpng\\abstractImageT700413.png\n",
      "C:\\Users\\Karl\\Desktop\\why didn't you choose me\\abstractImageTweakedpng\\abstractImageT700414.png\n",
      "C:\\Users\\Karl\\Desktop\\why didn't you choose me\\abstractImageTweakedpng\\abstractImageT700415.png\n",
      "C:\\Users\\Karl\\Desktop\\why didn't you choose me\\abstractImageTweakedpng\\abstractImageT700416.png\n",
      "C:\\Users\\Karl\\Desktop\\why didn't you choose me\\abstractImageTweakedpng\\abstractImageT700417.png\n",
      "C:\\Users\\Karl\\Desktop\\why didn't you choose me\\abstractImageTweakedpng\\abstractImageT700418.png\n",
      "C:\\Users\\Karl\\Desktop\\why didn't you choose me\\abstractImageTweakedpng\\abstractImageT700419.png\n",
      "C:\\Users\\Karl\\Desktop\\why didn't you choose me\\abstractImageTweakedpng\\abstractImageT700420.png\n",
      "C:\\Users\\Karl\\Desktop\\why didn't you choose me\\abstractImageTweakedpng\\abstractImageT700421.png\n",
      "C:\\Users\\Karl\\Desktop\\why didn't you choose me\\abstractImageTweakedpng\\abstractImageT700422.png\n",
      "C:\\Users\\Karl\\Desktop\\why didn't you choose me\\abstractImageTweakedpng\\abstractImageT700423.png\n",
      "C:\\Users\\Karl\\Desktop\\why didn't you choose me\\abstractImageTweakedpng\\abstractImageT700424.png\n",
      "C:\\Users\\Karl\\Desktop\\why didn't you choose me\\abstractImageTweakedpng\\abstractImageT700425.png\n",
      "C:\\Users\\Karl\\Desktop\\why didn't you choose me\\abstractImageTweakedpng\\abstractImageT700426.png\n",
      "C:\\Users\\Karl\\Desktop\\why didn't you choose me\\abstractImageTweakedpng\\abstractImageT700427.png\n",
      "C:\\Users\\Karl\\Desktop\\why didn't you choose me\\abstractImageTweakedpng\\abstractImageT700428.png\n",
      "C:\\Users\\Karl\\Desktop\\why didn't you choose me\\abstractImageTweakedpng\\abstractImageT700429.png\n",
      "C:\\Users\\Karl\\Desktop\\why didn't you choose me\\abstractImageTweakedpng\\abstractImageT700430.png\n"
     ]
    },
    {
     "name": "stdout",
     "output_type": "stream",
     "text": [
      "C:\\Users\\Karl\\Desktop\\why didn't you choose me\\abstractImageTweakedpng\\abstractImageT700431.png\n",
      "C:\\Users\\Karl\\Desktop\\why didn't you choose me\\abstractImageTweakedpng\\abstractImageT700432.png\n",
      "C:\\Users\\Karl\\Desktop\\why didn't you choose me\\abstractImageTweakedpng\\abstractImageT700433.png\n",
      "C:\\Users\\Karl\\Desktop\\why didn't you choose me\\abstractImageTweakedpng\\abstractImageT700434.png\n",
      "C:\\Users\\Karl\\Desktop\\why didn't you choose me\\abstractImageTweakedpng\\abstractImageT700435.png\n",
      "C:\\Users\\Karl\\Desktop\\why didn't you choose me\\abstractImageTweakedpng\\abstractImageT700436.png\n",
      "C:\\Users\\Karl\\Desktop\\why didn't you choose me\\abstractImageTweakedpng\\abstractImageT700437.png\n",
      "C:\\Users\\Karl\\Desktop\\why didn't you choose me\\abstractImageTweakedpng\\abstractImageT700438.png\n",
      "C:\\Users\\Karl\\Desktop\\why didn't you choose me\\abstractImageTweakedpng\\abstractImageT700439.png\n",
      "C:\\Users\\Karl\\Desktop\\why didn't you choose me\\abstractImageTweakedpng\\abstractImageT700440.png\n",
      "C:\\Users\\Karl\\Desktop\\why didn't you choose me\\abstractImageTweakedpng\\abstractImageT700441.png\n",
      "C:\\Users\\Karl\\Desktop\\why didn't you choose me\\abstractImageTweakedpng\\abstractImageT700442.png\n",
      "C:\\Users\\Karl\\Desktop\\why didn't you choose me\\abstractImageTweakedpng\\abstractImageT700443.png\n",
      "C:\\Users\\Karl\\Desktop\\why didn't you choose me\\abstractImageTweakedpng\\abstractImageT700444.png\n",
      "C:\\Users\\Karl\\Desktop\\why didn't you choose me\\abstractImageTweakedpng\\abstractImageT700445.png\n",
      "C:\\Users\\Karl\\Desktop\\why didn't you choose me\\abstractImageTweakedpng\\abstractImageT700446.png\n",
      "C:\\Users\\Karl\\Desktop\\why didn't you choose me\\abstractImageTweakedpng\\abstractImageT700447.png\n",
      "C:\\Users\\Karl\\Desktop\\why didn't you choose me\\abstractImageTweakedpng\\abstractImageT700448.png\n",
      "C:\\Users\\Karl\\Desktop\\why didn't you choose me\\abstractImageTweakedpng\\abstractImageT700449.png\n",
      "C:\\Users\\Karl\\Desktop\\why didn't you choose me\\abstractImageTweakedpng\\abstractImageT700450.png\n",
      "C:\\Users\\Karl\\Desktop\\why didn't you choose me\\abstractImageTweakedpng\\abstractImageT700451.png\n",
      "C:\\Users\\Karl\\Desktop\\why didn't you choose me\\abstractImageTweakedpng\\abstractImageT700452.png\n",
      "C:\\Users\\Karl\\Desktop\\why didn't you choose me\\abstractImageTweakedpng\\abstractImageT700453.png\n",
      "C:\\Users\\Karl\\Desktop\\why didn't you choose me\\abstractImageTweakedpng\\abstractImageT700454.png\n",
      "C:\\Users\\Karl\\Desktop\\why didn't you choose me\\abstractImageTweakedpng\\abstractImageT700455.png\n",
      "C:\\Users\\Karl\\Desktop\\why didn't you choose me\\abstractImageTweakedpng\\abstractImageT700456.png\n",
      "C:\\Users\\Karl\\Desktop\\why didn't you choose me\\abstractImageTweakedpng\\abstractImageT700457.png\n",
      "C:\\Users\\Karl\\Desktop\\why didn't you choose me\\abstractImageTweakedpng\\abstractImageT700458.png\n",
      "C:\\Users\\Karl\\Desktop\\why didn't you choose me\\abstractImageTweakedpng\\abstractImageT700459.png\n",
      "C:\\Users\\Karl\\Desktop\\why didn't you choose me\\abstractImageTweakedpng\\abstractImageT700460.png\n",
      "C:\\Users\\Karl\\Desktop\\why didn't you choose me\\abstractImageTweakedpng\\abstractImageT700461.png\n",
      "C:\\Users\\Karl\\Desktop\\why didn't you choose me\\abstractImageTweakedpng\\abstractImageT700462.png\n",
      "C:\\Users\\Karl\\Desktop\\why didn't you choose me\\abstractImageTweakedpng\\abstractImageT700463.png\n",
      "C:\\Users\\Karl\\Desktop\\why didn't you choose me\\abstractImageTweakedpng\\abstractImageT700464.png\n",
      "C:\\Users\\Karl\\Desktop\\why didn't you choose me\\abstractImageTweakedpng\\abstractImageT700465.png\n",
      "C:\\Users\\Karl\\Desktop\\why didn't you choose me\\abstractImageTweakedpng\\abstractImageT700466.png\n",
      "C:\\Users\\Karl\\Desktop\\why didn't you choose me\\abstractImageTweakedpng\\abstractImageT700467.png\n",
      "C:\\Users\\Karl\\Desktop\\why didn't you choose me\\abstractImageTweakedpng\\abstractImageT700468.png\n",
      "C:\\Users\\Karl\\Desktop\\why didn't you choose me\\abstractImageTweakedpng\\abstractImageT700469.png\n",
      "C:\\Users\\Karl\\Desktop\\why didn't you choose me\\abstractImageTweakedpng\\abstractImageT700470.png\n",
      "C:\\Users\\Karl\\Desktop\\why didn't you choose me\\abstractImageTweakedpng\\abstractImageT700471.png\n",
      "C:\\Users\\Karl\\Desktop\\why didn't you choose me\\abstractImageTweakedpng\\abstractImageT700472.png\n",
      "C:\\Users\\Karl\\Desktop\\why didn't you choose me\\abstractImageTweakedpng\\abstractImageT700473.png\n",
      "C:\\Users\\Karl\\Desktop\\why didn't you choose me\\abstractImageTweakedpng\\abstractImageT700474.png\n",
      "C:\\Users\\Karl\\Desktop\\why didn't you choose me\\abstractImageTweakedpng\\abstractImageT700475.png\n",
      "C:\\Users\\Karl\\Desktop\\why didn't you choose me\\abstractImageTweakedpng\\abstractImageT700476.png\n",
      "C:\\Users\\Karl\\Desktop\\why didn't you choose me\\abstractImageTweakedpng\\abstractImageT700477.png\n",
      "C:\\Users\\Karl\\Desktop\\why didn't you choose me\\abstractImageTweakedpng\\abstractImageT700478.png\n",
      "C:\\Users\\Karl\\Desktop\\why didn't you choose me\\abstractImageTweakedpng\\abstractImageT700479.png\n",
      "C:\\Users\\Karl\\Desktop\\why didn't you choose me\\abstractImageTweakedpng\\abstractImageT700480.png\n",
      "C:\\Users\\Karl\\Desktop\\why didn't you choose me\\abstractImageTweakedpng\\abstractImageT700481.png\n",
      "C:\\Users\\Karl\\Desktop\\why didn't you choose me\\abstractImageTweakedpng\\abstractImageT700482.png\n",
      "C:\\Users\\Karl\\Desktop\\why didn't you choose me\\abstractImageTweakedpng\\abstractImageT700483.png\n",
      "C:\\Users\\Karl\\Desktop\\why didn't you choose me\\abstractImageTweakedpng\\abstractImageT700484.png\n",
      "C:\\Users\\Karl\\Desktop\\why didn't you choose me\\abstractImageTweakedpng\\abstractImageT700485.png\n",
      "C:\\Users\\Karl\\Desktop\\why didn't you choose me\\abstractImageTweakedpng\\abstractImageT700486.png\n",
      "C:\\Users\\Karl\\Desktop\\why didn't you choose me\\abstractImageTweakedpng\\abstractImageT700487.png\n",
      "C:\\Users\\Karl\\Desktop\\why didn't you choose me\\abstractImageTweakedpng\\abstractImageT700488.png\n",
      "C:\\Users\\Karl\\Desktop\\why didn't you choose me\\abstractImageTweakedpng\\abstractImageT700489.png\n",
      "C:\\Users\\Karl\\Desktop\\why didn't you choose me\\abstractImageTweakedpng\\abstractImageT700490.png\n",
      "C:\\Users\\Karl\\Desktop\\why didn't you choose me\\abstractImageTweakedpng\\abstractImageT700491.png\n",
      "C:\\Users\\Karl\\Desktop\\why didn't you choose me\\abstractImageTweakedpng\\abstractImageT700492.png\n",
      "C:\\Users\\Karl\\Desktop\\why didn't you choose me\\abstractImageTweakedpng\\abstractImageT700493.png\n",
      "C:\\Users\\Karl\\Desktop\\why didn't you choose me\\abstractImageTweakedpng\\abstractImageT700494.png\n",
      "C:\\Users\\Karl\\Desktop\\why didn't you choose me\\abstractImageTweakedpng\\abstractImageT700495.png\n",
      "C:\\Users\\Karl\\Desktop\\why didn't you choose me\\abstractImageTweakedpng\\abstractImageT700496.png\n",
      "C:\\Users\\Karl\\Desktop\\why didn't you choose me\\abstractImageTweakedpng\\abstractImageT700497.png\n",
      "C:\\Users\\Karl\\Desktop\\why didn't you choose me\\abstractImageTweakedpng\\abstractImageT700498.png\n",
      "C:\\Users\\Karl\\Desktop\\why didn't you choose me\\abstractImageTweakedpng\\abstractImageT700499.png\n",
      "C:\\Users\\Karl\\Desktop\\why didn't you choose me\\abstractImageTweakedpng\\abstractImageT700500.png\n",
      "C:\\Users\\Karl\\Desktop\\why didn't you choose me\\abstractImageTweakedpng\\abstractImageT700501.png\n",
      "C:\\Users\\Karl\\Desktop\\why didn't you choose me\\abstractImageTweakedpng\\abstractImageT700502.png\n",
      "C:\\Users\\Karl\\Desktop\\why didn't you choose me\\abstractImageTweakedpng\\abstractImageT700503.png\n",
      "C:\\Users\\Karl\\Desktop\\why didn't you choose me\\abstractImageTweakedpng\\abstractImageT700504.png\n",
      "C:\\Users\\Karl\\Desktop\\why didn't you choose me\\abstractImageTweakedpng\\abstractImageT700505.png\n",
      "C:\\Users\\Karl\\Desktop\\why didn't you choose me\\abstractImageTweakedpng\\abstractImageT700506.png\n",
      "C:\\Users\\Karl\\Desktop\\why didn't you choose me\\abstractImageTweakedpng\\abstractImageT700507.png\n",
      "C:\\Users\\Karl\\Desktop\\why didn't you choose me\\abstractImageTweakedpng\\abstractImageT700508.png\n",
      "C:\\Users\\Karl\\Desktop\\why didn't you choose me\\abstractImageTweakedpng\\abstractImageT700509.png\n",
      "C:\\Users\\Karl\\Desktop\\why didn't you choose me\\abstractImageTweakedpng\\abstractImageT700510.png\n",
      "C:\\Users\\Karl\\Desktop\\why didn't you choose me\\abstractImageTweakedpng\\abstractImageT700511.png\n",
      "C:\\Users\\Karl\\Desktop\\why didn't you choose me\\abstractImageTweakedpng\\abstractImageT700512.png\n",
      "C:\\Users\\Karl\\Desktop\\why didn't you choose me\\abstractImageTweakedpng\\abstractImageT700513.png\n",
      "C:\\Users\\Karl\\Desktop\\why didn't you choose me\\abstractImageTweakedpng\\abstractImageT700514.png\n",
      "C:\\Users\\Karl\\Desktop\\why didn't you choose me\\abstractImageTweakedpng\\abstractImageT700515.png\n",
      "C:\\Users\\Karl\\Desktop\\why didn't you choose me\\abstractImageTweakedpng\\abstractImageT700516.png\n"
     ]
    },
    {
     "name": "stdout",
     "output_type": "stream",
     "text": [
      "C:\\Users\\Karl\\Desktop\\why didn't you choose me\\abstractImageTweakedpng\\abstractImageT700517.png\n",
      "C:\\Users\\Karl\\Desktop\\why didn't you choose me\\abstractImageTweakedpng\\abstractImageT700518.png\n",
      "C:\\Users\\Karl\\Desktop\\why didn't you choose me\\abstractImageTweakedpng\\abstractImageT700519.png\n",
      "C:\\Users\\Karl\\Desktop\\why didn't you choose me\\abstractImageTweakedpng\\abstractImageT700520.png\n",
      "C:\\Users\\Karl\\Desktop\\why didn't you choose me\\abstractImageTweakedpng\\abstractImageT700521.png\n",
      "C:\\Users\\Karl\\Desktop\\why didn't you choose me\\abstractImageTweakedpng\\abstractImageT700522.png\n",
      "C:\\Users\\Karl\\Desktop\\why didn't you choose me\\abstractImageTweakedpng\\abstractImageT700523.png\n",
      "C:\\Users\\Karl\\Desktop\\why didn't you choose me\\abstractImageTweakedpng\\abstractImageT700524.png\n",
      "C:\\Users\\Karl\\Desktop\\why didn't you choose me\\abstractImageTweakedpng\\abstractImageT700525.png\n",
      "C:\\Users\\Karl\\Desktop\\why didn't you choose me\\abstractImageTweakedpng\\abstractImageT700526.png\n",
      "C:\\Users\\Karl\\Desktop\\why didn't you choose me\\abstractImageTweakedpng\\abstractImageT700527.png\n",
      "C:\\Users\\Karl\\Desktop\\why didn't you choose me\\abstractImageTweakedpng\\abstractImageT700528.png\n",
      "C:\\Users\\Karl\\Desktop\\why didn't you choose me\\abstractImageTweakedpng\\abstractImageT700529.png\n",
      "C:\\Users\\Karl\\Desktop\\why didn't you choose me\\abstractImageTweakedpng\\abstractImageT700530.png\n",
      "C:\\Users\\Karl\\Desktop\\why didn't you choose me\\abstractImageTweakedpng\\abstractImageT700531.png\n",
      "C:\\Users\\Karl\\Desktop\\why didn't you choose me\\abstractImageTweakedpng\\abstractImageT700532.png\n",
      "C:\\Users\\Karl\\Desktop\\why didn't you choose me\\abstractImageTweakedpng\\abstractImageT700533.png\n",
      "C:\\Users\\Karl\\Desktop\\why didn't you choose me\\abstractImageTweakedpng\\abstractImageT700534.png\n",
      "C:\\Users\\Karl\\Desktop\\why didn't you choose me\\abstractImageTweakedpng\\abstractImageT700535.png\n",
      "C:\\Users\\Karl\\Desktop\\why didn't you choose me\\abstractImageTweakedpng\\abstractImageT700536.png\n",
      "C:\\Users\\Karl\\Desktop\\why didn't you choose me\\abstractImageTweakedpng\\abstractImageT700537.png\n",
      "C:\\Users\\Karl\\Desktop\\why didn't you choose me\\abstractImageTweakedpng\\abstractImageT700538.png\n",
      "C:\\Users\\Karl\\Desktop\\why didn't you choose me\\abstractImageTweakedpng\\abstractImageT700539.png\n",
      "C:\\Users\\Karl\\Desktop\\why didn't you choose me\\abstractImageTweakedpng\\abstractImageT700540.png\n",
      "C:\\Users\\Karl\\Desktop\\why didn't you choose me\\abstractImageTweakedpng\\abstractImageT700541.png\n",
      "C:\\Users\\Karl\\Desktop\\why didn't you choose me\\abstractImageTweakedpng\\abstractImageT700542.png\n",
      "C:\\Users\\Karl\\Desktop\\why didn't you choose me\\abstractImageTweakedpng\\abstractImageT700543.png\n",
      "C:\\Users\\Karl\\Desktop\\why didn't you choose me\\abstractImageTweakedpng\\abstractImageT700544.png\n",
      "C:\\Users\\Karl\\Desktop\\why didn't you choose me\\abstractImageTweakedpng\\abstractImageT700545.png\n",
      "C:\\Users\\Karl\\Desktop\\why didn't you choose me\\abstractImageTweakedpng\\abstractImageT700546.png\n",
      "C:\\Users\\Karl\\Desktop\\why didn't you choose me\\abstractImageTweakedpng\\abstractImageT700547.png\n",
      "C:\\Users\\Karl\\Desktop\\why didn't you choose me\\abstractImageTweakedpng\\abstractImageT700548.png\n",
      "C:\\Users\\Karl\\Desktop\\why didn't you choose me\\abstractImageTweakedpng\\abstractImageT700549.png\n",
      "C:\\Users\\Karl\\Desktop\\why didn't you choose me\\abstractImageTweakedpng\\abstractImageT700550.png\n",
      "C:\\Users\\Karl\\Desktop\\why didn't you choose me\\abstractImageTweakedpng\\abstractImageT700551.png\n",
      "C:\\Users\\Karl\\Desktop\\why didn't you choose me\\abstractImageTweakedpng\\abstractImageT700552.png\n",
      "C:\\Users\\Karl\\Desktop\\why didn't you choose me\\abstractImageTweakedpng\\abstractImageT700553.png\n",
      "C:\\Users\\Karl\\Desktop\\why didn't you choose me\\abstractImageTweakedpng\\abstractImageT700554.png\n",
      "C:\\Users\\Karl\\Desktop\\why didn't you choose me\\abstractImageTweakedpng\\abstractImageT700555.png\n",
      "C:\\Users\\Karl\\Desktop\\why didn't you choose me\\abstractImageTweakedpng\\abstractImageT700556.png\n",
      "C:\\Users\\Karl\\Desktop\\why didn't you choose me\\abstractImageTweakedpng\\abstractImageT700557.png\n",
      "C:\\Users\\Karl\\Desktop\\why didn't you choose me\\abstractImageTweakedpng\\abstractImageT700558.png\n",
      "C:\\Users\\Karl\\Desktop\\why didn't you choose me\\abstractImageTweakedpng\\abstractImageT700559.png\n",
      "C:\\Users\\Karl\\Desktop\\why didn't you choose me\\abstractImageTweakedpng\\abstractImageT700560.png\n",
      "C:\\Users\\Karl\\Desktop\\why didn't you choose me\\abstractImageTweakedpng\\abstractImageT700561.png\n",
      "C:\\Users\\Karl\\Desktop\\why didn't you choose me\\abstractImageTweakedpng\\abstractImageT700562.png\n",
      "C:\\Users\\Karl\\Desktop\\why didn't you choose me\\abstractImageTweakedpng\\abstractImageT700563.png\n",
      "C:\\Users\\Karl\\Desktop\\why didn't you choose me\\abstractImageTweakedpng\\abstractImageT700564.png\n",
      "C:\\Users\\Karl\\Desktop\\why didn't you choose me\\abstractImageTweakedpng\\abstractImageT700565.png\n",
      "C:\\Users\\Karl\\Desktop\\why didn't you choose me\\abstractImageTweakedpng\\abstractImageT700566.png\n",
      "C:\\Users\\Karl\\Desktop\\why didn't you choose me\\abstractImageTweakedpng\\abstractImageT700567.png\n",
      "C:\\Users\\Karl\\Desktop\\why didn't you choose me\\abstractImageTweakedpng\\abstractImageT700568.png\n",
      "C:\\Users\\Karl\\Desktop\\why didn't you choose me\\abstractImageTweakedpng\\abstractImageT700569.png\n",
      "C:\\Users\\Karl\\Desktop\\why didn't you choose me\\abstractImageTweakedpng\\abstractImageT700570.png\n",
      "C:\\Users\\Karl\\Desktop\\why didn't you choose me\\abstractImageTweakedpng\\abstractImageT700571.png\n",
      "C:\\Users\\Karl\\Desktop\\why didn't you choose me\\abstractImageTweakedpng\\abstractImageT700572.png\n",
      "C:\\Users\\Karl\\Desktop\\why didn't you choose me\\abstractImageTweakedpng\\abstractImageT700573.png\n",
      "C:\\Users\\Karl\\Desktop\\why didn't you choose me\\abstractImageTweakedpng\\abstractImageT700574.png\n",
      "C:\\Users\\Karl\\Desktop\\why didn't you choose me\\abstractImageTweakedpng\\abstractImageT700575.png\n",
      "C:\\Users\\Karl\\Desktop\\why didn't you choose me\\abstractImageTweakedpng\\abstractImageT700576.png\n",
      "C:\\Users\\Karl\\Desktop\\why didn't you choose me\\abstractImageTweakedpng\\abstractImageT700577.png\n",
      "C:\\Users\\Karl\\Desktop\\why didn't you choose me\\abstractImageTweakedpng\\abstractImageT700578.png\n",
      "C:\\Users\\Karl\\Desktop\\why didn't you choose me\\abstractImageTweakedpng\\abstractImageT700579.png\n",
      "C:\\Users\\Karl\\Desktop\\why didn't you choose me\\abstractImageTweakedpng\\abstractImageT700580.png\n",
      "C:\\Users\\Karl\\Desktop\\why didn't you choose me\\abstractImageTweakedpng\\abstractImageT700581.png\n",
      "C:\\Users\\Karl\\Desktop\\why didn't you choose me\\abstractImageTweakedpng\\abstractImageT700582.png\n",
      "C:\\Users\\Karl\\Desktop\\why didn't you choose me\\abstractImageTweakedpng\\abstractImageT700583.png\n",
      "C:\\Users\\Karl\\Desktop\\why didn't you choose me\\abstractImageTweakedpng\\abstractImageT700584.png\n",
      "C:\\Users\\Karl\\Desktop\\why didn't you choose me\\abstractImageTweakedpng\\abstractImageT700585.png\n",
      "C:\\Users\\Karl\\Desktop\\why didn't you choose me\\abstractImageTweakedpng\\abstractImageT700586.png\n",
      "C:\\Users\\Karl\\Desktop\\why didn't you choose me\\abstractImageTweakedpng\\abstractImageT700587.png\n",
      "C:\\Users\\Karl\\Desktop\\why didn't you choose me\\abstractImageTweakedpng\\abstractImageT700588.png\n",
      "C:\\Users\\Karl\\Desktop\\why didn't you choose me\\abstractImageTweakedpng\\abstractImageT700589.png\n",
      "C:\\Users\\Karl\\Desktop\\why didn't you choose me\\abstractImageTweakedpng\\abstractImageT700590.png\n",
      "C:\\Users\\Karl\\Desktop\\why didn't you choose me\\abstractImageTweakedpng\\abstractImageT700591.png\n",
      "C:\\Users\\Karl\\Desktop\\why didn't you choose me\\abstractImageTweakedpng\\abstractImageT700592.png\n",
      "C:\\Users\\Karl\\Desktop\\why didn't you choose me\\abstractImageTweakedpng\\abstractImageT700593.png\n",
      "C:\\Users\\Karl\\Desktop\\why didn't you choose me\\abstractImageTweakedpng\\abstractImageT700594.png\n",
      "C:\\Users\\Karl\\Desktop\\why didn't you choose me\\abstractImageTweakedpng\\abstractImageT700595.png\n",
      "C:\\Users\\Karl\\Desktop\\why didn't you choose me\\abstractImageTweakedpng\\abstractImageT700596.png\n",
      "C:\\Users\\Karl\\Desktop\\why didn't you choose me\\abstractImageTweakedpng\\abstractImageT700597.png\n",
      "C:\\Users\\Karl\\Desktop\\why didn't you choose me\\abstractImageTweakedpng\\abstractImageT700598.png\n",
      "C:\\Users\\Karl\\Desktop\\why didn't you choose me\\abstractImageTweakedpng\\abstractImageT700599.png\n",
      "C:\\Users\\Karl\\Desktop\\why didn't you choose me\\abstractImageTweakedpng\\abstractImageT700600.png\n",
      "C:\\Users\\Karl\\Desktop\\why didn't you choose me\\abstractImageTweakedpng\\abstractImageT700601.png\n",
      "C:\\Users\\Karl\\Desktop\\why didn't you choose me\\abstractImageTweakedpng\\abstractImageT700602.png\n"
     ]
    },
    {
     "name": "stdout",
     "output_type": "stream",
     "text": [
      "C:\\Users\\Karl\\Desktop\\why didn't you choose me\\abstractImageTweakedpng\\abstractImageT700603.png\n",
      "C:\\Users\\Karl\\Desktop\\why didn't you choose me\\abstractImageTweakedpng\\abstractImageT700604.png\n",
      "C:\\Users\\Karl\\Desktop\\why didn't you choose me\\abstractImageTweakedpng\\abstractImageT700605.png\n",
      "C:\\Users\\Karl\\Desktop\\why didn't you choose me\\abstractImageTweakedpng\\abstractImageT700606.png\n",
      "C:\\Users\\Karl\\Desktop\\why didn't you choose me\\abstractImageTweakedpng\\abstractImageT700607.png\n",
      "C:\\Users\\Karl\\Desktop\\why didn't you choose me\\abstractImageTweakedpng\\abstractImageT700608.png\n",
      "C:\\Users\\Karl\\Desktop\\why didn't you choose me\\abstractImageTweakedpng\\abstractImageT700609.png\n",
      "C:\\Users\\Karl\\Desktop\\why didn't you choose me\\abstractImageTweakedpng\\abstractImageT700610.png\n",
      "C:\\Users\\Karl\\Desktop\\why didn't you choose me\\abstractImageTweakedpng\\abstractImageT700611.png\n",
      "C:\\Users\\Karl\\Desktop\\why didn't you choose me\\abstractImageTweakedpng\\abstractImageT700612.png\n",
      "C:\\Users\\Karl\\Desktop\\why didn't you choose me\\abstractImageTweakedpng\\abstractImageT700613.png\n",
      "C:\\Users\\Karl\\Desktop\\why didn't you choose me\\abstractImageTweakedpng\\abstractImageT700614.png\n",
      "C:\\Users\\Karl\\Desktop\\why didn't you choose me\\abstractImageTweakedpng\\abstractImageT700615.png\n",
      "C:\\Users\\Karl\\Desktop\\why didn't you choose me\\abstractImageTweakedpng\\abstractImageT700616.png\n",
      "C:\\Users\\Karl\\Desktop\\why didn't you choose me\\abstractImageTweakedpng\\abstractImageT700617.png\n",
      "C:\\Users\\Karl\\Desktop\\why didn't you choose me\\abstractImageTweakedpng\\abstractImageT700618.png\n",
      "C:\\Users\\Karl\\Desktop\\why didn't you choose me\\abstractImageTweakedpng\\abstractImageT700619.png\n",
      "C:\\Users\\Karl\\Desktop\\why didn't you choose me\\abstractImageTweakedpng\\abstractImageT700620.png\n",
      "C:\\Users\\Karl\\Desktop\\why didn't you choose me\\abstractImageTweakedpng\\abstractImageT700621.png\n",
      "C:\\Users\\Karl\\Desktop\\why didn't you choose me\\abstractImageTweakedpng\\abstractImageT700622.png\n",
      "C:\\Users\\Karl\\Desktop\\why didn't you choose me\\abstractImageTweakedpng\\abstractImageT700623.png\n",
      "C:\\Users\\Karl\\Desktop\\why didn't you choose me\\abstractImageTweakedpng\\abstractImageT700624.png\n",
      "C:\\Users\\Karl\\Desktop\\why didn't you choose me\\abstractImageTweakedpng\\abstractImageT700625.png\n",
      "C:\\Users\\Karl\\Desktop\\why didn't you choose me\\abstractImageTweakedpng\\abstractImageT700626.png\n",
      "C:\\Users\\Karl\\Desktop\\why didn't you choose me\\abstractImageTweakedpng\\abstractImageT700627.png\n",
      "C:\\Users\\Karl\\Desktop\\why didn't you choose me\\abstractImageTweakedpng\\abstractImageT700628.png\n",
      "C:\\Users\\Karl\\Desktop\\why didn't you choose me\\abstractImageTweakedpng\\abstractImageT700629.png\n",
      "C:\\Users\\Karl\\Desktop\\why didn't you choose me\\abstractImageTweakedpng\\abstractImageT700630.png\n",
      "C:\\Users\\Karl\\Desktop\\why didn't you choose me\\abstractImageTweakedpng\\abstractImageT700631.png\n",
      "C:\\Users\\Karl\\Desktop\\why didn't you choose me\\abstractImageTweakedpng\\abstractImageT700632.png\n",
      "C:\\Users\\Karl\\Desktop\\why didn't you choose me\\abstractImageTweakedpng\\abstractImageT700633.png\n",
      "C:\\Users\\Karl\\Desktop\\why didn't you choose me\\abstractImageTweakedpng\\abstractImageT700634.png\n",
      "C:\\Users\\Karl\\Desktop\\why didn't you choose me\\abstractImageTweakedpng\\abstractImageT700635.png\n",
      "C:\\Users\\Karl\\Desktop\\why didn't you choose me\\abstractImageTweakedpng\\abstractImageT700636.png\n",
      "C:\\Users\\Karl\\Desktop\\why didn't you choose me\\abstractImageTweakedpng\\abstractImageT700637.png\n",
      "C:\\Users\\Karl\\Desktop\\why didn't you choose me\\abstractImageTweakedpng\\abstractImageT700638.png\n",
      "C:\\Users\\Karl\\Desktop\\why didn't you choose me\\abstractImageTweakedpng\\abstractImageT700639.png\n",
      "C:\\Users\\Karl\\Desktop\\why didn't you choose me\\abstractImageTweakedpng\\abstractImageT700640.png\n",
      "C:\\Users\\Karl\\Desktop\\why didn't you choose me\\abstractImageTweakedpng\\abstractImageT700641.png\n",
      "C:\\Users\\Karl\\Desktop\\why didn't you choose me\\abstractImageTweakedpng\\abstractImageT700642.png\n",
      "C:\\Users\\Karl\\Desktop\\why didn't you choose me\\abstractImageTweakedpng\\abstractImageT700643.png\n",
      "C:\\Users\\Karl\\Desktop\\why didn't you choose me\\abstractImageTweakedpng\\abstractImageT700644.png\n",
      "C:\\Users\\Karl\\Desktop\\why didn't you choose me\\abstractImageTweakedpng\\abstractImageT700645.png\n",
      "C:\\Users\\Karl\\Desktop\\why didn't you choose me\\abstractImageTweakedpng\\abstractImageT700646.png\n",
      "C:\\Users\\Karl\\Desktop\\why didn't you choose me\\abstractImageTweakedpng\\abstractImageT700647.png\n",
      "C:\\Users\\Karl\\Desktop\\why didn't you choose me\\abstractImageTweakedpng\\abstractImageT700648.png\n",
      "C:\\Users\\Karl\\Desktop\\why didn't you choose me\\abstractImageTweakedpng\\abstractImageT700649.png\n",
      "C:\\Users\\Karl\\Desktop\\why didn't you choose me\\abstractImageTweakedpng\\abstractImageT700650.png\n",
      "C:\\Users\\Karl\\Desktop\\why didn't you choose me\\abstractImageTweakedpng\\abstractImageT700651.png\n",
      "C:\\Users\\Karl\\Desktop\\why didn't you choose me\\abstractImageTweakedpng\\abstractImageT700652.png\n",
      "C:\\Users\\Karl\\Desktop\\why didn't you choose me\\abstractImageTweakedpng\\abstractImageT700653.png\n",
      "C:\\Users\\Karl\\Desktop\\why didn't you choose me\\abstractImageTweakedpng\\abstractImageT700654.png\n",
      "C:\\Users\\Karl\\Desktop\\why didn't you choose me\\abstractImageTweakedpng\\abstractImageT700655.png\n",
      "C:\\Users\\Karl\\Desktop\\why didn't you choose me\\abstractImageTweakedpng\\abstractImageT700656.png\n",
      "C:\\Users\\Karl\\Desktop\\why didn't you choose me\\abstractImageTweakedpng\\abstractImageT700657.png\n",
      "C:\\Users\\Karl\\Desktop\\why didn't you choose me\\abstractImageTweakedpng\\abstractImageT700658.png\n",
      "C:\\Users\\Karl\\Desktop\\why didn't you choose me\\abstractImageTweakedpng\\abstractImageT700659.png\n",
      "C:\\Users\\Karl\\Desktop\\why didn't you choose me\\abstractImageTweakedpng\\abstractImageT700660.png\n",
      "C:\\Users\\Karl\\Desktop\\why didn't you choose me\\abstractImageTweakedpng\\abstractImageT700661.png\n",
      "C:\\Users\\Karl\\Desktop\\why didn't you choose me\\abstractImageTweakedpng\\abstractImageT700662.png\n",
      "C:\\Users\\Karl\\Desktop\\why didn't you choose me\\abstractImageTweakedpng\\abstractImageT700663.png\n",
      "C:\\Users\\Karl\\Desktop\\why didn't you choose me\\abstractImageTweakedpng\\abstractImageT700664.png\n",
      "C:\\Users\\Karl\\Desktop\\why didn't you choose me\\abstractImageTweakedpng\\abstractImageT700665.png\n",
      "C:\\Users\\Karl\\Desktop\\why didn't you choose me\\abstractImageTweakedpng\\abstractImageT700666.png\n",
      "C:\\Users\\Karl\\Desktop\\why didn't you choose me\\abstractImageTweakedpng\\abstractImageT700667.png\n",
      "C:\\Users\\Karl\\Desktop\\why didn't you choose me\\abstractImageTweakedpng\\abstractImageT700668.png\n",
      "C:\\Users\\Karl\\Desktop\\why didn't you choose me\\abstractImageTweakedpng\\abstractImageT700669.png\n",
      "C:\\Users\\Karl\\Desktop\\why didn't you choose me\\abstractImageTweakedpng\\abstractImageT700670.png\n",
      "C:\\Users\\Karl\\Desktop\\why didn't you choose me\\abstractImageTweakedpng\\abstractImageT700671.png\n",
      "C:\\Users\\Karl\\Desktop\\why didn't you choose me\\abstractImageTweakedpng\\abstractImageT700672.png\n",
      "C:\\Users\\Karl\\Desktop\\why didn't you choose me\\abstractImageTweakedpng\\abstractImageT700673.png\n",
      "C:\\Users\\Karl\\Desktop\\why didn't you choose me\\abstractImageTweakedpng\\abstractImageT700674.png\n",
      "C:\\Users\\Karl\\Desktop\\why didn't you choose me\\abstractImageTweakedpng\\abstractImageT700675.png\n",
      "C:\\Users\\Karl\\Desktop\\why didn't you choose me\\abstractImageTweakedpng\\abstractImageT700676.png\n",
      "C:\\Users\\Karl\\Desktop\\why didn't you choose me\\abstractImageTweakedpng\\abstractImageT700677.png\n",
      "C:\\Users\\Karl\\Desktop\\why didn't you choose me\\abstractImageTweakedpng\\abstractImageT700678.png\n",
      "C:\\Users\\Karl\\Desktop\\why didn't you choose me\\abstractImageTweakedpng\\abstractImageT700679.png\n",
      "C:\\Users\\Karl\\Desktop\\why didn't you choose me\\abstractImageTweakedpng\\abstractImageT700680.png\n",
      "C:\\Users\\Karl\\Desktop\\why didn't you choose me\\abstractImageTweakedpng\\abstractImageT700681.png\n",
      "C:\\Users\\Karl\\Desktop\\why didn't you choose me\\abstractImageTweakedpng\\abstractImageT700682.png\n",
      "C:\\Users\\Karl\\Desktop\\why didn't you choose me\\abstractImageTweakedpng\\abstractImageT700683.png\n",
      "C:\\Users\\Karl\\Desktop\\why didn't you choose me\\abstractImageTweakedpng\\abstractImageT700684.png\n",
      "C:\\Users\\Karl\\Desktop\\why didn't you choose me\\abstractImageTweakedpng\\abstractImageT700685.png\n",
      "C:\\Users\\Karl\\Desktop\\why didn't you choose me\\abstractImageTweakedpng\\abstractImageT700686.png\n",
      "C:\\Users\\Karl\\Desktop\\why didn't you choose me\\abstractImageTweakedpng\\abstractImageT700687.png\n",
      "C:\\Users\\Karl\\Desktop\\why didn't you choose me\\abstractImageTweakedpng\\abstractImageT700688.png\n"
     ]
    },
    {
     "name": "stdout",
     "output_type": "stream",
     "text": [
      "C:\\Users\\Karl\\Desktop\\why didn't you choose me\\abstractImageTweakedpng\\abstractImageT700689.png\n",
      "C:\\Users\\Karl\\Desktop\\why didn't you choose me\\abstractImageTweakedpng\\abstractImageT700690.png\n",
      "C:\\Users\\Karl\\Desktop\\why didn't you choose me\\abstractImageTweakedpng\\abstractImageT700691.png\n",
      "C:\\Users\\Karl\\Desktop\\why didn't you choose me\\abstractImageTweakedpng\\abstractImageT700692.png\n",
      "C:\\Users\\Karl\\Desktop\\why didn't you choose me\\abstractImageTweakedpng\\abstractImageT700693.png\n",
      "C:\\Users\\Karl\\Desktop\\why didn't you choose me\\abstractImageTweakedpng\\abstractImageT700694.png\n",
      "C:\\Users\\Karl\\Desktop\\why didn't you choose me\\abstractImageTweakedpng\\abstractImageT700695.png\n",
      "C:\\Users\\Karl\\Desktop\\why didn't you choose me\\abstractImageTweakedpng\\abstractImageT700696.png\n",
      "C:\\Users\\Karl\\Desktop\\why didn't you choose me\\abstractImageTweakedpng\\abstractImageT700697.png\n",
      "C:\\Users\\Karl\\Desktop\\why didn't you choose me\\abstractImageTweakedpng\\abstractImageT700698.png\n",
      "C:\\Users\\Karl\\Desktop\\why didn't you choose me\\abstractImageTweakedpng\\abstractImageT700699.png\n",
      "C:\\Users\\Karl\\Desktop\\why didn't you choose me\\abstractImageTweakedpng\\abstractImageT700700.png\n",
      "C:\\Users\\Karl\\Desktop\\why didn't you choose me\\abstractImageTweakedpng\\abstractImageT700701.png\n",
      "C:\\Users\\Karl\\Desktop\\why didn't you choose me\\abstractImageTweakedpng\\abstractImageT700702.png\n",
      "C:\\Users\\Karl\\Desktop\\why didn't you choose me\\abstractImageTweakedpng\\abstractImageT700703.png\n",
      "C:\\Users\\Karl\\Desktop\\why didn't you choose me\\abstractImageTweakedpng\\abstractImageT700704.png\n",
      "C:\\Users\\Karl\\Desktop\\why didn't you choose me\\abstractImageTweakedpng\\abstractImageT700705.png\n",
      "C:\\Users\\Karl\\Desktop\\why didn't you choose me\\abstractImageTweakedpng\\abstractImageT700706.png\n",
      "C:\\Users\\Karl\\Desktop\\why didn't you choose me\\abstractImageTweakedpng\\abstractImageT700707.png\n",
      "C:\\Users\\Karl\\Desktop\\why didn't you choose me\\abstractImageTweakedpng\\abstractImageT700708.png\n",
      "C:\\Users\\Karl\\Desktop\\why didn't you choose me\\abstractImageTweakedpng\\abstractImageT700709.png\n",
      "C:\\Users\\Karl\\Desktop\\why didn't you choose me\\abstractImageTweakedpng\\abstractImageT700710.png\n",
      "C:\\Users\\Karl\\Desktop\\why didn't you choose me\\abstractImageTweakedpng\\abstractImageT700711.png\n",
      "C:\\Users\\Karl\\Desktop\\why didn't you choose me\\abstractImageTweakedpng\\abstractImageT700712.png\n",
      "C:\\Users\\Karl\\Desktop\\why didn't you choose me\\abstractImageTweakedpng\\abstractImageT700713.png\n",
      "C:\\Users\\Karl\\Desktop\\why didn't you choose me\\abstractImageTweakedpng\\abstractImageT700714.png\n",
      "C:\\Users\\Karl\\Desktop\\why didn't you choose me\\abstractImageTweakedpng\\abstractImageT700715.png\n",
      "C:\\Users\\Karl\\Desktop\\why didn't you choose me\\abstractImageTweakedpng\\abstractImageT700716.png\n",
      "C:\\Users\\Karl\\Desktop\\why didn't you choose me\\abstractImageTweakedpng\\abstractImageT700717.png\n",
      "C:\\Users\\Karl\\Desktop\\why didn't you choose me\\abstractImageTweakedpng\\abstractImageT700718.png\n",
      "C:\\Users\\Karl\\Desktop\\why didn't you choose me\\abstractImageTweakedpng\\abstractImageT700719.png\n",
      "C:\\Users\\Karl\\Desktop\\why didn't you choose me\\abstractImageTweakedpng\\abstractImageT700720.png\n",
      "C:\\Users\\Karl\\Desktop\\why didn't you choose me\\abstractImageTweakedpng\\abstractImageT700721.png\n",
      "C:\\Users\\Karl\\Desktop\\why didn't you choose me\\abstractImageTweakedpng\\abstractImageT700722.png\n",
      "C:\\Users\\Karl\\Desktop\\why didn't you choose me\\abstractImageTweakedpng\\abstractImageT700723.png\n",
      "C:\\Users\\Karl\\Desktop\\why didn't you choose me\\abstractImageTweakedpng\\abstractImageT700724.png\n",
      "C:\\Users\\Karl\\Desktop\\why didn't you choose me\\abstractImageTweakedpng\\abstractImageT700725.png\n",
      "C:\\Users\\Karl\\Desktop\\why didn't you choose me\\abstractImageTweakedpng\\abstractImageT700726.png\n",
      "C:\\Users\\Karl\\Desktop\\why didn't you choose me\\abstractImageTweakedpng\\abstractImageT700727.png\n",
      "C:\\Users\\Karl\\Desktop\\why didn't you choose me\\abstractImageTweakedpng\\abstractImageT700728.png\n",
      "C:\\Users\\Karl\\Desktop\\why didn't you choose me\\abstractImageTweakedpng\\abstractImageT700729.png\n",
      "C:\\Users\\Karl\\Desktop\\why didn't you choose me\\abstractImageTweakedpng\\abstractImageT700730.png\n",
      "C:\\Users\\Karl\\Desktop\\why didn't you choose me\\abstractImageTweakedpng\\abstractImageT700731.png\n",
      "C:\\Users\\Karl\\Desktop\\why didn't you choose me\\abstractImageTweakedpng\\abstractImageT700732.png\n",
      "C:\\Users\\Karl\\Desktop\\why didn't you choose me\\abstractImageTweakedpng\\abstractImageT700733.png\n",
      "C:\\Users\\Karl\\Desktop\\why didn't you choose me\\abstractImageTweakedpng\\abstractImageT700734.png\n",
      "C:\\Users\\Karl\\Desktop\\why didn't you choose me\\abstractImageTweakedpng\\abstractImageT700735.png\n",
      "C:\\Users\\Karl\\Desktop\\why didn't you choose me\\abstractImageTweakedpng\\abstractImageT700736.png\n",
      "C:\\Users\\Karl\\Desktop\\why didn't you choose me\\abstractImageTweakedpng\\abstractImageT700737.png\n",
      "C:\\Users\\Karl\\Desktop\\why didn't you choose me\\abstractImageTweakedpng\\abstractImageT700738.png\n",
      "C:\\Users\\Karl\\Desktop\\why didn't you choose me\\abstractImageTweakedpng\\abstractImageT700739.png\n",
      "C:\\Users\\Karl\\Desktop\\why didn't you choose me\\abstractImageTweakedpng\\abstractImageT700740.png\n",
      "C:\\Users\\Karl\\Desktop\\why didn't you choose me\\abstractImageTweakedpng\\abstractImageT700741.png\n",
      "C:\\Users\\Karl\\Desktop\\why didn't you choose me\\abstractImageTweakedpng\\abstractImageT700742.png\n",
      "C:\\Users\\Karl\\Desktop\\why didn't you choose me\\abstractImageTweakedpng\\abstractImageT700743.png\n",
      "C:\\Users\\Karl\\Desktop\\why didn't you choose me\\abstractImageTweakedpng\\abstractImageT700744.png\n",
      "C:\\Users\\Karl\\Desktop\\why didn't you choose me\\abstractImageTweakedpng\\abstractImageT700745.png\n",
      "C:\\Users\\Karl\\Desktop\\why didn't you choose me\\abstractImageTweakedpng\\abstractImageT700746.png\n",
      "C:\\Users\\Karl\\Desktop\\why didn't you choose me\\abstractImageTweakedpng\\abstractImageT700747.png\n",
      "C:\\Users\\Karl\\Desktop\\why didn't you choose me\\abstractImageTweakedpng\\abstractImageT700748.png\n",
      "C:\\Users\\Karl\\Desktop\\why didn't you choose me\\abstractImageTweakedpng\\abstractImageT700749.png\n",
      "C:\\Users\\Karl\\Desktop\\why didn't you choose me\\abstractImageTweakedpng\\abstractImageT700750.png\n",
      "C:\\Users\\Karl\\Desktop\\why didn't you choose me\\abstractImageTweakedpng\\abstractImageT700751.png\n",
      "C:\\Users\\Karl\\Desktop\\why didn't you choose me\\abstractImageTweakedpng\\abstractImageT700752.png\n",
      "C:\\Users\\Karl\\Desktop\\why didn't you choose me\\abstractImageTweakedpng\\abstractImageT700753.png\n",
      "C:\\Users\\Karl\\Desktop\\why didn't you choose me\\abstractImageTweakedpng\\abstractImageT700754.png\n",
      "C:\\Users\\Karl\\Desktop\\why didn't you choose me\\abstractImageTweakedpng\\abstractImageT700755.png\n",
      "C:\\Users\\Karl\\Desktop\\why didn't you choose me\\abstractImageTweakedpng\\abstractImageT700756.png\n",
      "C:\\Users\\Karl\\Desktop\\why didn't you choose me\\abstractImageTweakedpng\\abstractImageT700757.png\n",
      "C:\\Users\\Karl\\Desktop\\why didn't you choose me\\abstractImageTweakedpng\\abstractImageT700758.png\n",
      "C:\\Users\\Karl\\Desktop\\why didn't you choose me\\abstractImageTweakedpng\\abstractImageT700759.png\n",
      "C:\\Users\\Karl\\Desktop\\why didn't you choose me\\abstractImageTweakedpng\\abstractImageT700760.png\n",
      "C:\\Users\\Karl\\Desktop\\why didn't you choose me\\abstractImageTweakedpng\\abstractImageT700761.png\n",
      "C:\\Users\\Karl\\Desktop\\why didn't you choose me\\abstractImageTweakedpng\\abstractImageT700762.png\n",
      "C:\\Users\\Karl\\Desktop\\why didn't you choose me\\abstractImageTweakedpng\\abstractImageT700763.png\n",
      "C:\\Users\\Karl\\Desktop\\why didn't you choose me\\abstractImageTweakedpng\\abstractImageT700764.png\n",
      "C:\\Users\\Karl\\Desktop\\why didn't you choose me\\abstractImageTweakedpng\\abstractImageT700765.png\n",
      "C:\\Users\\Karl\\Desktop\\why didn't you choose me\\abstractImageTweakedpng\\abstractImageT700766.png\n",
      "C:\\Users\\Karl\\Desktop\\why didn't you choose me\\abstractImageTweakedpng\\abstractImageT700767.png\n",
      "C:\\Users\\Karl\\Desktop\\why didn't you choose me\\abstractImageTweakedpng\\abstractImageT700768.png\n",
      "C:\\Users\\Karl\\Desktop\\why didn't you choose me\\abstractImageTweakedpng\\abstractImageT700769.png\n",
      "C:\\Users\\Karl\\Desktop\\why didn't you choose me\\abstractImageTweakedpng\\abstractImageT700770.png\n",
      "C:\\Users\\Karl\\Desktop\\why didn't you choose me\\abstractImageTweakedpng\\abstractImageT700771.png\n",
      "C:\\Users\\Karl\\Desktop\\why didn't you choose me\\abstractImageTweakedpng\\abstractImageT700772.png\n",
      "C:\\Users\\Karl\\Desktop\\why didn't you choose me\\abstractImageTweakedpng\\abstractImageT700773.png\n",
      "C:\\Users\\Karl\\Desktop\\why didn't you choose me\\abstractImageTweakedpng\\abstractImageT700774.png\n"
     ]
    },
    {
     "name": "stdout",
     "output_type": "stream",
     "text": [
      "C:\\Users\\Karl\\Desktop\\why didn't you choose me\\abstractImageTweakedpng\\abstractImageT700775.png\n",
      "C:\\Users\\Karl\\Desktop\\why didn't you choose me\\abstractImageTweakedpng\\abstractImageT700776.png\n",
      "C:\\Users\\Karl\\Desktop\\why didn't you choose me\\abstractImageTweakedpng\\abstractImageT700777.png\n",
      "C:\\Users\\Karl\\Desktop\\why didn't you choose me\\abstractImageTweakedpng\\abstractImageT700778.png\n",
      "C:\\Users\\Karl\\Desktop\\why didn't you choose me\\abstractImageTweakedpng\\abstractImageT700779.png\n",
      "C:\\Users\\Karl\\Desktop\\why didn't you choose me\\abstractImageTweakedpng\\abstractImageT700780.png\n",
      "C:\\Users\\Karl\\Desktop\\why didn't you choose me\\abstractImageTweakedpng\\abstractImageT700781.png\n",
      "C:\\Users\\Karl\\Desktop\\why didn't you choose me\\abstractImageTweakedpng\\abstractImageT700782.png\n",
      "C:\\Users\\Karl\\Desktop\\why didn't you choose me\\abstractImageTweakedpng\\abstractImageT700783.png\n",
      "C:\\Users\\Karl\\Desktop\\why didn't you choose me\\abstractImageTweakedpng\\abstractImageT700784.png\n",
      "C:\\Users\\Karl\\Desktop\\why didn't you choose me\\abstractImageTweakedpng\\abstractImageT700785.png\n",
      "C:\\Users\\Karl\\Desktop\\why didn't you choose me\\abstractImageTweakedpng\\abstractImageT700786.png\n",
      "C:\\Users\\Karl\\Desktop\\why didn't you choose me\\abstractImageTweakedpng\\abstractImageT700787.png\n",
      "C:\\Users\\Karl\\Desktop\\why didn't you choose me\\abstractImageTweakedpng\\abstractImageT700788.png\n",
      "C:\\Users\\Karl\\Desktop\\why didn't you choose me\\abstractImageTweakedpng\\abstractImageT700789.png\n",
      "C:\\Users\\Karl\\Desktop\\why didn't you choose me\\abstractImageTweakedpng\\abstractImageT700790.png\n",
      "C:\\Users\\Karl\\Desktop\\why didn't you choose me\\abstractImageTweakedpng\\abstractImageT700791.png\n",
      "C:\\Users\\Karl\\Desktop\\why didn't you choose me\\abstractImageTweakedpng\\abstractImageT700792.png\n",
      "C:\\Users\\Karl\\Desktop\\why didn't you choose me\\abstractImageTweakedpng\\abstractImageT700793.png\n",
      "C:\\Users\\Karl\\Desktop\\why didn't you choose me\\abstractImageTweakedpng\\abstractImageT700794.png\n",
      "C:\\Users\\Karl\\Desktop\\why didn't you choose me\\abstractImageTweakedpng\\abstractImageT700795.png\n",
      "C:\\Users\\Karl\\Desktop\\why didn't you choose me\\abstractImageTweakedpng\\abstractImageT700796.png\n",
      "C:\\Users\\Karl\\Desktop\\why didn't you choose me\\abstractImageTweakedpng\\abstractImageT700797.png\n",
      "C:\\Users\\Karl\\Desktop\\why didn't you choose me\\abstractImageTweakedpng\\abstractImageT700798.png\n",
      "C:\\Users\\Karl\\Desktop\\why didn't you choose me\\abstractImageTweakedpng\\abstractImageT700799.png\n",
      "C:\\Users\\Karl\\Desktop\\why didn't you choose me\\abstractImageTweakedpng\\abstractImageT700800.png\n",
      "C:\\Users\\Karl\\Desktop\\why didn't you choose me\\abstractImageTweakedpng\\abstractImageT700801.png\n",
      "C:\\Users\\Karl\\Desktop\\why didn't you choose me\\abstractImageTweakedpng\\abstractImageT700802.png\n",
      "C:\\Users\\Karl\\Desktop\\why didn't you choose me\\abstractImageTweakedpng\\abstractImageT700803.png\n",
      "C:\\Users\\Karl\\Desktop\\why didn't you choose me\\abstractImageTweakedpng\\abstractImageT700804.png\n",
      "C:\\Users\\Karl\\Desktop\\why didn't you choose me\\abstractImageTweakedpng\\abstractImageT700805.png\n",
      "C:\\Users\\Karl\\Desktop\\why didn't you choose me\\abstractImageTweakedpng\\abstractImageT700806.png\n",
      "C:\\Users\\Karl\\Desktop\\why didn't you choose me\\abstractImageTweakedpng\\abstractImageT700807.png\n",
      "C:\\Users\\Karl\\Desktop\\why didn't you choose me\\abstractImageTweakedpng\\abstractImageT700808.png\n",
      "C:\\Users\\Karl\\Desktop\\why didn't you choose me\\abstractImageTweakedpng\\abstractImageT700809.png\n",
      "C:\\Users\\Karl\\Desktop\\why didn't you choose me\\abstractImageTweakedpng\\abstractImageT700810.png\n",
      "C:\\Users\\Karl\\Desktop\\why didn't you choose me\\abstractImageTweakedpng\\abstractImageT700811.png\n",
      "C:\\Users\\Karl\\Desktop\\why didn't you choose me\\abstractImageTweakedpng\\abstractImageT700812.png\n",
      "C:\\Users\\Karl\\Desktop\\why didn't you choose me\\abstractImageTweakedpng\\abstractImageT700813.png\n",
      "C:\\Users\\Karl\\Desktop\\why didn't you choose me\\abstractImageTweakedpng\\abstractImageT700814.png\n",
      "C:\\Users\\Karl\\Desktop\\why didn't you choose me\\abstractImageTweakedpng\\abstractImageT700815.png\n",
      "C:\\Users\\Karl\\Desktop\\why didn't you choose me\\abstractImageTweakedpng\\abstractImageT700816.png\n",
      "C:\\Users\\Karl\\Desktop\\why didn't you choose me\\abstractImageTweakedpng\\abstractImageT700817.png\n",
      "C:\\Users\\Karl\\Desktop\\why didn't you choose me\\abstractImageTweakedpng\\abstractImageT700818.png\n",
      "C:\\Users\\Karl\\Desktop\\why didn't you choose me\\abstractImageTweakedpng\\abstractImageT700819.png\n",
      "C:\\Users\\Karl\\Desktop\\why didn't you choose me\\abstractImageTweakedpng\\abstractImageT700820.png\n",
      "C:\\Users\\Karl\\Desktop\\why didn't you choose me\\abstractImageTweakedpng\\abstractImageT700821.png\n",
      "C:\\Users\\Karl\\Desktop\\why didn't you choose me\\abstractImageTweakedpng\\abstractImageT700822.png\n",
      "C:\\Users\\Karl\\Desktop\\why didn't you choose me\\abstractImageTweakedpng\\abstractImageT700823.png\n",
      "C:\\Users\\Karl\\Desktop\\why didn't you choose me\\abstractImageTweakedpng\\abstractImageT700824.png\n",
      "C:\\Users\\Karl\\Desktop\\why didn't you choose me\\abstractImageTweakedpng\\abstractImageT700825.png\n",
      "C:\\Users\\Karl\\Desktop\\why didn't you choose me\\abstractImageTweakedpng\\abstractImageT700826.png\n",
      "C:\\Users\\Karl\\Desktop\\why didn't you choose me\\abstractImageTweakedpng\\abstractImageT700827.png\n",
      "C:\\Users\\Karl\\Desktop\\why didn't you choose me\\abstractImageTweakedpng\\abstractImageT700828.png\n",
      "C:\\Users\\Karl\\Desktop\\why didn't you choose me\\abstractImageTweakedpng\\abstractImageT700829.png\n",
      "C:\\Users\\Karl\\Desktop\\why didn't you choose me\\abstractImageTweakedpng\\abstractImageT700830.png\n",
      "C:\\Users\\Karl\\Desktop\\why didn't you choose me\\abstractImageTweakedpng\\abstractImageT700831.png\n",
      "C:\\Users\\Karl\\Desktop\\why didn't you choose me\\abstractImageTweakedpng\\abstractImageT700832.png\n",
      "C:\\Users\\Karl\\Desktop\\why didn't you choose me\\abstractImageTweakedpng\\abstractImageT700833.png\n",
      "C:\\Users\\Karl\\Desktop\\why didn't you choose me\\abstractImageTweakedpng\\abstractImageT700834.png\n",
      "C:\\Users\\Karl\\Desktop\\why didn't you choose me\\abstractImageTweakedpng\\abstractImageT700835.png\n",
      "C:\\Users\\Karl\\Desktop\\why didn't you choose me\\abstractImageTweakedpng\\abstractImageT700836.png\n",
      "C:\\Users\\Karl\\Desktop\\why didn't you choose me\\abstractImageTweakedpng\\abstractImageT700837.png\n",
      "C:\\Users\\Karl\\Desktop\\why didn't you choose me\\abstractImageTweakedpng\\abstractImageT700838.png\n",
      "C:\\Users\\Karl\\Desktop\\why didn't you choose me\\abstractImageTweakedpng\\abstractImageT700839.png\n",
      "C:\\Users\\Karl\\Desktop\\why didn't you choose me\\abstractImageTweakedpng\\abstractImageT700840.png\n",
      "C:\\Users\\Karl\\Desktop\\why didn't you choose me\\abstractImageTweakedpng\\abstractImageT700841.png\n",
      "C:\\Users\\Karl\\Desktop\\why didn't you choose me\\abstractImageTweakedpng\\abstractImageT700842.png\n",
      "C:\\Users\\Karl\\Desktop\\why didn't you choose me\\abstractImageTweakedpng\\abstractImageT700843.png\n",
      "C:\\Users\\Karl\\Desktop\\why didn't you choose me\\abstractImageTweakedpng\\abstractImageT700844.png\n",
      "C:\\Users\\Karl\\Desktop\\why didn't you choose me\\abstractImageTweakedpng\\abstractImageT700845.png\n",
      "C:\\Users\\Karl\\Desktop\\why didn't you choose me\\abstractImageTweakedpng\\abstractImageT700846.png\n",
      "C:\\Users\\Karl\\Desktop\\why didn't you choose me\\abstractImageTweakedpng\\abstractImageT700847.png\n",
      "C:\\Users\\Karl\\Desktop\\why didn't you choose me\\abstractImageTweakedpng\\abstractImageT700848.png\n",
      "C:\\Users\\Karl\\Desktop\\why didn't you choose me\\abstractImageTweakedpng\\abstractImageT700849.png\n",
      "C:\\Users\\Karl\\Desktop\\why didn't you choose me\\abstractImageTweakedpng\\abstractImageT700850.png\n",
      "C:\\Users\\Karl\\Desktop\\why didn't you choose me\\abstractImageTweakedpng\\abstractImageT700851.png\n",
      "C:\\Users\\Karl\\Desktop\\why didn't you choose me\\abstractImageTweakedpng\\abstractImageT700852.png\n",
      "C:\\Users\\Karl\\Desktop\\why didn't you choose me\\abstractImageTweakedpng\\abstractImageT700853.png\n",
      "C:\\Users\\Karl\\Desktop\\why didn't you choose me\\abstractImageTweakedpng\\abstractImageT700854.png\n",
      "C:\\Users\\Karl\\Desktop\\why didn't you choose me\\abstractImageTweakedpng\\abstractImageT700855.png\n",
      "C:\\Users\\Karl\\Desktop\\why didn't you choose me\\abstractImageTweakedpng\\abstractImageT700856.png\n",
      "C:\\Users\\Karl\\Desktop\\why didn't you choose me\\abstractImageTweakedpng\\abstractImageT700857.png\n",
      "C:\\Users\\Karl\\Desktop\\why didn't you choose me\\abstractImageTweakedpng\\abstractImageT700858.png\n",
      "C:\\Users\\Karl\\Desktop\\why didn't you choose me\\abstractImageTweakedpng\\abstractImageT700859.png\n",
      "C:\\Users\\Karl\\Desktop\\why didn't you choose me\\abstractImageTweakedpng\\abstractImageT700860.png\n"
     ]
    },
    {
     "name": "stdout",
     "output_type": "stream",
     "text": [
      "C:\\Users\\Karl\\Desktop\\why didn't you choose me\\abstractImageTweakedpng\\abstractImageT700861.png\n",
      "C:\\Users\\Karl\\Desktop\\why didn't you choose me\\abstractImageTweakedpng\\abstractImageT700862.png\n",
      "C:\\Users\\Karl\\Desktop\\why didn't you choose me\\abstractImageTweakedpng\\abstractImageT700863.png\n",
      "C:\\Users\\Karl\\Desktop\\why didn't you choose me\\abstractImageTweakedpng\\abstractImageT700864.png\n",
      "C:\\Users\\Karl\\Desktop\\why didn't you choose me\\abstractImageTweakedpng\\abstractImageT700865.png\n",
      "C:\\Users\\Karl\\Desktop\\why didn't you choose me\\abstractImageTweakedpng\\abstractImageT700866.png\n",
      "C:\\Users\\Karl\\Desktop\\why didn't you choose me\\abstractImageTweakedpng\\abstractImageT700867.png\n",
      "C:\\Users\\Karl\\Desktop\\why didn't you choose me\\abstractImageTweakedpng\\abstractImageT700868.png\n",
      "C:\\Users\\Karl\\Desktop\\why didn't you choose me\\abstractImageTweakedpng\\abstractImageT700869.png\n",
      "C:\\Users\\Karl\\Desktop\\why didn't you choose me\\abstractImageTweakedpng\\abstractImageT700870.png\n",
      "C:\\Users\\Karl\\Desktop\\why didn't you choose me\\abstractImageTweakedpng\\abstractImageT700871.png\n",
      "C:\\Users\\Karl\\Desktop\\why didn't you choose me\\abstractImageTweakedpng\\abstractImageT700872.png\n",
      "C:\\Users\\Karl\\Desktop\\why didn't you choose me\\abstractImageTweakedpng\\abstractImageT700873.png\n",
      "C:\\Users\\Karl\\Desktop\\why didn't you choose me\\abstractImageTweakedpng\\abstractImageT700874.png\n",
      "C:\\Users\\Karl\\Desktop\\why didn't you choose me\\abstractImageTweakedpng\\abstractImageT700875.png\n",
      "C:\\Users\\Karl\\Desktop\\why didn't you choose me\\abstractImageTweakedpng\\abstractImageT700876.png\n",
      "C:\\Users\\Karl\\Desktop\\why didn't you choose me\\abstractImageTweakedpng\\abstractImageT700877.png\n",
      "C:\\Users\\Karl\\Desktop\\why didn't you choose me\\abstractImageTweakedpng\\abstractImageT700878.png\n",
      "C:\\Users\\Karl\\Desktop\\why didn't you choose me\\abstractImageTweakedpng\\abstractImageT700879.png\n",
      "C:\\Users\\Karl\\Desktop\\why didn't you choose me\\abstractImageTweakedpng\\abstractImageT700880.png\n",
      "C:\\Users\\Karl\\Desktop\\why didn't you choose me\\abstractImageTweakedpng\\abstractImageT700881.png\n",
      "C:\\Users\\Karl\\Desktop\\why didn't you choose me\\abstractImageTweakedpng\\abstractImageT700882.png\n",
      "C:\\Users\\Karl\\Desktop\\why didn't you choose me\\abstractImageTweakedpng\\abstractImageT700883.png\n",
      "C:\\Users\\Karl\\Desktop\\why didn't you choose me\\abstractImageTweakedpng\\abstractImageT700884.png\n",
      "C:\\Users\\Karl\\Desktop\\why didn't you choose me\\abstractImageTweakedpng\\abstractImageT700885.png\n",
      "C:\\Users\\Karl\\Desktop\\why didn't you choose me\\abstractImageTweakedpng\\abstractImageT700886.png\n",
      "C:\\Users\\Karl\\Desktop\\why didn't you choose me\\abstractImageTweakedpng\\abstractImageT700887.png\n",
      "C:\\Users\\Karl\\Desktop\\why didn't you choose me\\abstractImageTweakedpng\\abstractImageT700888.png\n",
      "C:\\Users\\Karl\\Desktop\\why didn't you choose me\\abstractImageTweakedpng\\abstractImageT700889.png\n",
      "C:\\Users\\Karl\\Desktop\\why didn't you choose me\\abstractImageTweakedpng\\abstractImageT700890.png\n",
      "C:\\Users\\Karl\\Desktop\\why didn't you choose me\\abstractImageTweakedpng\\abstractImageT700891.png\n",
      "C:\\Users\\Karl\\Desktop\\why didn't you choose me\\abstractImageTweakedpng\\abstractImageT700892.png\n",
      "C:\\Users\\Karl\\Desktop\\why didn't you choose me\\abstractImageTweakedpng\\abstractImageT700893.png\n",
      "C:\\Users\\Karl\\Desktop\\why didn't you choose me\\abstractImageTweakedpng\\abstractImageT700894.png\n",
      "C:\\Users\\Karl\\Desktop\\why didn't you choose me\\abstractImageTweakedpng\\abstractImageT700895.png\n",
      "C:\\Users\\Karl\\Desktop\\why didn't you choose me\\abstractImageTweakedpng\\abstractImageT700896.png\n",
      "C:\\Users\\Karl\\Desktop\\why didn't you choose me\\abstractImageTweakedpng\\abstractImageT700897.png\n",
      "C:\\Users\\Karl\\Desktop\\why didn't you choose me\\abstractImageTweakedpng\\abstractImageT700898.png\n",
      "C:\\Users\\Karl\\Desktop\\why didn't you choose me\\abstractImageTweakedpng\\abstractImageT700899.png\n",
      "C:\\Users\\Karl\\Desktop\\why didn't you choose me\\abstractImageTweakedpng\\abstractImageT700900.png\n",
      "C:\\Users\\Karl\\Desktop\\why didn't you choose me\\abstractImageTweakedpng\\abstractImageT700901.png\n",
      "C:\\Users\\Karl\\Desktop\\why didn't you choose me\\abstractImageTweakedpng\\abstractImageT700902.png\n",
      "C:\\Users\\Karl\\Desktop\\why didn't you choose me\\abstractImageTweakedpng\\abstractImageT700903.png\n",
      "C:\\Users\\Karl\\Desktop\\why didn't you choose me\\abstractImageTweakedpng\\abstractImageT700904.png\n",
      "C:\\Users\\Karl\\Desktop\\why didn't you choose me\\abstractImageTweakedpng\\abstractImageT700905.png\n",
      "C:\\Users\\Karl\\Desktop\\why didn't you choose me\\abstractImageTweakedpng\\abstractImageT700906.png\n",
      "C:\\Users\\Karl\\Desktop\\why didn't you choose me\\abstractImageTweakedpng\\abstractImageT700907.png\n",
      "C:\\Users\\Karl\\Desktop\\why didn't you choose me\\abstractImageTweakedpng\\abstractImageT700908.png\n",
      "C:\\Users\\Karl\\Desktop\\why didn't you choose me\\abstractImageTweakedpng\\abstractImageT700909.png\n",
      "C:\\Users\\Karl\\Desktop\\why didn't you choose me\\abstractImageTweakedpng\\abstractImageT700910.png\n",
      "C:\\Users\\Karl\\Desktop\\why didn't you choose me\\abstractImageTweakedpng\\abstractImageT700911.png\n",
      "C:\\Users\\Karl\\Desktop\\why didn't you choose me\\abstractImageTweakedpng\\abstractImageT700912.png\n",
      "C:\\Users\\Karl\\Desktop\\why didn't you choose me\\abstractImageTweakedpng\\abstractImageT700913.png\n",
      "C:\\Users\\Karl\\Desktop\\why didn't you choose me\\abstractImageTweakedpng\\abstractImageT700914.png\n",
      "C:\\Users\\Karl\\Desktop\\why didn't you choose me\\abstractImageTweakedpng\\abstractImageT700915.png\n",
      "C:\\Users\\Karl\\Desktop\\why didn't you choose me\\abstractImageTweakedpng\\abstractImageT700916.png\n",
      "C:\\Users\\Karl\\Desktop\\why didn't you choose me\\abstractImageTweakedpng\\abstractImageT700917.png\n",
      "C:\\Users\\Karl\\Desktop\\why didn't you choose me\\abstractImageTweakedpng\\abstractImageT700918.png\n",
      "C:\\Users\\Karl\\Desktop\\why didn't you choose me\\abstractImageTweakedpng\\abstractImageT700919.png\n",
      "C:\\Users\\Karl\\Desktop\\why didn't you choose me\\abstractImageTweakedpng\\abstractImageT700920.png\n",
      "C:\\Users\\Karl\\Desktop\\why didn't you choose me\\abstractImageTweakedpng\\abstractImageT700921.png\n",
      "C:\\Users\\Karl\\Desktop\\why didn't you choose me\\abstractImageTweakedpng\\abstractImageT700922.png\n",
      "C:\\Users\\Karl\\Desktop\\why didn't you choose me\\abstractImageTweakedpng\\abstractImageT700923.png\n",
      "C:\\Users\\Karl\\Desktop\\why didn't you choose me\\abstractImageTweakedpng\\abstractImageT700924.png\n",
      "C:\\Users\\Karl\\Desktop\\why didn't you choose me\\abstractImageTweakedpng\\abstractImageT700925.png\n",
      "C:\\Users\\Karl\\Desktop\\why didn't you choose me\\abstractImageTweakedpng\\abstractImageT700926.png\n",
      "C:\\Users\\Karl\\Desktop\\why didn't you choose me\\abstractImageTweakedpng\\abstractImageT700927.png\n",
      "C:\\Users\\Karl\\Desktop\\why didn't you choose me\\abstractImageTweakedpng\\abstractImageT700928.png\n",
      "C:\\Users\\Karl\\Desktop\\why didn't you choose me\\abstractImageTweakedpng\\abstractImageT700929.png\n",
      "C:\\Users\\Karl\\Desktop\\why didn't you choose me\\abstractImageTweakedpng\\abstractImageT700930.png\n",
      "C:\\Users\\Karl\\Desktop\\why didn't you choose me\\abstractImageTweakedpng\\abstractImageT700931.png\n",
      "C:\\Users\\Karl\\Desktop\\why didn't you choose me\\abstractImageTweakedpng\\abstractImageT700932.png\n",
      "C:\\Users\\Karl\\Desktop\\why didn't you choose me\\abstractImageTweakedpng\\abstractImageT700933.png\n",
      "C:\\Users\\Karl\\Desktop\\why didn't you choose me\\abstractImageTweakedpng\\abstractImageT700934.png\n",
      "C:\\Users\\Karl\\Desktop\\why didn't you choose me\\abstractImageTweakedpng\\abstractImageT700935.png\n",
      "C:\\Users\\Karl\\Desktop\\why didn't you choose me\\abstractImageTweakedpng\\abstractImageT700936.png\n",
      "C:\\Users\\Karl\\Desktop\\why didn't you choose me\\abstractImageTweakedpng\\abstractImageT700937.png\n",
      "C:\\Users\\Karl\\Desktop\\why didn't you choose me\\abstractImageTweakedpng\\abstractImageT700938.png\n",
      "C:\\Users\\Karl\\Desktop\\why didn't you choose me\\abstractImageTweakedpng\\abstractImageT700939.png\n",
      "C:\\Users\\Karl\\Desktop\\why didn't you choose me\\abstractImageTweakedpng\\abstractImageT700940.png\n",
      "C:\\Users\\Karl\\Desktop\\why didn't you choose me\\abstractImageTweakedpng\\abstractImageT700941.png\n",
      "C:\\Users\\Karl\\Desktop\\why didn't you choose me\\abstractImageTweakedpng\\abstractImageT700942.png\n",
      "C:\\Users\\Karl\\Desktop\\why didn't you choose me\\abstractImageTweakedpng\\abstractImageT700943.png\n",
      "C:\\Users\\Karl\\Desktop\\why didn't you choose me\\abstractImageTweakedpng\\abstractImageT700944.png\n",
      "C:\\Users\\Karl\\Desktop\\why didn't you choose me\\abstractImageTweakedpng\\abstractImageT700945.png\n",
      "C:\\Users\\Karl\\Desktop\\why didn't you choose me\\abstractImageTweakedpng\\abstractImageT700946.png\n"
     ]
    },
    {
     "name": "stdout",
     "output_type": "stream",
     "text": [
      "C:\\Users\\Karl\\Desktop\\why didn't you choose me\\abstractImageTweakedpng\\abstractImageT700947.png\n",
      "C:\\Users\\Karl\\Desktop\\why didn't you choose me\\abstractImageTweakedpng\\abstractImageT700948.png\n",
      "C:\\Users\\Karl\\Desktop\\why didn't you choose me\\abstractImageTweakedpng\\abstractImageT700949.png\n",
      "C:\\Users\\Karl\\Desktop\\why didn't you choose me\\abstractImageTweakedpng\\abstractImageT700950.png\n",
      "C:\\Users\\Karl\\Desktop\\why didn't you choose me\\abstractImageTweakedpng\\abstractImageT700951.png\n",
      "C:\\Users\\Karl\\Desktop\\why didn't you choose me\\abstractImageTweakedpng\\abstractImageT700952.png\n",
      "C:\\Users\\Karl\\Desktop\\why didn't you choose me\\abstractImageTweakedpng\\abstractImageT700953.png\n",
      "C:\\Users\\Karl\\Desktop\\why didn't you choose me\\abstractImageTweakedpng\\abstractImageT700954.png\n",
      "C:\\Users\\Karl\\Desktop\\why didn't you choose me\\abstractImageTweakedpng\\abstractImageT700955.png\n",
      "C:\\Users\\Karl\\Desktop\\why didn't you choose me\\abstractImageTweakedpng\\abstractImageT700956.png\n",
      "C:\\Users\\Karl\\Desktop\\why didn't you choose me\\abstractImageTweakedpng\\abstractImageT700957.png\n",
      "C:\\Users\\Karl\\Desktop\\why didn't you choose me\\abstractImageTweakedpng\\abstractImageT700958.png\n",
      "C:\\Users\\Karl\\Desktop\\why didn't you choose me\\abstractImageTweakedpng\\abstractImageT700959.png\n",
      "C:\\Users\\Karl\\Desktop\\why didn't you choose me\\abstractImageTweakedpng\\abstractImageT700960.png\n",
      "C:\\Users\\Karl\\Desktop\\why didn't you choose me\\abstractImageTweakedpng\\abstractImageT700961.png\n",
      "C:\\Users\\Karl\\Desktop\\why didn't you choose me\\abstractImageTweakedpng\\abstractImageT700962.png\n",
      "C:\\Users\\Karl\\Desktop\\why didn't you choose me\\abstractImageTweakedpng\\abstractImageT700963.png\n",
      "C:\\Users\\Karl\\Desktop\\why didn't you choose me\\abstractImageTweakedpng\\abstractImageT700964.png\n",
      "C:\\Users\\Karl\\Desktop\\why didn't you choose me\\abstractImageTweakedpng\\abstractImageT700965.png\n",
      "C:\\Users\\Karl\\Desktop\\why didn't you choose me\\abstractImageTweakedpng\\abstractImageT700966.png\n",
      "C:\\Users\\Karl\\Desktop\\why didn't you choose me\\abstractImageTweakedpng\\abstractImageT700967.png\n",
      "C:\\Users\\Karl\\Desktop\\why didn't you choose me\\abstractImageTweakedpng\\abstractImageT700968.png\n",
      "C:\\Users\\Karl\\Desktop\\why didn't you choose me\\abstractImageTweakedpng\\abstractImageT700969.png\n",
      "C:\\Users\\Karl\\Desktop\\why didn't you choose me\\abstractImageTweakedpng\\abstractImageT700970.png\n",
      "C:\\Users\\Karl\\Desktop\\why didn't you choose me\\abstractImageTweakedpng\\abstractImageT700971.png\n",
      "C:\\Users\\Karl\\Desktop\\why didn't you choose me\\abstractImageTweakedpng\\abstractImageT700972.png\n",
      "C:\\Users\\Karl\\Desktop\\why didn't you choose me\\abstractImageTweakedpng\\abstractImageT700973.png\n",
      "C:\\Users\\Karl\\Desktop\\why didn't you choose me\\abstractImageTweakedpng\\abstractImageT700974.png\n",
      "C:\\Users\\Karl\\Desktop\\why didn't you choose me\\abstractImageTweakedpng\\abstractImageT700975.png\n",
      "C:\\Users\\Karl\\Desktop\\why didn't you choose me\\abstractImageTweakedpng\\abstractImageT700976.png\n",
      "C:\\Users\\Karl\\Desktop\\why didn't you choose me\\abstractImageTweakedpng\\abstractImageT700977.png\n",
      "C:\\Users\\Karl\\Desktop\\why didn't you choose me\\abstractImageTweakedpng\\abstractImageT700978.png\n",
      "C:\\Users\\Karl\\Desktop\\why didn't you choose me\\abstractImageTweakedpng\\abstractImageT700979.png\n",
      "C:\\Users\\Karl\\Desktop\\why didn't you choose me\\abstractImageTweakedpng\\abstractImageT700980.png\n",
      "C:\\Users\\Karl\\Desktop\\why didn't you choose me\\abstractImageTweakedpng\\abstractImageT700981.png\n",
      "C:\\Users\\Karl\\Desktop\\why didn't you choose me\\abstractImageTweakedpng\\abstractImageT700982.png\n",
      "C:\\Users\\Karl\\Desktop\\why didn't you choose me\\abstractImageTweakedpng\\abstractImageT700983.png\n",
      "C:\\Users\\Karl\\Desktop\\why didn't you choose me\\abstractImageTweakedpng\\abstractImageT700984.png\n",
      "C:\\Users\\Karl\\Desktop\\why didn't you choose me\\abstractImageTweakedpng\\abstractImageT700985.png\n",
      "C:\\Users\\Karl\\Desktop\\why didn't you choose me\\abstractImageTweakedpng\\abstractImageT700986.png\n",
      "C:\\Users\\Karl\\Desktop\\why didn't you choose me\\abstractImageTweakedpng\\abstractImageT700987.png\n",
      "C:\\Users\\Karl\\Desktop\\why didn't you choose me\\abstractImageTweakedpng\\abstractImageT700988.png\n",
      "C:\\Users\\Karl\\Desktop\\why didn't you choose me\\abstractImageTweakedpng\\abstractImageT700989.png\n",
      "C:\\Users\\Karl\\Desktop\\why didn't you choose me\\abstractImageTweakedpng\\abstractImageT700990.png\n",
      "C:\\Users\\Karl\\Desktop\\why didn't you choose me\\abstractImageTweakedpng\\abstractImageT700991.png\n",
      "C:\\Users\\Karl\\Desktop\\why didn't you choose me\\abstractImageTweakedpng\\abstractImageT700992.png\n",
      "C:\\Users\\Karl\\Desktop\\why didn't you choose me\\abstractImageTweakedpng\\abstractImageT700993.png\n",
      "C:\\Users\\Karl\\Desktop\\why didn't you choose me\\abstractImageTweakedpng\\abstractImageT700994.png\n",
      "C:\\Users\\Karl\\Desktop\\why didn't you choose me\\abstractImageTweakedpng\\abstractImageT700995.png\n",
      "C:\\Users\\Karl\\Desktop\\why didn't you choose me\\abstractImageTweakedpng\\abstractImageT700996.png\n",
      "C:\\Users\\Karl\\Desktop\\why didn't you choose me\\abstractImageTweakedpng\\abstractImageT700997.png\n",
      "C:\\Users\\Karl\\Desktop\\why didn't you choose me\\abstractImageTweakedpng\\abstractImageT700998.png\n",
      "C:\\Users\\Karl\\Desktop\\why didn't you choose me\\abstractImageTweakedpng\\abstractImageT700999.png\n",
      "C:\\Users\\Karl\\Desktop\\why didn't you choose me\\abstractImageTweakedpng\\abstractImageT701000.png\n",
      "C:\\Users\\Karl\\Desktop\\why didn't you choose me\\abstractImageTweakedpng\\abstractImageT701001.png\n",
      "C:\\Users\\Karl\\Desktop\\why didn't you choose me\\abstractImageTweakedpng\\abstractImageT701002.png\n",
      "C:\\Users\\Karl\\Desktop\\why didn't you choose me\\abstractImageTweakedpng\\abstractImageT701003.png\n",
      "C:\\Users\\Karl\\Desktop\\why didn't you choose me\\abstractImageTweakedpng\\abstractImageT701004.png\n",
      "C:\\Users\\Karl\\Desktop\\why didn't you choose me\\abstractImageTweakedpng\\abstractImageT701005.png\n",
      "C:\\Users\\Karl\\Desktop\\why didn't you choose me\\abstractImageTweakedpng\\abstractImageT701006.png\n",
      "C:\\Users\\Karl\\Desktop\\why didn't you choose me\\abstractImageTweakedpng\\abstractImageT701007.png\n",
      "C:\\Users\\Karl\\Desktop\\why didn't you choose me\\abstractImageTweakedpng\\abstractImageT701008.png\n",
      "C:\\Users\\Karl\\Desktop\\why didn't you choose me\\abstractImageTweakedpng\\abstractImageT701009.png\n",
      "C:\\Users\\Karl\\Desktop\\why didn't you choose me\\abstractImageTweakedpng\\abstractImageT701010.png\n",
      "C:\\Users\\Karl\\Desktop\\why didn't you choose me\\abstractImageTweakedpng\\abstractImageT701011.png\n",
      "C:\\Users\\Karl\\Desktop\\why didn't you choose me\\abstractImageTweakedpng\\abstractImageT701012.png\n",
      "C:\\Users\\Karl\\Desktop\\why didn't you choose me\\abstractImageTweakedpng\\abstractImageT701013.png\n",
      "C:\\Users\\Karl\\Desktop\\why didn't you choose me\\abstractImageTweakedpng\\abstractImageT701014.png\n",
      "C:\\Users\\Karl\\Desktop\\why didn't you choose me\\abstractImageTweakedpng\\abstractImageT701015.png\n",
      "C:\\Users\\Karl\\Desktop\\why didn't you choose me\\abstractImageTweakedpng\\abstractImageT701016.png\n",
      "C:\\Users\\Karl\\Desktop\\why didn't you choose me\\abstractImageTweakedpng\\abstractImageT701017.png\n",
      "C:\\Users\\Karl\\Desktop\\why didn't you choose me\\abstractImageTweakedpng\\abstractImageT701018.png\n",
      "C:\\Users\\Karl\\Desktop\\why didn't you choose me\\abstractImageTweakedpng\\abstractImageT701019.png\n",
      "C:\\Users\\Karl\\Desktop\\why didn't you choose me\\abstractImageTweakedpng\\abstractImageT701020.png\n",
      "C:\\Users\\Karl\\Desktop\\why didn't you choose me\\abstractImageTweakedpng\\abstractImageT701021.png\n",
      "C:\\Users\\Karl\\Desktop\\why didn't you choose me\\abstractImageTweakedpng\\abstractImageT701022.png\n",
      "C:\\Users\\Karl\\Desktop\\why didn't you choose me\\abstractImageTweakedpng\\abstractImageT701023.png\n",
      "C:\\Users\\Karl\\Desktop\\why didn't you choose me\\abstractImageTweakedpng\\abstractImageT701024.png\n",
      "C:\\Users\\Karl\\Desktop\\why didn't you choose me\\abstractImageTweakedpng\\abstractImageT701025.png\n",
      "C:\\Users\\Karl\\Desktop\\why didn't you choose me\\abstractImageTweakedpng\\abstractImageT701026.png\n",
      "C:\\Users\\Karl\\Desktop\\why didn't you choose me\\abstractImageTweakedpng\\abstractImageT701027.png\n",
      "C:\\Users\\Karl\\Desktop\\why didn't you choose me\\abstractImageTweakedpng\\abstractImageT701028.png\n",
      "C:\\Users\\Karl\\Desktop\\why didn't you choose me\\abstractImageTweakedpng\\abstractImageT701029.png\n",
      "C:\\Users\\Karl\\Desktop\\why didn't you choose me\\abstractImageTweakedpng\\abstractImageT701030.png\n",
      "C:\\Users\\Karl\\Desktop\\why didn't you choose me\\abstractImageTweakedpng\\abstractImageT701031.png\n",
      "C:\\Users\\Karl\\Desktop\\why didn't you choose me\\abstractImageTweakedpng\\abstractImageT701032.png\n"
     ]
    },
    {
     "name": "stdout",
     "output_type": "stream",
     "text": [
      "C:\\Users\\Karl\\Desktop\\why didn't you choose me\\abstractImageTweakedpng\\abstractImageT701033.png\n",
      "C:\\Users\\Karl\\Desktop\\why didn't you choose me\\abstractImageTweakedpng\\abstractImageT701034.png\n",
      "C:\\Users\\Karl\\Desktop\\why didn't you choose me\\abstractImageTweakedpng\\abstractImageT701035.png\n",
      "C:\\Users\\Karl\\Desktop\\why didn't you choose me\\abstractImageTweakedpng\\abstractImageT701036.png\n",
      "C:\\Users\\Karl\\Desktop\\why didn't you choose me\\abstractImageTweakedpng\\abstractImageT701037.png\n",
      "C:\\Users\\Karl\\Desktop\\why didn't you choose me\\abstractImageTweakedpng\\abstractImageT701038.png\n",
      "C:\\Users\\Karl\\Desktop\\why didn't you choose me\\abstractImageTweakedpng\\abstractImageT701039.png\n",
      "C:\\Users\\Karl\\Desktop\\why didn't you choose me\\abstractImageTweakedpng\\abstractImageT701040.png\n",
      "C:\\Users\\Karl\\Desktop\\why didn't you choose me\\abstractImageTweakedpng\\abstractImageT701041.png\n",
      "C:\\Users\\Karl\\Desktop\\why didn't you choose me\\abstractImageTweakedpng\\abstractImageT701042.png\n",
      "C:\\Users\\Karl\\Desktop\\why didn't you choose me\\abstractImageTweakedpng\\abstractImageT701043.png\n",
      "C:\\Users\\Karl\\Desktop\\why didn't you choose me\\abstractImageTweakedpng\\abstractImageT701044.png\n",
      "C:\\Users\\Karl\\Desktop\\why didn't you choose me\\abstractImageTweakedpng\\abstractImageT701045.png\n",
      "C:\\Users\\Karl\\Desktop\\why didn't you choose me\\abstractImageTweakedpng\\abstractImageT701046.png\n",
      "C:\\Users\\Karl\\Desktop\\why didn't you choose me\\abstractImageTweakedpng\\abstractImageT701047.png\n",
      "C:\\Users\\Karl\\Desktop\\why didn't you choose me\\abstractImageTweakedpng\\abstractImageT701048.png\n",
      "C:\\Users\\Karl\\Desktop\\why didn't you choose me\\abstractImageTweakedpng\\abstractImageT701049.png\n",
      "C:\\Users\\Karl\\Desktop\\why didn't you choose me\\abstractImageTweakedpng\\abstractImageT701050.png\n",
      "C:\\Users\\Karl\\Desktop\\why didn't you choose me\\abstractImageTweakedpng\\abstractImageT701051.png\n",
      "C:\\Users\\Karl\\Desktop\\why didn't you choose me\\abstractImageTweakedpng\\abstractImageT701052.png\n",
      "C:\\Users\\Karl\\Desktop\\why didn't you choose me\\abstractImageTweakedpng\\abstractImageT701053.png\n",
      "C:\\Users\\Karl\\Desktop\\why didn't you choose me\\abstractImageTweakedpng\\abstractImageT701054.png\n",
      "C:\\Users\\Karl\\Desktop\\why didn't you choose me\\abstractImageTweakedpng\\abstractImageT701055.png\n",
      "C:\\Users\\Karl\\Desktop\\why didn't you choose me\\abstractImageTweakedpng\\abstractImageT701056.png\n",
      "C:\\Users\\Karl\\Desktop\\why didn't you choose me\\abstractImageTweakedpng\\abstractImageT701057.png\n",
      "C:\\Users\\Karl\\Desktop\\why didn't you choose me\\abstractImageTweakedpng\\abstractImageT701058.png\n",
      "C:\\Users\\Karl\\Desktop\\why didn't you choose me\\abstractImageTweakedpng\\abstractImageT701059.png\n",
      "C:\\Users\\Karl\\Desktop\\why didn't you choose me\\abstractImageTweakedpng\\abstractImageT701060.png\n",
      "C:\\Users\\Karl\\Desktop\\why didn't you choose me\\abstractImageTweakedpng\\abstractImageT701061.png\n",
      "C:\\Users\\Karl\\Desktop\\why didn't you choose me\\abstractImageTweakedpng\\abstractImageT701062.png\n",
      "C:\\Users\\Karl\\Desktop\\why didn't you choose me\\abstractImageTweakedpng\\abstractImageT701063.png\n",
      "C:\\Users\\Karl\\Desktop\\why didn't you choose me\\abstractImageTweakedpng\\abstractImageT701064.png\n",
      "C:\\Users\\Karl\\Desktop\\why didn't you choose me\\abstractImageTweakedpng\\abstractImageT701065.png\n",
      "C:\\Users\\Karl\\Desktop\\why didn't you choose me\\abstractImageTweakedpng\\abstractImageT701066.png\n",
      "C:\\Users\\Karl\\Desktop\\why didn't you choose me\\abstractImageTweakedpng\\abstractImageT701067.png\n",
      "C:\\Users\\Karl\\Desktop\\why didn't you choose me\\abstractImageTweakedpng\\abstractImageT701068.png\n",
      "C:\\Users\\Karl\\Desktop\\why didn't you choose me\\abstractImageTweakedpng\\abstractImageT701069.png\n",
      "C:\\Users\\Karl\\Desktop\\why didn't you choose me\\abstractImageTweakedpng\\abstractImageT701070.png\n",
      "C:\\Users\\Karl\\Desktop\\why didn't you choose me\\abstractImageTweakedpng\\abstractImageT701071.png\n",
      "C:\\Users\\Karl\\Desktop\\why didn't you choose me\\abstractImageTweakedpng\\abstractImageT701072.png\n",
      "C:\\Users\\Karl\\Desktop\\why didn't you choose me\\abstractImageTweakedpng\\abstractImageT701073.png\n",
      "C:\\Users\\Karl\\Desktop\\why didn't you choose me\\abstractImageTweakedpng\\abstractImageT701074.png\n",
      "C:\\Users\\Karl\\Desktop\\why didn't you choose me\\abstractImageTweakedpng\\abstractImageT701075.png\n",
      "C:\\Users\\Karl\\Desktop\\why didn't you choose me\\abstractImageTweakedpng\\abstractImageT701076.png\n",
      "C:\\Users\\Karl\\Desktop\\why didn't you choose me\\abstractImageTweakedpng\\abstractImageT701077.png\n",
      "C:\\Users\\Karl\\Desktop\\why didn't you choose me\\abstractImageTweakedpng\\abstractImageT701078.png\n",
      "C:\\Users\\Karl\\Desktop\\why didn't you choose me\\abstractImageTweakedpng\\abstractImageT701079.png\n",
      "C:\\Users\\Karl\\Desktop\\why didn't you choose me\\abstractImageTweakedpng\\abstractImageT701080.png\n",
      "C:\\Users\\Karl\\Desktop\\why didn't you choose me\\abstractImageTweakedpng\\abstractImageT701081.png\n",
      "C:\\Users\\Karl\\Desktop\\why didn't you choose me\\abstractImageTweakedpng\\abstractImageT701082.png\n",
      "C:\\Users\\Karl\\Desktop\\why didn't you choose me\\abstractImageTweakedpng\\abstractImageT701083.png\n",
      "C:\\Users\\Karl\\Desktop\\why didn't you choose me\\abstractImageTweakedpng\\abstractImageT701084.png\n",
      "C:\\Users\\Karl\\Desktop\\why didn't you choose me\\abstractImageTweakedpng\\abstractImageT701085.png\n",
      "C:\\Users\\Karl\\Desktop\\why didn't you choose me\\abstractImageTweakedpng\\abstractImageT701086.png\n",
      "C:\\Users\\Karl\\Desktop\\why didn't you choose me\\abstractImageTweakedpng\\abstractImageT701087.png\n",
      "C:\\Users\\Karl\\Desktop\\why didn't you choose me\\abstractImageTweakedpng\\abstractImageT701088.png\n",
      "C:\\Users\\Karl\\Desktop\\why didn't you choose me\\abstractImageTweakedpng\\abstractImageT701089.png\n",
      "C:\\Users\\Karl\\Desktop\\why didn't you choose me\\abstractImageTweakedpng\\abstractImageT701090.png\n",
      "C:\\Users\\Karl\\Desktop\\why didn't you choose me\\abstractImageTweakedpng\\abstractImageT701091.png\n",
      "C:\\Users\\Karl\\Desktop\\why didn't you choose me\\abstractImageTweakedpng\\abstractImageT701092.png\n",
      "C:\\Users\\Karl\\Desktop\\why didn't you choose me\\abstractImageTweakedpng\\abstractImageT701093.png\n",
      "C:\\Users\\Karl\\Desktop\\why didn't you choose me\\abstractImageTweakedpng\\abstractImageT701094.png\n",
      "C:\\Users\\Karl\\Desktop\\why didn't you choose me\\abstractImageTweakedpng\\abstractImageT701095.png\n",
      "C:\\Users\\Karl\\Desktop\\why didn't you choose me\\abstractImageTweakedpng\\abstractImageT701096.png\n",
      "C:\\Users\\Karl\\Desktop\\why didn't you choose me\\abstractImageTweakedpng\\abstractImageT701097.png\n",
      "C:\\Users\\Karl\\Desktop\\why didn't you choose me\\abstractImageTweakedpng\\abstractImageT701098.png\n",
      "C:\\Users\\Karl\\Desktop\\why didn't you choose me\\abstractImageTweakedpng\\abstractImageT701099.png\n",
      "C:\\Users\\Karl\\Desktop\\why didn't you choose me\\abstractImageTweakedpng\\abstractImageT701100.png\n",
      "C:\\Users\\Karl\\Desktop\\why didn't you choose me\\abstractImageTweakedpng\\abstractImageT701101.png\n",
      "C:\\Users\\Karl\\Desktop\\why didn't you choose me\\abstractImageTweakedpng\\abstractImageT701102.png\n",
      "C:\\Users\\Karl\\Desktop\\why didn't you choose me\\abstractImageTweakedpng\\abstractImageT701103.png\n",
      "C:\\Users\\Karl\\Desktop\\why didn't you choose me\\abstractImageTweakedpng\\abstractImageT701104.png\n",
      "C:\\Users\\Karl\\Desktop\\why didn't you choose me\\abstractImageTweakedpng\\abstractImageT701105.png\n",
      "C:\\Users\\Karl\\Desktop\\why didn't you choose me\\abstractImageTweakedpng\\abstractImageT701106.png\n",
      "C:\\Users\\Karl\\Desktop\\why didn't you choose me\\abstractImageTweakedpng\\abstractImageT701107.png\n",
      "C:\\Users\\Karl\\Desktop\\why didn't you choose me\\abstractImageTweakedpng\\abstractImageT701108.png\n",
      "C:\\Users\\Karl\\Desktop\\why didn't you choose me\\abstractImageTweakedpng\\abstractImageT701109.png\n",
      "C:\\Users\\Karl\\Desktop\\why didn't you choose me\\abstractImageTweakedpng\\abstractImageT701110.png\n",
      "C:\\Users\\Karl\\Desktop\\why didn't you choose me\\abstractImageTweakedpng\\abstractImageT701111.png\n",
      "C:\\Users\\Karl\\Desktop\\why didn't you choose me\\abstractImageTweakedpng\\abstractImageT701112.png\n",
      "C:\\Users\\Karl\\Desktop\\why didn't you choose me\\abstractImageTweakedpng\\abstractImageT701113.png\n",
      "C:\\Users\\Karl\\Desktop\\why didn't you choose me\\abstractImageTweakedpng\\abstractImageT701114.png\n",
      "C:\\Users\\Karl\\Desktop\\why didn't you choose me\\abstractImageTweakedpng\\abstractImageT701115.png\n",
      "C:\\Users\\Karl\\Desktop\\why didn't you choose me\\abstractImageTweakedpng\\abstractImageT701116.png\n",
      "C:\\Users\\Karl\\Desktop\\why didn't you choose me\\abstractImageTweakedpng\\abstractImageT701117.png\n",
      "C:\\Users\\Karl\\Desktop\\why didn't you choose me\\abstractImageTweakedpng\\abstractImageT701118.png\n"
     ]
    },
    {
     "name": "stdout",
     "output_type": "stream",
     "text": [
      "C:\\Users\\Karl\\Desktop\\why didn't you choose me\\abstractImageTweakedpng\\abstractImageT701119.png\n",
      "C:\\Users\\Karl\\Desktop\\why didn't you choose me\\abstractImageTweakedpng\\abstractImageT701120.png\n",
      "C:\\Users\\Karl\\Desktop\\why didn't you choose me\\abstractImageTweakedpng\\abstractImageT701121.png\n",
      "C:\\Users\\Karl\\Desktop\\why didn't you choose me\\abstractImageTweakedpng\\abstractImageT701122.png\n",
      "C:\\Users\\Karl\\Desktop\\why didn't you choose me\\abstractImageTweakedpng\\abstractImageT701123.png\n",
      "C:\\Users\\Karl\\Desktop\\why didn't you choose me\\abstractImageTweakedpng\\abstractImageT701124.png\n",
      "C:\\Users\\Karl\\Desktop\\why didn't you choose me\\abstractImageTweakedpng\\abstractImageT701125.png\n",
      "C:\\Users\\Karl\\Desktop\\why didn't you choose me\\abstractImageTweakedpng\\abstractImageT701126.png\n",
      "C:\\Users\\Karl\\Desktop\\why didn't you choose me\\abstractImageTweakedpng\\abstractImageT701127.png\n",
      "C:\\Users\\Karl\\Desktop\\why didn't you choose me\\abstractImageTweakedpng\\abstractImageT701128.png\n",
      "C:\\Users\\Karl\\Desktop\\why didn't you choose me\\abstractImageTweakedpng\\abstractImageT701129.png\n",
      "C:\\Users\\Karl\\Desktop\\why didn't you choose me\\abstractImageTweakedpng\\abstractImageT701130.png\n",
      "C:\\Users\\Karl\\Desktop\\why didn't you choose me\\abstractImageTweakedpng\\abstractImageT701131.png\n",
      "C:\\Users\\Karl\\Desktop\\why didn't you choose me\\abstractImageTweakedpng\\abstractImageT701132.png\n",
      "C:\\Users\\Karl\\Desktop\\why didn't you choose me\\abstractImageTweakedpng\\abstractImageT701133.png\n",
      "C:\\Users\\Karl\\Desktop\\why didn't you choose me\\abstractImageTweakedpng\\abstractImageT701134.png\n",
      "C:\\Users\\Karl\\Desktop\\why didn't you choose me\\abstractImageTweakedpng\\abstractImageT701135.png\n",
      "C:\\Users\\Karl\\Desktop\\why didn't you choose me\\abstractImageTweakedpng\\abstractImageT701136.png\n",
      "C:\\Users\\Karl\\Desktop\\why didn't you choose me\\abstractImageTweakedpng\\abstractImageT701137.png\n",
      "C:\\Users\\Karl\\Desktop\\why didn't you choose me\\abstractImageTweakedpng\\abstractImageT701138.png\n",
      "C:\\Users\\Karl\\Desktop\\why didn't you choose me\\abstractImageTweakedpng\\abstractImageT701139.png\n",
      "C:\\Users\\Karl\\Desktop\\why didn't you choose me\\abstractImageTweakedpng\\abstractImageT701140.png\n",
      "C:\\Users\\Karl\\Desktop\\why didn't you choose me\\abstractImageTweakedpng\\abstractImageT701141.png\n",
      "C:\\Users\\Karl\\Desktop\\why didn't you choose me\\abstractImageTweakedpng\\abstractImageT701142.png\n",
      "C:\\Users\\Karl\\Desktop\\why didn't you choose me\\abstractImageTweakedpng\\abstractImageT701143.png\n",
      "C:\\Users\\Karl\\Desktop\\why didn't you choose me\\abstractImageTweakedpng\\abstractImageT701144.png\n",
      "C:\\Users\\Karl\\Desktop\\why didn't you choose me\\abstractImageTweakedpng\\abstractImageT701145.png\n",
      "C:\\Users\\Karl\\Desktop\\why didn't you choose me\\abstractImageTweakedpng\\abstractImageT701146.png\n",
      "C:\\Users\\Karl\\Desktop\\why didn't you choose me\\abstractImageTweakedpng\\abstractImageT701147.png\n",
      "C:\\Users\\Karl\\Desktop\\why didn't you choose me\\abstractImageTweakedpng\\abstractImageT701148.png\n",
      "C:\\Users\\Karl\\Desktop\\why didn't you choose me\\abstractImageTweakedpng\\abstractImageT701149.png\n",
      "C:\\Users\\Karl\\Desktop\\why didn't you choose me\\abstractImageTweakedpng\\abstractImageT701150.png\n",
      "C:\\Users\\Karl\\Desktop\\why didn't you choose me\\abstractImageTweakedpng\\abstractImageT701151.png\n",
      "C:\\Users\\Karl\\Desktop\\why didn't you choose me\\abstractImageTweakedpng\\abstractImageT701152.png\n",
      "C:\\Users\\Karl\\Desktop\\why didn't you choose me\\abstractImageTweakedpng\\abstractImageT701153.png\n",
      "C:\\Users\\Karl\\Desktop\\why didn't you choose me\\abstractImageTweakedpng\\abstractImageT701154.png\n",
      "C:\\Users\\Karl\\Desktop\\why didn't you choose me\\abstractImageTweakedpng\\abstractImageT701155.png\n",
      "C:\\Users\\Karl\\Desktop\\why didn't you choose me\\abstractImageTweakedpng\\abstractImageT701156.png\n",
      "C:\\Users\\Karl\\Desktop\\why didn't you choose me\\abstractImageTweakedpng\\abstractImageT701157.png\n",
      "C:\\Users\\Karl\\Desktop\\why didn't you choose me\\abstractImageTweakedpng\\abstractImageT701158.png\n",
      "C:\\Users\\Karl\\Desktop\\why didn't you choose me\\abstractImageTweakedpng\\abstractImageT701159.png\n",
      "C:\\Users\\Karl\\Desktop\\why didn't you choose me\\abstractImageTweakedpng\\abstractImageT701160.png\n",
      "C:\\Users\\Karl\\Desktop\\why didn't you choose me\\abstractImageTweakedpng\\abstractImageT701161.png\n",
      "C:\\Users\\Karl\\Desktop\\why didn't you choose me\\abstractImageTweakedpng\\abstractImageT701162.png\n",
      "C:\\Users\\Karl\\Desktop\\why didn't you choose me\\abstractImageTweakedpng\\abstractImageT701163.png\n",
      "C:\\Users\\Karl\\Desktop\\why didn't you choose me\\abstractImageTweakedpng\\abstractImageT701164.png\n",
      "C:\\Users\\Karl\\Desktop\\why didn't you choose me\\abstractImageTweakedpng\\abstractImageT701165.png\n",
      "C:\\Users\\Karl\\Desktop\\why didn't you choose me\\abstractImageTweakedpng\\abstractImageT701166.png\n",
      "C:\\Users\\Karl\\Desktop\\why didn't you choose me\\abstractImageTweakedpng\\abstractImageT701167.png\n",
      "C:\\Users\\Karl\\Desktop\\why didn't you choose me\\abstractImageTweakedpng\\abstractImageT701168.png\n",
      "C:\\Users\\Karl\\Desktop\\why didn't you choose me\\abstractImageTweakedpng\\abstractImageT701169.png\n",
      "C:\\Users\\Karl\\Desktop\\why didn't you choose me\\abstractImageTweakedpng\\abstractImageT701170.png\n",
      "C:\\Users\\Karl\\Desktop\\why didn't you choose me\\abstractImageTweakedpng\\abstractImageT701171.png\n",
      "C:\\Users\\Karl\\Desktop\\why didn't you choose me\\abstractImageTweakedpng\\abstractImageT701172.png\n",
      "C:\\Users\\Karl\\Desktop\\why didn't you choose me\\abstractImageTweakedpng\\abstractImageT701173.png\n",
      "C:\\Users\\Karl\\Desktop\\why didn't you choose me\\abstractImageTweakedpng\\abstractImageT701174.png\n",
      "C:\\Users\\Karl\\Desktop\\why didn't you choose me\\abstractImageTweakedpng\\abstractImageT701175.png\n",
      "C:\\Users\\Karl\\Desktop\\why didn't you choose me\\abstractImageTweakedpng\\abstractImageT701176.png\n",
      "C:\\Users\\Karl\\Desktop\\why didn't you choose me\\abstractImageTweakedpng\\abstractImageT701177.png\n",
      "C:\\Users\\Karl\\Desktop\\why didn't you choose me\\abstractImageTweakedpng\\abstractImageT701178.png\n",
      "C:\\Users\\Karl\\Desktop\\why didn't you choose me\\abstractImageTweakedpng\\abstractImageT701179.png\n",
      "C:\\Users\\Karl\\Desktop\\why didn't you choose me\\abstractImageTweakedpng\\abstractImageT701180.png\n",
      "C:\\Users\\Karl\\Desktop\\why didn't you choose me\\abstractImageTweakedpng\\abstractImageT701181.png\n",
      "C:\\Users\\Karl\\Desktop\\why didn't you choose me\\abstractImageTweakedpng\\abstractImageT701182.png\n",
      "C:\\Users\\Karl\\Desktop\\why didn't you choose me\\abstractImageTweakedpng\\abstractImageT701183.png\n",
      "C:\\Users\\Karl\\Desktop\\why didn't you choose me\\abstractImageTweakedpng\\abstractImageT701184.png\n",
      "C:\\Users\\Karl\\Desktop\\why didn't you choose me\\abstractImageTweakedpng\\abstractImageT701185.png\n",
      "C:\\Users\\Karl\\Desktop\\why didn't you choose me\\abstractImageTweakedpng\\abstractImageT701186.png\n",
      "C:\\Users\\Karl\\Desktop\\why didn't you choose me\\abstractImageTweakedpng\\abstractImageT701187.png\n",
      "C:\\Users\\Karl\\Desktop\\why didn't you choose me\\abstractImageTweakedpng\\abstractImageT701188.png\n",
      "C:\\Users\\Karl\\Desktop\\why didn't you choose me\\abstractImageTweakedpng\\abstractImageT701189.png\n",
      "C:\\Users\\Karl\\Desktop\\why didn't you choose me\\abstractImageTweakedpng\\abstractImageT701190.png\n",
      "C:\\Users\\Karl\\Desktop\\why didn't you choose me\\abstractImageTweakedpng\\abstractImageT701191.png\n",
      "C:\\Users\\Karl\\Desktop\\why didn't you choose me\\abstractImageTweakedpng\\abstractImageT701192.png\n",
      "C:\\Users\\Karl\\Desktop\\why didn't you choose me\\abstractImageTweakedpng\\abstractImageT701193.png\n",
      "C:\\Users\\Karl\\Desktop\\why didn't you choose me\\abstractImageTweakedpng\\abstractImageT701194.png\n",
      "C:\\Users\\Karl\\Desktop\\why didn't you choose me\\abstractImageTweakedpng\\abstractImageT701195.png\n",
      "C:\\Users\\Karl\\Desktop\\why didn't you choose me\\abstractImageTweakedpng\\abstractImageT701196.png\n",
      "C:\\Users\\Karl\\Desktop\\why didn't you choose me\\abstractImageTweakedpng\\abstractImageT701197.png\n",
      "C:\\Users\\Karl\\Desktop\\why didn't you choose me\\abstractImageTweakedpng\\abstractImageT701198.png\n",
      "C:\\Users\\Karl\\Desktop\\why didn't you choose me\\abstractImageTweakedpng\\abstractImageT701199.png\n",
      "C:\\Users\\Karl\\Desktop\\why didn't you choose me\\abstractImageTweakedpng\\abstractImageT701200.png\n",
      "C:\\Users\\Karl\\Desktop\\why didn't you choose me\\abstractImageTweakedpng\\abstractImageT701201.png\n",
      "C:\\Users\\Karl\\Desktop\\why didn't you choose me\\abstractImageTweakedpng\\abstractImageT701202.png\n",
      "C:\\Users\\Karl\\Desktop\\why didn't you choose me\\abstractImageTweakedpng\\abstractImageT701203.png\n",
      "C:\\Users\\Karl\\Desktop\\why didn't you choose me\\abstractImageTweakedpng\\abstractImageT701204.png\n"
     ]
    },
    {
     "name": "stdout",
     "output_type": "stream",
     "text": [
      "C:\\Users\\Karl\\Desktop\\why didn't you choose me\\abstractImageTweakedpng\\abstractImageT701205.png\n",
      "C:\\Users\\Karl\\Desktop\\why didn't you choose me\\abstractImageTweakedpng\\abstractImageT701206.png\n",
      "C:\\Users\\Karl\\Desktop\\why didn't you choose me\\abstractImageTweakedpng\\abstractImageT701207.png\n",
      "C:\\Users\\Karl\\Desktop\\why didn't you choose me\\abstractImageTweakedpng\\abstractImageT701208.png\n",
      "C:\\Users\\Karl\\Desktop\\why didn't you choose me\\abstractImageTweakedpng\\abstractImageT701209.png\n",
      "C:\\Users\\Karl\\Desktop\\why didn't you choose me\\abstractImageTweakedpng\\abstractImageT701210.png\n",
      "C:\\Users\\Karl\\Desktop\\why didn't you choose me\\abstractImageTweakedpng\\abstractImageT701211.png\n",
      "C:\\Users\\Karl\\Desktop\\why didn't you choose me\\abstractImageTweakedpng\\abstractImageT701212.png\n",
      "C:\\Users\\Karl\\Desktop\\why didn't you choose me\\abstractImageTweakedpng\\abstractImageT701213.png\n",
      "C:\\Users\\Karl\\Desktop\\why didn't you choose me\\abstractImageTweakedpng\\abstractImageT701214.png\n",
      "C:\\Users\\Karl\\Desktop\\why didn't you choose me\\abstractImageTweakedpng\\abstractImageT701215.png\n",
      "C:\\Users\\Karl\\Desktop\\why didn't you choose me\\abstractImageTweakedpng\\abstractImageT701216.png\n",
      "C:\\Users\\Karl\\Desktop\\why didn't you choose me\\abstractImageTweakedpng\\abstractImageT701217.png\n",
      "C:\\Users\\Karl\\Desktop\\why didn't you choose me\\abstractImageTweakedpng\\abstractImageT701218.png\n",
      "C:\\Users\\Karl\\Desktop\\why didn't you choose me\\abstractImageTweakedpng\\abstractImageT701219.png\n",
      "C:\\Users\\Karl\\Desktop\\why didn't you choose me\\abstractImageTweakedpng\\abstractImageT701220.png\n",
      "C:\\Users\\Karl\\Desktop\\why didn't you choose me\\abstractImageTweakedpng\\abstractImageT701221.png\n",
      "C:\\Users\\Karl\\Desktop\\why didn't you choose me\\abstractImageTweakedpng\\abstractImageT701222.png\n",
      "C:\\Users\\Karl\\Desktop\\why didn't you choose me\\abstractImageTweakedpng\\abstractImageT701223.png\n",
      "C:\\Users\\Karl\\Desktop\\why didn't you choose me\\abstractImageTweakedpng\\abstractImageT701224.png\n",
      "C:\\Users\\Karl\\Desktop\\why didn't you choose me\\abstractImageTweakedpng\\abstractImageT701225.png\n",
      "C:\\Users\\Karl\\Desktop\\why didn't you choose me\\abstractImageTweakedpng\\abstractImageT701226.png\n",
      "C:\\Users\\Karl\\Desktop\\why didn't you choose me\\abstractImageTweakedpng\\abstractImageT701227.png\n",
      "C:\\Users\\Karl\\Desktop\\why didn't you choose me\\abstractImageTweakedpng\\abstractImageT701228.png\n",
      "C:\\Users\\Karl\\Desktop\\why didn't you choose me\\abstractImageTweakedpng\\abstractImageT701229.png\n",
      "C:\\Users\\Karl\\Desktop\\why didn't you choose me\\abstractImageTweakedpng\\abstractImageT701230.png\n",
      "C:\\Users\\Karl\\Desktop\\why didn't you choose me\\abstractImageTweakedpng\\abstractImageT701231.png\n",
      "C:\\Users\\Karl\\Desktop\\why didn't you choose me\\abstractImageTweakedpng\\abstractImageT701232.png\n",
      "C:\\Users\\Karl\\Desktop\\why didn't you choose me\\abstractImageTweakedpng\\abstractImageT701233.png\n",
      "C:\\Users\\Karl\\Desktop\\why didn't you choose me\\abstractImageTweakedpng\\abstractImageT701234.png\n",
      "C:\\Users\\Karl\\Desktop\\why didn't you choose me\\abstractImageTweakedpng\\abstractImageT701235.png\n",
      "C:\\Users\\Karl\\Desktop\\why didn't you choose me\\abstractImageTweakedpng\\abstractImageT701236.png\n",
      "C:\\Users\\Karl\\Desktop\\why didn't you choose me\\abstractImageTweakedpng\\abstractImageT701237.png\n",
      "C:\\Users\\Karl\\Desktop\\why didn't you choose me\\abstractImageTweakedpng\\abstractImageT701238.png\n",
      "C:\\Users\\Karl\\Desktop\\why didn't you choose me\\abstractImageTweakedpng\\abstractImageT701239.png\n",
      "C:\\Users\\Karl\\Desktop\\why didn't you choose me\\abstractImageTweakedpng\\abstractImageT701240.png\n",
      "C:\\Users\\Karl\\Desktop\\why didn't you choose me\\abstractImageTweakedpng\\abstractImageT701241.png\n",
      "C:\\Users\\Karl\\Desktop\\why didn't you choose me\\abstractImageTweakedpng\\abstractImageT701242.png\n",
      "C:\\Users\\Karl\\Desktop\\why didn't you choose me\\abstractImageTweakedpng\\abstractImageT701243.png\n",
      "C:\\Users\\Karl\\Desktop\\why didn't you choose me\\abstractImageTweakedpng\\abstractImageT701244.png\n",
      "C:\\Users\\Karl\\Desktop\\why didn't you choose me\\abstractImageTweakedpng\\abstractImageT701245.png\n",
      "C:\\Users\\Karl\\Desktop\\why didn't you choose me\\abstractImageTweakedpng\\abstractImageT701246.png\n",
      "C:\\Users\\Karl\\Desktop\\why didn't you choose me\\abstractImageTweakedpng\\abstractImageT701247.png\n",
      "C:\\Users\\Karl\\Desktop\\why didn't you choose me\\abstractImageTweakedpng\\abstractImageT701248.png\n",
      "C:\\Users\\Karl\\Desktop\\why didn't you choose me\\abstractImageTweakedpng\\abstractImageT701249.png\n",
      "C:\\Users\\Karl\\Desktop\\why didn't you choose me\\abstractImageTweakedpng\\abstractImageT701250.png\n",
      "C:\\Users\\Karl\\Desktop\\why didn't you choose me\\abstractImageTweakedpng\\abstractImageT701251.png\n",
      "C:\\Users\\Karl\\Desktop\\why didn't you choose me\\abstractImageTweakedpng\\abstractImageT701252.png\n",
      "C:\\Users\\Karl\\Desktop\\why didn't you choose me\\abstractImageTweakedpng\\abstractImageT701253.png\n",
      "C:\\Users\\Karl\\Desktop\\why didn't you choose me\\abstractImageTweakedpng\\abstractImageT701254.png\n",
      "C:\\Users\\Karl\\Desktop\\why didn't you choose me\\abstractImageTweakedpng\\abstractImageT701255.png\n",
      "C:\\Users\\Karl\\Desktop\\why didn't you choose me\\abstractImageTweakedpng\\abstractImageT701256.png\n",
      "C:\\Users\\Karl\\Desktop\\why didn't you choose me\\abstractImageTweakedpng\\abstractImageT701257.png\n",
      "C:\\Users\\Karl\\Desktop\\why didn't you choose me\\abstractImageTweakedpng\\abstractImageT701258.png\n",
      "C:\\Users\\Karl\\Desktop\\why didn't you choose me\\abstractImageTweakedpng\\abstractImageT701259.png\n",
      "C:\\Users\\Karl\\Desktop\\why didn't you choose me\\abstractImageTweakedpng\\abstractImageT701260.png\n",
      "C:\\Users\\Karl\\Desktop\\why didn't you choose me\\abstractImageTweakedpng\\abstractImageT701261.png\n",
      "C:\\Users\\Karl\\Desktop\\why didn't you choose me\\abstractImageTweakedpng\\abstractImageT701262.png\n",
      "C:\\Users\\Karl\\Desktop\\why didn't you choose me\\abstractImageTweakedpng\\abstractImageT701263.png\n",
      "C:\\Users\\Karl\\Desktop\\why didn't you choose me\\abstractImageTweakedpng\\abstractImageT701264.png\n",
      "C:\\Users\\Karl\\Desktop\\why didn't you choose me\\abstractImageTweakedpng\\abstractImageT701265.png\n",
      "C:\\Users\\Karl\\Desktop\\why didn't you choose me\\abstractImageTweakedpng\\abstractImageT701266.png\n",
      "C:\\Users\\Karl\\Desktop\\why didn't you choose me\\abstractImageTweakedpng\\abstractImageT701267.png\n",
      "C:\\Users\\Karl\\Desktop\\why didn't you choose me\\abstractImageTweakedpng\\abstractImageT701268.png\n",
      "C:\\Users\\Karl\\Desktop\\why didn't you choose me\\abstractImageTweakedpng\\abstractImageT701269.png\n",
      "C:\\Users\\Karl\\Desktop\\why didn't you choose me\\abstractImageTweakedpng\\abstractImageT701270.png\n",
      "C:\\Users\\Karl\\Desktop\\why didn't you choose me\\abstractImageTweakedpng\\abstractImageT701271.png\n",
      "C:\\Users\\Karl\\Desktop\\why didn't you choose me\\abstractImageTweakedpng\\abstractImageT701272.png\n",
      "C:\\Users\\Karl\\Desktop\\why didn't you choose me\\abstractImageTweakedpng\\abstractImageT701273.png\n",
      "C:\\Users\\Karl\\Desktop\\why didn't you choose me\\abstractImageTweakedpng\\abstractImageT701274.png\n",
      "C:\\Users\\Karl\\Desktop\\why didn't you choose me\\abstractImageTweakedpng\\abstractImageT701275.png\n",
      "C:\\Users\\Karl\\Desktop\\why didn't you choose me\\abstractImageTweakedpng\\abstractImageT701276.png\n",
      "C:\\Users\\Karl\\Desktop\\why didn't you choose me\\abstractImageTweakedpng\\abstractImageT701277.png\n",
      "C:\\Users\\Karl\\Desktop\\why didn't you choose me\\abstractImageTweakedpng\\abstractImageT701278.png\n",
      "C:\\Users\\Karl\\Desktop\\why didn't you choose me\\abstractImageTweakedpng\\abstractImageT701279.png\n",
      "C:\\Users\\Karl\\Desktop\\why didn't you choose me\\abstractImageTweakedpng\\abstractImageT701280.png\n",
      "C:\\Users\\Karl\\Desktop\\why didn't you choose me\\abstractImageTweakedpng\\abstractImageT701281.png\n",
      "C:\\Users\\Karl\\Desktop\\why didn't you choose me\\abstractImageTweakedpng\\abstractImageT701282.png\n",
      "C:\\Users\\Karl\\Desktop\\why didn't you choose me\\abstractImageTweakedpng\\abstractImageT701283.png\n",
      "C:\\Users\\Karl\\Desktop\\why didn't you choose me\\abstractImageTweakedpng\\abstractImageT701284.png\n",
      "C:\\Users\\Karl\\Desktop\\why didn't you choose me\\abstractImageTweakedpng\\abstractImageT701285.png\n",
      "C:\\Users\\Karl\\Desktop\\why didn't you choose me\\abstractImageTweakedpng\\abstractImageT701286.png\n",
      "C:\\Users\\Karl\\Desktop\\why didn't you choose me\\abstractImageTweakedpng\\abstractImageT701287.png\n",
      "C:\\Users\\Karl\\Desktop\\why didn't you choose me\\abstractImageTweakedpng\\abstractImageT701288.png\n",
      "C:\\Users\\Karl\\Desktop\\why didn't you choose me\\abstractImageTweakedpng\\abstractImageT701289.png\n",
      "C:\\Users\\Karl\\Desktop\\why didn't you choose me\\abstractImageTweakedpng\\abstractImageT701290.png\n"
     ]
    },
    {
     "name": "stdout",
     "output_type": "stream",
     "text": [
      "C:\\Users\\Karl\\Desktop\\why didn't you choose me\\abstractImageTweakedpng\\abstractImageT701291.png\n",
      "C:\\Users\\Karl\\Desktop\\why didn't you choose me\\abstractImageTweakedpng\\abstractImageT701292.png\n",
      "C:\\Users\\Karl\\Desktop\\why didn't you choose me\\abstractImageTweakedpng\\abstractImageT701293.png\n",
      "C:\\Users\\Karl\\Desktop\\why didn't you choose me\\abstractImageTweakedpng\\abstractImageT701294.png\n",
      "C:\\Users\\Karl\\Desktop\\why didn't you choose me\\abstractImageTweakedpng\\abstractImageT701295.png\n",
      "C:\\Users\\Karl\\Desktop\\why didn't you choose me\\abstractImageTweakedpng\\abstractImageT701296.png\n",
      "C:\\Users\\Karl\\Desktop\\why didn't you choose me\\abstractImageTweakedpng\\abstractImageT701297.png\n",
      "C:\\Users\\Karl\\Desktop\\why didn't you choose me\\abstractImageTweakedpng\\abstractImageT701298.png\n",
      "C:\\Users\\Karl\\Desktop\\why didn't you choose me\\abstractImageTweakedpng\\abstractImageT701299.png\n",
      "C:\\Users\\Karl\\Desktop\\why didn't you choose me\\abstractImageTweakedpng\\abstractImageT701300.png\n",
      "C:\\Users\\Karl\\Desktop\\why didn't you choose me\\abstractImageTweakedpng\\abstractImageT701301.png\n",
      "C:\\Users\\Karl\\Desktop\\why didn't you choose me\\abstractImageTweakedpng\\abstractImageT701302.png\n",
      "C:\\Users\\Karl\\Desktop\\why didn't you choose me\\abstractImageTweakedpng\\abstractImageT701303.png\n",
      "C:\\Users\\Karl\\Desktop\\why didn't you choose me\\abstractImageTweakedpng\\abstractImageT701304.png\n",
      "C:\\Users\\Karl\\Desktop\\why didn't you choose me\\abstractImageTweakedpng\\abstractImageT701305.png\n",
      "C:\\Users\\Karl\\Desktop\\why didn't you choose me\\abstractImageTweakedpng\\abstractImageT701306.png\n",
      "C:\\Users\\Karl\\Desktop\\why didn't you choose me\\abstractImageTweakedpng\\abstractImageT701307.png\n",
      "C:\\Users\\Karl\\Desktop\\why didn't you choose me\\abstractImageTweakedpng\\abstractImageT701308.png\n",
      "C:\\Users\\Karl\\Desktop\\why didn't you choose me\\abstractImageTweakedpng\\abstractImageT701309.png\n",
      "C:\\Users\\Karl\\Desktop\\why didn't you choose me\\abstractImageTweakedpng\\abstractImageT701310.png\n",
      "C:\\Users\\Karl\\Desktop\\why didn't you choose me\\abstractImageTweakedpng\\abstractImageT701311.png\n",
      "C:\\Users\\Karl\\Desktop\\why didn't you choose me\\abstractImageTweakedpng\\abstractImageT701312.png\n",
      "C:\\Users\\Karl\\Desktop\\why didn't you choose me\\abstractImageTweakedpng\\abstractImageT701313.png\n",
      "C:\\Users\\Karl\\Desktop\\why didn't you choose me\\abstractImageTweakedpng\\abstractImageT701314.png\n",
      "C:\\Users\\Karl\\Desktop\\why didn't you choose me\\abstractImageTweakedpng\\abstractImageT701315.png\n",
      "C:\\Users\\Karl\\Desktop\\why didn't you choose me\\abstractImageTweakedpng\\abstractImageT701316.png\n",
      "C:\\Users\\Karl\\Desktop\\why didn't you choose me\\abstractImageTweakedpng\\abstractImageT701317.png\n",
      "C:\\Users\\Karl\\Desktop\\why didn't you choose me\\abstractImageTweakedpng\\abstractImageT701318.png\n",
      "C:\\Users\\Karl\\Desktop\\why didn't you choose me\\abstractImageTweakedpng\\abstractImageT701319.png\n",
      "C:\\Users\\Karl\\Desktop\\why didn't you choose me\\abstractImageTweakedpng\\abstractImageT701320.png\n",
      "C:\\Users\\Karl\\Desktop\\why didn't you choose me\\abstractImageTweakedpng\\abstractImageT701321.png\n",
      "C:\\Users\\Karl\\Desktop\\why didn't you choose me\\abstractImageTweakedpng\\abstractImageT701322.png\n",
      "C:\\Users\\Karl\\Desktop\\why didn't you choose me\\abstractImageTweakedpng\\abstractImageT701323.png\n",
      "C:\\Users\\Karl\\Desktop\\why didn't you choose me\\abstractImageTweakedpng\\abstractImageT701324.png\n",
      "C:\\Users\\Karl\\Desktop\\why didn't you choose me\\abstractImageTweakedpng\\abstractImageT701325.png\n",
      "C:\\Users\\Karl\\Desktop\\why didn't you choose me\\abstractImageTweakedpng\\abstractImageT701326.png\n",
      "C:\\Users\\Karl\\Desktop\\why didn't you choose me\\abstractImageTweakedpng\\abstractImageT701327.png\n",
      "C:\\Users\\Karl\\Desktop\\why didn't you choose me\\abstractImageTweakedpng\\abstractImageT701328.png\n",
      "C:\\Users\\Karl\\Desktop\\why didn't you choose me\\abstractImageTweakedpng\\abstractImageT701329.png\n",
      "C:\\Users\\Karl\\Desktop\\why didn't you choose me\\abstractImageTweakedpng\\abstractImageT701330.png\n",
      "C:\\Users\\Karl\\Desktop\\why didn't you choose me\\abstractImageTweakedpng\\abstractImageT701331.png\n",
      "C:\\Users\\Karl\\Desktop\\why didn't you choose me\\abstractImageTweakedpng\\abstractImageT701332.png\n",
      "C:\\Users\\Karl\\Desktop\\why didn't you choose me\\abstractImageTweakedpng\\abstractImageT701333.png\n",
      "C:\\Users\\Karl\\Desktop\\why didn't you choose me\\abstractImageTweakedpng\\abstractImageT701334.png\n",
      "C:\\Users\\Karl\\Desktop\\why didn't you choose me\\abstractImageTweakedpng\\abstractImageT701335.png\n",
      "C:\\Users\\Karl\\Desktop\\why didn't you choose me\\abstractImageTweakedpng\\abstractImageT701336.png\n",
      "C:\\Users\\Karl\\Desktop\\why didn't you choose me\\abstractImageTweakedpng\\abstractImageT701337.png\n",
      "C:\\Users\\Karl\\Desktop\\why didn't you choose me\\abstractImageTweakedpng\\abstractImageT701338.png\n",
      "C:\\Users\\Karl\\Desktop\\why didn't you choose me\\abstractImageTweakedpng\\abstractImageT701339.png\n",
      "C:\\Users\\Karl\\Desktop\\why didn't you choose me\\abstractImageTweakedpng\\abstractImageT701340.png\n",
      "C:\\Users\\Karl\\Desktop\\why didn't you choose me\\abstractImageTweakedpng\\abstractImageT701341.png\n",
      "C:\\Users\\Karl\\Desktop\\why didn't you choose me\\abstractImageTweakedpng\\abstractImageT701342.png\n",
      "C:\\Users\\Karl\\Desktop\\why didn't you choose me\\abstractImageTweakedpng\\abstractImageT701343.png\n",
      "C:\\Users\\Karl\\Desktop\\why didn't you choose me\\abstractImageTweakedpng\\abstractImageT701344.png\n",
      "C:\\Users\\Karl\\Desktop\\why didn't you choose me\\abstractImageTweakedpng\\abstractImageT701345.png\n",
      "C:\\Users\\Karl\\Desktop\\why didn't you choose me\\abstractImageTweakedpng\\abstractImageT701346.png\n",
      "C:\\Users\\Karl\\Desktop\\why didn't you choose me\\abstractImageTweakedpng\\abstractImageT701347.png\n",
      "C:\\Users\\Karl\\Desktop\\why didn't you choose me\\abstractImageTweakedpng\\abstractImageT701348.png\n",
      "C:\\Users\\Karl\\Desktop\\why didn't you choose me\\abstractImageTweakedpng\\abstractImageT701349.png\n",
      "C:\\Users\\Karl\\Desktop\\why didn't you choose me\\abstractImageTweakedpng\\abstractImageT701350.png\n",
      "C:\\Users\\Karl\\Desktop\\why didn't you choose me\\abstractImageTweakedpng\\abstractImageT701351.png\n",
      "C:\\Users\\Karl\\Desktop\\why didn't you choose me\\abstractImageTweakedpng\\abstractImageT701352.png\n",
      "C:\\Users\\Karl\\Desktop\\why didn't you choose me\\abstractImageTweakedpng\\abstractImageT701353.png\n",
      "C:\\Users\\Karl\\Desktop\\why didn't you choose me\\abstractImageTweakedpng\\abstractImageT701354.png\n",
      "C:\\Users\\Karl\\Desktop\\why didn't you choose me\\abstractImageTweakedpng\\abstractImageT701355.png\n",
      "C:\\Users\\Karl\\Desktop\\why didn't you choose me\\abstractImageTweakedpng\\abstractImageT701356.png\n",
      "C:\\Users\\Karl\\Desktop\\why didn't you choose me\\abstractImageTweakedpng\\abstractImageT701357.png\n",
      "C:\\Users\\Karl\\Desktop\\why didn't you choose me\\abstractImageTweakedpng\\abstractImageT701358.png\n",
      "C:\\Users\\Karl\\Desktop\\why didn't you choose me\\abstractImageTweakedpng\\abstractImageT701359.png\n",
      "C:\\Users\\Karl\\Desktop\\why didn't you choose me\\abstractImageTweakedpng\\abstractImageT701360.png\n",
      "C:\\Users\\Karl\\Desktop\\why didn't you choose me\\abstractImageTweakedpng\\abstractImageT701361.png\n",
      "C:\\Users\\Karl\\Desktop\\why didn't you choose me\\abstractImageTweakedpng\\abstractImageT701362.png\n",
      "C:\\Users\\Karl\\Desktop\\why didn't you choose me\\abstractImageTweakedpng\\abstractImageT701363.png\n",
      "C:\\Users\\Karl\\Desktop\\why didn't you choose me\\abstractImageTweakedpng\\abstractImageT701364.png\n",
      "C:\\Users\\Karl\\Desktop\\why didn't you choose me\\abstractImageTweakedpng\\abstractImageT701365.png\n",
      "C:\\Users\\Karl\\Desktop\\why didn't you choose me\\abstractImageTweakedpng\\abstractImageT701366.png\n",
      "C:\\Users\\Karl\\Desktop\\why didn't you choose me\\abstractImageTweakedpng\\abstractImageT701367.png\n",
      "C:\\Users\\Karl\\Desktop\\why didn't you choose me\\abstractImageTweakedpng\\abstractImageT701368.png\n",
      "C:\\Users\\Karl\\Desktop\\why didn't you choose me\\abstractImageTweakedpng\\abstractImageT701369.png\n",
      "C:\\Users\\Karl\\Desktop\\why didn't you choose me\\abstractImageTweakedpng\\abstractImageT701370.png\n",
      "C:\\Users\\Karl\\Desktop\\why didn't you choose me\\abstractImageTweakedpng\\abstractImageT701371.png\n",
      "C:\\Users\\Karl\\Desktop\\why didn't you choose me\\abstractImageTweakedpng\\abstractImageT701372.png\n",
      "C:\\Users\\Karl\\Desktop\\why didn't you choose me\\abstractImageTweakedpng\\abstractImageT701373.png\n",
      "C:\\Users\\Karl\\Desktop\\why didn't you choose me\\abstractImageTweakedpng\\abstractImageT701374.png\n",
      "C:\\Users\\Karl\\Desktop\\why didn't you choose me\\abstractImageTweakedpng\\abstractImageT701375.png\n",
      "C:\\Users\\Karl\\Desktop\\why didn't you choose me\\abstractImageTweakedpng\\abstractImageT701376.png\n"
     ]
    },
    {
     "name": "stdout",
     "output_type": "stream",
     "text": [
      "C:\\Users\\Karl\\Desktop\\why didn't you choose me\\abstractImageTweakedpng\\abstractImageT701377.png\n",
      "C:\\Users\\Karl\\Desktop\\why didn't you choose me\\abstractImageTweakedpng\\abstractImageT701378.png\n",
      "C:\\Users\\Karl\\Desktop\\why didn't you choose me\\abstractImageTweakedpng\\abstractImageT701379.png\n",
      "C:\\Users\\Karl\\Desktop\\why didn't you choose me\\abstractImageTweakedpng\\abstractImageT701380.png\n",
      "C:\\Users\\Karl\\Desktop\\why didn't you choose me\\abstractImageTweakedpng\\abstractImageT701381.png\n",
      "C:\\Users\\Karl\\Desktop\\why didn't you choose me\\abstractImageTweakedpng\\abstractImageT701382.png\n",
      "C:\\Users\\Karl\\Desktop\\why didn't you choose me\\abstractImageTweakedpng\\abstractImageT701383.png\n",
      "C:\\Users\\Karl\\Desktop\\why didn't you choose me\\abstractImageTweakedpng\\abstractImageT701384.png\n",
      "C:\\Users\\Karl\\Desktop\\why didn't you choose me\\abstractImageTweakedpng\\abstractImageT701385.png\n",
      "C:\\Users\\Karl\\Desktop\\why didn't you choose me\\abstractImageTweakedpng\\abstractImageT701386.png\n",
      "C:\\Users\\Karl\\Desktop\\why didn't you choose me\\abstractImageTweakedpng\\abstractImageT701387.png\n",
      "C:\\Users\\Karl\\Desktop\\why didn't you choose me\\abstractImageTweakedpng\\abstractImageT701388.png\n",
      "C:\\Users\\Karl\\Desktop\\why didn't you choose me\\abstractImageTweakedpng\\abstractImageT701389.png\n",
      "C:\\Users\\Karl\\Desktop\\why didn't you choose me\\abstractImageTweakedpng\\abstractImageT701390.png\n",
      "C:\\Users\\Karl\\Desktop\\why didn't you choose me\\abstractImageTweakedpng\\abstractImageT701391.png\n",
      "C:\\Users\\Karl\\Desktop\\why didn't you choose me\\abstractImageTweakedpng\\abstractImageT701392.png\n",
      "C:\\Users\\Karl\\Desktop\\why didn't you choose me\\abstractImageTweakedpng\\abstractImageT701393.png\n",
      "C:\\Users\\Karl\\Desktop\\why didn't you choose me\\abstractImageTweakedpng\\abstractImageT701394.png\n",
      "C:\\Users\\Karl\\Desktop\\why didn't you choose me\\abstractImageTweakedpng\\abstractImageT701395.png\n",
      "C:\\Users\\Karl\\Desktop\\why didn't you choose me\\abstractImageTweakedpng\\abstractImageT701396.png\n",
      "C:\\Users\\Karl\\Desktop\\why didn't you choose me\\abstractImageTweakedpng\\abstractImageT701397.png\n",
      "C:\\Users\\Karl\\Desktop\\why didn't you choose me\\abstractImageTweakedpng\\abstractImageT701398.png\n",
      "C:\\Users\\Karl\\Desktop\\why didn't you choose me\\abstractImageTweakedpng\\abstractImageT701399.png\n",
      "C:\\Users\\Karl\\Desktop\\why didn't you choose me\\abstractImageTweakedpng\\abstractImageT701400.png\n",
      "C:\\Users\\Karl\\Desktop\\why didn't you choose me\\abstractImageTweakedpng\\abstractImageT701401.png\n",
      "C:\\Users\\Karl\\Desktop\\why didn't you choose me\\abstractImageTweakedpng\\abstractImageT701402.png\n",
      "C:\\Users\\Karl\\Desktop\\why didn't you choose me\\abstractImageTweakedpng\\abstractImageT701403.png\n",
      "C:\\Users\\Karl\\Desktop\\why didn't you choose me\\abstractImageTweakedpng\\abstractImageT701404.png\n",
      "C:\\Users\\Karl\\Desktop\\why didn't you choose me\\abstractImageTweakedpng\\abstractImageT701405.png\n",
      "C:\\Users\\Karl\\Desktop\\why didn't you choose me\\abstractImageTweakedpng\\abstractImageT701406.png\n",
      "C:\\Users\\Karl\\Desktop\\why didn't you choose me\\abstractImageTweakedpng\\abstractImageT701407.png\n",
      "C:\\Users\\Karl\\Desktop\\why didn't you choose me\\abstractImageTweakedpng\\abstractImageT701408.png\n",
      "C:\\Users\\Karl\\Desktop\\why didn't you choose me\\abstractImageTweakedpng\\abstractImageT701409.png\n",
      "C:\\Users\\Karl\\Desktop\\why didn't you choose me\\abstractImageTweakedpng\\abstractImageT701410.png\n",
      "C:\\Users\\Karl\\Desktop\\why didn't you choose me\\abstractImageTweakedpng\\abstractImageT701411.png\n",
      "C:\\Users\\Karl\\Desktop\\why didn't you choose me\\abstractImageTweakedpng\\abstractImageT701412.png\n",
      "C:\\Users\\Karl\\Desktop\\why didn't you choose me\\abstractImageTweakedpng\\abstractImageT701413.png\n",
      "C:\\Users\\Karl\\Desktop\\why didn't you choose me\\abstractImageTweakedpng\\abstractImageT701414.png\n",
      "C:\\Users\\Karl\\Desktop\\why didn't you choose me\\abstractImageTweakedpng\\abstractImageT701415.png\n",
      "C:\\Users\\Karl\\Desktop\\why didn't you choose me\\abstractImageTweakedpng\\abstractImageT701416.png\n",
      "C:\\Users\\Karl\\Desktop\\why didn't you choose me\\abstractImageTweakedpng\\abstractImageT701417.png\n",
      "C:\\Users\\Karl\\Desktop\\why didn't you choose me\\abstractImageTweakedpng\\abstractImageT701418.png\n",
      "C:\\Users\\Karl\\Desktop\\why didn't you choose me\\abstractImageTweakedpng\\abstractImageT701419.png\n",
      "C:\\Users\\Karl\\Desktop\\why didn't you choose me\\abstractImageTweakedpng\\abstractImageT701420.png\n",
      "C:\\Users\\Karl\\Desktop\\why didn't you choose me\\abstractImageTweakedpng\\abstractImageT701421.png\n",
      "C:\\Users\\Karl\\Desktop\\why didn't you choose me\\abstractImageTweakedpng\\abstractImageT701422.png\n",
      "C:\\Users\\Karl\\Desktop\\why didn't you choose me\\abstractImageTweakedpng\\abstractImageT701423.png\n",
      "C:\\Users\\Karl\\Desktop\\why didn't you choose me\\abstractImageTweakedpng\\abstractImageT701424.png\n",
      "C:\\Users\\Karl\\Desktop\\why didn't you choose me\\abstractImageTweakedpng\\abstractImageT701425.png\n",
      "C:\\Users\\Karl\\Desktop\\why didn't you choose me\\abstractImageTweakedpng\\abstractImageT701426.png\n",
      "C:\\Users\\Karl\\Desktop\\why didn't you choose me\\abstractImageTweakedpng\\abstractImageT701427.png\n",
      "C:\\Users\\Karl\\Desktop\\why didn't you choose me\\abstractImageTweakedpng\\abstractImageT701428.png\n",
      "C:\\Users\\Karl\\Desktop\\why didn't you choose me\\abstractImageTweakedpng\\abstractImageT701429.png\n",
      "C:\\Users\\Karl\\Desktop\\why didn't you choose me\\abstractImageTweakedpng\\abstractImageT701430.png\n",
      "C:\\Users\\Karl\\Desktop\\why didn't you choose me\\abstractImageTweakedpng\\abstractImageT701431.png\n",
      "C:\\Users\\Karl\\Desktop\\why didn't you choose me\\abstractImageTweakedpng\\abstractImageT701432.png\n",
      "C:\\Users\\Karl\\Desktop\\why didn't you choose me\\abstractImageTweakedpng\\abstractImageT701433.png\n",
      "C:\\Users\\Karl\\Desktop\\why didn't you choose me\\abstractImageTweakedpng\\abstractImageT701434.png\n",
      "C:\\Users\\Karl\\Desktop\\why didn't you choose me\\abstractImageTweakedpng\\abstractImageT701435.png\n",
      "C:\\Users\\Karl\\Desktop\\why didn't you choose me\\abstractImageTweakedpng\\abstractImageT701436.png\n",
      "C:\\Users\\Karl\\Desktop\\why didn't you choose me\\abstractImageTweakedpng\\abstractImageT701437.png\n",
      "C:\\Users\\Karl\\Desktop\\why didn't you choose me\\abstractImageTweakedpng\\abstractImageT701438.png\n",
      "C:\\Users\\Karl\\Desktop\\why didn't you choose me\\abstractImageTweakedpng\\abstractImageT701439.png\n",
      "C:\\Users\\Karl\\Desktop\\why didn't you choose me\\abstractImageTweakedpng\\abstractImageT701440.png\n",
      "C:\\Users\\Karl\\Desktop\\why didn't you choose me\\abstractImageTweakedpng\\abstractImageT701441.png\n",
      "C:\\Users\\Karl\\Desktop\\why didn't you choose me\\abstractImageTweakedpng\\abstractImageT701442.png\n",
      "C:\\Users\\Karl\\Desktop\\why didn't you choose me\\abstractImageTweakedpng\\abstractImageT701443.png\n",
      "C:\\Users\\Karl\\Desktop\\why didn't you choose me\\abstractImageTweakedpng\\abstractImageT701444.png\n",
      "C:\\Users\\Karl\\Desktop\\why didn't you choose me\\abstractImageTweakedpng\\abstractImageT701445.png\n",
      "C:\\Users\\Karl\\Desktop\\why didn't you choose me\\abstractImageTweakedpng\\abstractImageT701446.png\n",
      "C:\\Users\\Karl\\Desktop\\why didn't you choose me\\abstractImageTweakedpng\\abstractImageT701447.png\n",
      "C:\\Users\\Karl\\Desktop\\why didn't you choose me\\abstractImageTweakedpng\\abstractImageT701448.png\n",
      "C:\\Users\\Karl\\Desktop\\why didn't you choose me\\abstractImageTweakedpng\\abstractImageT701449.png\n",
      "C:\\Users\\Karl\\Desktop\\why didn't you choose me\\abstractImageTweakedpng\\abstractImageT701450.png\n",
      "C:\\Users\\Karl\\Desktop\\why didn't you choose me\\abstractImageTweakedpng\\abstractImageT701451.png\n",
      "C:\\Users\\Karl\\Desktop\\why didn't you choose me\\abstractImageTweakedpng\\abstractImageT701452.png\n",
      "C:\\Users\\Karl\\Desktop\\why didn't you choose me\\abstractImageTweakedpng\\abstractImageT701453.png\n",
      "C:\\Users\\Karl\\Desktop\\why didn't you choose me\\abstractImageTweakedpng\\abstractImageT701454.png\n",
      "C:\\Users\\Karl\\Desktop\\why didn't you choose me\\abstractImageTweakedpng\\abstractImageT701455.png\n",
      "C:\\Users\\Karl\\Desktop\\why didn't you choose me\\abstractImageTweakedpng\\abstractImageT701456.png\n",
      "C:\\Users\\Karl\\Desktop\\why didn't you choose me\\abstractImageTweakedpng\\abstractImageT701457.png\n",
      "C:\\Users\\Karl\\Desktop\\why didn't you choose me\\abstractImageTweakedpng\\abstractImageT701458.png\n",
      "C:\\Users\\Karl\\Desktop\\why didn't you choose me\\abstractImageTweakedpng\\abstractImageT701459.png\n",
      "C:\\Users\\Karl\\Desktop\\why didn't you choose me\\abstractImageTweakedpng\\abstractImageT701460.png\n",
      "C:\\Users\\Karl\\Desktop\\why didn't you choose me\\abstractImageTweakedpng\\abstractImageT701461.png\n",
      "C:\\Users\\Karl\\Desktop\\why didn't you choose me\\abstractImageTweakedpng\\abstractImageT701462.png\n"
     ]
    },
    {
     "name": "stdout",
     "output_type": "stream",
     "text": [
      "C:\\Users\\Karl\\Desktop\\why didn't you choose me\\abstractImageTweakedpng\\abstractImageT701463.png\n",
      "C:\\Users\\Karl\\Desktop\\why didn't you choose me\\abstractImageTweakedpng\\abstractImageT701464.png\n",
      "C:\\Users\\Karl\\Desktop\\why didn't you choose me\\abstractImageTweakedpng\\abstractImageT701465.png\n",
      "C:\\Users\\Karl\\Desktop\\why didn't you choose me\\abstractImageTweakedpng\\abstractImageT701466.png\n",
      "C:\\Users\\Karl\\Desktop\\why didn't you choose me\\abstractImageTweakedpng\\abstractImageT701467.png\n",
      "C:\\Users\\Karl\\Desktop\\why didn't you choose me\\abstractImageTweakedpng\\abstractImageT701468.png\n",
      "C:\\Users\\Karl\\Desktop\\why didn't you choose me\\abstractImageTweakedpng\\abstractImageT701469.png\n",
      "C:\\Users\\Karl\\Desktop\\why didn't you choose me\\abstractImageTweakedpng\\abstractImageT701470.png\n",
      "C:\\Users\\Karl\\Desktop\\why didn't you choose me\\abstractImageTweakedpng\\abstractImageT701471.png\n",
      "C:\\Users\\Karl\\Desktop\\why didn't you choose me\\abstractImageTweakedpng\\abstractImageT701472.png\n",
      "C:\\Users\\Karl\\Desktop\\why didn't you choose me\\abstractImageTweakedpng\\abstractImageT701473.png\n",
      "C:\\Users\\Karl\\Desktop\\why didn't you choose me\\abstractImageTweakedpng\\abstractImageT701474.png\n",
      "C:\\Users\\Karl\\Desktop\\why didn't you choose me\\abstractImageTweakedpng\\abstractImageT701475.png\n",
      "C:\\Users\\Karl\\Desktop\\why didn't you choose me\\abstractImageTweakedpng\\abstractImageT701476.png\n",
      "C:\\Users\\Karl\\Desktop\\why didn't you choose me\\abstractImageTweakedpng\\abstractImageT701477.png\n",
      "C:\\Users\\Karl\\Desktop\\why didn't you choose me\\abstractImageTweakedpng\\abstractImageT701478.png\n",
      "C:\\Users\\Karl\\Desktop\\why didn't you choose me\\abstractImageTweakedpng\\abstractImageT701479.png\n",
      "C:\\Users\\Karl\\Desktop\\why didn't you choose me\\abstractImageTweakedpng\\abstractImageT701480.png\n",
      "C:\\Users\\Karl\\Desktop\\why didn't you choose me\\abstractImageTweakedpng\\abstractImageT701481.png\n",
      "C:\\Users\\Karl\\Desktop\\why didn't you choose me\\abstractImageTweakedpng\\abstractImageT701482.png\n",
      "C:\\Users\\Karl\\Desktop\\why didn't you choose me\\abstractImageTweakedpng\\abstractImageT701483.png\n",
      "C:\\Users\\Karl\\Desktop\\why didn't you choose me\\abstractImageTweakedpng\\abstractImageT701484.png\n",
      "C:\\Users\\Karl\\Desktop\\why didn't you choose me\\abstractImageTweakedpng\\abstractImageT701485.png\n",
      "C:\\Users\\Karl\\Desktop\\why didn't you choose me\\abstractImageTweakedpng\\abstractImageT701486.png\n",
      "C:\\Users\\Karl\\Desktop\\why didn't you choose me\\abstractImageTweakedpng\\abstractImageT701487.png\n",
      "C:\\Users\\Karl\\Desktop\\why didn't you choose me\\abstractImageTweakedpng\\abstractImageT701488.png\n",
      "C:\\Users\\Karl\\Desktop\\why didn't you choose me\\abstractImageTweakedpng\\abstractImageT701489.png\n",
      "C:\\Users\\Karl\\Desktop\\why didn't you choose me\\abstractImageTweakedpng\\abstractImageT701490.png\n",
      "C:\\Users\\Karl\\Desktop\\why didn't you choose me\\abstractImageTweakedpng\\abstractImageT701491.png\n",
      "C:\\Users\\Karl\\Desktop\\why didn't you choose me\\abstractImageTweakedpng\\abstractImageT701492.png\n",
      "C:\\Users\\Karl\\Desktop\\why didn't you choose me\\abstractImageTweakedpng\\abstractImageT701493.png\n",
      "C:\\Users\\Karl\\Desktop\\why didn't you choose me\\abstractImageTweakedpng\\abstractImageT701494.png\n",
      "C:\\Users\\Karl\\Desktop\\why didn't you choose me\\abstractImageTweakedpng\\abstractImageT701495.png\n",
      "C:\\Users\\Karl\\Desktop\\why didn't you choose me\\abstractImageTweakedpng\\abstractImageT701496.png\n",
      "C:\\Users\\Karl\\Desktop\\why didn't you choose me\\abstractImageTweakedpng\\abstractImageT701497.png\n",
      "C:\\Users\\Karl\\Desktop\\why didn't you choose me\\abstractImageTweakedpng\\abstractImageT701498.png\n",
      "C:\\Users\\Karl\\Desktop\\why didn't you choose me\\abstractImageTweakedpng\\abstractImageT701499.png\n",
      "C:\\Users\\Karl\\Desktop\\why didn't you choose me\\abstractImageTweakedpng\\abstractImageT701500.png\n",
      "C:\\Users\\Karl\\Desktop\\why didn't you choose me\\abstractImageTweakedpng\\abstractImageT701501.png\n",
      "C:\\Users\\Karl\\Desktop\\why didn't you choose me\\abstractImageTweakedpng\\abstractImageT701502.png\n",
      "C:\\Users\\Karl\\Desktop\\why didn't you choose me\\abstractImageTweakedpng\\abstractImageT701503.png\n",
      "C:\\Users\\Karl\\Desktop\\why didn't you choose me\\abstractImageTweakedpng\\abstractImageT701504.png\n",
      "C:\\Users\\Karl\\Desktop\\why didn't you choose me\\abstractImageTweakedpng\\abstractImageT701505.png\n",
      "C:\\Users\\Karl\\Desktop\\why didn't you choose me\\abstractImageTweakedpng\\abstractImageT701506.png\n",
      "C:\\Users\\Karl\\Desktop\\why didn't you choose me\\abstractImageTweakedpng\\abstractImageT701507.png\n",
      "C:\\Users\\Karl\\Desktop\\why didn't you choose me\\abstractImageTweakedpng\\abstractImageT701508.png\n",
      "C:\\Users\\Karl\\Desktop\\why didn't you choose me\\abstractImageTweakedpng\\abstractImageT701509.png\n",
      "C:\\Users\\Karl\\Desktop\\why didn't you choose me\\abstractImageTweakedpng\\abstractImageT701510.png\n",
      "C:\\Users\\Karl\\Desktop\\why didn't you choose me\\abstractImageTweakedpng\\abstractImageT701511.png\n",
      "C:\\Users\\Karl\\Desktop\\why didn't you choose me\\abstractImageTweakedpng\\abstractImageT701512.png\n",
      "C:\\Users\\Karl\\Desktop\\why didn't you choose me\\abstractImageTweakedpng\\abstractImageT701513.png\n",
      "C:\\Users\\Karl\\Desktop\\why didn't you choose me\\abstractImageTweakedpng\\abstractImageT701514.png\n",
      "C:\\Users\\Karl\\Desktop\\why didn't you choose me\\abstractImageTweakedpng\\abstractImageT701515.png\n",
      "C:\\Users\\Karl\\Desktop\\why didn't you choose me\\abstractImageTweakedpng\\abstractImageT701516.png\n",
      "C:\\Users\\Karl\\Desktop\\why didn't you choose me\\abstractImageTweakedpng\\abstractImageT701517.png\n",
      "C:\\Users\\Karl\\Desktop\\why didn't you choose me\\abstractImageTweakedpng\\abstractImageT701518.png\n",
      "C:\\Users\\Karl\\Desktop\\why didn't you choose me\\abstractImageTweakedpng\\abstractImageT701519.png\n",
      "C:\\Users\\Karl\\Desktop\\why didn't you choose me\\abstractImageTweakedpng\\abstractImageT701520.png\n",
      "C:\\Users\\Karl\\Desktop\\why didn't you choose me\\abstractImageTweakedpng\\abstractImageT701521.png\n",
      "C:\\Users\\Karl\\Desktop\\why didn't you choose me\\abstractImageTweakedpng\\abstractImageT701522.png\n",
      "C:\\Users\\Karl\\Desktop\\why didn't you choose me\\abstractImageTweakedpng\\abstractImageT701523.png\n",
      "C:\\Users\\Karl\\Desktop\\why didn't you choose me\\abstractImageTweakedpng\\abstractImageT701524.png\n",
      "C:\\Users\\Karl\\Desktop\\why didn't you choose me\\abstractImageTweakedpng\\abstractImageT701525.png\n",
      "C:\\Users\\Karl\\Desktop\\why didn't you choose me\\abstractImageTweakedpng\\abstractImageT701526.png\n",
      "C:\\Users\\Karl\\Desktop\\why didn't you choose me\\abstractImageTweakedpng\\abstractImageT701527.png\n",
      "C:\\Users\\Karl\\Desktop\\why didn't you choose me\\abstractImageTweakedpng\\abstractImageT701528.png\n",
      "C:\\Users\\Karl\\Desktop\\why didn't you choose me\\abstractImageTweakedpng\\abstractImageT701529.png\n",
      "C:\\Users\\Karl\\Desktop\\why didn't you choose me\\abstractImageTweakedpng\\abstractImageT701530.png\n",
      "C:\\Users\\Karl\\Desktop\\why didn't you choose me\\abstractImageTweakedpng\\abstractImageT701531.png\n",
      "C:\\Users\\Karl\\Desktop\\why didn't you choose me\\abstractImageTweakedpng\\abstractImageT701532.png\n",
      "C:\\Users\\Karl\\Desktop\\why didn't you choose me\\abstractImageTweakedpng\\abstractImageT701533.png\n",
      "C:\\Users\\Karl\\Desktop\\why didn't you choose me\\abstractImageTweakedpng\\abstractImageT701534.png\n",
      "C:\\Users\\Karl\\Desktop\\why didn't you choose me\\abstractImageTweakedpng\\abstractImageT701535.png\n",
      "C:\\Users\\Karl\\Desktop\\why didn't you choose me\\abstractImageTweakedpng\\abstractImageT701536.png\n",
      "C:\\Users\\Karl\\Desktop\\why didn't you choose me\\abstractImageTweakedpng\\abstractImageT701537.png\n",
      "C:\\Users\\Karl\\Desktop\\why didn't you choose me\\abstractImageTweakedpng\\abstractImageT701538.png\n",
      "C:\\Users\\Karl\\Desktop\\why didn't you choose me\\abstractImageTweakedpng\\abstractImageT701539.png\n",
      "C:\\Users\\Karl\\Desktop\\why didn't you choose me\\abstractImageTweakedpng\\abstractImageT701540.png\n",
      "C:\\Users\\Karl\\Desktop\\why didn't you choose me\\abstractImageTweakedpng\\abstractImageT701541.png\n",
      "C:\\Users\\Karl\\Desktop\\why didn't you choose me\\abstractImageTweakedpng\\abstractImageT701542.png\n",
      "C:\\Users\\Karl\\Desktop\\why didn't you choose me\\abstractImageTweakedpng\\abstractImageT701543.png\n",
      "C:\\Users\\Karl\\Desktop\\why didn't you choose me\\abstractImageTweakedpng\\abstractImageT701544.png\n",
      "C:\\Users\\Karl\\Desktop\\why didn't you choose me\\abstractImageTweakedpng\\abstractImageT701545.png\n",
      "C:\\Users\\Karl\\Desktop\\why didn't you choose me\\abstractImageTweakedpng\\abstractImageT701546.png\n",
      "C:\\Users\\Karl\\Desktop\\why didn't you choose me\\abstractImageTweakedpng\\abstractImageT701547.png\n",
      "C:\\Users\\Karl\\Desktop\\why didn't you choose me\\abstractImageTweakedpng\\abstractImageT701548.png\n"
     ]
    },
    {
     "name": "stdout",
     "output_type": "stream",
     "text": [
      "C:\\Users\\Karl\\Desktop\\why didn't you choose me\\abstractImageTweakedpng\\abstractImageT701549.png\n",
      "C:\\Users\\Karl\\Desktop\\why didn't you choose me\\abstractImageTweakedpng\\abstractImageT701550.png\n",
      "C:\\Users\\Karl\\Desktop\\why didn't you choose me\\abstractImageTweakedpng\\abstractImageT701551.png\n",
      "C:\\Users\\Karl\\Desktop\\why didn't you choose me\\abstractImageTweakedpng\\abstractImageT701552.png\n",
      "C:\\Users\\Karl\\Desktop\\why didn't you choose me\\abstractImageTweakedpng\\abstractImageT701553.png\n",
      "C:\\Users\\Karl\\Desktop\\why didn't you choose me\\abstractImageTweakedpng\\abstractImageT701554.png\n",
      "C:\\Users\\Karl\\Desktop\\why didn't you choose me\\abstractImageTweakedpng\\abstractImageT701555.png\n",
      "C:\\Users\\Karl\\Desktop\\why didn't you choose me\\abstractImageTweakedpng\\abstractImageT701556.png\n",
      "C:\\Users\\Karl\\Desktop\\why didn't you choose me\\abstractImageTweakedpng\\abstractImageT701557.png\n",
      "C:\\Users\\Karl\\Desktop\\why didn't you choose me\\abstractImageTweakedpng\\abstractImageT701558.png\n",
      "C:\\Users\\Karl\\Desktop\\why didn't you choose me\\abstractImageTweakedpng\\abstractImageT701559.png\n",
      "C:\\Users\\Karl\\Desktop\\why didn't you choose me\\abstractImageTweakedpng\\abstractImageT701560.png\n",
      "C:\\Users\\Karl\\Desktop\\why didn't you choose me\\abstractImageTweakedpng\\abstractImageT701561.png\n",
      "C:\\Users\\Karl\\Desktop\\why didn't you choose me\\abstractImageTweakedpng\\abstractImageT701562.png\n",
      "C:\\Users\\Karl\\Desktop\\why didn't you choose me\\abstractImageTweakedpng\\abstractImageT701563.png\n",
      "C:\\Users\\Karl\\Desktop\\why didn't you choose me\\abstractImageTweakedpng\\abstractImageT701564.png\n",
      "C:\\Users\\Karl\\Desktop\\why didn't you choose me\\abstractImageTweakedpng\\abstractImageT701565.png\n",
      "C:\\Users\\Karl\\Desktop\\why didn't you choose me\\abstractImageTweakedpng\\abstractImageT701566.png\n",
      "C:\\Users\\Karl\\Desktop\\why didn't you choose me\\abstractImageTweakedpng\\abstractImageT701567.png\n",
      "C:\\Users\\Karl\\Desktop\\why didn't you choose me\\abstractImageTweakedpng\\abstractImageT701568.png\n",
      "C:\\Users\\Karl\\Desktop\\why didn't you choose me\\abstractImageTweakedpng\\abstractImageT701569.png\n",
      "C:\\Users\\Karl\\Desktop\\why didn't you choose me\\abstractImageTweakedpng\\abstractImageT701570.png\n",
      "C:\\Users\\Karl\\Desktop\\why didn't you choose me\\abstractImageTweakedpng\\abstractImageT701571.png\n",
      "C:\\Users\\Karl\\Desktop\\why didn't you choose me\\abstractImageTweakedpng\\abstractImageT701572.png\n",
      "C:\\Users\\Karl\\Desktop\\why didn't you choose me\\abstractImageTweakedpng\\abstractImageT701573.png\n",
      "C:\\Users\\Karl\\Desktop\\why didn't you choose me\\abstractImageTweakedpng\\abstractImageT701574.png\n",
      "C:\\Users\\Karl\\Desktop\\why didn't you choose me\\abstractImageTweakedpng\\abstractImageT701575.png\n",
      "C:\\Users\\Karl\\Desktop\\why didn't you choose me\\abstractImageTweakedpng\\abstractImageT701576.png\n",
      "C:\\Users\\Karl\\Desktop\\why didn't you choose me\\abstractImageTweakedpng\\abstractImageT701577.png\n",
      "C:\\Users\\Karl\\Desktop\\why didn't you choose me\\abstractImageTweakedpng\\abstractImageT701578.png\n",
      "C:\\Users\\Karl\\Desktop\\why didn't you choose me\\abstractImageTweakedpng\\abstractImageT701579.png\n",
      "C:\\Users\\Karl\\Desktop\\why didn't you choose me\\abstractImageTweakedpng\\abstractImageT701580.png\n",
      "C:\\Users\\Karl\\Desktop\\why didn't you choose me\\abstractImageTweakedpng\\abstractImageT701581.png\n",
      "C:\\Users\\Karl\\Desktop\\why didn't you choose me\\abstractImageTweakedpng\\abstractImageT701582.png\n",
      "C:\\Users\\Karl\\Desktop\\why didn't you choose me\\abstractImageTweakedpng\\abstractImageT701583.png\n",
      "C:\\Users\\Karl\\Desktop\\why didn't you choose me\\abstractImageTweakedpng\\abstractImageT701584.png\n",
      "C:\\Users\\Karl\\Desktop\\why didn't you choose me\\abstractImageTweakedpng\\abstractImageT701585.png\n",
      "C:\\Users\\Karl\\Desktop\\why didn't you choose me\\abstractImageTweakedpng\\abstractImageT701586.png\n",
      "C:\\Users\\Karl\\Desktop\\why didn't you choose me\\abstractImageTweakedpng\\abstractImageT701587.png\n",
      "C:\\Users\\Karl\\Desktop\\why didn't you choose me\\abstractImageTweakedpng\\abstractImageT701588.png\n",
      "C:\\Users\\Karl\\Desktop\\why didn't you choose me\\abstractImageTweakedpng\\abstractImageT701589.png\n",
      "C:\\Users\\Karl\\Desktop\\why didn't you choose me\\abstractImageTweakedpng\\abstractImageT701590.png\n",
      "C:\\Users\\Karl\\Desktop\\why didn't you choose me\\abstractImageTweakedpng\\abstractImageT701591.png\n",
      "C:\\Users\\Karl\\Desktop\\why didn't you choose me\\abstractImageTweakedpng\\abstractImageT701592.png\n",
      "C:\\Users\\Karl\\Desktop\\why didn't you choose me\\abstractImageTweakedpng\\abstractImageT701593.png\n",
      "C:\\Users\\Karl\\Desktop\\why didn't you choose me\\abstractImageTweakedpng\\abstractImageT701594.png\n",
      "C:\\Users\\Karl\\Desktop\\why didn't you choose me\\abstractImageTweakedpng\\abstractImageT701595.png\n",
      "C:\\Users\\Karl\\Desktop\\why didn't you choose me\\abstractImageTweakedpng\\abstractImageT701596.png\n",
      "C:\\Users\\Karl\\Desktop\\why didn't you choose me\\abstractImageTweakedpng\\abstractImageT701597.png\n",
      "C:\\Users\\Karl\\Desktop\\why didn't you choose me\\abstractImageTweakedpng\\abstractImageT701598.png\n",
      "C:\\Users\\Karl\\Desktop\\why didn't you choose me\\abstractImageTweakedpng\\abstractImageT701599.png\n",
      "C:\\Users\\Karl\\Desktop\\why didn't you choose me\\abstractImageTweakedpng\\abstractImageT701600.png\n",
      "C:\\Users\\Karl\\Desktop\\why didn't you choose me\\abstractImageTweakedpng\\abstractImageT701601.png\n",
      "C:\\Users\\Karl\\Desktop\\why didn't you choose me\\abstractImageTweakedpng\\abstractImageT701602.png\n",
      "C:\\Users\\Karl\\Desktop\\why didn't you choose me\\abstractImageTweakedpng\\abstractImageT701603.png\n",
      "C:\\Users\\Karl\\Desktop\\why didn't you choose me\\abstractImageTweakedpng\\abstractImageT701604.png\n",
      "C:\\Users\\Karl\\Desktop\\why didn't you choose me\\abstractImageTweakedpng\\abstractImageT701605.png\n",
      "C:\\Users\\Karl\\Desktop\\why didn't you choose me\\abstractImageTweakedpng\\abstractImageT701606.png\n",
      "C:\\Users\\Karl\\Desktop\\why didn't you choose me\\abstractImageTweakedpng\\abstractImageT701607.png\n",
      "C:\\Users\\Karl\\Desktop\\why didn't you choose me\\abstractImageTweakedpng\\abstractImageT701608.png\n",
      "C:\\Users\\Karl\\Desktop\\why didn't you choose me\\abstractImageTweakedpng\\abstractImageT701609.png\n",
      "C:\\Users\\Karl\\Desktop\\why didn't you choose me\\abstractImageTweakedpng\\abstractImageT701610.png\n",
      "C:\\Users\\Karl\\Desktop\\why didn't you choose me\\abstractImageTweakedpng\\abstractImageT701611.png\n",
      "C:\\Users\\Karl\\Desktop\\why didn't you choose me\\abstractImageTweakedpng\\abstractImageT701612.png\n",
      "C:\\Users\\Karl\\Desktop\\why didn't you choose me\\abstractImageTweakedpng\\abstractImageT701613.png\n",
      "C:\\Users\\Karl\\Desktop\\why didn't you choose me\\abstractImageTweakedpng\\abstractImageT701614.png\n",
      "C:\\Users\\Karl\\Desktop\\why didn't you choose me\\abstractImageTweakedpng\\abstractImageT701615.png\n",
      "C:\\Users\\Karl\\Desktop\\why didn't you choose me\\abstractImageTweakedpng\\abstractImageT701616.png\n",
      "C:\\Users\\Karl\\Desktop\\why didn't you choose me\\abstractImageTweakedpng\\abstractImageT701617.png\n",
      "C:\\Users\\Karl\\Desktop\\why didn't you choose me\\abstractImageTweakedpng\\abstractImageT701618.png\n",
      "C:\\Users\\Karl\\Desktop\\why didn't you choose me\\abstractImageTweakedpng\\abstractImageT701619.png\n",
      "C:\\Users\\Karl\\Desktop\\why didn't you choose me\\abstractImageTweakedpng\\abstractImageT701620.png\n",
      "C:\\Users\\Karl\\Desktop\\why didn't you choose me\\abstractImageTweakedpng\\abstractImageT701621.png\n",
      "C:\\Users\\Karl\\Desktop\\why didn't you choose me\\abstractImageTweakedpng\\abstractImageT701622.png\n",
      "C:\\Users\\Karl\\Desktop\\why didn't you choose me\\abstractImageTweakedpng\\abstractImageT701623.png\n",
      "C:\\Users\\Karl\\Desktop\\why didn't you choose me\\abstractImageTweakedpng\\abstractImageT701624.png\n",
      "C:\\Users\\Karl\\Desktop\\why didn't you choose me\\abstractImageTweakedpng\\abstractImageT701625.png\n",
      "C:\\Users\\Karl\\Desktop\\why didn't you choose me\\abstractImageTweakedpng\\abstractImageT701626.png\n",
      "C:\\Users\\Karl\\Desktop\\why didn't you choose me\\abstractImageTweakedpng\\abstractImageT701627.png\n",
      "C:\\Users\\Karl\\Desktop\\why didn't you choose me\\abstractImageTweakedpng\\abstractImageT701628.png\n",
      "C:\\Users\\Karl\\Desktop\\why didn't you choose me\\abstractImageTweakedpng\\abstractImageT701629.png\n",
      "C:\\Users\\Karl\\Desktop\\why didn't you choose me\\abstractImageTweakedpng\\abstractImageT701630.png\n",
      "C:\\Users\\Karl\\Desktop\\why didn't you choose me\\abstractImageTweakedpng\\abstractImageT701631.png\n",
      "C:\\Users\\Karl\\Desktop\\why didn't you choose me\\abstractImageTweakedpng\\abstractImageT701632.png\n",
      "C:\\Users\\Karl\\Desktop\\why didn't you choose me\\abstractImageTweakedpng\\abstractImageT701633.png\n",
      "C:\\Users\\Karl\\Desktop\\why didn't you choose me\\abstractImageTweakedpng\\abstractImageT701634.png\n"
     ]
    },
    {
     "name": "stdout",
     "output_type": "stream",
     "text": [
      "C:\\Users\\Karl\\Desktop\\why didn't you choose me\\abstractImageTweakedpng\\abstractImageT701635.png\n",
      "C:\\Users\\Karl\\Desktop\\why didn't you choose me\\abstractImageTweakedpng\\abstractImageT701636.png\n",
      "C:\\Users\\Karl\\Desktop\\why didn't you choose me\\abstractImageTweakedpng\\abstractImageT701637.png\n",
      "C:\\Users\\Karl\\Desktop\\why didn't you choose me\\abstractImageTweakedpng\\abstractImageT701638.png\n",
      "C:\\Users\\Karl\\Desktop\\why didn't you choose me\\abstractImageTweakedpng\\abstractImageT701639.png\n",
      "C:\\Users\\Karl\\Desktop\\why didn't you choose me\\abstractImageTweakedpng\\abstractImageT701640.png\n",
      "C:\\Users\\Karl\\Desktop\\why didn't you choose me\\abstractImageTweakedpng\\abstractImageT701641.png\n",
      "C:\\Users\\Karl\\Desktop\\why didn't you choose me\\abstractImageTweakedpng\\abstractImageT701642.png\n",
      "C:\\Users\\Karl\\Desktop\\why didn't you choose me\\abstractImageTweakedpng\\abstractImageT701643.png\n",
      "C:\\Users\\Karl\\Desktop\\why didn't you choose me\\abstractImageTweakedpng\\abstractImageT701644.png\n",
      "C:\\Users\\Karl\\Desktop\\why didn't you choose me\\abstractImageTweakedpng\\abstractImageT701645.png\n",
      "C:\\Users\\Karl\\Desktop\\why didn't you choose me\\abstractImageTweakedpng\\abstractImageT701646.png\n",
      "C:\\Users\\Karl\\Desktop\\why didn't you choose me\\abstractImageTweakedpng\\abstractImageT701647.png\n",
      "C:\\Users\\Karl\\Desktop\\why didn't you choose me\\abstractImageTweakedpng\\abstractImageT701648.png\n",
      "C:\\Users\\Karl\\Desktop\\why didn't you choose me\\abstractImageTweakedpng\\abstractImageT701649.png\n",
      "C:\\Users\\Karl\\Desktop\\why didn't you choose me\\abstractImageTweakedpng\\abstractImageT701650.png\n",
      "C:\\Users\\Karl\\Desktop\\why didn't you choose me\\abstractImageTweakedpng\\abstractImageT701651.png\n",
      "C:\\Users\\Karl\\Desktop\\why didn't you choose me\\abstractImageTweakedpng\\abstractImageT701652.png\n",
      "C:\\Users\\Karl\\Desktop\\why didn't you choose me\\abstractImageTweakedpng\\abstractImageT701653.png\n",
      "C:\\Users\\Karl\\Desktop\\why didn't you choose me\\abstractImageTweakedpng\\abstractImageT701654.png\n",
      "C:\\Users\\Karl\\Desktop\\why didn't you choose me\\abstractImageTweakedpng\\abstractImageT701655.png\n",
      "C:\\Users\\Karl\\Desktop\\why didn't you choose me\\abstractImageTweakedpng\\abstractImageT701656.png\n",
      "C:\\Users\\Karl\\Desktop\\why didn't you choose me\\abstractImageTweakedpng\\abstractImageT701657.png\n",
      "C:\\Users\\Karl\\Desktop\\why didn't you choose me\\abstractImageTweakedpng\\abstractImageT701658.png\n",
      "C:\\Users\\Karl\\Desktop\\why didn't you choose me\\abstractImageTweakedpng\\abstractImageT701659.png\n",
      "C:\\Users\\Karl\\Desktop\\why didn't you choose me\\abstractImageTweakedpng\\abstractImageT701660.png\n",
      "C:\\Users\\Karl\\Desktop\\why didn't you choose me\\abstractImageTweakedpng\\abstractImageT701661.png\n",
      "C:\\Users\\Karl\\Desktop\\why didn't you choose me\\abstractImageTweakedpng\\abstractImageT701662.png\n",
      "C:\\Users\\Karl\\Desktop\\why didn't you choose me\\abstractImageTweakedpng\\abstractImageT701663.png\n",
      "C:\\Users\\Karl\\Desktop\\why didn't you choose me\\abstractImageTweakedpng\\abstractImageT701664.png\n",
      "C:\\Users\\Karl\\Desktop\\why didn't you choose me\\abstractImageTweakedpng\\abstractImageT701665.png\n",
      "C:\\Users\\Karl\\Desktop\\why didn't you choose me\\abstractImageTweakedpng\\abstractImageT701666.png\n",
      "C:\\Users\\Karl\\Desktop\\why didn't you choose me\\abstractImageTweakedpng\\abstractImageT701667.png\n",
      "C:\\Users\\Karl\\Desktop\\why didn't you choose me\\abstractImageTweakedpng\\abstractImageT701668.png\n",
      "C:\\Users\\Karl\\Desktop\\why didn't you choose me\\abstractImageTweakedpng\\abstractImageT701669.png\n",
      "C:\\Users\\Karl\\Desktop\\why didn't you choose me\\abstractImageTweakedpng\\abstractImageT701670.png\n",
      "C:\\Users\\Karl\\Desktop\\why didn't you choose me\\abstractImageTweakedpng\\abstractImageT701671.png\n",
      "C:\\Users\\Karl\\Desktop\\why didn't you choose me\\abstractImageTweakedpng\\abstractImageT701672.png\n",
      "C:\\Users\\Karl\\Desktop\\why didn't you choose me\\abstractImageTweakedpng\\abstractImageT701673.png\n",
      "C:\\Users\\Karl\\Desktop\\why didn't you choose me\\abstractImageTweakedpng\\abstractImageT701674.png\n",
      "C:\\Users\\Karl\\Desktop\\why didn't you choose me\\abstractImageTweakedpng\\abstractImageT701675.png\n",
      "C:\\Users\\Karl\\Desktop\\why didn't you choose me\\abstractImageTweakedpng\\abstractImageT701676.png\n",
      "C:\\Users\\Karl\\Desktop\\why didn't you choose me\\abstractImageTweakedpng\\abstractImageT701677.png\n",
      "C:\\Users\\Karl\\Desktop\\why didn't you choose me\\abstractImageTweakedpng\\abstractImageT701678.png\n",
      "C:\\Users\\Karl\\Desktop\\why didn't you choose me\\abstractImageTweakedpng\\abstractImageT701679.png\n",
      "C:\\Users\\Karl\\Desktop\\why didn't you choose me\\abstractImageTweakedpng\\abstractImageT701680.png\n",
      "C:\\Users\\Karl\\Desktop\\why didn't you choose me\\abstractImageTweakedpng\\abstractImageT701681.png\n",
      "C:\\Users\\Karl\\Desktop\\why didn't you choose me\\abstractImageTweakedpng\\abstractImageT701682.png\n",
      "C:\\Users\\Karl\\Desktop\\why didn't you choose me\\abstractImageTweakedpng\\abstractImageT701683.png\n",
      "C:\\Users\\Karl\\Desktop\\why didn't you choose me\\abstractImageTweakedpng\\abstractImageT701684.png\n",
      "C:\\Users\\Karl\\Desktop\\why didn't you choose me\\abstractImageTweakedpng\\abstractImageT701685.png\n",
      "C:\\Users\\Karl\\Desktop\\why didn't you choose me\\abstractImageTweakedpng\\abstractImageT701686.png\n",
      "C:\\Users\\Karl\\Desktop\\why didn't you choose me\\abstractImageTweakedpng\\abstractImageT701687.png\n",
      "C:\\Users\\Karl\\Desktop\\why didn't you choose me\\abstractImageTweakedpng\\abstractImageT701688.png\n",
      "C:\\Users\\Karl\\Desktop\\why didn't you choose me\\abstractImageTweakedpng\\abstractImageT701689.png\n",
      "C:\\Users\\Karl\\Desktop\\why didn't you choose me\\abstractImageTweakedpng\\abstractImageT701690.png\n",
      "C:\\Users\\Karl\\Desktop\\why didn't you choose me\\abstractImageTweakedpng\\abstractImageT701691.png\n",
      "C:\\Users\\Karl\\Desktop\\why didn't you choose me\\abstractImageTweakedpng\\abstractImageT701692.png\n",
      "C:\\Users\\Karl\\Desktop\\why didn't you choose me\\abstractImageTweakedpng\\abstractImageT701693.png\n",
      "C:\\Users\\Karl\\Desktop\\why didn't you choose me\\abstractImageTweakedpng\\abstractImageT701694.png\n",
      "C:\\Users\\Karl\\Desktop\\why didn't you choose me\\abstractImageTweakedpng\\abstractImageT701695.png\n",
      "C:\\Users\\Karl\\Desktop\\why didn't you choose me\\abstractImageTweakedpng\\abstractImageT701696.png\n",
      "C:\\Users\\Karl\\Desktop\\why didn't you choose me\\abstractImageTweakedpng\\abstractImageT701697.png\n",
      "C:\\Users\\Karl\\Desktop\\why didn't you choose me\\abstractImageTweakedpng\\abstractImageT701698.png\n",
      "C:\\Users\\Karl\\Desktop\\why didn't you choose me\\abstractImageTweakedpng\\abstractImageT701699.png\n",
      "C:\\Users\\Karl\\Desktop\\why didn't you choose me\\abstractImageTweakedpng\\abstractImageT701700.png\n",
      "C:\\Users\\Karl\\Desktop\\why didn't you choose me\\abstractImageTweakedpng\\abstractImageT701701.png\n",
      "C:\\Users\\Karl\\Desktop\\why didn't you choose me\\abstractImageTweakedpng\\abstractImageT701702.png\n",
      "C:\\Users\\Karl\\Desktop\\why didn't you choose me\\abstractImageTweakedpng\\abstractImageT701703.png\n",
      "C:\\Users\\Karl\\Desktop\\why didn't you choose me\\abstractImageTweakedpng\\abstractImageT701704.png\n",
      "C:\\Users\\Karl\\Desktop\\why didn't you choose me\\abstractImageTweakedpng\\abstractImageT701705.png\n",
      "C:\\Users\\Karl\\Desktop\\why didn't you choose me\\abstractImageTweakedpng\\abstractImageT701706.png\n",
      "C:\\Users\\Karl\\Desktop\\why didn't you choose me\\abstractImageTweakedpng\\abstractImageT701707.png\n",
      "C:\\Users\\Karl\\Desktop\\why didn't you choose me\\abstractImageTweakedpng\\abstractImageT701708.png\n",
      "C:\\Users\\Karl\\Desktop\\why didn't you choose me\\abstractImageTweakedpng\\abstractImageT701709.png\n",
      "C:\\Users\\Karl\\Desktop\\why didn't you choose me\\abstractImageTweakedpng\\abstractImageT701710.png\n",
      "C:\\Users\\Karl\\Desktop\\why didn't you choose me\\abstractImageTweakedpng\\abstractImageT701711.png\n",
      "C:\\Users\\Karl\\Desktop\\why didn't you choose me\\abstractImageTweakedpng\\abstractImageT701712.png\n",
      "C:\\Users\\Karl\\Desktop\\why didn't you choose me\\abstractImageTweakedpng\\abstractImageT701713.png\n",
      "C:\\Users\\Karl\\Desktop\\why didn't you choose me\\abstractImageTweakedpng\\abstractImageT701714.png\n",
      "C:\\Users\\Karl\\Desktop\\why didn't you choose me\\abstractImageTweakedpng\\abstractImageT701715.png\n",
      "C:\\Users\\Karl\\Desktop\\why didn't you choose me\\abstractImageTweakedpng\\abstractImageT701716.png\n",
      "C:\\Users\\Karl\\Desktop\\why didn't you choose me\\abstractImageTweakedpng\\abstractImageT701717.png\n",
      "C:\\Users\\Karl\\Desktop\\why didn't you choose me\\abstractImageTweakedpng\\abstractImageT701718.png\n",
      "C:\\Users\\Karl\\Desktop\\why didn't you choose me\\abstractImageTweakedpng\\abstractImageT701719.png\n",
      "C:\\Users\\Karl\\Desktop\\why didn't you choose me\\abstractImageTweakedpng\\abstractImageT701720.png\n"
     ]
    },
    {
     "name": "stdout",
     "output_type": "stream",
     "text": [
      "C:\\Users\\Karl\\Desktop\\why didn't you choose me\\abstractImageTweakedpng\\abstractImageT701721.png\n",
      "C:\\Users\\Karl\\Desktop\\why didn't you choose me\\abstractImageTweakedpng\\abstractImageT701722.png\n",
      "C:\\Users\\Karl\\Desktop\\why didn't you choose me\\abstractImageTweakedpng\\abstractImageT701723.png\n",
      "C:\\Users\\Karl\\Desktop\\why didn't you choose me\\abstractImageTweakedpng\\abstractImageT701724.png\n",
      "C:\\Users\\Karl\\Desktop\\why didn't you choose me\\abstractImageTweakedpng\\abstractImageT701725.png\n",
      "C:\\Users\\Karl\\Desktop\\why didn't you choose me\\abstractImageTweakedpng\\abstractImageT701726.png\n",
      "C:\\Users\\Karl\\Desktop\\why didn't you choose me\\abstractImageTweakedpng\\abstractImageT701727.png\n",
      "C:\\Users\\Karl\\Desktop\\why didn't you choose me\\abstractImageTweakedpng\\abstractImageT701728.png\n",
      "C:\\Users\\Karl\\Desktop\\why didn't you choose me\\abstractImageTweakedpng\\abstractImageT701729.png\n",
      "C:\\Users\\Karl\\Desktop\\why didn't you choose me\\abstractImageTweakedpng\\abstractImageT701730.png\n",
      "C:\\Users\\Karl\\Desktop\\why didn't you choose me\\abstractImageTweakedpng\\abstractImageT701731.png\n",
      "C:\\Users\\Karl\\Desktop\\why didn't you choose me\\abstractImageTweakedpng\\abstractImageT701732.png\n",
      "C:\\Users\\Karl\\Desktop\\why didn't you choose me\\abstractImageTweakedpng\\abstractImageT701733.png\n",
      "C:\\Users\\Karl\\Desktop\\why didn't you choose me\\abstractImageTweakedpng\\abstractImageT701734.png\n",
      "C:\\Users\\Karl\\Desktop\\why didn't you choose me\\abstractImageTweakedpng\\abstractImageT701735.png\n",
      "C:\\Users\\Karl\\Desktop\\why didn't you choose me\\abstractImageTweakedpng\\abstractImageT701736.png\n",
      "C:\\Users\\Karl\\Desktop\\why didn't you choose me\\abstractImageTweakedpng\\abstractImageT701737.png\n",
      "C:\\Users\\Karl\\Desktop\\why didn't you choose me\\abstractImageTweakedpng\\abstractImageT701738.png\n",
      "C:\\Users\\Karl\\Desktop\\why didn't you choose me\\abstractImageTweakedpng\\abstractImageT701739.png\n",
      "C:\\Users\\Karl\\Desktop\\why didn't you choose me\\abstractImageTweakedpng\\abstractImageT701740.png\n",
      "C:\\Users\\Karl\\Desktop\\why didn't you choose me\\abstractImageTweakedpng\\abstractImageT701741.png\n",
      "C:\\Users\\Karl\\Desktop\\why didn't you choose me\\abstractImageTweakedpng\\abstractImageT701742.png\n",
      "C:\\Users\\Karl\\Desktop\\why didn't you choose me\\abstractImageTweakedpng\\abstractImageT701743.png\n",
      "C:\\Users\\Karl\\Desktop\\why didn't you choose me\\abstractImageTweakedpng\\abstractImageT701744.png\n",
      "C:\\Users\\Karl\\Desktop\\why didn't you choose me\\abstractImageTweakedpng\\abstractImageT701745.png\n",
      "C:\\Users\\Karl\\Desktop\\why didn't you choose me\\abstractImageTweakedpng\\abstractImageT701746.png\n",
      "C:\\Users\\Karl\\Desktop\\why didn't you choose me\\abstractImageTweakedpng\\abstractImageT701747.png\n",
      "C:\\Users\\Karl\\Desktop\\why didn't you choose me\\abstractImageTweakedpng\\abstractImageT701748.png\n",
      "C:\\Users\\Karl\\Desktop\\why didn't you choose me\\abstractImageTweakedpng\\abstractImageT701749.png\n",
      "C:\\Users\\Karl\\Desktop\\why didn't you choose me\\abstractImageTweakedpng\\abstractImageT701750.png\n",
      "C:\\Users\\Karl\\Desktop\\why didn't you choose me\\abstractImageTweakedpng\\abstractImageT701751.png\n",
      "C:\\Users\\Karl\\Desktop\\why didn't you choose me\\abstractImageTweakedpng\\abstractImageT701752.png\n",
      "C:\\Users\\Karl\\Desktop\\why didn't you choose me\\abstractImageTweakedpng\\abstractImageT701753.png\n",
      "C:\\Users\\Karl\\Desktop\\why didn't you choose me\\abstractImageTweakedpng\\abstractImageT701754.png\n",
      "C:\\Users\\Karl\\Desktop\\why didn't you choose me\\abstractImageTweakedpng\\abstractImageT701755.png\n",
      "C:\\Users\\Karl\\Desktop\\why didn't you choose me\\abstractImageTweakedpng\\abstractImageT701756.png\n",
      "C:\\Users\\Karl\\Desktop\\why didn't you choose me\\abstractImageTweakedpng\\abstractImageT701757.png\n",
      "C:\\Users\\Karl\\Desktop\\why didn't you choose me\\abstractImageTweakedpng\\abstractImageT701758.png\n",
      "C:\\Users\\Karl\\Desktop\\why didn't you choose me\\abstractImageTweakedpng\\abstractImageT701759.png\n",
      "C:\\Users\\Karl\\Desktop\\why didn't you choose me\\abstractImageTweakedpng\\abstractImageT701760.png\n",
      "C:\\Users\\Karl\\Desktop\\why didn't you choose me\\abstractImageTweakedpng\\abstractImageT701761.png\n",
      "C:\\Users\\Karl\\Desktop\\why didn't you choose me\\abstractImageTweakedpng\\abstractImageT701762.png\n",
      "C:\\Users\\Karl\\Desktop\\why didn't you choose me\\abstractImageTweakedpng\\abstractImageT701763.png\n",
      "C:\\Users\\Karl\\Desktop\\why didn't you choose me\\abstractImageTweakedpng\\abstractImageT701764.png\n",
      "C:\\Users\\Karl\\Desktop\\why didn't you choose me\\abstractImageTweakedpng\\abstractImageT701765.png\n",
      "C:\\Users\\Karl\\Desktop\\why didn't you choose me\\abstractImageTweakedpng\\abstractImageT701766.png\n",
      "C:\\Users\\Karl\\Desktop\\why didn't you choose me\\abstractImageTweakedpng\\abstractImageT701767.png\n",
      "C:\\Users\\Karl\\Desktop\\why didn't you choose me\\abstractImageTweakedpng\\abstractImageT701768.png\n",
      "C:\\Users\\Karl\\Desktop\\why didn't you choose me\\abstractImageTweakedpng\\abstractImageT701769.png\n",
      "C:\\Users\\Karl\\Desktop\\why didn't you choose me\\abstractImageTweakedpng\\abstractImageT701770.png\n",
      "C:\\Users\\Karl\\Desktop\\why didn't you choose me\\abstractImageTweakedpng\\abstractImageT701771.png\n",
      "C:\\Users\\Karl\\Desktop\\why didn't you choose me\\abstractImageTweakedpng\\abstractImageT701772.png\n",
      "C:\\Users\\Karl\\Desktop\\why didn't you choose me\\abstractImageTweakedpng\\abstractImageT701773.png\n",
      "C:\\Users\\Karl\\Desktop\\why didn't you choose me\\abstractImageTweakedpng\\abstractImageT701774.png\n",
      "C:\\Users\\Karl\\Desktop\\why didn't you choose me\\abstractImageTweakedpng\\abstractImageT701775.png\n",
      "C:\\Users\\Karl\\Desktop\\why didn't you choose me\\abstractImageTweakedpng\\abstractImageT701776.png\n",
      "C:\\Users\\Karl\\Desktop\\why didn't you choose me\\abstractImageTweakedpng\\abstractImageT701777.png\n",
      "C:\\Users\\Karl\\Desktop\\why didn't you choose me\\abstractImageTweakedpng\\abstractImageT701778.png\n",
      "C:\\Users\\Karl\\Desktop\\why didn't you choose me\\abstractImageTweakedpng\\abstractImageT701779.png\n",
      "C:\\Users\\Karl\\Desktop\\why didn't you choose me\\abstractImageTweakedpng\\abstractImageT701780.png\n",
      "C:\\Users\\Karl\\Desktop\\why didn't you choose me\\abstractImageTweakedpng\\abstractImageT701781.png\n",
      "C:\\Users\\Karl\\Desktop\\why didn't you choose me\\abstractImageTweakedpng\\abstractImageT701782.png\n",
      "C:\\Users\\Karl\\Desktop\\why didn't you choose me\\abstractImageTweakedpng\\abstractImageT701783.png\n",
      "C:\\Users\\Karl\\Desktop\\why didn't you choose me\\abstractImageTweakedpng\\abstractImageT701784.png\n",
      "C:\\Users\\Karl\\Desktop\\why didn't you choose me\\abstractImageTweakedpng\\abstractImageT701785.png\n",
      "C:\\Users\\Karl\\Desktop\\why didn't you choose me\\abstractImageTweakedpng\\abstractImageT701786.png\n",
      "C:\\Users\\Karl\\Desktop\\why didn't you choose me\\abstractImageTweakedpng\\abstractImageT701787.png\n",
      "C:\\Users\\Karl\\Desktop\\why didn't you choose me\\abstractImageTweakedpng\\abstractImageT701788.png\n",
      "C:\\Users\\Karl\\Desktop\\why didn't you choose me\\abstractImageTweakedpng\\abstractImageT701789.png\n",
      "C:\\Users\\Karl\\Desktop\\why didn't you choose me\\abstractImageTweakedpng\\abstractImageT701790.png\n",
      "C:\\Users\\Karl\\Desktop\\why didn't you choose me\\abstractImageTweakedpng\\abstractImageT701791.png\n",
      "C:\\Users\\Karl\\Desktop\\why didn't you choose me\\abstractImageTweakedpng\\abstractImageT701792.png\n",
      "C:\\Users\\Karl\\Desktop\\why didn't you choose me\\abstractImageTweakedpng\\abstractImageT701793.png\n",
      "C:\\Users\\Karl\\Desktop\\why didn't you choose me\\abstractImageTweakedpng\\abstractImageT701794.png\n",
      "C:\\Users\\Karl\\Desktop\\why didn't you choose me\\abstractImageTweakedpng\\abstractImageT701795.png\n",
      "C:\\Users\\Karl\\Desktop\\why didn't you choose me\\abstractImageTweakedpng\\abstractImageT701796.png\n",
      "C:\\Users\\Karl\\Desktop\\why didn't you choose me\\abstractImageTweakedpng\\abstractImageT701797.png\n",
      "C:\\Users\\Karl\\Desktop\\why didn't you choose me\\abstractImageTweakedpng\\abstractImageT701798.png\n",
      "C:\\Users\\Karl\\Desktop\\why didn't you choose me\\abstractImageTweakedpng\\abstractImageT701799.png\n",
      "C:\\Users\\Karl\\Desktop\\why didn't you choose me\\abstractImageTweakedpng\\abstractImageT701800.png\n",
      "C:\\Users\\Karl\\Desktop\\why didn't you choose me\\abstractImageTweakedpng\\abstractImageT701801.png\n",
      "C:\\Users\\Karl\\Desktop\\why didn't you choose me\\abstractImageTweakedpng\\abstractImageT701802.png\n",
      "C:\\Users\\Karl\\Desktop\\why didn't you choose me\\abstractImageTweakedpng\\abstractImageT701803.png\n",
      "C:\\Users\\Karl\\Desktop\\why didn't you choose me\\abstractImageTweakedpng\\abstractImageT701804.png\n",
      "C:\\Users\\Karl\\Desktop\\why didn't you choose me\\abstractImageTweakedpng\\abstractImageT701805.png\n",
      "C:\\Users\\Karl\\Desktop\\why didn't you choose me\\abstractImageTweakedpng\\abstractImageT701806.png\n"
     ]
    },
    {
     "name": "stdout",
     "output_type": "stream",
     "text": [
      "C:\\Users\\Karl\\Desktop\\why didn't you choose me\\abstractImageTweakedpng\\abstractImageT701807.png\n",
      "C:\\Users\\Karl\\Desktop\\why didn't you choose me\\abstractImageTweakedpng\\abstractImageT701808.png\n",
      "C:\\Users\\Karl\\Desktop\\why didn't you choose me\\abstractImageTweakedpng\\abstractImageT701809.png\n",
      "C:\\Users\\Karl\\Desktop\\why didn't you choose me\\abstractImageTweakedpng\\abstractImageT701810.png\n",
      "C:\\Users\\Karl\\Desktop\\why didn't you choose me\\abstractImageTweakedpng\\abstractImageT701811.png\n",
      "C:\\Users\\Karl\\Desktop\\why didn't you choose me\\abstractImageTweakedpng\\abstractImageT701812.png\n",
      "C:\\Users\\Karl\\Desktop\\why didn't you choose me\\abstractImageTweakedpng\\abstractImageT701813.png\n",
      "C:\\Users\\Karl\\Desktop\\why didn't you choose me\\abstractImageTweakedpng\\abstractImageT701814.png\n",
      "C:\\Users\\Karl\\Desktop\\why didn't you choose me\\abstractImageTweakedpng\\abstractImageT701815.png\n",
      "C:\\Users\\Karl\\Desktop\\why didn't you choose me\\abstractImageTweakedpng\\abstractImageT701816.png\n",
      "C:\\Users\\Karl\\Desktop\\why didn't you choose me\\abstractImageTweakedpng\\abstractImageT701817.png\n",
      "C:\\Users\\Karl\\Desktop\\why didn't you choose me\\abstractImageTweakedpng\\abstractImageT701818.png\n",
      "C:\\Users\\Karl\\Desktop\\why didn't you choose me\\abstractImageTweakedpng\\abstractImageT701819.png\n",
      "C:\\Users\\Karl\\Desktop\\why didn't you choose me\\abstractImageTweakedpng\\abstractImageT701820.png\n",
      "C:\\Users\\Karl\\Desktop\\why didn't you choose me\\abstractImageTweakedpng\\abstractImageT701821.png\n",
      "C:\\Users\\Karl\\Desktop\\why didn't you choose me\\abstractImageTweakedpng\\abstractImageT701822.png\n",
      "C:\\Users\\Karl\\Desktop\\why didn't you choose me\\abstractImageTweakedpng\\abstractImageT701823.png\n",
      "C:\\Users\\Karl\\Desktop\\why didn't you choose me\\abstractImageTweakedpng\\abstractImageT701824.png\n",
      "C:\\Users\\Karl\\Desktop\\why didn't you choose me\\abstractImageTweakedpng\\abstractImageT701825.png\n",
      "C:\\Users\\Karl\\Desktop\\why didn't you choose me\\abstractImageTweakedpng\\abstractImageT701826.png\n",
      "C:\\Users\\Karl\\Desktop\\why didn't you choose me\\abstractImageTweakedpng\\abstractImageT701827.png\n",
      "C:\\Users\\Karl\\Desktop\\why didn't you choose me\\abstractImageTweakedpng\\abstractImageT701828.png\n",
      "C:\\Users\\Karl\\Desktop\\why didn't you choose me\\abstractImageTweakedpng\\abstractImageT701829.png\n",
      "C:\\Users\\Karl\\Desktop\\why didn't you choose me\\abstractImageTweakedpng\\abstractImageT701830.png\n",
      "C:\\Users\\Karl\\Desktop\\why didn't you choose me\\abstractImageTweakedpng\\abstractImageT701831.png\n",
      "C:\\Users\\Karl\\Desktop\\why didn't you choose me\\abstractImageTweakedpng\\abstractImageT701832.png\n",
      "C:\\Users\\Karl\\Desktop\\why didn't you choose me\\abstractImageTweakedpng\\abstractImageT701833.png\n",
      "C:\\Users\\Karl\\Desktop\\why didn't you choose me\\abstractImageTweakedpng\\abstractImageT701834.png\n",
      "C:\\Users\\Karl\\Desktop\\why didn't you choose me\\abstractImageTweakedpng\\abstractImageT701835.png\n",
      "C:\\Users\\Karl\\Desktop\\why didn't you choose me\\abstractImageTweakedpng\\abstractImageT701836.png\n",
      "C:\\Users\\Karl\\Desktop\\why didn't you choose me\\abstractImageTweakedpng\\abstractImageT701837.png\n",
      "C:\\Users\\Karl\\Desktop\\why didn't you choose me\\abstractImageTweakedpng\\abstractImageT701838.png\n",
      "C:\\Users\\Karl\\Desktop\\why didn't you choose me\\abstractImageTweakedpng\\abstractImageT701839.png\n",
      "C:\\Users\\Karl\\Desktop\\why didn't you choose me\\abstractImageTweakedpng\\abstractImageT701840.png\n",
      "C:\\Users\\Karl\\Desktop\\why didn't you choose me\\abstractImageTweakedpng\\abstractImageT701841.png\n",
      "C:\\Users\\Karl\\Desktop\\why didn't you choose me\\abstractImageTweakedpng\\abstractImageT701842.png\n",
      "C:\\Users\\Karl\\Desktop\\why didn't you choose me\\abstractImageTweakedpng\\abstractImageT701843.png\n",
      "C:\\Users\\Karl\\Desktop\\why didn't you choose me\\abstractImageTweakedpng\\abstractImageT701844.png\n",
      "C:\\Users\\Karl\\Desktop\\why didn't you choose me\\abstractImageTweakedpng\\abstractImageT701845.png\n",
      "C:\\Users\\Karl\\Desktop\\why didn't you choose me\\abstractImageTweakedpng\\abstractImageT701846.png\n",
      "C:\\Users\\Karl\\Desktop\\why didn't you choose me\\abstractImageTweakedpng\\abstractImageT701847.png\n",
      "C:\\Users\\Karl\\Desktop\\why didn't you choose me\\abstractImageTweakedpng\\abstractImageT701848.png\n",
      "C:\\Users\\Karl\\Desktop\\why didn't you choose me\\abstractImageTweakedpng\\abstractImageT701849.png\n",
      "C:\\Users\\Karl\\Desktop\\why didn't you choose me\\abstractImageTweakedpng\\abstractImageT701850.png\n",
      "C:\\Users\\Karl\\Desktop\\why didn't you choose me\\abstractImageTweakedpng\\abstractImageT701851.png\n",
      "C:\\Users\\Karl\\Desktop\\why didn't you choose me\\abstractImageTweakedpng\\abstractImageT701852.png\n",
      "C:\\Users\\Karl\\Desktop\\why didn't you choose me\\abstractImageTweakedpng\\abstractImageT701853.png\n",
      "C:\\Users\\Karl\\Desktop\\why didn't you choose me\\abstractImageTweakedpng\\abstractImageT701854.png\n",
      "C:\\Users\\Karl\\Desktop\\why didn't you choose me\\abstractImageTweakedpng\\abstractImageT701855.png\n",
      "C:\\Users\\Karl\\Desktop\\why didn't you choose me\\abstractImageTweakedpng\\abstractImageT701856.png\n",
      "C:\\Users\\Karl\\Desktop\\why didn't you choose me\\abstractImageTweakedpng\\abstractImageT701857.png\n",
      "C:\\Users\\Karl\\Desktop\\why didn't you choose me\\abstractImageTweakedpng\\abstractImageT701858.png\n",
      "C:\\Users\\Karl\\Desktop\\why didn't you choose me\\abstractImageTweakedpng\\abstractImageT701859.png\n",
      "C:\\Users\\Karl\\Desktop\\why didn't you choose me\\abstractImageTweakedpng\\abstractImageT701860.png\n",
      "C:\\Users\\Karl\\Desktop\\why didn't you choose me\\abstractImageTweakedpng\\abstractImageT701861.png\n",
      "C:\\Users\\Karl\\Desktop\\why didn't you choose me\\abstractImageTweakedpng\\abstractImageT701862.png\n",
      "C:\\Users\\Karl\\Desktop\\why didn't you choose me\\abstractImageTweakedpng\\abstractImageT701863.png\n",
      "C:\\Users\\Karl\\Desktop\\why didn't you choose me\\abstractImageTweakedpng\\abstractImageT701864.png\n",
      "C:\\Users\\Karl\\Desktop\\why didn't you choose me\\abstractImageTweakedpng\\abstractImageT701865.png\n",
      "C:\\Users\\Karl\\Desktop\\why didn't you choose me\\abstractImageTweakedpng\\abstractImageT701866.png\n",
      "C:\\Users\\Karl\\Desktop\\why didn't you choose me\\abstractImageTweakedpng\\abstractImageT701867.png\n",
      "C:\\Users\\Karl\\Desktop\\why didn't you choose me\\abstractImageTweakedpng\\abstractImageT701868.png\n",
      "C:\\Users\\Karl\\Desktop\\why didn't you choose me\\abstractImageTweakedpng\\abstractImageT701869.png\n",
      "C:\\Users\\Karl\\Desktop\\why didn't you choose me\\abstractImageTweakedpng\\abstractImageT701870.png\n",
      "C:\\Users\\Karl\\Desktop\\why didn't you choose me\\abstractImageTweakedpng\\abstractImageT701871.png\n",
      "C:\\Users\\Karl\\Desktop\\why didn't you choose me\\abstractImageTweakedpng\\abstractImageT701872.png\n",
      "C:\\Users\\Karl\\Desktop\\why didn't you choose me\\abstractImageTweakedpng\\abstractImageT701873.png\n",
      "C:\\Users\\Karl\\Desktop\\why didn't you choose me\\abstractImageTweakedpng\\abstractImageT701874.png\n",
      "C:\\Users\\Karl\\Desktop\\why didn't you choose me\\abstractImageTweakedpng\\abstractImageT701875.png\n",
      "C:\\Users\\Karl\\Desktop\\why didn't you choose me\\abstractImageTweakedpng\\abstractImageT701876.png\n",
      "C:\\Users\\Karl\\Desktop\\why didn't you choose me\\abstractImageTweakedpng\\abstractImageT701877.png\n",
      "C:\\Users\\Karl\\Desktop\\why didn't you choose me\\abstractImageTweakedpng\\abstractImageT701878.png\n",
      "C:\\Users\\Karl\\Desktop\\why didn't you choose me\\abstractImageTweakedpng\\abstractImageT701879.png\n",
      "C:\\Users\\Karl\\Desktop\\why didn't you choose me\\abstractImageTweakedpng\\abstractImageT701880.png\n",
      "C:\\Users\\Karl\\Desktop\\why didn't you choose me\\abstractImageTweakedpng\\abstractImageT701881.png\n",
      "C:\\Users\\Karl\\Desktop\\why didn't you choose me\\abstractImageTweakedpng\\abstractImageT701882.png\n",
      "C:\\Users\\Karl\\Desktop\\why didn't you choose me\\abstractImageTweakedpng\\abstractImageT701883.png\n",
      "C:\\Users\\Karl\\Desktop\\why didn't you choose me\\abstractImageTweakedpng\\abstractImageT701884.png\n",
      "C:\\Users\\Karl\\Desktop\\why didn't you choose me\\abstractImageTweakedpng\\abstractImageT701885.png\n",
      "C:\\Users\\Karl\\Desktop\\why didn't you choose me\\abstractImageTweakedpng\\abstractImageT701886.png\n",
      "C:\\Users\\Karl\\Desktop\\why didn't you choose me\\abstractImageTweakedpng\\abstractImageT701887.png\n",
      "C:\\Users\\Karl\\Desktop\\why didn't you choose me\\abstractImageTweakedpng\\abstractImageT701888.png\n",
      "C:\\Users\\Karl\\Desktop\\why didn't you choose me\\abstractImageTweakedpng\\abstractImageT701889.png\n",
      "C:\\Users\\Karl\\Desktop\\why didn't you choose me\\abstractImageTweakedpng\\abstractImageT701890.png\n",
      "C:\\Users\\Karl\\Desktop\\why didn't you choose me\\abstractImageTweakedpng\\abstractImageT701891.png\n",
      "C:\\Users\\Karl\\Desktop\\why didn't you choose me\\abstractImageTweakedpng\\abstractImageT701892.png\n"
     ]
    },
    {
     "name": "stdout",
     "output_type": "stream",
     "text": [
      "C:\\Users\\Karl\\Desktop\\why didn't you choose me\\abstractImageTweakedpng\\abstractImageT701893.png\n",
      "C:\\Users\\Karl\\Desktop\\why didn't you choose me\\abstractImageTweakedpng\\abstractImageT701894.png\n",
      "C:\\Users\\Karl\\Desktop\\why didn't you choose me\\abstractImageTweakedpng\\abstractImageT701895.png\n",
      "C:\\Users\\Karl\\Desktop\\why didn't you choose me\\abstractImageTweakedpng\\abstractImageT701896.png\n",
      "C:\\Users\\Karl\\Desktop\\why didn't you choose me\\abstractImageTweakedpng\\abstractImageT701897.png\n",
      "C:\\Users\\Karl\\Desktop\\why didn't you choose me\\abstractImageTweakedpng\\abstractImageT701898.png\n",
      "C:\\Users\\Karl\\Desktop\\why didn't you choose me\\abstractImageTweakedpng\\abstractImageT701899.png\n",
      "C:\\Users\\Karl\\Desktop\\why didn't you choose me\\abstractImageTweakedpng\\abstractImageT701900.png\n",
      "C:\\Users\\Karl\\Desktop\\why didn't you choose me\\abstractImageTweakedpng\\abstractImageT701901.png\n",
      "C:\\Users\\Karl\\Desktop\\why didn't you choose me\\abstractImageTweakedpng\\abstractImageT701902.png\n",
      "C:\\Users\\Karl\\Desktop\\why didn't you choose me\\abstractImageTweakedpng\\abstractImageT701903.png\n",
      "C:\\Users\\Karl\\Desktop\\why didn't you choose me\\abstractImageTweakedpng\\abstractImageT701904.png\n",
      "C:\\Users\\Karl\\Desktop\\why didn't you choose me\\abstractImageTweakedpng\\abstractImageT701905.png\n",
      "C:\\Users\\Karl\\Desktop\\why didn't you choose me\\abstractImageTweakedpng\\abstractImageT701906.png\n",
      "C:\\Users\\Karl\\Desktop\\why didn't you choose me\\abstractImageTweakedpng\\abstractImageT701907.png\n",
      "C:\\Users\\Karl\\Desktop\\why didn't you choose me\\abstractImageTweakedpng\\abstractImageT701908.png\n",
      "C:\\Users\\Karl\\Desktop\\why didn't you choose me\\abstractImageTweakedpng\\abstractImageT701909.png\n",
      "C:\\Users\\Karl\\Desktop\\why didn't you choose me\\abstractImageTweakedpng\\abstractImageT701910.png\n",
      "C:\\Users\\Karl\\Desktop\\why didn't you choose me\\abstractImageTweakedpng\\abstractImageT701911.png\n",
      "C:\\Users\\Karl\\Desktop\\why didn't you choose me\\abstractImageTweakedpng\\abstractImageT701912.png\n",
      "C:\\Users\\Karl\\Desktop\\why didn't you choose me\\abstractImageTweakedpng\\abstractImageT701913.png\n",
      "C:\\Users\\Karl\\Desktop\\why didn't you choose me\\abstractImageTweakedpng\\abstractImageT701914.png\n",
      "C:\\Users\\Karl\\Desktop\\why didn't you choose me\\abstractImageTweakedpng\\abstractImageT701915.png\n",
      "C:\\Users\\Karl\\Desktop\\why didn't you choose me\\abstractImageTweakedpng\\abstractImageT701916.png\n",
      "C:\\Users\\Karl\\Desktop\\why didn't you choose me\\abstractImageTweakedpng\\abstractImageT701917.png\n",
      "C:\\Users\\Karl\\Desktop\\why didn't you choose me\\abstractImageTweakedpng\\abstractImageT701918.png\n",
      "C:\\Users\\Karl\\Desktop\\why didn't you choose me\\abstractImageTweakedpng\\abstractImageT701919.png\n",
      "C:\\Users\\Karl\\Desktop\\why didn't you choose me\\abstractImageTweakedpng\\abstractImageT701920.png\n",
      "C:\\Users\\Karl\\Desktop\\why didn't you choose me\\abstractImageTweakedpng\\abstractImageT701921.png\n",
      "C:\\Users\\Karl\\Desktop\\why didn't you choose me\\abstractImageTweakedpng\\abstractImageT701922.png\n",
      "C:\\Users\\Karl\\Desktop\\why didn't you choose me\\abstractImageTweakedpng\\abstractImageT701923.png\n",
      "C:\\Users\\Karl\\Desktop\\why didn't you choose me\\abstractImageTweakedpng\\abstractImageT701924.png\n",
      "C:\\Users\\Karl\\Desktop\\why didn't you choose me\\abstractImageTweakedpng\\abstractImageT701925.png\n",
      "C:\\Users\\Karl\\Desktop\\why didn't you choose me\\abstractImageTweakedpng\\abstractImageT701926.png\n",
      "C:\\Users\\Karl\\Desktop\\why didn't you choose me\\abstractImageTweakedpng\\abstractImageT701927.png\n",
      "C:\\Users\\Karl\\Desktop\\why didn't you choose me\\abstractImageTweakedpng\\abstractImageT701928.png\n",
      "C:\\Users\\Karl\\Desktop\\why didn't you choose me\\abstractImageTweakedpng\\abstractImageT701929.png\n",
      "C:\\Users\\Karl\\Desktop\\why didn't you choose me\\abstractImageTweakedpng\\abstractImageT701930.png\n",
      "C:\\Users\\Karl\\Desktop\\why didn't you choose me\\abstractImageTweakedpng\\abstractImageT701931.png\n",
      "C:\\Users\\Karl\\Desktop\\why didn't you choose me\\abstractImageTweakedpng\\abstractImageT701932.png\n",
      "C:\\Users\\Karl\\Desktop\\why didn't you choose me\\abstractImageTweakedpng\\abstractImageT701933.png\n",
      "C:\\Users\\Karl\\Desktop\\why didn't you choose me\\abstractImageTweakedpng\\abstractImageT701934.png\n",
      "C:\\Users\\Karl\\Desktop\\why didn't you choose me\\abstractImageTweakedpng\\abstractImageT701935.png\n",
      "C:\\Users\\Karl\\Desktop\\why didn't you choose me\\abstractImageTweakedpng\\abstractImageT701936.png\n",
      "C:\\Users\\Karl\\Desktop\\why didn't you choose me\\abstractImageTweakedpng\\abstractImageT701937.png\n",
      "C:\\Users\\Karl\\Desktop\\why didn't you choose me\\abstractImageTweakedpng\\abstractImageT701938.png\n",
      "C:\\Users\\Karl\\Desktop\\why didn't you choose me\\abstractImageTweakedpng\\abstractImageT701939.png\n",
      "C:\\Users\\Karl\\Desktop\\why didn't you choose me\\abstractImageTweakedpng\\abstractImageT701940.png\n",
      "C:\\Users\\Karl\\Desktop\\why didn't you choose me\\abstractImageTweakedpng\\abstractImageT701941.png\n",
      "C:\\Users\\Karl\\Desktop\\why didn't you choose me\\abstractImageTweakedpng\\abstractImageT701942.png\n",
      "C:\\Users\\Karl\\Desktop\\why didn't you choose me\\abstractImageTweakedpng\\abstractImageT701943.png\n",
      "C:\\Users\\Karl\\Desktop\\why didn't you choose me\\abstractImageTweakedpng\\abstractImageT701944.png\n",
      "C:\\Users\\Karl\\Desktop\\why didn't you choose me\\abstractImageTweakedpng\\abstractImageT701945.png\n",
      "C:\\Users\\Karl\\Desktop\\why didn't you choose me\\abstractImageTweakedpng\\abstractImageT701946.png\n",
      "C:\\Users\\Karl\\Desktop\\why didn't you choose me\\abstractImageTweakedpng\\abstractImageT701947.png\n",
      "C:\\Users\\Karl\\Desktop\\why didn't you choose me\\abstractImageTweakedpng\\abstractImageT701948.png\n",
      "C:\\Users\\Karl\\Desktop\\why didn't you choose me\\abstractImageTweakedpng\\abstractImageT701949.png\n",
      "C:\\Users\\Karl\\Desktop\\why didn't you choose me\\abstractImageTweakedpng\\abstractImageT701950.png\n",
      "C:\\Users\\Karl\\Desktop\\why didn't you choose me\\abstractImageTweakedpng\\abstractImageT701951.png\n",
      "C:\\Users\\Karl\\Desktop\\why didn't you choose me\\abstractImageTweakedpng\\abstractImageT701952.png\n",
      "C:\\Users\\Karl\\Desktop\\why didn't you choose me\\abstractImageTweakedpng\\abstractImageT701953.png\n",
      "C:\\Users\\Karl\\Desktop\\why didn't you choose me\\abstractImageTweakedpng\\abstractImageT701954.png\n",
      "C:\\Users\\Karl\\Desktop\\why didn't you choose me\\abstractImageTweakedpng\\abstractImageT701955.png\n",
      "C:\\Users\\Karl\\Desktop\\why didn't you choose me\\abstractImageTweakedpng\\abstractImageT701956.png\n",
      "C:\\Users\\Karl\\Desktop\\why didn't you choose me\\abstractImageTweakedpng\\abstractImageT701957.png\n",
      "C:\\Users\\Karl\\Desktop\\why didn't you choose me\\abstractImageTweakedpng\\abstractImageT701958.png\n",
      "C:\\Users\\Karl\\Desktop\\why didn't you choose me\\abstractImageTweakedpng\\abstractImageT701959.png\n",
      "C:\\Users\\Karl\\Desktop\\why didn't you choose me\\abstractImageTweakedpng\\abstractImageT701960.png\n",
      "C:\\Users\\Karl\\Desktop\\why didn't you choose me\\abstractImageTweakedpng\\abstractImageT701961.png\n",
      "C:\\Users\\Karl\\Desktop\\why didn't you choose me\\abstractImageTweakedpng\\abstractImageT701962.png\n",
      "C:\\Users\\Karl\\Desktop\\why didn't you choose me\\abstractImageTweakedpng\\abstractImageT701963.png\n",
      "C:\\Users\\Karl\\Desktop\\why didn't you choose me\\abstractImageTweakedpng\\abstractImageT701964.png\n",
      "C:\\Users\\Karl\\Desktop\\why didn't you choose me\\abstractImageTweakedpng\\abstractImageT701965.png\n",
      "C:\\Users\\Karl\\Desktop\\why didn't you choose me\\abstractImageTweakedpng\\abstractImageT701966.png\n",
      "C:\\Users\\Karl\\Desktop\\why didn't you choose me\\abstractImageTweakedpng\\abstractImageT701967.png\n",
      "C:\\Users\\Karl\\Desktop\\why didn't you choose me\\abstractImageTweakedpng\\abstractImageT701968.png\n",
      "C:\\Users\\Karl\\Desktop\\why didn't you choose me\\abstractImageTweakedpng\\abstractImageT701969.png\n",
      "C:\\Users\\Karl\\Desktop\\why didn't you choose me\\abstractImageTweakedpng\\abstractImageT701970.png\n",
      "C:\\Users\\Karl\\Desktop\\why didn't you choose me\\abstractImageTweakedpng\\abstractImageT701971.png\n",
      "C:\\Users\\Karl\\Desktop\\why didn't you choose me\\abstractImageTweakedpng\\abstractImageT701972.png\n",
      "C:\\Users\\Karl\\Desktop\\why didn't you choose me\\abstractImageTweakedpng\\abstractImageT701973.png\n",
      "C:\\Users\\Karl\\Desktop\\why didn't you choose me\\abstractImageTweakedpng\\abstractImageT701974.png\n",
      "C:\\Users\\Karl\\Desktop\\why didn't you choose me\\abstractImageTweakedpng\\abstractImageT701975.png\n",
      "C:\\Users\\Karl\\Desktop\\why didn't you choose me\\abstractImageTweakedpng\\abstractImageT701976.png\n",
      "C:\\Users\\Karl\\Desktop\\why didn't you choose me\\abstractImageTweakedpng\\abstractImageT701977.png\n",
      "C:\\Users\\Karl\\Desktop\\why didn't you choose me\\abstractImageTweakedpng\\abstractImageT701978.png\n"
     ]
    },
    {
     "name": "stdout",
     "output_type": "stream",
     "text": [
      "C:\\Users\\Karl\\Desktop\\why didn't you choose me\\abstractImageTweakedpng\\abstractImageT701979.png\n",
      "C:\\Users\\Karl\\Desktop\\why didn't you choose me\\abstractImageTweakedpng\\abstractImageT701980.png\n",
      "C:\\Users\\Karl\\Desktop\\why didn't you choose me\\abstractImageTweakedpng\\abstractImageT701981.png\n",
      "C:\\Users\\Karl\\Desktop\\why didn't you choose me\\abstractImageTweakedpng\\abstractImageT701982.png\n",
      "C:\\Users\\Karl\\Desktop\\why didn't you choose me\\abstractImageTweakedpng\\abstractImageT701983.png\n",
      "C:\\Users\\Karl\\Desktop\\why didn't you choose me\\abstractImageTweakedpng\\abstractImageT701984.png\n",
      "C:\\Users\\Karl\\Desktop\\why didn't you choose me\\abstractImageTweakedpng\\abstractImageT701985.png\n",
      "C:\\Users\\Karl\\Desktop\\why didn't you choose me\\abstractImageTweakedpng\\abstractImageT701986.png\n",
      "C:\\Users\\Karl\\Desktop\\why didn't you choose me\\abstractImageTweakedpng\\abstractImageT701987.png\n",
      "C:\\Users\\Karl\\Desktop\\why didn't you choose me\\abstractImageTweakedpng\\abstractImageT701988.png\n",
      "C:\\Users\\Karl\\Desktop\\why didn't you choose me\\abstractImageTweakedpng\\abstractImageT701989.png\n",
      "C:\\Users\\Karl\\Desktop\\why didn't you choose me\\abstractImageTweakedpng\\abstractImageT701990.png\n",
      "C:\\Users\\Karl\\Desktop\\why didn't you choose me\\abstractImageTweakedpng\\abstractImageT701991.png\n",
      "C:\\Users\\Karl\\Desktop\\why didn't you choose me\\abstractImageTweakedpng\\abstractImageT701992.png\n",
      "C:\\Users\\Karl\\Desktop\\why didn't you choose me\\abstractImageTweakedpng\\abstractImageT701993.png\n",
      "C:\\Users\\Karl\\Desktop\\why didn't you choose me\\abstractImageTweakedpng\\abstractImageT701994.png\n",
      "C:\\Users\\Karl\\Desktop\\why didn't you choose me\\abstractImageTweakedpng\\abstractImageT701995.png\n",
      "C:\\Users\\Karl\\Desktop\\why didn't you choose me\\abstractImageTweakedpng\\abstractImageT701996.png\n",
      "C:\\Users\\Karl\\Desktop\\why didn't you choose me\\abstractImageTweakedpng\\abstractImageT701997.png\n",
      "C:\\Users\\Karl\\Desktop\\why didn't you choose me\\abstractImageTweakedpng\\abstractImageT701998.png\n",
      "C:\\Users\\Karl\\Desktop\\why didn't you choose me\\abstractImageTweakedpng\\abstractImageT701999.png\n",
      "C:\\Users\\Karl\\Desktop\\why didn't you choose me\\abstractImageTweakedpng\\abstractImageT702000.png\n",
      "C:\\Users\\Karl\\Desktop\\why didn't you choose me\\abstractImageTweakedpng\\abstractImageT702001.png\n",
      "C:\\Users\\Karl\\Desktop\\why didn't you choose me\\abstractImageTweakedpng\\abstractImageT702002.png\n",
      "C:\\Users\\Karl\\Desktop\\why didn't you choose me\\abstractImageTweakedpng\\abstractImageT702003.png\n",
      "C:\\Users\\Karl\\Desktop\\why didn't you choose me\\abstractImageTweakedpng\\abstractImageT702004.png\n",
      "C:\\Users\\Karl\\Desktop\\why didn't you choose me\\abstractImageTweakedpng\\abstractImageT702005.png\n",
      "C:\\Users\\Karl\\Desktop\\why didn't you choose me\\abstractImageTweakedpng\\abstractImageT702006.png\n",
      "C:\\Users\\Karl\\Desktop\\why didn't you choose me\\abstractImageTweakedpng\\abstractImageT702007.png\n",
      "C:\\Users\\Karl\\Desktop\\why didn't you choose me\\abstractImageTweakedpng\\abstractImageT702008.png\n",
      "C:\\Users\\Karl\\Desktop\\why didn't you choose me\\abstractImageTweakedpng\\abstractImageT702009.png\n",
      "C:\\Users\\Karl\\Desktop\\why didn't you choose me\\abstractImageTweakedpng\\abstractImageT702010.png\n",
      "C:\\Users\\Karl\\Desktop\\why didn't you choose me\\abstractImageTweakedpng\\abstractImageT702011.png\n",
      "C:\\Users\\Karl\\Desktop\\why didn't you choose me\\abstractImageTweakedpng\\abstractImageT702012.png\n",
      "C:\\Users\\Karl\\Desktop\\why didn't you choose me\\abstractImageTweakedpng\\abstractImageT702013.png\n",
      "C:\\Users\\Karl\\Desktop\\why didn't you choose me\\abstractImageTweakedpng\\abstractImageT702014.png\n",
      "C:\\Users\\Karl\\Desktop\\why didn't you choose me\\abstractImageTweakedpng\\abstractImageT702015.png\n",
      "C:\\Users\\Karl\\Desktop\\why didn't you choose me\\abstractImageTweakedpng\\abstractImageT702016.png\n",
      "C:\\Users\\Karl\\Desktop\\why didn't you choose me\\abstractImageTweakedpng\\abstractImageT702017.png\n",
      "C:\\Users\\Karl\\Desktop\\why didn't you choose me\\abstractImageTweakedpng\\abstractImageT702018.png\n",
      "C:\\Users\\Karl\\Desktop\\why didn't you choose me\\abstractImageTweakedpng\\abstractImageT702019.png\n",
      "C:\\Users\\Karl\\Desktop\\why didn't you choose me\\abstractImageTweakedpng\\abstractImageT702020.png\n",
      "C:\\Users\\Karl\\Desktop\\why didn't you choose me\\abstractImageTweakedpng\\abstractImageT702021.png\n",
      "C:\\Users\\Karl\\Desktop\\why didn't you choose me\\abstractImageTweakedpng\\abstractImageT702022.png\n",
      "C:\\Users\\Karl\\Desktop\\why didn't you choose me\\abstractImageTweakedpng\\abstractImageT702023.png\n",
      "C:\\Users\\Karl\\Desktop\\why didn't you choose me\\abstractImageTweakedpng\\abstractImageT702024.png\n",
      "C:\\Users\\Karl\\Desktop\\why didn't you choose me\\abstractImageTweakedpng\\abstractImageT702025.png\n",
      "C:\\Users\\Karl\\Desktop\\why didn't you choose me\\abstractImageTweakedpng\\abstractImageT702026.png\n"
     ]
    },
    {
     "name": "stderr",
     "output_type": "stream",
     "text": [
      "<ipython-input-9-2b69156255fe>:55: UserWarning: C:\\Users\\Karl\\Desktop\\why didn't you choose me\\abstractImageTweakedpng\\abstractImageT702026.png is a low contrast image\n",
      "  imsave(filePath, image)\n"
     ]
    },
    {
     "name": "stdout",
     "output_type": "stream",
     "text": [
      "C:\\Users\\Karl\\Desktop\\why didn't you choose me\\abstractImageTweakedpng\\abstractImageT702027.png\n"
     ]
    },
    {
     "name": "stderr",
     "output_type": "stream",
     "text": [
      "<ipython-input-9-2b69156255fe>:55: UserWarning: C:\\Users\\Karl\\Desktop\\why didn't you choose me\\abstractImageTweakedpng\\abstractImageT702027.png is a low contrast image\n",
      "  imsave(filePath, image)\n"
     ]
    },
    {
     "name": "stdout",
     "output_type": "stream",
     "text": [
      "C:\\Users\\Karl\\Desktop\\why didn't you choose me\\abstractImageTweakedpng\\abstractImageT702028.png\n",
      "C:\\Users\\Karl\\Desktop\\why didn't you choose me\\abstractImageTweakedpng\\abstractImageT702029.png\n",
      "C:\\Users\\Karl\\Desktop\\why didn't you choose me\\abstractImageTweakedpng\\abstractImageT702030.png\n",
      "C:\\Users\\Karl\\Desktop\\why didn't you choose me\\abstractImageTweakedpng\\abstractImageT702031.png\n",
      "C:\\Users\\Karl\\Desktop\\why didn't you choose me\\abstractImageTweakedpng\\abstractImageT702032.png\n",
      "C:\\Users\\Karl\\Desktop\\why didn't you choose me\\abstractImageTweakedpng\\abstractImageT702033.png\n"
     ]
    },
    {
     "name": "stderr",
     "output_type": "stream",
     "text": [
      "<ipython-input-9-2b69156255fe>:55: UserWarning: C:\\Users\\Karl\\Desktop\\why didn't you choose me\\abstractImageTweakedpng\\abstractImageT702033.png is a low contrast image\n",
      "  imsave(filePath, image)\n"
     ]
    },
    {
     "name": "stdout",
     "output_type": "stream",
     "text": [
      "C:\\Users\\Karl\\Desktop\\why didn't you choose me\\abstractImageTweakedpng\\abstractImageT702034.png\n"
     ]
    },
    {
     "name": "stderr",
     "output_type": "stream",
     "text": [
      "<ipython-input-9-2b69156255fe>:55: UserWarning: C:\\Users\\Karl\\Desktop\\why didn't you choose me\\abstractImageTweakedpng\\abstractImageT702034.png is a low contrast image\n",
      "  imsave(filePath, image)\n"
     ]
    },
    {
     "name": "stdout",
     "output_type": "stream",
     "text": [
      "C:\\Users\\Karl\\Desktop\\why didn't you choose me\\abstractImageTweakedpng\\abstractImageT702035.png\n"
     ]
    },
    {
     "name": "stderr",
     "output_type": "stream",
     "text": [
      "<ipython-input-9-2b69156255fe>:55: UserWarning: C:\\Users\\Karl\\Desktop\\why didn't you choose me\\abstractImageTweakedpng\\abstractImageT702035.png is a low contrast image\n",
      "  imsave(filePath, image)\n"
     ]
    },
    {
     "name": "stdout",
     "output_type": "stream",
     "text": [
      "C:\\Users\\Karl\\Desktop\\why didn't you choose me\\abstractImageTweakedpng\\abstractImageT702036.png\n"
     ]
    },
    {
     "name": "stderr",
     "output_type": "stream",
     "text": [
      "<ipython-input-9-2b69156255fe>:55: UserWarning: C:\\Users\\Karl\\Desktop\\why didn't you choose me\\abstractImageTweakedpng\\abstractImageT702036.png is a low contrast image\n",
      "  imsave(filePath, image)\n"
     ]
    },
    {
     "name": "stdout",
     "output_type": "stream",
     "text": [
      "C:\\Users\\Karl\\Desktop\\why didn't you choose me\\abstractImageTweakedpng\\abstractImageT702037.png\n"
     ]
    },
    {
     "name": "stderr",
     "output_type": "stream",
     "text": [
      "<ipython-input-9-2b69156255fe>:55: UserWarning: C:\\Users\\Karl\\Desktop\\why didn't you choose me\\abstractImageTweakedpng\\abstractImageT702037.png is a low contrast image\n",
      "  imsave(filePath, image)\n"
     ]
    },
    {
     "name": "stdout",
     "output_type": "stream",
     "text": [
      "C:\\Users\\Karl\\Desktop\\why didn't you choose me\\abstractImageTweakedpng\\abstractImageT702038.png\n"
     ]
    },
    {
     "name": "stderr",
     "output_type": "stream",
     "text": [
      "<ipython-input-9-2b69156255fe>:55: UserWarning: C:\\Users\\Karl\\Desktop\\why didn't you choose me\\abstractImageTweakedpng\\abstractImageT702038.png is a low contrast image\n",
      "  imsave(filePath, image)\n"
     ]
    },
    {
     "name": "stdout",
     "output_type": "stream",
     "text": [
      "C:\\Users\\Karl\\Desktop\\why didn't you choose me\\abstractImageTweakedpng\\abstractImageT702039.png\n"
     ]
    },
    {
     "name": "stderr",
     "output_type": "stream",
     "text": [
      "<ipython-input-9-2b69156255fe>:55: UserWarning: C:\\Users\\Karl\\Desktop\\why didn't you choose me\\abstractImageTweakedpng\\abstractImageT702039.png is a low contrast image\n",
      "  imsave(filePath, image)\n"
     ]
    },
    {
     "name": "stdout",
     "output_type": "stream",
     "text": [
      "C:\\Users\\Karl\\Desktop\\why didn't you choose me\\abstractImageTweakedpng\\abstractImageT702040.png\n"
     ]
    },
    {
     "name": "stderr",
     "output_type": "stream",
     "text": [
      "<ipython-input-9-2b69156255fe>:55: UserWarning: C:\\Users\\Karl\\Desktop\\why didn't you choose me\\abstractImageTweakedpng\\abstractImageT702040.png is a low contrast image\n",
      "  imsave(filePath, image)\n"
     ]
    },
    {
     "name": "stdout",
     "output_type": "stream",
     "text": [
      "C:\\Users\\Karl\\Desktop\\why didn't you choose me\\abstractImageTweakedpng\\abstractImageT702041.png\n"
     ]
    },
    {
     "name": "stderr",
     "output_type": "stream",
     "text": [
      "<ipython-input-9-2b69156255fe>:55: UserWarning: C:\\Users\\Karl\\Desktop\\why didn't you choose me\\abstractImageTweakedpng\\abstractImageT702041.png is a low contrast image\n",
      "  imsave(filePath, image)\n"
     ]
    },
    {
     "name": "stdout",
     "output_type": "stream",
     "text": [
      "C:\\Users\\Karl\\Desktop\\why didn't you choose me\\abstractImageTweakedpng\\abstractImageT702042.png\n"
     ]
    },
    {
     "name": "stderr",
     "output_type": "stream",
     "text": [
      "<ipython-input-9-2b69156255fe>:55: UserWarning: C:\\Users\\Karl\\Desktop\\why didn't you choose me\\abstractImageTweakedpng\\abstractImageT702042.png is a low contrast image\n",
      "  imsave(filePath, image)\n"
     ]
    },
    {
     "name": "stdout",
     "output_type": "stream",
     "text": [
      "C:\\Users\\Karl\\Desktop\\why didn't you choose me\\abstractImageTweakedpng\\abstractImageT702043.png\n"
     ]
    },
    {
     "name": "stderr",
     "output_type": "stream",
     "text": [
      "<ipython-input-9-2b69156255fe>:55: UserWarning: C:\\Users\\Karl\\Desktop\\why didn't you choose me\\abstractImageTweakedpng\\abstractImageT702043.png is a low contrast image\n",
      "  imsave(filePath, image)\n"
     ]
    },
    {
     "name": "stdout",
     "output_type": "stream",
     "text": [
      "C:\\Users\\Karl\\Desktop\\why didn't you choose me\\abstractImageTweakedpng\\abstractImageT702044.png\n"
     ]
    },
    {
     "name": "stderr",
     "output_type": "stream",
     "text": [
      "<ipython-input-9-2b69156255fe>:55: UserWarning: C:\\Users\\Karl\\Desktop\\why didn't you choose me\\abstractImageTweakedpng\\abstractImageT702044.png is a low contrast image\n",
      "  imsave(filePath, image)\n"
     ]
    },
    {
     "name": "stdout",
     "output_type": "stream",
     "text": [
      "C:\\Users\\Karl\\Desktop\\why didn't you choose me\\abstractImageTweakedpng\\abstractImageT702045.png\n"
     ]
    },
    {
     "name": "stderr",
     "output_type": "stream",
     "text": [
      "<ipython-input-9-2b69156255fe>:55: UserWarning: C:\\Users\\Karl\\Desktop\\why didn't you choose me\\abstractImageTweakedpng\\abstractImageT702045.png is a low contrast image\n",
      "  imsave(filePath, image)\n"
     ]
    },
    {
     "name": "stdout",
     "output_type": "stream",
     "text": [
      "C:\\Users\\Karl\\Desktop\\why didn't you choose me\\abstractImageTweakedpng\\abstractImageT702046.png\n"
     ]
    },
    {
     "name": "stderr",
     "output_type": "stream",
     "text": [
      "<ipython-input-9-2b69156255fe>:55: UserWarning: C:\\Users\\Karl\\Desktop\\why didn't you choose me\\abstractImageTweakedpng\\abstractImageT702046.png is a low contrast image\n",
      "  imsave(filePath, image)\n"
     ]
    },
    {
     "name": "stdout",
     "output_type": "stream",
     "text": [
      "C:\\Users\\Karl\\Desktop\\why didn't you choose me\\abstractImageTweakedpng\\abstractImageT702047.png\n"
     ]
    },
    {
     "name": "stderr",
     "output_type": "stream",
     "text": [
      "<ipython-input-9-2b69156255fe>:55: UserWarning: C:\\Users\\Karl\\Desktop\\why didn't you choose me\\abstractImageTweakedpng\\abstractImageT702047.png is a low contrast image\n",
      "  imsave(filePath, image)\n"
     ]
    },
    {
     "name": "stdout",
     "output_type": "stream",
     "text": [
      "C:\\Users\\Karl\\Desktop\\why didn't you choose me\\abstractImageTweakedpng\\abstractImageT702048.png\n"
     ]
    },
    {
     "name": "stderr",
     "output_type": "stream",
     "text": [
      "<ipython-input-9-2b69156255fe>:55: UserWarning: C:\\Users\\Karl\\Desktop\\why didn't you choose me\\abstractImageTweakedpng\\abstractImageT702048.png is a low contrast image\n",
      "  imsave(filePath, image)\n"
     ]
    },
    {
     "name": "stdout",
     "output_type": "stream",
     "text": [
      "C:\\Users\\Karl\\Desktop\\why didn't you choose me\\abstractImageTweakedpng\\abstractImageT702049.png\n"
     ]
    },
    {
     "name": "stderr",
     "output_type": "stream",
     "text": [
      "<ipython-input-9-2b69156255fe>:55: UserWarning: C:\\Users\\Karl\\Desktop\\why didn't you choose me\\abstractImageTweakedpng\\abstractImageT702049.png is a low contrast image\n",
      "  imsave(filePath, image)\n"
     ]
    },
    {
     "name": "stdout",
     "output_type": "stream",
     "text": [
      "C:\\Users\\Karl\\Desktop\\why didn't you choose me\\abstractImageTweakedpng\\abstractImageT702050.png\n"
     ]
    },
    {
     "name": "stderr",
     "output_type": "stream",
     "text": [
      "<ipython-input-9-2b69156255fe>:55: UserWarning: C:\\Users\\Karl\\Desktop\\why didn't you choose me\\abstractImageTweakedpng\\abstractImageT702050.png is a low contrast image\n",
      "  imsave(filePath, image)\n"
     ]
    },
    {
     "name": "stdout",
     "output_type": "stream",
     "text": [
      "C:\\Users\\Karl\\Desktop\\why didn't you choose me\\abstractImageTweakedpng\\abstractImageT702051.png\n"
     ]
    },
    {
     "name": "stderr",
     "output_type": "stream",
     "text": [
      "<ipython-input-9-2b69156255fe>:55: UserWarning: C:\\Users\\Karl\\Desktop\\why didn't you choose me\\abstractImageTweakedpng\\abstractImageT702051.png is a low contrast image\n",
      "  imsave(filePath, image)\n"
     ]
    },
    {
     "name": "stdout",
     "output_type": "stream",
     "text": [
      "C:\\Users\\Karl\\Desktop\\why didn't you choose me\\abstractImageTweakedpng\\abstractImageT702052.png\n"
     ]
    },
    {
     "name": "stderr",
     "output_type": "stream",
     "text": [
      "<ipython-input-9-2b69156255fe>:55: UserWarning: C:\\Users\\Karl\\Desktop\\why didn't you choose me\\abstractImageTweakedpng\\abstractImageT702052.png is a low contrast image\n",
      "  imsave(filePath, image)\n"
     ]
    },
    {
     "name": "stdout",
     "output_type": "stream",
     "text": [
      "C:\\Users\\Karl\\Desktop\\why didn't you choose me\\abstractImageTweakedpng\\abstractImageT702053.png\n"
     ]
    },
    {
     "name": "stderr",
     "output_type": "stream",
     "text": [
      "<ipython-input-9-2b69156255fe>:55: UserWarning: C:\\Users\\Karl\\Desktop\\why didn't you choose me\\abstractImageTweakedpng\\abstractImageT702053.png is a low contrast image\n",
      "  imsave(filePath, image)\n"
     ]
    },
    {
     "name": "stdout",
     "output_type": "stream",
     "text": [
      "C:\\Users\\Karl\\Desktop\\why didn't you choose me\\abstractImageTweakedpng\\abstractImageT702054.png\n"
     ]
    },
    {
     "name": "stderr",
     "output_type": "stream",
     "text": [
      "<ipython-input-9-2b69156255fe>:55: UserWarning: C:\\Users\\Karl\\Desktop\\why didn't you choose me\\abstractImageTweakedpng\\abstractImageT702054.png is a low contrast image\n",
      "  imsave(filePath, image)\n"
     ]
    },
    {
     "name": "stdout",
     "output_type": "stream",
     "text": [
      "C:\\Users\\Karl\\Desktop\\why didn't you choose me\\abstractImageTweakedpng\\abstractImageT702055.png\n"
     ]
    },
    {
     "name": "stderr",
     "output_type": "stream",
     "text": [
      "<ipython-input-9-2b69156255fe>:55: UserWarning: C:\\Users\\Karl\\Desktop\\why didn't you choose me\\abstractImageTweakedpng\\abstractImageT702055.png is a low contrast image\n",
      "  imsave(filePath, image)\n"
     ]
    },
    {
     "name": "stdout",
     "output_type": "stream",
     "text": [
      "C:\\Users\\Karl\\Desktop\\why didn't you choose me\\abstractImageTweakedpng\\abstractImageT702056.png\n"
     ]
    },
    {
     "name": "stderr",
     "output_type": "stream",
     "text": [
      "<ipython-input-9-2b69156255fe>:55: UserWarning: C:\\Users\\Karl\\Desktop\\why didn't you choose me\\abstractImageTweakedpng\\abstractImageT702056.png is a low contrast image\n",
      "  imsave(filePath, image)\n"
     ]
    },
    {
     "name": "stdout",
     "output_type": "stream",
     "text": [
      "C:\\Users\\Karl\\Desktop\\why didn't you choose me\\abstractImageTweakedpng\\abstractImageT702057.png\n"
     ]
    },
    {
     "name": "stderr",
     "output_type": "stream",
     "text": [
      "<ipython-input-9-2b69156255fe>:55: UserWarning: C:\\Users\\Karl\\Desktop\\why didn't you choose me\\abstractImageTweakedpng\\abstractImageT702057.png is a low contrast image\n",
      "  imsave(filePath, image)\n"
     ]
    },
    {
     "name": "stdout",
     "output_type": "stream",
     "text": [
      "C:\\Users\\Karl\\Desktop\\why didn't you choose me\\abstractImageTweakedpng\\abstractImageT702058.png\n"
     ]
    },
    {
     "name": "stderr",
     "output_type": "stream",
     "text": [
      "<ipython-input-9-2b69156255fe>:55: UserWarning: C:\\Users\\Karl\\Desktop\\why didn't you choose me\\abstractImageTweakedpng\\abstractImageT702058.png is a low contrast image\n",
      "  imsave(filePath, image)\n"
     ]
    },
    {
     "name": "stdout",
     "output_type": "stream",
     "text": [
      "C:\\Users\\Karl\\Desktop\\why didn't you choose me\\abstractImageTweakedpng\\abstractImageT702059.png\n"
     ]
    },
    {
     "name": "stderr",
     "output_type": "stream",
     "text": [
      "<ipython-input-9-2b69156255fe>:55: UserWarning: C:\\Users\\Karl\\Desktop\\why didn't you choose me\\abstractImageTweakedpng\\abstractImageT702059.png is a low contrast image\n",
      "  imsave(filePath, image)\n"
     ]
    },
    {
     "name": "stdout",
     "output_type": "stream",
     "text": [
      "C:\\Users\\Karl\\Desktop\\why didn't you choose me\\abstractImageTweakedpng\\abstractImageT702060.png\n"
     ]
    },
    {
     "name": "stderr",
     "output_type": "stream",
     "text": [
      "<ipython-input-9-2b69156255fe>:55: UserWarning: C:\\Users\\Karl\\Desktop\\why didn't you choose me\\abstractImageTweakedpng\\abstractImageT702060.png is a low contrast image\n",
      "  imsave(filePath, image)\n"
     ]
    },
    {
     "name": "stdout",
     "output_type": "stream",
     "text": [
      "C:\\Users\\Karl\\Desktop\\why didn't you choose me\\abstractImageTweakedpng\\abstractImageT702061.png\n"
     ]
    },
    {
     "name": "stderr",
     "output_type": "stream",
     "text": [
      "<ipython-input-9-2b69156255fe>:55: UserWarning: C:\\Users\\Karl\\Desktop\\why didn't you choose me\\abstractImageTweakedpng\\abstractImageT702061.png is a low contrast image\n",
      "  imsave(filePath, image)\n"
     ]
    },
    {
     "name": "stdout",
     "output_type": "stream",
     "text": [
      "C:\\Users\\Karl\\Desktop\\why didn't you choose me\\abstractImageTweakedpng\\abstractImageT702062.png\n"
     ]
    },
    {
     "name": "stderr",
     "output_type": "stream",
     "text": [
      "<ipython-input-9-2b69156255fe>:55: UserWarning: C:\\Users\\Karl\\Desktop\\why didn't you choose me\\abstractImageTweakedpng\\abstractImageT702062.png is a low contrast image\n",
      "  imsave(filePath, image)\n"
     ]
    },
    {
     "name": "stdout",
     "output_type": "stream",
     "text": [
      "C:\\Users\\Karl\\Desktop\\why didn't you choose me\\abstractImageTweakedpng\\abstractImageT702063.png\n"
     ]
    },
    {
     "name": "stderr",
     "output_type": "stream",
     "text": [
      "<ipython-input-9-2b69156255fe>:55: UserWarning: C:\\Users\\Karl\\Desktop\\why didn't you choose me\\abstractImageTweakedpng\\abstractImageT702063.png is a low contrast image\n",
      "  imsave(filePath, image)\n"
     ]
    },
    {
     "name": "stdout",
     "output_type": "stream",
     "text": [
      "C:\\Users\\Karl\\Desktop\\why didn't you choose me\\abstractImageTweakedpng\\abstractImageT702064.png\n"
     ]
    },
    {
     "name": "stderr",
     "output_type": "stream",
     "text": [
      "<ipython-input-9-2b69156255fe>:55: UserWarning: C:\\Users\\Karl\\Desktop\\why didn't you choose me\\abstractImageTweakedpng\\abstractImageT702064.png is a low contrast image\n",
      "  imsave(filePath, image)\n"
     ]
    },
    {
     "name": "stdout",
     "output_type": "stream",
     "text": [
      "C:\\Users\\Karl\\Desktop\\why didn't you choose me\\abstractImageTweakedpng\\abstractImageT702065.png\n"
     ]
    },
    {
     "name": "stderr",
     "output_type": "stream",
     "text": [
      "<ipython-input-9-2b69156255fe>:55: UserWarning: C:\\Users\\Karl\\Desktop\\why didn't you choose me\\abstractImageTweakedpng\\abstractImageT702065.png is a low contrast image\n",
      "  imsave(filePath, image)\n"
     ]
    },
    {
     "name": "stdout",
     "output_type": "stream",
     "text": [
      "C:\\Users\\Karl\\Desktop\\why didn't you choose me\\abstractImageTweakedpng\\abstractImageT702066.png\n"
     ]
    },
    {
     "name": "stderr",
     "output_type": "stream",
     "text": [
      "<ipython-input-9-2b69156255fe>:55: UserWarning: C:\\Users\\Karl\\Desktop\\why didn't you choose me\\abstractImageTweakedpng\\abstractImageT702066.png is a low contrast image\n",
      "  imsave(filePath, image)\n"
     ]
    },
    {
     "name": "stdout",
     "output_type": "stream",
     "text": [
      "C:\\Users\\Karl\\Desktop\\why didn't you choose me\\abstractImageTweakedpng\\abstractImageT702067.png\n"
     ]
    },
    {
     "name": "stderr",
     "output_type": "stream",
     "text": [
      "<ipython-input-9-2b69156255fe>:55: UserWarning: C:\\Users\\Karl\\Desktop\\why didn't you choose me\\abstractImageTweakedpng\\abstractImageT702067.png is a low contrast image\n",
      "  imsave(filePath, image)\n"
     ]
    },
    {
     "name": "stdout",
     "output_type": "stream",
     "text": [
      "C:\\Users\\Karl\\Desktop\\why didn't you choose me\\abstractImageTweakedpng\\abstractImageT702068.png\n"
     ]
    },
    {
     "name": "stderr",
     "output_type": "stream",
     "text": [
      "<ipython-input-9-2b69156255fe>:55: UserWarning: C:\\Users\\Karl\\Desktop\\why didn't you choose me\\abstractImageTweakedpng\\abstractImageT702068.png is a low contrast image\n",
      "  imsave(filePath, image)\n"
     ]
    },
    {
     "name": "stdout",
     "output_type": "stream",
     "text": [
      "C:\\Users\\Karl\\Desktop\\why didn't you choose me\\abstractImageTweakedpng\\abstractImageT702069.png\n"
     ]
    },
    {
     "name": "stderr",
     "output_type": "stream",
     "text": [
      "<ipython-input-9-2b69156255fe>:55: UserWarning: C:\\Users\\Karl\\Desktop\\why didn't you choose me\\abstractImageTweakedpng\\abstractImageT702069.png is a low contrast image\n",
      "  imsave(filePath, image)\n"
     ]
    },
    {
     "name": "stdout",
     "output_type": "stream",
     "text": [
      "C:\\Users\\Karl\\Desktop\\why didn't you choose me\\abstractImageTweakedpng\\abstractImageT702070.png\n"
     ]
    },
    {
     "name": "stderr",
     "output_type": "stream",
     "text": [
      "<ipython-input-9-2b69156255fe>:55: UserWarning: C:\\Users\\Karl\\Desktop\\why didn't you choose me\\abstractImageTweakedpng\\abstractImageT702070.png is a low contrast image\n",
      "  imsave(filePath, image)\n"
     ]
    },
    {
     "name": "stdout",
     "output_type": "stream",
     "text": [
      "C:\\Users\\Karl\\Desktop\\why didn't you choose me\\abstractImageTweakedpng\\abstractImageT702071.png\n"
     ]
    },
    {
     "name": "stderr",
     "output_type": "stream",
     "text": [
      "<ipython-input-9-2b69156255fe>:55: UserWarning: C:\\Users\\Karl\\Desktop\\why didn't you choose me\\abstractImageTweakedpng\\abstractImageT702071.png is a low contrast image\n",
      "  imsave(filePath, image)\n"
     ]
    },
    {
     "name": "stdout",
     "output_type": "stream",
     "text": [
      "C:\\Users\\Karl\\Desktop\\why didn't you choose me\\abstractImageTweakedpng\\abstractImageT702072.png\n"
     ]
    },
    {
     "name": "stderr",
     "output_type": "stream",
     "text": [
      "<ipython-input-9-2b69156255fe>:55: UserWarning: C:\\Users\\Karl\\Desktop\\why didn't you choose me\\abstractImageTweakedpng\\abstractImageT702072.png is a low contrast image\n",
      "  imsave(filePath, image)\n"
     ]
    },
    {
     "name": "stdout",
     "output_type": "stream",
     "text": [
      "C:\\Users\\Karl\\Desktop\\why didn't you choose me\\abstractImageTweakedpng\\abstractImageT702073.png\n"
     ]
    },
    {
     "name": "stderr",
     "output_type": "stream",
     "text": [
      "<ipython-input-9-2b69156255fe>:55: UserWarning: C:\\Users\\Karl\\Desktop\\why didn't you choose me\\abstractImageTweakedpng\\abstractImageT702073.png is a low contrast image\n",
      "  imsave(filePath, image)\n"
     ]
    },
    {
     "name": "stdout",
     "output_type": "stream",
     "text": [
      "C:\\Users\\Karl\\Desktop\\why didn't you choose me\\abstractImageTweakedpng\\abstractImageT702074.png\n"
     ]
    },
    {
     "name": "stderr",
     "output_type": "stream",
     "text": [
      "<ipython-input-9-2b69156255fe>:55: UserWarning: C:\\Users\\Karl\\Desktop\\why didn't you choose me\\abstractImageTweakedpng\\abstractImageT702074.png is a low contrast image\n",
      "  imsave(filePath, image)\n"
     ]
    },
    {
     "name": "stdout",
     "output_type": "stream",
     "text": [
      "C:\\Users\\Karl\\Desktop\\why didn't you choose me\\abstractImageTweakedpng\\abstractImageT702075.png\n"
     ]
    },
    {
     "name": "stderr",
     "output_type": "stream",
     "text": [
      "<ipython-input-9-2b69156255fe>:55: UserWarning: C:\\Users\\Karl\\Desktop\\why didn't you choose me\\abstractImageTweakedpng\\abstractImageT702075.png is a low contrast image\n",
      "  imsave(filePath, image)\n"
     ]
    },
    {
     "name": "stdout",
     "output_type": "stream",
     "text": [
      "C:\\Users\\Karl\\Desktop\\why didn't you choose me\\abstractImageTweakedpng\\abstractImageT702076.png\n"
     ]
    },
    {
     "name": "stderr",
     "output_type": "stream",
     "text": [
      "<ipython-input-9-2b69156255fe>:55: UserWarning: C:\\Users\\Karl\\Desktop\\why didn't you choose me\\abstractImageTweakedpng\\abstractImageT702076.png is a low contrast image\n",
      "  imsave(filePath, image)\n"
     ]
    },
    {
     "name": "stdout",
     "output_type": "stream",
     "text": [
      "C:\\Users\\Karl\\Desktop\\why didn't you choose me\\abstractImageTweakedpng\\abstractImageT702077.png\n"
     ]
    },
    {
     "name": "stderr",
     "output_type": "stream",
     "text": [
      "<ipython-input-9-2b69156255fe>:55: UserWarning: C:\\Users\\Karl\\Desktop\\why didn't you choose me\\abstractImageTweakedpng\\abstractImageT702077.png is a low contrast image\n",
      "  imsave(filePath, image)\n"
     ]
    },
    {
     "name": "stdout",
     "output_type": "stream",
     "text": [
      "C:\\Users\\Karl\\Desktop\\why didn't you choose me\\abstractImageTweakedpng\\abstractImageT702078.png\n"
     ]
    },
    {
     "name": "stderr",
     "output_type": "stream",
     "text": [
      "<ipython-input-9-2b69156255fe>:55: UserWarning: C:\\Users\\Karl\\Desktop\\why didn't you choose me\\abstractImageTweakedpng\\abstractImageT702078.png is a low contrast image\n",
      "  imsave(filePath, image)\n"
     ]
    },
    {
     "name": "stdout",
     "output_type": "stream",
     "text": [
      "C:\\Users\\Karl\\Desktop\\why didn't you choose me\\abstractImageTweakedpng\\abstractImageT702079.png\n"
     ]
    },
    {
     "name": "stderr",
     "output_type": "stream",
     "text": [
      "<ipython-input-9-2b69156255fe>:55: UserWarning: C:\\Users\\Karl\\Desktop\\why didn't you choose me\\abstractImageTweakedpng\\abstractImageT702079.png is a low contrast image\n",
      "  imsave(filePath, image)\n"
     ]
    },
    {
     "name": "stdout",
     "output_type": "stream",
     "text": [
      "C:\\Users\\Karl\\Desktop\\why didn't you choose me\\abstractImageTweakedpng\\abstractImageT702080.png\n"
     ]
    },
    {
     "name": "stderr",
     "output_type": "stream",
     "text": [
      "<ipython-input-9-2b69156255fe>:55: UserWarning: C:\\Users\\Karl\\Desktop\\why didn't you choose me\\abstractImageTweakedpng\\abstractImageT702080.png is a low contrast image\n",
      "  imsave(filePath, image)\n"
     ]
    },
    {
     "name": "stdout",
     "output_type": "stream",
     "text": [
      "C:\\Users\\Karl\\Desktop\\why didn't you choose me\\abstractImageTweakedpng\\abstractImageT702081.png\n"
     ]
    },
    {
     "name": "stderr",
     "output_type": "stream",
     "text": [
      "<ipython-input-9-2b69156255fe>:55: UserWarning: C:\\Users\\Karl\\Desktop\\why didn't you choose me\\abstractImageTweakedpng\\abstractImageT702081.png is a low contrast image\n",
      "  imsave(filePath, image)\n"
     ]
    },
    {
     "name": "stdout",
     "output_type": "stream",
     "text": [
      "C:\\Users\\Karl\\Desktop\\why didn't you choose me\\abstractImageTweakedpng\\abstractImageT702082.png\n"
     ]
    },
    {
     "name": "stderr",
     "output_type": "stream",
     "text": [
      "<ipython-input-9-2b69156255fe>:55: UserWarning: C:\\Users\\Karl\\Desktop\\why didn't you choose me\\abstractImageTweakedpng\\abstractImageT702082.png is a low contrast image\n",
      "  imsave(filePath, image)\n"
     ]
    },
    {
     "name": "stdout",
     "output_type": "stream",
     "text": [
      "C:\\Users\\Karl\\Desktop\\why didn't you choose me\\abstractImageTweakedpng\\abstractImageT702083.png\n"
     ]
    },
    {
     "name": "stderr",
     "output_type": "stream",
     "text": [
      "<ipython-input-9-2b69156255fe>:55: UserWarning: C:\\Users\\Karl\\Desktop\\why didn't you choose me\\abstractImageTweakedpng\\abstractImageT702083.png is a low contrast image\n",
      "  imsave(filePath, image)\n"
     ]
    },
    {
     "name": "stdout",
     "output_type": "stream",
     "text": [
      "C:\\Users\\Karl\\Desktop\\why didn't you choose me\\abstractImageTweakedpng\\abstractImageT702084.png\n"
     ]
    },
    {
     "name": "stderr",
     "output_type": "stream",
     "text": [
      "<ipython-input-9-2b69156255fe>:55: UserWarning: C:\\Users\\Karl\\Desktop\\why didn't you choose me\\abstractImageTweakedpng\\abstractImageT702084.png is a low contrast image\n",
      "  imsave(filePath, image)\n"
     ]
    },
    {
     "name": "stdout",
     "output_type": "stream",
     "text": [
      "C:\\Users\\Karl\\Desktop\\why didn't you choose me\\abstractImageTweakedpng\\abstractImageT702085.png\n"
     ]
    },
    {
     "name": "stderr",
     "output_type": "stream",
     "text": [
      "<ipython-input-9-2b69156255fe>:55: UserWarning: C:\\Users\\Karl\\Desktop\\why didn't you choose me\\abstractImageTweakedpng\\abstractImageT702085.png is a low contrast image\n",
      "  imsave(filePath, image)\n"
     ]
    },
    {
     "name": "stdout",
     "output_type": "stream",
     "text": [
      "C:\\Users\\Karl\\Desktop\\why didn't you choose me\\abstractImageTweakedpng\\abstractImageT702086.png\n"
     ]
    },
    {
     "name": "stderr",
     "output_type": "stream",
     "text": [
      "<ipython-input-9-2b69156255fe>:55: UserWarning: C:\\Users\\Karl\\Desktop\\why didn't you choose me\\abstractImageTweakedpng\\abstractImageT702086.png is a low contrast image\n",
      "  imsave(filePath, image)\n"
     ]
    },
    {
     "name": "stdout",
     "output_type": "stream",
     "text": [
      "C:\\Users\\Karl\\Desktop\\why didn't you choose me\\abstractImageTweakedpng\\abstractImageT702087.png\n"
     ]
    },
    {
     "name": "stderr",
     "output_type": "stream",
     "text": [
      "<ipython-input-9-2b69156255fe>:55: UserWarning: C:\\Users\\Karl\\Desktop\\why didn't you choose me\\abstractImageTweakedpng\\abstractImageT702087.png is a low contrast image\n",
      "  imsave(filePath, image)\n"
     ]
    },
    {
     "name": "stdout",
     "output_type": "stream",
     "text": [
      "C:\\Users\\Karl\\Desktop\\why didn't you choose me\\abstractImageTweakedpng\\abstractImageT702088.png\n"
     ]
    },
    {
     "name": "stderr",
     "output_type": "stream",
     "text": [
      "<ipython-input-9-2b69156255fe>:55: UserWarning: C:\\Users\\Karl\\Desktop\\why didn't you choose me\\abstractImageTweakedpng\\abstractImageT702088.png is a low contrast image\n",
      "  imsave(filePath, image)\n"
     ]
    },
    {
     "name": "stdout",
     "output_type": "stream",
     "text": [
      "C:\\Users\\Karl\\Desktop\\why didn't you choose me\\abstractImageTweakedpng\\abstractImageT702089.png\n"
     ]
    },
    {
     "name": "stderr",
     "output_type": "stream",
     "text": [
      "<ipython-input-9-2b69156255fe>:55: UserWarning: C:\\Users\\Karl\\Desktop\\why didn't you choose me\\abstractImageTweakedpng\\abstractImageT702089.png is a low contrast image\n",
      "  imsave(filePath, image)\n"
     ]
    },
    {
     "name": "stdout",
     "output_type": "stream",
     "text": [
      "C:\\Users\\Karl\\Desktop\\why didn't you choose me\\abstractImageTweakedpng\\abstractImageT702090.png\n"
     ]
    },
    {
     "name": "stderr",
     "output_type": "stream",
     "text": [
      "<ipython-input-9-2b69156255fe>:55: UserWarning: C:\\Users\\Karl\\Desktop\\why didn't you choose me\\abstractImageTweakedpng\\abstractImageT702090.png is a low contrast image\n",
      "  imsave(filePath, image)\n"
     ]
    },
    {
     "name": "stdout",
     "output_type": "stream",
     "text": [
      "C:\\Users\\Karl\\Desktop\\why didn't you choose me\\abstractImageTweakedpng\\abstractImageT702091.png\n"
     ]
    },
    {
     "name": "stderr",
     "output_type": "stream",
     "text": [
      "<ipython-input-9-2b69156255fe>:55: UserWarning: C:\\Users\\Karl\\Desktop\\why didn't you choose me\\abstractImageTweakedpng\\abstractImageT702091.png is a low contrast image\n",
      "  imsave(filePath, image)\n"
     ]
    },
    {
     "name": "stdout",
     "output_type": "stream",
     "text": [
      "C:\\Users\\Karl\\Desktop\\why didn't you choose me\\abstractImageTweakedpng\\abstractImageT702092.png\n"
     ]
    },
    {
     "name": "stderr",
     "output_type": "stream",
     "text": [
      "<ipython-input-9-2b69156255fe>:55: UserWarning: C:\\Users\\Karl\\Desktop\\why didn't you choose me\\abstractImageTweakedpng\\abstractImageT702092.png is a low contrast image\n",
      "  imsave(filePath, image)\n"
     ]
    },
    {
     "name": "stdout",
     "output_type": "stream",
     "text": [
      "C:\\Users\\Karl\\Desktop\\why didn't you choose me\\abstractImageTweakedpng\\abstractImageT702093.png\n"
     ]
    },
    {
     "name": "stderr",
     "output_type": "stream",
     "text": [
      "<ipython-input-9-2b69156255fe>:55: UserWarning: C:\\Users\\Karl\\Desktop\\why didn't you choose me\\abstractImageTweakedpng\\abstractImageT702093.png is a low contrast image\n",
      "  imsave(filePath, image)\n"
     ]
    },
    {
     "name": "stdout",
     "output_type": "stream",
     "text": [
      "C:\\Users\\Karl\\Desktop\\why didn't you choose me\\abstractImageTweakedpng\\abstractImageT702094.png\n"
     ]
    },
    {
     "name": "stderr",
     "output_type": "stream",
     "text": [
      "<ipython-input-9-2b69156255fe>:55: UserWarning: C:\\Users\\Karl\\Desktop\\why didn't you choose me\\abstractImageTweakedpng\\abstractImageT702094.png is a low contrast image\n",
      "  imsave(filePath, image)\n"
     ]
    },
    {
     "name": "stdout",
     "output_type": "stream",
     "text": [
      "C:\\Users\\Karl\\Desktop\\why didn't you choose me\\abstractImageTweakedpng\\abstractImageT702095.png\n"
     ]
    },
    {
     "name": "stderr",
     "output_type": "stream",
     "text": [
      "<ipython-input-9-2b69156255fe>:55: UserWarning: C:\\Users\\Karl\\Desktop\\why didn't you choose me\\abstractImageTweakedpng\\abstractImageT702095.png is a low contrast image\n",
      "  imsave(filePath, image)\n"
     ]
    },
    {
     "name": "stdout",
     "output_type": "stream",
     "text": [
      "C:\\Users\\Karl\\Desktop\\why didn't you choose me\\abstractImageTweakedpng\\abstractImageT702096.png\n"
     ]
    },
    {
     "name": "stderr",
     "output_type": "stream",
     "text": [
      "<ipython-input-9-2b69156255fe>:55: UserWarning: C:\\Users\\Karl\\Desktop\\why didn't you choose me\\abstractImageTweakedpng\\abstractImageT702096.png is a low contrast image\n",
      "  imsave(filePath, image)\n"
     ]
    },
    {
     "name": "stdout",
     "output_type": "stream",
     "text": [
      "C:\\Users\\Karl\\Desktop\\why didn't you choose me\\abstractImageTweakedpng\\abstractImageT702097.png\n"
     ]
    },
    {
     "name": "stderr",
     "output_type": "stream",
     "text": [
      "<ipython-input-9-2b69156255fe>:55: UserWarning: C:\\Users\\Karl\\Desktop\\why didn't you choose me\\abstractImageTweakedpng\\abstractImageT702097.png is a low contrast image\n",
      "  imsave(filePath, image)\n"
     ]
    },
    {
     "name": "stdout",
     "output_type": "stream",
     "text": [
      "C:\\Users\\Karl\\Desktop\\why didn't you choose me\\abstractImageTweakedpng\\abstractImageT702098.png\n"
     ]
    },
    {
     "name": "stderr",
     "output_type": "stream",
     "text": [
      "<ipython-input-9-2b69156255fe>:55: UserWarning: C:\\Users\\Karl\\Desktop\\why didn't you choose me\\abstractImageTweakedpng\\abstractImageT702098.png is a low contrast image\n",
      "  imsave(filePath, image)\n"
     ]
    },
    {
     "name": "stdout",
     "output_type": "stream",
     "text": [
      "C:\\Users\\Karl\\Desktop\\why didn't you choose me\\abstractImageTweakedpng\\abstractImageT702099.png\n"
     ]
    },
    {
     "name": "stderr",
     "output_type": "stream",
     "text": [
      "<ipython-input-9-2b69156255fe>:55: UserWarning: C:\\Users\\Karl\\Desktop\\why didn't you choose me\\abstractImageTweakedpng\\abstractImageT702099.png is a low contrast image\n",
      "  imsave(filePath, image)\n"
     ]
    },
    {
     "name": "stdout",
     "output_type": "stream",
     "text": [
      "C:\\Users\\Karl\\Desktop\\why didn't you choose me\\abstractImageTweakedpng\\abstractImageT702100.png\n"
     ]
    },
    {
     "name": "stderr",
     "output_type": "stream",
     "text": [
      "<ipython-input-9-2b69156255fe>:55: UserWarning: C:\\Users\\Karl\\Desktop\\why didn't you choose me\\abstractImageTweakedpng\\abstractImageT702100.png is a low contrast image\n",
      "  imsave(filePath, image)\n"
     ]
    },
    {
     "name": "stdout",
     "output_type": "stream",
     "text": [
      "C:\\Users\\Karl\\Desktop\\why didn't you choose me\\abstractImageTweakedpng\\abstractImageT702101.png\n"
     ]
    },
    {
     "name": "stderr",
     "output_type": "stream",
     "text": [
      "<ipython-input-9-2b69156255fe>:55: UserWarning: C:\\Users\\Karl\\Desktop\\why didn't you choose me\\abstractImageTweakedpng\\abstractImageT702101.png is a low contrast image\n",
      "  imsave(filePath, image)\n"
     ]
    },
    {
     "name": "stdout",
     "output_type": "stream",
     "text": [
      "C:\\Users\\Karl\\Desktop\\why didn't you choose me\\abstractImageTweakedpng\\abstractImageT702102.png\n"
     ]
    },
    {
     "name": "stderr",
     "output_type": "stream",
     "text": [
      "<ipython-input-9-2b69156255fe>:55: UserWarning: C:\\Users\\Karl\\Desktop\\why didn't you choose me\\abstractImageTweakedpng\\abstractImageT702102.png is a low contrast image\n",
      "  imsave(filePath, image)\n"
     ]
    },
    {
     "name": "stdout",
     "output_type": "stream",
     "text": [
      "C:\\Users\\Karl\\Desktop\\why didn't you choose me\\abstractImageTweakedpng\\abstractImageT702103.png\n"
     ]
    },
    {
     "name": "stderr",
     "output_type": "stream",
     "text": [
      "<ipython-input-9-2b69156255fe>:55: UserWarning: C:\\Users\\Karl\\Desktop\\why didn't you choose me\\abstractImageTweakedpng\\abstractImageT702103.png is a low contrast image\n",
      "  imsave(filePath, image)\n"
     ]
    },
    {
     "name": "stdout",
     "output_type": "stream",
     "text": [
      "C:\\Users\\Karl\\Desktop\\why didn't you choose me\\abstractImageTweakedpng\\abstractImageT702104.png\n"
     ]
    },
    {
     "name": "stderr",
     "output_type": "stream",
     "text": [
      "<ipython-input-9-2b69156255fe>:55: UserWarning: C:\\Users\\Karl\\Desktop\\why didn't you choose me\\abstractImageTweakedpng\\abstractImageT702104.png is a low contrast image\n",
      "  imsave(filePath, image)\n"
     ]
    },
    {
     "name": "stdout",
     "output_type": "stream",
     "text": [
      "C:\\Users\\Karl\\Desktop\\why didn't you choose me\\abstractImageTweakedpng\\abstractImageT702105.png\n"
     ]
    },
    {
     "name": "stderr",
     "output_type": "stream",
     "text": [
      "<ipython-input-9-2b69156255fe>:55: UserWarning: C:\\Users\\Karl\\Desktop\\why didn't you choose me\\abstractImageTweakedpng\\abstractImageT702105.png is a low contrast image\n",
      "  imsave(filePath, image)\n"
     ]
    },
    {
     "name": "stdout",
     "output_type": "stream",
     "text": [
      "C:\\Users\\Karl\\Desktop\\why didn't you choose me\\abstractImageTweakedpng\\abstractImageT702106.png\n"
     ]
    },
    {
     "name": "stderr",
     "output_type": "stream",
     "text": [
      "<ipython-input-9-2b69156255fe>:55: UserWarning: C:\\Users\\Karl\\Desktop\\why didn't you choose me\\abstractImageTweakedpng\\abstractImageT702106.png is a low contrast image\n",
      "  imsave(filePath, image)\n"
     ]
    },
    {
     "name": "stdout",
     "output_type": "stream",
     "text": [
      "C:\\Users\\Karl\\Desktop\\why didn't you choose me\\abstractImageTweakedpng\\abstractImageT702107.png\n"
     ]
    },
    {
     "name": "stderr",
     "output_type": "stream",
     "text": [
      "<ipython-input-9-2b69156255fe>:55: UserWarning: C:\\Users\\Karl\\Desktop\\why didn't you choose me\\abstractImageTweakedpng\\abstractImageT702107.png is a low contrast image\n",
      "  imsave(filePath, image)\n"
     ]
    },
    {
     "name": "stdout",
     "output_type": "stream",
     "text": [
      "C:\\Users\\Karl\\Desktop\\why didn't you choose me\\abstractImageTweakedpng\\abstractImageT702108.png\n"
     ]
    },
    {
     "name": "stderr",
     "output_type": "stream",
     "text": [
      "<ipython-input-9-2b69156255fe>:55: UserWarning: C:\\Users\\Karl\\Desktop\\why didn't you choose me\\abstractImageTweakedpng\\abstractImageT702108.png is a low contrast image\n",
      "  imsave(filePath, image)\n"
     ]
    },
    {
     "name": "stdout",
     "output_type": "stream",
     "text": [
      "C:\\Users\\Karl\\Desktop\\why didn't you choose me\\abstractImageTweakedpng\\abstractImageT702109.png\n"
     ]
    },
    {
     "name": "stderr",
     "output_type": "stream",
     "text": [
      "<ipython-input-9-2b69156255fe>:55: UserWarning: C:\\Users\\Karl\\Desktop\\why didn't you choose me\\abstractImageTweakedpng\\abstractImageT702109.png is a low contrast image\n",
      "  imsave(filePath, image)\n"
     ]
    },
    {
     "name": "stdout",
     "output_type": "stream",
     "text": [
      "C:\\Users\\Karl\\Desktop\\why didn't you choose me\\abstractImageTweakedpng\\abstractImageT702110.png\n"
     ]
    },
    {
     "name": "stderr",
     "output_type": "stream",
     "text": [
      "<ipython-input-9-2b69156255fe>:55: UserWarning: C:\\Users\\Karl\\Desktop\\why didn't you choose me\\abstractImageTweakedpng\\abstractImageT702110.png is a low contrast image\n",
      "  imsave(filePath, image)\n"
     ]
    },
    {
     "name": "stdout",
     "output_type": "stream",
     "text": [
      "C:\\Users\\Karl\\Desktop\\why didn't you choose me\\abstractImageTweakedpng\\abstractImageT702111.png\n"
     ]
    },
    {
     "name": "stderr",
     "output_type": "stream",
     "text": [
      "<ipython-input-9-2b69156255fe>:55: UserWarning: C:\\Users\\Karl\\Desktop\\why didn't you choose me\\abstractImageTweakedpng\\abstractImageT702111.png is a low contrast image\n",
      "  imsave(filePath, image)\n"
     ]
    },
    {
     "name": "stdout",
     "output_type": "stream",
     "text": [
      "C:\\Users\\Karl\\Desktop\\why didn't you choose me\\abstractImageTweakedpng\\abstractImageT702112.png\n"
     ]
    },
    {
     "name": "stderr",
     "output_type": "stream",
     "text": [
      "<ipython-input-9-2b69156255fe>:55: UserWarning: C:\\Users\\Karl\\Desktop\\why didn't you choose me\\abstractImageTweakedpng\\abstractImageT702112.png is a low contrast image\n",
      "  imsave(filePath, image)\n"
     ]
    },
    {
     "name": "stdout",
     "output_type": "stream",
     "text": [
      "C:\\Users\\Karl\\Desktop\\why didn't you choose me\\abstractImageTweakedpng\\abstractImageT702113.png\n"
     ]
    },
    {
     "name": "stderr",
     "output_type": "stream",
     "text": [
      "<ipython-input-9-2b69156255fe>:55: UserWarning: C:\\Users\\Karl\\Desktop\\why didn't you choose me\\abstractImageTweakedpng\\abstractImageT702113.png is a low contrast image\n",
      "  imsave(filePath, image)\n"
     ]
    },
    {
     "name": "stdout",
     "output_type": "stream",
     "text": [
      "C:\\Users\\Karl\\Desktop\\why didn't you choose me\\abstractImageTweakedpng\\abstractImageT702114.png\n"
     ]
    },
    {
     "name": "stderr",
     "output_type": "stream",
     "text": [
      "<ipython-input-9-2b69156255fe>:55: UserWarning: C:\\Users\\Karl\\Desktop\\why didn't you choose me\\abstractImageTweakedpng\\abstractImageT702114.png is a low contrast image\n",
      "  imsave(filePath, image)\n"
     ]
    },
    {
     "name": "stdout",
     "output_type": "stream",
     "text": [
      "C:\\Users\\Karl\\Desktop\\why didn't you choose me\\abstractImageTweakedpng\\abstractImageT702115.png\n"
     ]
    },
    {
     "name": "stderr",
     "output_type": "stream",
     "text": [
      "<ipython-input-9-2b69156255fe>:55: UserWarning: C:\\Users\\Karl\\Desktop\\why didn't you choose me\\abstractImageTweakedpng\\abstractImageT702115.png is a low contrast image\n",
      "  imsave(filePath, image)\n"
     ]
    },
    {
     "name": "stdout",
     "output_type": "stream",
     "text": [
      "C:\\Users\\Karl\\Desktop\\why didn't you choose me\\abstractImageTweakedpng\\abstractImageT702116.png\n"
     ]
    },
    {
     "name": "stderr",
     "output_type": "stream",
     "text": [
      "<ipython-input-9-2b69156255fe>:55: UserWarning: C:\\Users\\Karl\\Desktop\\why didn't you choose me\\abstractImageTweakedpng\\abstractImageT702116.png is a low contrast image\n",
      "  imsave(filePath, image)\n"
     ]
    },
    {
     "name": "stdout",
     "output_type": "stream",
     "text": [
      "C:\\Users\\Karl\\Desktop\\why didn't you choose me\\abstractImageTweakedpng\\abstractImageT702117.png\n"
     ]
    },
    {
     "name": "stderr",
     "output_type": "stream",
     "text": [
      "<ipython-input-9-2b69156255fe>:55: UserWarning: C:\\Users\\Karl\\Desktop\\why didn't you choose me\\abstractImageTweakedpng\\abstractImageT702117.png is a low contrast image\n",
      "  imsave(filePath, image)\n"
     ]
    },
    {
     "name": "stdout",
     "output_type": "stream",
     "text": [
      "C:\\Users\\Karl\\Desktop\\why didn't you choose me\\abstractImageTweakedpng\\abstractImageT702118.png\n"
     ]
    },
    {
     "name": "stderr",
     "output_type": "stream",
     "text": [
      "<ipython-input-9-2b69156255fe>:55: UserWarning: C:\\Users\\Karl\\Desktop\\why didn't you choose me\\abstractImageTweakedpng\\abstractImageT702118.png is a low contrast image\n",
      "  imsave(filePath, image)\n"
     ]
    },
    {
     "name": "stdout",
     "output_type": "stream",
     "text": [
      "C:\\Users\\Karl\\Desktop\\why didn't you choose me\\abstractImageTweakedpng\\abstractImageT702119.png\n"
     ]
    },
    {
     "name": "stderr",
     "output_type": "stream",
     "text": [
      "<ipython-input-9-2b69156255fe>:55: UserWarning: C:\\Users\\Karl\\Desktop\\why didn't you choose me\\abstractImageTweakedpng\\abstractImageT702119.png is a low contrast image\n",
      "  imsave(filePath, image)\n"
     ]
    },
    {
     "name": "stdout",
     "output_type": "stream",
     "text": [
      "C:\\Users\\Karl\\Desktop\\why didn't you choose me\\abstractImageTweakedpng\\abstractImageT702120.png\n"
     ]
    },
    {
     "name": "stderr",
     "output_type": "stream",
     "text": [
      "<ipython-input-9-2b69156255fe>:55: UserWarning: C:\\Users\\Karl\\Desktop\\why didn't you choose me\\abstractImageTweakedpng\\abstractImageT702120.png is a low contrast image\n",
      "  imsave(filePath, image)\n"
     ]
    },
    {
     "name": "stdout",
     "output_type": "stream",
     "text": [
      "C:\\Users\\Karl\\Desktop\\why didn't you choose me\\abstractImageTweakedpng\\abstractImageT702121.png\n"
     ]
    },
    {
     "name": "stderr",
     "output_type": "stream",
     "text": [
      "<ipython-input-9-2b69156255fe>:55: UserWarning: C:\\Users\\Karl\\Desktop\\why didn't you choose me\\abstractImageTweakedpng\\abstractImageT702121.png is a low contrast image\n",
      "  imsave(filePath, image)\n"
     ]
    },
    {
     "name": "stdout",
     "output_type": "stream",
     "text": [
      "C:\\Users\\Karl\\Desktop\\why didn't you choose me\\abstractImageTweakedpng\\abstractImageT702122.png\n"
     ]
    },
    {
     "name": "stderr",
     "output_type": "stream",
     "text": [
      "<ipython-input-9-2b69156255fe>:55: UserWarning: C:\\Users\\Karl\\Desktop\\why didn't you choose me\\abstractImageTweakedpng\\abstractImageT702122.png is a low contrast image\n",
      "  imsave(filePath, image)\n"
     ]
    },
    {
     "name": "stdout",
     "output_type": "stream",
     "text": [
      "C:\\Users\\Karl\\Desktop\\why didn't you choose me\\abstractImageTweakedpng\\abstractImageT702123.png\n"
     ]
    },
    {
     "name": "stderr",
     "output_type": "stream",
     "text": [
      "<ipython-input-9-2b69156255fe>:55: UserWarning: C:\\Users\\Karl\\Desktop\\why didn't you choose me\\abstractImageTweakedpng\\abstractImageT702123.png is a low contrast image\n",
      "  imsave(filePath, image)\n"
     ]
    },
    {
     "name": "stdout",
     "output_type": "stream",
     "text": [
      "C:\\Users\\Karl\\Desktop\\why didn't you choose me\\abstractImageTweakedpng\\abstractImageT702124.png\n"
     ]
    },
    {
     "name": "stderr",
     "output_type": "stream",
     "text": [
      "<ipython-input-9-2b69156255fe>:55: UserWarning: C:\\Users\\Karl\\Desktop\\why didn't you choose me\\abstractImageTweakedpng\\abstractImageT702124.png is a low contrast image\n",
      "  imsave(filePath, image)\n"
     ]
    },
    {
     "name": "stdout",
     "output_type": "stream",
     "text": [
      "C:\\Users\\Karl\\Desktop\\why didn't you choose me\\abstractImageTweakedpng\\abstractImageT702125.png\n"
     ]
    },
    {
     "name": "stderr",
     "output_type": "stream",
     "text": [
      "<ipython-input-9-2b69156255fe>:55: UserWarning: C:\\Users\\Karl\\Desktop\\why didn't you choose me\\abstractImageTweakedpng\\abstractImageT702125.png is a low contrast image\n",
      "  imsave(filePath, image)\n"
     ]
    },
    {
     "name": "stdout",
     "output_type": "stream",
     "text": [
      "C:\\Users\\Karl\\Desktop\\why didn't you choose me\\abstractImageTweakedpng\\abstractImageT702126.png\n"
     ]
    },
    {
     "name": "stderr",
     "output_type": "stream",
     "text": [
      "<ipython-input-9-2b69156255fe>:55: UserWarning: C:\\Users\\Karl\\Desktop\\why didn't you choose me\\abstractImageTweakedpng\\abstractImageT702126.png is a low contrast image\n",
      "  imsave(filePath, image)\n"
     ]
    },
    {
     "name": "stdout",
     "output_type": "stream",
     "text": [
      "C:\\Users\\Karl\\Desktop\\why didn't you choose me\\abstractImageTweakedpng\\abstractImageT702127.png\n"
     ]
    },
    {
     "name": "stderr",
     "output_type": "stream",
     "text": [
      "<ipython-input-9-2b69156255fe>:55: UserWarning: C:\\Users\\Karl\\Desktop\\why didn't you choose me\\abstractImageTweakedpng\\abstractImageT702127.png is a low contrast image\n",
      "  imsave(filePath, image)\n"
     ]
    },
    {
     "name": "stdout",
     "output_type": "stream",
     "text": [
      "C:\\Users\\Karl\\Desktop\\why didn't you choose me\\abstractImageTweakedpng\\abstractImageT702128.png\n"
     ]
    },
    {
     "name": "stderr",
     "output_type": "stream",
     "text": [
      "<ipython-input-9-2b69156255fe>:55: UserWarning: C:\\Users\\Karl\\Desktop\\why didn't you choose me\\abstractImageTweakedpng\\abstractImageT702128.png is a low contrast image\n",
      "  imsave(filePath, image)\n"
     ]
    },
    {
     "name": "stdout",
     "output_type": "stream",
     "text": [
      "C:\\Users\\Karl\\Desktop\\why didn't you choose me\\abstractImageTweakedpng\\abstractImageT702129.png\n"
     ]
    },
    {
     "name": "stderr",
     "output_type": "stream",
     "text": [
      "<ipython-input-9-2b69156255fe>:55: UserWarning: C:\\Users\\Karl\\Desktop\\why didn't you choose me\\abstractImageTweakedpng\\abstractImageT702129.png is a low contrast image\n",
      "  imsave(filePath, image)\n"
     ]
    },
    {
     "name": "stdout",
     "output_type": "stream",
     "text": [
      "C:\\Users\\Karl\\Desktop\\why didn't you choose me\\abstractImageTweakedpng\\abstractImageT702130.png\n"
     ]
    },
    {
     "name": "stderr",
     "output_type": "stream",
     "text": [
      "<ipython-input-9-2b69156255fe>:55: UserWarning: C:\\Users\\Karl\\Desktop\\why didn't you choose me\\abstractImageTweakedpng\\abstractImageT702130.png is a low contrast image\n",
      "  imsave(filePath, image)\n"
     ]
    },
    {
     "name": "stdout",
     "output_type": "stream",
     "text": [
      "C:\\Users\\Karl\\Desktop\\why didn't you choose me\\abstractImageTweakedpng\\abstractImageT702131.png\n"
     ]
    },
    {
     "name": "stderr",
     "output_type": "stream",
     "text": [
      "<ipython-input-9-2b69156255fe>:55: UserWarning: C:\\Users\\Karl\\Desktop\\why didn't you choose me\\abstractImageTweakedpng\\abstractImageT702131.png is a low contrast image\n",
      "  imsave(filePath, image)\n"
     ]
    },
    {
     "name": "stdout",
     "output_type": "stream",
     "text": [
      "C:\\Users\\Karl\\Desktop\\why didn't you choose me\\abstractImageTweakedpng\\abstractImageT702132.png\n"
     ]
    },
    {
     "name": "stderr",
     "output_type": "stream",
     "text": [
      "<ipython-input-9-2b69156255fe>:55: UserWarning: C:\\Users\\Karl\\Desktop\\why didn't you choose me\\abstractImageTweakedpng\\abstractImageT702132.png is a low contrast image\n",
      "  imsave(filePath, image)\n"
     ]
    },
    {
     "name": "stdout",
     "output_type": "stream",
     "text": [
      "C:\\Users\\Karl\\Desktop\\why didn't you choose me\\abstractImageTweakedpng\\abstractImageT702133.png\n"
     ]
    },
    {
     "name": "stderr",
     "output_type": "stream",
     "text": [
      "<ipython-input-9-2b69156255fe>:55: UserWarning: C:\\Users\\Karl\\Desktop\\why didn't you choose me\\abstractImageTweakedpng\\abstractImageT702133.png is a low contrast image\n",
      "  imsave(filePath, image)\n"
     ]
    },
    {
     "name": "stdout",
     "output_type": "stream",
     "text": [
      "C:\\Users\\Karl\\Desktop\\why didn't you choose me\\abstractImageTweakedpng\\abstractImageT702134.png\n"
     ]
    },
    {
     "name": "stderr",
     "output_type": "stream",
     "text": [
      "<ipython-input-9-2b69156255fe>:55: UserWarning: C:\\Users\\Karl\\Desktop\\why didn't you choose me\\abstractImageTweakedpng\\abstractImageT702134.png is a low contrast image\n",
      "  imsave(filePath, image)\n"
     ]
    },
    {
     "name": "stdout",
     "output_type": "stream",
     "text": [
      "C:\\Users\\Karl\\Desktop\\why didn't you choose me\\abstractImageTweakedpng\\abstractImageT702135.png\n"
     ]
    },
    {
     "name": "stderr",
     "output_type": "stream",
     "text": [
      "<ipython-input-9-2b69156255fe>:55: UserWarning: C:\\Users\\Karl\\Desktop\\why didn't you choose me\\abstractImageTweakedpng\\abstractImageT702135.png is a low contrast image\n",
      "  imsave(filePath, image)\n"
     ]
    },
    {
     "name": "stdout",
     "output_type": "stream",
     "text": [
      "C:\\Users\\Karl\\Desktop\\why didn't you choose me\\abstractImageTweakedpng\\abstractImageT702136.png\n"
     ]
    },
    {
     "name": "stderr",
     "output_type": "stream",
     "text": [
      "<ipython-input-9-2b69156255fe>:55: UserWarning: C:\\Users\\Karl\\Desktop\\why didn't you choose me\\abstractImageTweakedpng\\abstractImageT702136.png is a low contrast image\n",
      "  imsave(filePath, image)\n"
     ]
    },
    {
     "name": "stdout",
     "output_type": "stream",
     "text": [
      "C:\\Users\\Karl\\Desktop\\why didn't you choose me\\abstractImageTweakedpng\\abstractImageT702137.png\n"
     ]
    },
    {
     "name": "stderr",
     "output_type": "stream",
     "text": [
      "<ipython-input-9-2b69156255fe>:55: UserWarning: C:\\Users\\Karl\\Desktop\\why didn't you choose me\\abstractImageTweakedpng\\abstractImageT702137.png is a low contrast image\n",
      "  imsave(filePath, image)\n"
     ]
    },
    {
     "name": "stdout",
     "output_type": "stream",
     "text": [
      "C:\\Users\\Karl\\Desktop\\why didn't you choose me\\abstractImageTweakedpng\\abstractImageT702138.png\n"
     ]
    },
    {
     "name": "stderr",
     "output_type": "stream",
     "text": [
      "<ipython-input-9-2b69156255fe>:55: UserWarning: C:\\Users\\Karl\\Desktop\\why didn't you choose me\\abstractImageTweakedpng\\abstractImageT702138.png is a low contrast image\n",
      "  imsave(filePath, image)\n"
     ]
    },
    {
     "name": "stdout",
     "output_type": "stream",
     "text": [
      "C:\\Users\\Karl\\Desktop\\why didn't you choose me\\abstractImageTweakedpng\\abstractImageT702139.png\n"
     ]
    },
    {
     "name": "stderr",
     "output_type": "stream",
     "text": [
      "<ipython-input-9-2b69156255fe>:55: UserWarning: C:\\Users\\Karl\\Desktop\\why didn't you choose me\\abstractImageTweakedpng\\abstractImageT702139.png is a low contrast image\n",
      "  imsave(filePath, image)\n"
     ]
    },
    {
     "name": "stdout",
     "output_type": "stream",
     "text": [
      "C:\\Users\\Karl\\Desktop\\why didn't you choose me\\abstractImageTweakedpng\\abstractImageT702140.png\n"
     ]
    },
    {
     "name": "stderr",
     "output_type": "stream",
     "text": [
      "<ipython-input-9-2b69156255fe>:55: UserWarning: C:\\Users\\Karl\\Desktop\\why didn't you choose me\\abstractImageTweakedpng\\abstractImageT702140.png is a low contrast image\n",
      "  imsave(filePath, image)\n"
     ]
    },
    {
     "name": "stdout",
     "output_type": "stream",
     "text": [
      "C:\\Users\\Karl\\Desktop\\why didn't you choose me\\abstractImageTweakedpng\\abstractImageT702141.png\n"
     ]
    },
    {
     "name": "stderr",
     "output_type": "stream",
     "text": [
      "<ipython-input-9-2b69156255fe>:55: UserWarning: C:\\Users\\Karl\\Desktop\\why didn't you choose me\\abstractImageTweakedpng\\abstractImageT702141.png is a low contrast image\n",
      "  imsave(filePath, image)\n"
     ]
    },
    {
     "name": "stdout",
     "output_type": "stream",
     "text": [
      "C:\\Users\\Karl\\Desktop\\why didn't you choose me\\abstractImageTweakedpng\\abstractImageT702142.png\n"
     ]
    },
    {
     "name": "stderr",
     "output_type": "stream",
     "text": [
      "<ipython-input-9-2b69156255fe>:55: UserWarning: C:\\Users\\Karl\\Desktop\\why didn't you choose me\\abstractImageTweakedpng\\abstractImageT702142.png is a low contrast image\n",
      "  imsave(filePath, image)\n"
     ]
    },
    {
     "name": "stdout",
     "output_type": "stream",
     "text": [
      "C:\\Users\\Karl\\Desktop\\why didn't you choose me\\abstractImageTweakedpng\\abstractImageT702143.png\n"
     ]
    },
    {
     "name": "stderr",
     "output_type": "stream",
     "text": [
      "<ipython-input-9-2b69156255fe>:55: UserWarning: C:\\Users\\Karl\\Desktop\\why didn't you choose me\\abstractImageTweakedpng\\abstractImageT702143.png is a low contrast image\n",
      "  imsave(filePath, image)\n"
     ]
    },
    {
     "name": "stdout",
     "output_type": "stream",
     "text": [
      "C:\\Users\\Karl\\Desktop\\why didn't you choose me\\abstractImageTweakedpng\\abstractImageT702144.png\n"
     ]
    },
    {
     "name": "stderr",
     "output_type": "stream",
     "text": [
      "<ipython-input-9-2b69156255fe>:55: UserWarning: C:\\Users\\Karl\\Desktop\\why didn't you choose me\\abstractImageTweakedpng\\abstractImageT702144.png is a low contrast image\n",
      "  imsave(filePath, image)\n"
     ]
    },
    {
     "name": "stdout",
     "output_type": "stream",
     "text": [
      "C:\\Users\\Karl\\Desktop\\why didn't you choose me\\abstractImageTweakedpng\\abstractImageT702145.png\n"
     ]
    },
    {
     "name": "stderr",
     "output_type": "stream",
     "text": [
      "<ipython-input-9-2b69156255fe>:55: UserWarning: C:\\Users\\Karl\\Desktop\\why didn't you choose me\\abstractImageTweakedpng\\abstractImageT702145.png is a low contrast image\n",
      "  imsave(filePath, image)\n"
     ]
    },
    {
     "name": "stdout",
     "output_type": "stream",
     "text": [
      "C:\\Users\\Karl\\Desktop\\why didn't you choose me\\abstractImageTweakedpng\\abstractImageT702146.png\n"
     ]
    },
    {
     "name": "stderr",
     "output_type": "stream",
     "text": [
      "<ipython-input-9-2b69156255fe>:55: UserWarning: C:\\Users\\Karl\\Desktop\\why didn't you choose me\\abstractImageTweakedpng\\abstractImageT702146.png is a low contrast image\n",
      "  imsave(filePath, image)\n"
     ]
    },
    {
     "name": "stdout",
     "output_type": "stream",
     "text": [
      "C:\\Users\\Karl\\Desktop\\why didn't you choose me\\abstractImageTweakedpng\\abstractImageT702147.png\n"
     ]
    },
    {
     "name": "stderr",
     "output_type": "stream",
     "text": [
      "<ipython-input-9-2b69156255fe>:55: UserWarning: C:\\Users\\Karl\\Desktop\\why didn't you choose me\\abstractImageTweakedpng\\abstractImageT702147.png is a low contrast image\n",
      "  imsave(filePath, image)\n"
     ]
    },
    {
     "name": "stdout",
     "output_type": "stream",
     "text": [
      "C:\\Users\\Karl\\Desktop\\why didn't you choose me\\abstractImageTweakedpng\\abstractImageT702148.png\n"
     ]
    },
    {
     "name": "stderr",
     "output_type": "stream",
     "text": [
      "<ipython-input-9-2b69156255fe>:55: UserWarning: C:\\Users\\Karl\\Desktop\\why didn't you choose me\\abstractImageTweakedpng\\abstractImageT702148.png is a low contrast image\n",
      "  imsave(filePath, image)\n"
     ]
    },
    {
     "name": "stdout",
     "output_type": "stream",
     "text": [
      "C:\\Users\\Karl\\Desktop\\why didn't you choose me\\abstractImageTweakedpng\\abstractImageT702149.png\n"
     ]
    },
    {
     "name": "stderr",
     "output_type": "stream",
     "text": [
      "<ipython-input-9-2b69156255fe>:55: UserWarning: C:\\Users\\Karl\\Desktop\\why didn't you choose me\\abstractImageTweakedpng\\abstractImageT702149.png is a low contrast image\n",
      "  imsave(filePath, image)\n"
     ]
    },
    {
     "name": "stdout",
     "output_type": "stream",
     "text": [
      "C:\\Users\\Karl\\Desktop\\why didn't you choose me\\abstractImageTweakedpng\\abstractImageT702150.png\n"
     ]
    },
    {
     "name": "stderr",
     "output_type": "stream",
     "text": [
      "<ipython-input-9-2b69156255fe>:55: UserWarning: C:\\Users\\Karl\\Desktop\\why didn't you choose me\\abstractImageTweakedpng\\abstractImageT702150.png is a low contrast image\n",
      "  imsave(filePath, image)\n"
     ]
    },
    {
     "name": "stdout",
     "output_type": "stream",
     "text": [
      "C:\\Users\\Karl\\Desktop\\why didn't you choose me\\abstractImageTweakedpng\\abstractImageT702151.png\n"
     ]
    },
    {
     "name": "stderr",
     "output_type": "stream",
     "text": [
      "<ipython-input-9-2b69156255fe>:55: UserWarning: C:\\Users\\Karl\\Desktop\\why didn't you choose me\\abstractImageTweakedpng\\abstractImageT702151.png is a low contrast image\n",
      "  imsave(filePath, image)\n"
     ]
    },
    {
     "name": "stdout",
     "output_type": "stream",
     "text": [
      "C:\\Users\\Karl\\Desktop\\why didn't you choose me\\abstractImageTweakedpng\\abstractImageT702152.png\n"
     ]
    },
    {
     "name": "stderr",
     "output_type": "stream",
     "text": [
      "<ipython-input-9-2b69156255fe>:55: UserWarning: C:\\Users\\Karl\\Desktop\\why didn't you choose me\\abstractImageTweakedpng\\abstractImageT702152.png is a low contrast image\n",
      "  imsave(filePath, image)\n"
     ]
    },
    {
     "name": "stdout",
     "output_type": "stream",
     "text": [
      "C:\\Users\\Karl\\Desktop\\why didn't you choose me\\abstractImageTweakedpng\\abstractImageT702153.png\n"
     ]
    },
    {
     "name": "stderr",
     "output_type": "stream",
     "text": [
      "<ipython-input-9-2b69156255fe>:55: UserWarning: C:\\Users\\Karl\\Desktop\\why didn't you choose me\\abstractImageTweakedpng\\abstractImageT702153.png is a low contrast image\n",
      "  imsave(filePath, image)\n"
     ]
    },
    {
     "name": "stdout",
     "output_type": "stream",
     "text": [
      "C:\\Users\\Karl\\Desktop\\why didn't you choose me\\abstractImageTweakedpng\\abstractImageT702154.png\n"
     ]
    },
    {
     "name": "stderr",
     "output_type": "stream",
     "text": [
      "<ipython-input-9-2b69156255fe>:55: UserWarning: C:\\Users\\Karl\\Desktop\\why didn't you choose me\\abstractImageTweakedpng\\abstractImageT702154.png is a low contrast image\n",
      "  imsave(filePath, image)\n"
     ]
    },
    {
     "name": "stdout",
     "output_type": "stream",
     "text": [
      "C:\\Users\\Karl\\Desktop\\why didn't you choose me\\abstractImageTweakedpng\\abstractImageT702155.png\n"
     ]
    },
    {
     "name": "stderr",
     "output_type": "stream",
     "text": [
      "<ipython-input-9-2b69156255fe>:55: UserWarning: C:\\Users\\Karl\\Desktop\\why didn't you choose me\\abstractImageTweakedpng\\abstractImageT702155.png is a low contrast image\n",
      "  imsave(filePath, image)\n"
     ]
    },
    {
     "name": "stdout",
     "output_type": "stream",
     "text": [
      "C:\\Users\\Karl\\Desktop\\why didn't you choose me\\abstractImageTweakedpng\\abstractImageT702156.png\n"
     ]
    },
    {
     "name": "stderr",
     "output_type": "stream",
     "text": [
      "<ipython-input-9-2b69156255fe>:55: UserWarning: C:\\Users\\Karl\\Desktop\\why didn't you choose me\\abstractImageTweakedpng\\abstractImageT702156.png is a low contrast image\n",
      "  imsave(filePath, image)\n"
     ]
    },
    {
     "name": "stdout",
     "output_type": "stream",
     "text": [
      "C:\\Users\\Karl\\Desktop\\why didn't you choose me\\abstractImageTweakedpng\\abstractImageT702157.png\n"
     ]
    },
    {
     "name": "stderr",
     "output_type": "stream",
     "text": [
      "<ipython-input-9-2b69156255fe>:55: UserWarning: C:\\Users\\Karl\\Desktop\\why didn't you choose me\\abstractImageTweakedpng\\abstractImageT702157.png is a low contrast image\n",
      "  imsave(filePath, image)\n"
     ]
    },
    {
     "name": "stdout",
     "output_type": "stream",
     "text": [
      "C:\\Users\\Karl\\Desktop\\why didn't you choose me\\abstractImageTweakedpng\\abstractImageT702158.png\n"
     ]
    },
    {
     "name": "stderr",
     "output_type": "stream",
     "text": [
      "<ipython-input-9-2b69156255fe>:55: UserWarning: C:\\Users\\Karl\\Desktop\\why didn't you choose me\\abstractImageTweakedpng\\abstractImageT702158.png is a low contrast image\n",
      "  imsave(filePath, image)\n"
     ]
    },
    {
     "name": "stdout",
     "output_type": "stream",
     "text": [
      "C:\\Users\\Karl\\Desktop\\why didn't you choose me\\abstractImageTweakedpng\\abstractImageT702159.png\n"
     ]
    },
    {
     "name": "stderr",
     "output_type": "stream",
     "text": [
      "<ipython-input-9-2b69156255fe>:55: UserWarning: C:\\Users\\Karl\\Desktop\\why didn't you choose me\\abstractImageTweakedpng\\abstractImageT702159.png is a low contrast image\n",
      "  imsave(filePath, image)\n"
     ]
    },
    {
     "name": "stdout",
     "output_type": "stream",
     "text": [
      "C:\\Users\\Karl\\Desktop\\why didn't you choose me\\abstractImageTweakedpng\\abstractImageT702160.png\n"
     ]
    },
    {
     "name": "stderr",
     "output_type": "stream",
     "text": [
      "<ipython-input-9-2b69156255fe>:55: UserWarning: C:\\Users\\Karl\\Desktop\\why didn't you choose me\\abstractImageTweakedpng\\abstractImageT702160.png is a low contrast image\n",
      "  imsave(filePath, image)\n"
     ]
    },
    {
     "name": "stdout",
     "output_type": "stream",
     "text": [
      "C:\\Users\\Karl\\Desktop\\why didn't you choose me\\abstractImageTweakedpng\\abstractImageT702161.png\n"
     ]
    },
    {
     "name": "stderr",
     "output_type": "stream",
     "text": [
      "<ipython-input-9-2b69156255fe>:55: UserWarning: C:\\Users\\Karl\\Desktop\\why didn't you choose me\\abstractImageTweakedpng\\abstractImageT702161.png is a low contrast image\n",
      "  imsave(filePath, image)\n"
     ]
    },
    {
     "name": "stdout",
     "output_type": "stream",
     "text": [
      "C:\\Users\\Karl\\Desktop\\why didn't you choose me\\abstractImageTweakedpng\\abstractImageT702162.png\n"
     ]
    },
    {
     "name": "stderr",
     "output_type": "stream",
     "text": [
      "<ipython-input-9-2b69156255fe>:55: UserWarning: C:\\Users\\Karl\\Desktop\\why didn't you choose me\\abstractImageTweakedpng\\abstractImageT702162.png is a low contrast image\n",
      "  imsave(filePath, image)\n"
     ]
    },
    {
     "name": "stdout",
     "output_type": "stream",
     "text": [
      "C:\\Users\\Karl\\Desktop\\why didn't you choose me\\abstractImageTweakedpng\\abstractImageT702163.png\n"
     ]
    },
    {
     "name": "stderr",
     "output_type": "stream",
     "text": [
      "<ipython-input-9-2b69156255fe>:55: UserWarning: C:\\Users\\Karl\\Desktop\\why didn't you choose me\\abstractImageTweakedpng\\abstractImageT702163.png is a low contrast image\n",
      "  imsave(filePath, image)\n"
     ]
    },
    {
     "name": "stdout",
     "output_type": "stream",
     "text": [
      "C:\\Users\\Karl\\Desktop\\why didn't you choose me\\abstractImageTweakedpng\\abstractImageT702164.png\n"
     ]
    },
    {
     "name": "stderr",
     "output_type": "stream",
     "text": [
      "<ipython-input-9-2b69156255fe>:55: UserWarning: C:\\Users\\Karl\\Desktop\\why didn't you choose me\\abstractImageTweakedpng\\abstractImageT702164.png is a low contrast image\n",
      "  imsave(filePath, image)\n"
     ]
    },
    {
     "name": "stdout",
     "output_type": "stream",
     "text": [
      "C:\\Users\\Karl\\Desktop\\why didn't you choose me\\abstractImageTweakedpng\\abstractImageT702165.png\n"
     ]
    },
    {
     "name": "stderr",
     "output_type": "stream",
     "text": [
      "<ipython-input-9-2b69156255fe>:55: UserWarning: C:\\Users\\Karl\\Desktop\\why didn't you choose me\\abstractImageTweakedpng\\abstractImageT702165.png is a low contrast image\n",
      "  imsave(filePath, image)\n"
     ]
    },
    {
     "name": "stdout",
     "output_type": "stream",
     "text": [
      "C:\\Users\\Karl\\Desktop\\why didn't you choose me\\abstractImageTweakedpng\\abstractImageT702166.png\n"
     ]
    },
    {
     "name": "stderr",
     "output_type": "stream",
     "text": [
      "<ipython-input-9-2b69156255fe>:55: UserWarning: C:\\Users\\Karl\\Desktop\\why didn't you choose me\\abstractImageTweakedpng\\abstractImageT702166.png is a low contrast image\n",
      "  imsave(filePath, image)\n"
     ]
    },
    {
     "name": "stdout",
     "output_type": "stream",
     "text": [
      "C:\\Users\\Karl\\Desktop\\why didn't you choose me\\abstractImageTweakedpng\\abstractImageT702167.png\n"
     ]
    },
    {
     "name": "stderr",
     "output_type": "stream",
     "text": [
      "<ipython-input-9-2b69156255fe>:55: UserWarning: C:\\Users\\Karl\\Desktop\\why didn't you choose me\\abstractImageTweakedpng\\abstractImageT702167.png is a low contrast image\n",
      "  imsave(filePath, image)\n"
     ]
    },
    {
     "name": "stdout",
     "output_type": "stream",
     "text": [
      "C:\\Users\\Karl\\Desktop\\why didn't you choose me\\abstractImageTweakedpng\\abstractImageT702168.png\n"
     ]
    },
    {
     "name": "stderr",
     "output_type": "stream",
     "text": [
      "<ipython-input-9-2b69156255fe>:55: UserWarning: C:\\Users\\Karl\\Desktop\\why didn't you choose me\\abstractImageTweakedpng\\abstractImageT702168.png is a low contrast image\n",
      "  imsave(filePath, image)\n"
     ]
    },
    {
     "name": "stdout",
     "output_type": "stream",
     "text": [
      "C:\\Users\\Karl\\Desktop\\why didn't you choose me\\abstractImageTweakedpng\\abstractImageT702169.png\n"
     ]
    },
    {
     "name": "stderr",
     "output_type": "stream",
     "text": [
      "<ipython-input-9-2b69156255fe>:55: UserWarning: C:\\Users\\Karl\\Desktop\\why didn't you choose me\\abstractImageTweakedpng\\abstractImageT702169.png is a low contrast image\n",
      "  imsave(filePath, image)\n"
     ]
    },
    {
     "name": "stdout",
     "output_type": "stream",
     "text": [
      "C:\\Users\\Karl\\Desktop\\why didn't you choose me\\abstractImageTweakedpng\\abstractImageT702170.png\n"
     ]
    },
    {
     "name": "stderr",
     "output_type": "stream",
     "text": [
      "<ipython-input-9-2b69156255fe>:55: UserWarning: C:\\Users\\Karl\\Desktop\\why didn't you choose me\\abstractImageTweakedpng\\abstractImageT702170.png is a low contrast image\n",
      "  imsave(filePath, image)\n"
     ]
    },
    {
     "name": "stdout",
     "output_type": "stream",
     "text": [
      "C:\\Users\\Karl\\Desktop\\why didn't you choose me\\abstractImageTweakedpng\\abstractImageT702171.png\n"
     ]
    },
    {
     "name": "stderr",
     "output_type": "stream",
     "text": [
      "<ipython-input-9-2b69156255fe>:55: UserWarning: C:\\Users\\Karl\\Desktop\\why didn't you choose me\\abstractImageTweakedpng\\abstractImageT702171.png is a low contrast image\n",
      "  imsave(filePath, image)\n"
     ]
    },
    {
     "name": "stdout",
     "output_type": "stream",
     "text": [
      "C:\\Users\\Karl\\Desktop\\why didn't you choose me\\abstractImageTweakedpng\\abstractImageT702172.png\n"
     ]
    },
    {
     "name": "stderr",
     "output_type": "stream",
     "text": [
      "<ipython-input-9-2b69156255fe>:55: UserWarning: C:\\Users\\Karl\\Desktop\\why didn't you choose me\\abstractImageTweakedpng\\abstractImageT702172.png is a low contrast image\n",
      "  imsave(filePath, image)\n"
     ]
    },
    {
     "name": "stdout",
     "output_type": "stream",
     "text": [
      "C:\\Users\\Karl\\Desktop\\why didn't you choose me\\abstractImageTweakedpng\\abstractImageT702173.png\n"
     ]
    },
    {
     "name": "stderr",
     "output_type": "stream",
     "text": [
      "<ipython-input-9-2b69156255fe>:55: UserWarning: C:\\Users\\Karl\\Desktop\\why didn't you choose me\\abstractImageTweakedpng\\abstractImageT702173.png is a low contrast image\n",
      "  imsave(filePath, image)\n"
     ]
    },
    {
     "name": "stdout",
     "output_type": "stream",
     "text": [
      "C:\\Users\\Karl\\Desktop\\why didn't you choose me\\abstractImageTweakedpng\\abstractImageT702174.png\n"
     ]
    },
    {
     "name": "stderr",
     "output_type": "stream",
     "text": [
      "<ipython-input-9-2b69156255fe>:55: UserWarning: C:\\Users\\Karl\\Desktop\\why didn't you choose me\\abstractImageTweakedpng\\abstractImageT702174.png is a low contrast image\n",
      "  imsave(filePath, image)\n"
     ]
    },
    {
     "name": "stdout",
     "output_type": "stream",
     "text": [
      "C:\\Users\\Karl\\Desktop\\why didn't you choose me\\abstractImageTweakedpng\\abstractImageT702175.png\n"
     ]
    },
    {
     "name": "stderr",
     "output_type": "stream",
     "text": [
      "<ipython-input-9-2b69156255fe>:55: UserWarning: C:\\Users\\Karl\\Desktop\\why didn't you choose me\\abstractImageTweakedpng\\abstractImageT702175.png is a low contrast image\n",
      "  imsave(filePath, image)\n"
     ]
    },
    {
     "name": "stdout",
     "output_type": "stream",
     "text": [
      "C:\\Users\\Karl\\Desktop\\why didn't you choose me\\abstractImageTweakedpng\\abstractImageT702176.png\n"
     ]
    },
    {
     "name": "stderr",
     "output_type": "stream",
     "text": [
      "<ipython-input-9-2b69156255fe>:55: UserWarning: C:\\Users\\Karl\\Desktop\\why didn't you choose me\\abstractImageTweakedpng\\abstractImageT702176.png is a low contrast image\n",
      "  imsave(filePath, image)\n"
     ]
    },
    {
     "name": "stdout",
     "output_type": "stream",
     "text": [
      "C:\\Users\\Karl\\Desktop\\why didn't you choose me\\abstractImageTweakedpng\\abstractImageT702177.png\n"
     ]
    },
    {
     "name": "stderr",
     "output_type": "stream",
     "text": [
      "<ipython-input-9-2b69156255fe>:55: UserWarning: C:\\Users\\Karl\\Desktop\\why didn't you choose me\\abstractImageTweakedpng\\abstractImageT702177.png is a low contrast image\n",
      "  imsave(filePath, image)\n"
     ]
    },
    {
     "name": "stdout",
     "output_type": "stream",
     "text": [
      "C:\\Users\\Karl\\Desktop\\why didn't you choose me\\abstractImageTweakedpng\\abstractImageT702178.png\n"
     ]
    },
    {
     "name": "stderr",
     "output_type": "stream",
     "text": [
      "<ipython-input-9-2b69156255fe>:55: UserWarning: C:\\Users\\Karl\\Desktop\\why didn't you choose me\\abstractImageTweakedpng\\abstractImageT702178.png is a low contrast image\n",
      "  imsave(filePath, image)\n"
     ]
    },
    {
     "name": "stdout",
     "output_type": "stream",
     "text": [
      "C:\\Users\\Karl\\Desktop\\why didn't you choose me\\abstractImageTweakedpng\\abstractImageT702179.png\n"
     ]
    },
    {
     "name": "stderr",
     "output_type": "stream",
     "text": [
      "<ipython-input-9-2b69156255fe>:55: UserWarning: C:\\Users\\Karl\\Desktop\\why didn't you choose me\\abstractImageTweakedpng\\abstractImageT702179.png is a low contrast image\n",
      "  imsave(filePath, image)\n"
     ]
    },
    {
     "name": "stdout",
     "output_type": "stream",
     "text": [
      "C:\\Users\\Karl\\Desktop\\why didn't you choose me\\abstractImageTweakedpng\\abstractImageT702180.png\n"
     ]
    },
    {
     "name": "stderr",
     "output_type": "stream",
     "text": [
      "<ipython-input-9-2b69156255fe>:55: UserWarning: C:\\Users\\Karl\\Desktop\\why didn't you choose me\\abstractImageTweakedpng\\abstractImageT702180.png is a low contrast image\n",
      "  imsave(filePath, image)\n"
     ]
    },
    {
     "name": "stdout",
     "output_type": "stream",
     "text": [
      "C:\\Users\\Karl\\Desktop\\why didn't you choose me\\abstractImageTweakedpng\\abstractImageT702181.png\n"
     ]
    },
    {
     "name": "stderr",
     "output_type": "stream",
     "text": [
      "<ipython-input-9-2b69156255fe>:55: UserWarning: C:\\Users\\Karl\\Desktop\\why didn't you choose me\\abstractImageTweakedpng\\abstractImageT702181.png is a low contrast image\n",
      "  imsave(filePath, image)\n"
     ]
    },
    {
     "name": "stdout",
     "output_type": "stream",
     "text": [
      "C:\\Users\\Karl\\Desktop\\why didn't you choose me\\abstractImageTweakedpng\\abstractImageT702182.png\n"
     ]
    },
    {
     "name": "stderr",
     "output_type": "stream",
     "text": [
      "<ipython-input-9-2b69156255fe>:55: UserWarning: C:\\Users\\Karl\\Desktop\\why didn't you choose me\\abstractImageTweakedpng\\abstractImageT702182.png is a low contrast image\n",
      "  imsave(filePath, image)\n"
     ]
    },
    {
     "name": "stdout",
     "output_type": "stream",
     "text": [
      "C:\\Users\\Karl\\Desktop\\why didn't you choose me\\abstractImageTweakedpng\\abstractImageT702183.png\n"
     ]
    },
    {
     "name": "stderr",
     "output_type": "stream",
     "text": [
      "<ipython-input-9-2b69156255fe>:55: UserWarning: C:\\Users\\Karl\\Desktop\\why didn't you choose me\\abstractImageTweakedpng\\abstractImageT702183.png is a low contrast image\n",
      "  imsave(filePath, image)\n"
     ]
    },
    {
     "name": "stdout",
     "output_type": "stream",
     "text": [
      "C:\\Users\\Karl\\Desktop\\why didn't you choose me\\abstractImageTweakedpng\\abstractImageT702184.png\n"
     ]
    },
    {
     "name": "stderr",
     "output_type": "stream",
     "text": [
      "<ipython-input-9-2b69156255fe>:55: UserWarning: C:\\Users\\Karl\\Desktop\\why didn't you choose me\\abstractImageTweakedpng\\abstractImageT702184.png is a low contrast image\n",
      "  imsave(filePath, image)\n"
     ]
    },
    {
     "name": "stdout",
     "output_type": "stream",
     "text": [
      "C:\\Users\\Karl\\Desktop\\why didn't you choose me\\abstractImageTweakedpng\\abstractImageT702185.png\n"
     ]
    },
    {
     "name": "stderr",
     "output_type": "stream",
     "text": [
      "<ipython-input-9-2b69156255fe>:55: UserWarning: C:\\Users\\Karl\\Desktop\\why didn't you choose me\\abstractImageTweakedpng\\abstractImageT702185.png is a low contrast image\n",
      "  imsave(filePath, image)\n"
     ]
    },
    {
     "name": "stdout",
     "output_type": "stream",
     "text": [
      "C:\\Users\\Karl\\Desktop\\why didn't you choose me\\abstractImageTweakedpng\\abstractImageT702186.png\n"
     ]
    },
    {
     "name": "stderr",
     "output_type": "stream",
     "text": [
      "<ipython-input-9-2b69156255fe>:55: UserWarning: C:\\Users\\Karl\\Desktop\\why didn't you choose me\\abstractImageTweakedpng\\abstractImageT702186.png is a low contrast image\n",
      "  imsave(filePath, image)\n"
     ]
    },
    {
     "name": "stdout",
     "output_type": "stream",
     "text": [
      "C:\\Users\\Karl\\Desktop\\why didn't you choose me\\abstractImageTweakedpng\\abstractImageT702187.png\n"
     ]
    },
    {
     "name": "stderr",
     "output_type": "stream",
     "text": [
      "<ipython-input-9-2b69156255fe>:55: UserWarning: C:\\Users\\Karl\\Desktop\\why didn't you choose me\\abstractImageTweakedpng\\abstractImageT702187.png is a low contrast image\n",
      "  imsave(filePath, image)\n"
     ]
    },
    {
     "name": "stdout",
     "output_type": "stream",
     "text": [
      "C:\\Users\\Karl\\Desktop\\why didn't you choose me\\abstractImageTweakedpng\\abstractImageT702188.png\n"
     ]
    },
    {
     "name": "stderr",
     "output_type": "stream",
     "text": [
      "<ipython-input-9-2b69156255fe>:55: UserWarning: C:\\Users\\Karl\\Desktop\\why didn't you choose me\\abstractImageTweakedpng\\abstractImageT702188.png is a low contrast image\n",
      "  imsave(filePath, image)\n"
     ]
    },
    {
     "name": "stdout",
     "output_type": "stream",
     "text": [
      "C:\\Users\\Karl\\Desktop\\why didn't you choose me\\abstractImageTweakedpng\\abstractImageT702189.png\n"
     ]
    },
    {
     "name": "stderr",
     "output_type": "stream",
     "text": [
      "<ipython-input-9-2b69156255fe>:55: UserWarning: C:\\Users\\Karl\\Desktop\\why didn't you choose me\\abstractImageTweakedpng\\abstractImageT702189.png is a low contrast image\n",
      "  imsave(filePath, image)\n"
     ]
    },
    {
     "name": "stdout",
     "output_type": "stream",
     "text": [
      "C:\\Users\\Karl\\Desktop\\why didn't you choose me\\abstractImageTweakedpng\\abstractImageT702190.png\n"
     ]
    },
    {
     "name": "stderr",
     "output_type": "stream",
     "text": [
      "<ipython-input-9-2b69156255fe>:55: UserWarning: C:\\Users\\Karl\\Desktop\\why didn't you choose me\\abstractImageTweakedpng\\abstractImageT702190.png is a low contrast image\n",
      "  imsave(filePath, image)\n"
     ]
    },
    {
     "name": "stdout",
     "output_type": "stream",
     "text": [
      "C:\\Users\\Karl\\Desktop\\why didn't you choose me\\abstractImageTweakedpng\\abstractImageT702191.png\n"
     ]
    },
    {
     "name": "stderr",
     "output_type": "stream",
     "text": [
      "<ipython-input-9-2b69156255fe>:55: UserWarning: C:\\Users\\Karl\\Desktop\\why didn't you choose me\\abstractImageTweakedpng\\abstractImageT702191.png is a low contrast image\n",
      "  imsave(filePath, image)\n"
     ]
    },
    {
     "name": "stdout",
     "output_type": "stream",
     "text": [
      "C:\\Users\\Karl\\Desktop\\why didn't you choose me\\abstractImageTweakedpng\\abstractImageT702192.png\n"
     ]
    },
    {
     "name": "stderr",
     "output_type": "stream",
     "text": [
      "<ipython-input-9-2b69156255fe>:55: UserWarning: C:\\Users\\Karl\\Desktop\\why didn't you choose me\\abstractImageTweakedpng\\abstractImageT702192.png is a low contrast image\n",
      "  imsave(filePath, image)\n"
     ]
    },
    {
     "name": "stdout",
     "output_type": "stream",
     "text": [
      "C:\\Users\\Karl\\Desktop\\why didn't you choose me\\abstractImageTweakedpng\\abstractImageT702193.png\n"
     ]
    },
    {
     "name": "stderr",
     "output_type": "stream",
     "text": [
      "<ipython-input-9-2b69156255fe>:55: UserWarning: C:\\Users\\Karl\\Desktop\\why didn't you choose me\\abstractImageTweakedpng\\abstractImageT702193.png is a low contrast image\n",
      "  imsave(filePath, image)\n"
     ]
    },
    {
     "name": "stdout",
     "output_type": "stream",
     "text": [
      "C:\\Users\\Karl\\Desktop\\why didn't you choose me\\abstractImageTweakedpng\\abstractImageT702194.png\n"
     ]
    },
    {
     "name": "stderr",
     "output_type": "stream",
     "text": [
      "<ipython-input-9-2b69156255fe>:55: UserWarning: C:\\Users\\Karl\\Desktop\\why didn't you choose me\\abstractImageTweakedpng\\abstractImageT702194.png is a low contrast image\n",
      "  imsave(filePath, image)\n"
     ]
    },
    {
     "name": "stdout",
     "output_type": "stream",
     "text": [
      "C:\\Users\\Karl\\Desktop\\why didn't you choose me\\abstractImageTweakedpng\\abstractImageT702195.png\n"
     ]
    },
    {
     "name": "stderr",
     "output_type": "stream",
     "text": [
      "<ipython-input-9-2b69156255fe>:55: UserWarning: C:\\Users\\Karl\\Desktop\\why didn't you choose me\\abstractImageTweakedpng\\abstractImageT702195.png is a low contrast image\n",
      "  imsave(filePath, image)\n"
     ]
    },
    {
     "name": "stdout",
     "output_type": "stream",
     "text": [
      "C:\\Users\\Karl\\Desktop\\why didn't you choose me\\abstractImageTweakedpng\\abstractImageT702196.png\n"
     ]
    },
    {
     "name": "stderr",
     "output_type": "stream",
     "text": [
      "<ipython-input-9-2b69156255fe>:55: UserWarning: C:\\Users\\Karl\\Desktop\\why didn't you choose me\\abstractImageTweakedpng\\abstractImageT702196.png is a low contrast image\n",
      "  imsave(filePath, image)\n"
     ]
    },
    {
     "name": "stdout",
     "output_type": "stream",
     "text": [
      "C:\\Users\\Karl\\Desktop\\why didn't you choose me\\abstractImageTweakedpng\\abstractImageT702197.png\n"
     ]
    },
    {
     "name": "stderr",
     "output_type": "stream",
     "text": [
      "<ipython-input-9-2b69156255fe>:55: UserWarning: C:\\Users\\Karl\\Desktop\\why didn't you choose me\\abstractImageTweakedpng\\abstractImageT702197.png is a low contrast image\n",
      "  imsave(filePath, image)\n"
     ]
    },
    {
     "name": "stdout",
     "output_type": "stream",
     "text": [
      "C:\\Users\\Karl\\Desktop\\why didn't you choose me\\abstractImageTweakedpng\\abstractImageT702198.png\n"
     ]
    },
    {
     "name": "stderr",
     "output_type": "stream",
     "text": [
      "<ipython-input-9-2b69156255fe>:55: UserWarning: C:\\Users\\Karl\\Desktop\\why didn't you choose me\\abstractImageTweakedpng\\abstractImageT702198.png is a low contrast image\n",
      "  imsave(filePath, image)\n"
     ]
    },
    {
     "name": "stdout",
     "output_type": "stream",
     "text": [
      "C:\\Users\\Karl\\Desktop\\why didn't you choose me\\abstractImageTweakedpng\\abstractImageT702199.png\n"
     ]
    },
    {
     "name": "stderr",
     "output_type": "stream",
     "text": [
      "<ipython-input-9-2b69156255fe>:55: UserWarning: C:\\Users\\Karl\\Desktop\\why didn't you choose me\\abstractImageTweakedpng\\abstractImageT702199.png is a low contrast image\n",
      "  imsave(filePath, image)\n"
     ]
    },
    {
     "name": "stdout",
     "output_type": "stream",
     "text": [
      "C:\\Users\\Karl\\Desktop\\why didn't you choose me\\abstractImageTweakedpng\\abstractImageT702200.png\n"
     ]
    },
    {
     "name": "stderr",
     "output_type": "stream",
     "text": [
      "<ipython-input-9-2b69156255fe>:55: UserWarning: C:\\Users\\Karl\\Desktop\\why didn't you choose me\\abstractImageTweakedpng\\abstractImageT702200.png is a low contrast image\n",
      "  imsave(filePath, image)\n"
     ]
    },
    {
     "name": "stdout",
     "output_type": "stream",
     "text": [
      "C:\\Users\\Karl\\Desktop\\why didn't you choose me\\abstractImageTweakedpng\\abstractImageT702201.png\n"
     ]
    },
    {
     "name": "stderr",
     "output_type": "stream",
     "text": [
      "<ipython-input-9-2b69156255fe>:55: UserWarning: C:\\Users\\Karl\\Desktop\\why didn't you choose me\\abstractImageTweakedpng\\abstractImageT702201.png is a low contrast image\n",
      "  imsave(filePath, image)\n"
     ]
    },
    {
     "name": "stdout",
     "output_type": "stream",
     "text": [
      "C:\\Users\\Karl\\Desktop\\why didn't you choose me\\abstractImageTweakedpng\\abstractImageT702202.png\n"
     ]
    },
    {
     "name": "stderr",
     "output_type": "stream",
     "text": [
      "<ipython-input-9-2b69156255fe>:55: UserWarning: C:\\Users\\Karl\\Desktop\\why didn't you choose me\\abstractImageTweakedpng\\abstractImageT702202.png is a low contrast image\n",
      "  imsave(filePath, image)\n"
     ]
    },
    {
     "name": "stdout",
     "output_type": "stream",
     "text": [
      "C:\\Users\\Karl\\Desktop\\why didn't you choose me\\abstractImageTweakedpng\\abstractImageT702203.png\n"
     ]
    },
    {
     "name": "stderr",
     "output_type": "stream",
     "text": [
      "<ipython-input-9-2b69156255fe>:55: UserWarning: C:\\Users\\Karl\\Desktop\\why didn't you choose me\\abstractImageTweakedpng\\abstractImageT702203.png is a low contrast image\n",
      "  imsave(filePath, image)\n"
     ]
    },
    {
     "name": "stdout",
     "output_type": "stream",
     "text": [
      "C:\\Users\\Karl\\Desktop\\why didn't you choose me\\abstractImageTweakedpng\\abstractImageT702204.png\n"
     ]
    },
    {
     "name": "stderr",
     "output_type": "stream",
     "text": [
      "<ipython-input-9-2b69156255fe>:55: UserWarning: C:\\Users\\Karl\\Desktop\\why didn't you choose me\\abstractImageTweakedpng\\abstractImageT702204.png is a low contrast image\n",
      "  imsave(filePath, image)\n"
     ]
    },
    {
     "name": "stdout",
     "output_type": "stream",
     "text": [
      "C:\\Users\\Karl\\Desktop\\why didn't you choose me\\abstractImageTweakedpng\\abstractImageT702205.png\n"
     ]
    },
    {
     "name": "stderr",
     "output_type": "stream",
     "text": [
      "<ipython-input-9-2b69156255fe>:55: UserWarning: C:\\Users\\Karl\\Desktop\\why didn't you choose me\\abstractImageTweakedpng\\abstractImageT702205.png is a low contrast image\n",
      "  imsave(filePath, image)\n"
     ]
    },
    {
     "name": "stdout",
     "output_type": "stream",
     "text": [
      "C:\\Users\\Karl\\Desktop\\why didn't you choose me\\abstractImageTweakedpng\\abstractImageT702206.png\n"
     ]
    },
    {
     "name": "stderr",
     "output_type": "stream",
     "text": [
      "<ipython-input-9-2b69156255fe>:55: UserWarning: C:\\Users\\Karl\\Desktop\\why didn't you choose me\\abstractImageTweakedpng\\abstractImageT702206.png is a low contrast image\n",
      "  imsave(filePath, image)\n"
     ]
    },
    {
     "name": "stdout",
     "output_type": "stream",
     "text": [
      "C:\\Users\\Karl\\Desktop\\why didn't you choose me\\abstractImageTweakedpng\\abstractImageT702207.png\n"
     ]
    },
    {
     "name": "stderr",
     "output_type": "stream",
     "text": [
      "<ipython-input-9-2b69156255fe>:55: UserWarning: C:\\Users\\Karl\\Desktop\\why didn't you choose me\\abstractImageTweakedpng\\abstractImageT702207.png is a low contrast image\n",
      "  imsave(filePath, image)\n"
     ]
    },
    {
     "name": "stdout",
     "output_type": "stream",
     "text": [
      "C:\\Users\\Karl\\Desktop\\why didn't you choose me\\abstractImageTweakedpng\\abstractImageT702208.png\n"
     ]
    },
    {
     "name": "stderr",
     "output_type": "stream",
     "text": [
      "<ipython-input-9-2b69156255fe>:55: UserWarning: C:\\Users\\Karl\\Desktop\\why didn't you choose me\\abstractImageTweakedpng\\abstractImageT702208.png is a low contrast image\n",
      "  imsave(filePath, image)\n"
     ]
    },
    {
     "name": "stdout",
     "output_type": "stream",
     "text": [
      "C:\\Users\\Karl\\Desktop\\why didn't you choose me\\abstractImageTweakedpng\\abstractImageT702209.png\n"
     ]
    },
    {
     "name": "stderr",
     "output_type": "stream",
     "text": [
      "<ipython-input-9-2b69156255fe>:55: UserWarning: C:\\Users\\Karl\\Desktop\\why didn't you choose me\\abstractImageTweakedpng\\abstractImageT702209.png is a low contrast image\n",
      "  imsave(filePath, image)\n"
     ]
    },
    {
     "name": "stdout",
     "output_type": "stream",
     "text": [
      "C:\\Users\\Karl\\Desktop\\why didn't you choose me\\abstractImageTweakedpng\\abstractImageT702210.png\n"
     ]
    },
    {
     "name": "stderr",
     "output_type": "stream",
     "text": [
      "<ipython-input-9-2b69156255fe>:55: UserWarning: C:\\Users\\Karl\\Desktop\\why didn't you choose me\\abstractImageTweakedpng\\abstractImageT702210.png is a low contrast image\n",
      "  imsave(filePath, image)\n"
     ]
    },
    {
     "name": "stdout",
     "output_type": "stream",
     "text": [
      "C:\\Users\\Karl\\Desktop\\why didn't you choose me\\abstractImageTweakedpng\\abstractImageT702211.png\n"
     ]
    },
    {
     "name": "stderr",
     "output_type": "stream",
     "text": [
      "<ipython-input-9-2b69156255fe>:55: UserWarning: C:\\Users\\Karl\\Desktop\\why didn't you choose me\\abstractImageTweakedpng\\abstractImageT702211.png is a low contrast image\n",
      "  imsave(filePath, image)\n"
     ]
    },
    {
     "name": "stdout",
     "output_type": "stream",
     "text": [
      "C:\\Users\\Karl\\Desktop\\why didn't you choose me\\abstractImageTweakedpng\\abstractImageT702212.png\n"
     ]
    },
    {
     "name": "stderr",
     "output_type": "stream",
     "text": [
      "<ipython-input-9-2b69156255fe>:55: UserWarning: C:\\Users\\Karl\\Desktop\\why didn't you choose me\\abstractImageTweakedpng\\abstractImageT702212.png is a low contrast image\n",
      "  imsave(filePath, image)\n"
     ]
    },
    {
     "name": "stdout",
     "output_type": "stream",
     "text": [
      "C:\\Users\\Karl\\Desktop\\why didn't you choose me\\abstractImageTweakedpng\\abstractImageT702213.png\n"
     ]
    },
    {
     "name": "stderr",
     "output_type": "stream",
     "text": [
      "<ipython-input-9-2b69156255fe>:55: UserWarning: C:\\Users\\Karl\\Desktop\\why didn't you choose me\\abstractImageTweakedpng\\abstractImageT702213.png is a low contrast image\n",
      "  imsave(filePath, image)\n"
     ]
    },
    {
     "name": "stdout",
     "output_type": "stream",
     "text": [
      "C:\\Users\\Karl\\Desktop\\why didn't you choose me\\abstractImageTweakedpng\\abstractImageT702214.png\n"
     ]
    },
    {
     "name": "stderr",
     "output_type": "stream",
     "text": [
      "<ipython-input-9-2b69156255fe>:55: UserWarning: C:\\Users\\Karl\\Desktop\\why didn't you choose me\\abstractImageTweakedpng\\abstractImageT702214.png is a low contrast image\n",
      "  imsave(filePath, image)\n"
     ]
    },
    {
     "name": "stdout",
     "output_type": "stream",
     "text": [
      "C:\\Users\\Karl\\Desktop\\why didn't you choose me\\abstractImageTweakedpng\\abstractImageT702215.png\n"
     ]
    },
    {
     "name": "stderr",
     "output_type": "stream",
     "text": [
      "<ipython-input-9-2b69156255fe>:55: UserWarning: C:\\Users\\Karl\\Desktop\\why didn't you choose me\\abstractImageTweakedpng\\abstractImageT702215.png is a low contrast image\n",
      "  imsave(filePath, image)\n"
     ]
    },
    {
     "name": "stdout",
     "output_type": "stream",
     "text": [
      "C:\\Users\\Karl\\Desktop\\why didn't you choose me\\abstractImageTweakedpng\\abstractImageT702216.png\n"
     ]
    },
    {
     "name": "stderr",
     "output_type": "stream",
     "text": [
      "<ipython-input-9-2b69156255fe>:55: UserWarning: C:\\Users\\Karl\\Desktop\\why didn't you choose me\\abstractImageTweakedpng\\abstractImageT702216.png is a low contrast image\n",
      "  imsave(filePath, image)\n"
     ]
    },
    {
     "name": "stdout",
     "output_type": "stream",
     "text": [
      "C:\\Users\\Karl\\Desktop\\why didn't you choose me\\abstractImageTweakedpng\\abstractImageT702217.png\n"
     ]
    },
    {
     "name": "stderr",
     "output_type": "stream",
     "text": [
      "<ipython-input-9-2b69156255fe>:55: UserWarning: C:\\Users\\Karl\\Desktop\\why didn't you choose me\\abstractImageTweakedpng\\abstractImageT702217.png is a low contrast image\n",
      "  imsave(filePath, image)\n"
     ]
    },
    {
     "name": "stdout",
     "output_type": "stream",
     "text": [
      "C:\\Users\\Karl\\Desktop\\why didn't you choose me\\abstractImageTweakedpng\\abstractImageT702218.png\n"
     ]
    },
    {
     "name": "stderr",
     "output_type": "stream",
     "text": [
      "<ipython-input-9-2b69156255fe>:55: UserWarning: C:\\Users\\Karl\\Desktop\\why didn't you choose me\\abstractImageTweakedpng\\abstractImageT702218.png is a low contrast image\n",
      "  imsave(filePath, image)\n"
     ]
    },
    {
     "name": "stdout",
     "output_type": "stream",
     "text": [
      "C:\\Users\\Karl\\Desktop\\why didn't you choose me\\abstractImageTweakedpng\\abstractImageT702219.png\n"
     ]
    },
    {
     "name": "stderr",
     "output_type": "stream",
     "text": [
      "<ipython-input-9-2b69156255fe>:55: UserWarning: C:\\Users\\Karl\\Desktop\\why didn't you choose me\\abstractImageTweakedpng\\abstractImageT702219.png is a low contrast image\n",
      "  imsave(filePath, image)\n"
     ]
    },
    {
     "name": "stdout",
     "output_type": "stream",
     "text": [
      "C:\\Users\\Karl\\Desktop\\why didn't you choose me\\abstractImageTweakedpng\\abstractImageT702220.png\n"
     ]
    },
    {
     "name": "stderr",
     "output_type": "stream",
     "text": [
      "<ipython-input-9-2b69156255fe>:55: UserWarning: C:\\Users\\Karl\\Desktop\\why didn't you choose me\\abstractImageTweakedpng\\abstractImageT702220.png is a low contrast image\n",
      "  imsave(filePath, image)\n"
     ]
    },
    {
     "name": "stdout",
     "output_type": "stream",
     "text": [
      "C:\\Users\\Karl\\Desktop\\why didn't you choose me\\abstractImageTweakedpng\\abstractImageT702221.png\n"
     ]
    },
    {
     "name": "stderr",
     "output_type": "stream",
     "text": [
      "<ipython-input-9-2b69156255fe>:55: UserWarning: C:\\Users\\Karl\\Desktop\\why didn't you choose me\\abstractImageTweakedpng\\abstractImageT702221.png is a low contrast image\n",
      "  imsave(filePath, image)\n"
     ]
    },
    {
     "name": "stdout",
     "output_type": "stream",
     "text": [
      "C:\\Users\\Karl\\Desktop\\why didn't you choose me\\abstractImageTweakedpng\\abstractImageT702222.png\n"
     ]
    },
    {
     "name": "stderr",
     "output_type": "stream",
     "text": [
      "<ipython-input-9-2b69156255fe>:55: UserWarning: C:\\Users\\Karl\\Desktop\\why didn't you choose me\\abstractImageTweakedpng\\abstractImageT702222.png is a low contrast image\n",
      "  imsave(filePath, image)\n"
     ]
    },
    {
     "name": "stdout",
     "output_type": "stream",
     "text": [
      "C:\\Users\\Karl\\Desktop\\why didn't you choose me\\abstractImageTweakedpng\\abstractImageT702223.png\n"
     ]
    },
    {
     "name": "stderr",
     "output_type": "stream",
     "text": [
      "<ipython-input-9-2b69156255fe>:55: UserWarning: C:\\Users\\Karl\\Desktop\\why didn't you choose me\\abstractImageTweakedpng\\abstractImageT702223.png is a low contrast image\n",
      "  imsave(filePath, image)\n"
     ]
    },
    {
     "name": "stdout",
     "output_type": "stream",
     "text": [
      "C:\\Users\\Karl\\Desktop\\why didn't you choose me\\abstractImageTweakedpng\\abstractImageT702224.png\n"
     ]
    },
    {
     "name": "stderr",
     "output_type": "stream",
     "text": [
      "<ipython-input-9-2b69156255fe>:55: UserWarning: C:\\Users\\Karl\\Desktop\\why didn't you choose me\\abstractImageTweakedpng\\abstractImageT702224.png is a low contrast image\n",
      "  imsave(filePath, image)\n"
     ]
    },
    {
     "name": "stdout",
     "output_type": "stream",
     "text": [
      "C:\\Users\\Karl\\Desktop\\why didn't you choose me\\abstractImageTweakedpng\\abstractImageT702225.png\n"
     ]
    },
    {
     "name": "stderr",
     "output_type": "stream",
     "text": [
      "<ipython-input-9-2b69156255fe>:55: UserWarning: C:\\Users\\Karl\\Desktop\\why didn't you choose me\\abstractImageTweakedpng\\abstractImageT702225.png is a low contrast image\n",
      "  imsave(filePath, image)\n"
     ]
    },
    {
     "name": "stdout",
     "output_type": "stream",
     "text": [
      "C:\\Users\\Karl\\Desktop\\why didn't you choose me\\abstractImageTweakedpng\\abstractImageT702226.png\n"
     ]
    },
    {
     "name": "stderr",
     "output_type": "stream",
     "text": [
      "<ipython-input-9-2b69156255fe>:55: UserWarning: C:\\Users\\Karl\\Desktop\\why didn't you choose me\\abstractImageTweakedpng\\abstractImageT702226.png is a low contrast image\n",
      "  imsave(filePath, image)\n"
     ]
    },
    {
     "name": "stdout",
     "output_type": "stream",
     "text": [
      "C:\\Users\\Karl\\Desktop\\why didn't you choose me\\abstractImageTweakedpng\\abstractImageT702227.png\n"
     ]
    },
    {
     "name": "stderr",
     "output_type": "stream",
     "text": [
      "<ipython-input-9-2b69156255fe>:55: UserWarning: C:\\Users\\Karl\\Desktop\\why didn't you choose me\\abstractImageTweakedpng\\abstractImageT702227.png is a low contrast image\n",
      "  imsave(filePath, image)\n"
     ]
    },
    {
     "name": "stdout",
     "output_type": "stream",
     "text": [
      "C:\\Users\\Karl\\Desktop\\why didn't you choose me\\abstractImageTweakedpng\\abstractImageT702228.png\n"
     ]
    },
    {
     "name": "stderr",
     "output_type": "stream",
     "text": [
      "<ipython-input-9-2b69156255fe>:55: UserWarning: C:\\Users\\Karl\\Desktop\\why didn't you choose me\\abstractImageTweakedpng\\abstractImageT702228.png is a low contrast image\n",
      "  imsave(filePath, image)\n"
     ]
    },
    {
     "name": "stdout",
     "output_type": "stream",
     "text": [
      "C:\\Users\\Karl\\Desktop\\why didn't you choose me\\abstractImageTweakedpng\\abstractImageT702229.png\n"
     ]
    },
    {
     "name": "stderr",
     "output_type": "stream",
     "text": [
      "<ipython-input-9-2b69156255fe>:55: UserWarning: C:\\Users\\Karl\\Desktop\\why didn't you choose me\\abstractImageTweakedpng\\abstractImageT702229.png is a low contrast image\n",
      "  imsave(filePath, image)\n"
     ]
    },
    {
     "name": "stdout",
     "output_type": "stream",
     "text": [
      "C:\\Users\\Karl\\Desktop\\why didn't you choose me\\abstractImageTweakedpng\\abstractImageT702230.png\n"
     ]
    },
    {
     "name": "stderr",
     "output_type": "stream",
     "text": [
      "<ipython-input-9-2b69156255fe>:55: UserWarning: C:\\Users\\Karl\\Desktop\\why didn't you choose me\\abstractImageTweakedpng\\abstractImageT702230.png is a low contrast image\n",
      "  imsave(filePath, image)\n"
     ]
    },
    {
     "name": "stdout",
     "output_type": "stream",
     "text": [
      "C:\\Users\\Karl\\Desktop\\why didn't you choose me\\abstractImageTweakedpng\\abstractImageT702231.png\n"
     ]
    },
    {
     "name": "stderr",
     "output_type": "stream",
     "text": [
      "<ipython-input-9-2b69156255fe>:55: UserWarning: C:\\Users\\Karl\\Desktop\\why didn't you choose me\\abstractImageTweakedpng\\abstractImageT702231.png is a low contrast image\n",
      "  imsave(filePath, image)\n"
     ]
    },
    {
     "name": "stdout",
     "output_type": "stream",
     "text": [
      "C:\\Users\\Karl\\Desktop\\why didn't you choose me\\abstractImageTweakedpng\\abstractImageT702232.png\n"
     ]
    },
    {
     "name": "stderr",
     "output_type": "stream",
     "text": [
      "<ipython-input-9-2b69156255fe>:55: UserWarning: C:\\Users\\Karl\\Desktop\\why didn't you choose me\\abstractImageTweakedpng\\abstractImageT702232.png is a low contrast image\n",
      "  imsave(filePath, image)\n"
     ]
    },
    {
     "name": "stdout",
     "output_type": "stream",
     "text": [
      "C:\\Users\\Karl\\Desktop\\why didn't you choose me\\abstractImageTweakedpng\\abstractImageT702233.png\n"
     ]
    },
    {
     "name": "stderr",
     "output_type": "stream",
     "text": [
      "<ipython-input-9-2b69156255fe>:55: UserWarning: C:\\Users\\Karl\\Desktop\\why didn't you choose me\\abstractImageTweakedpng\\abstractImageT702233.png is a low contrast image\n",
      "  imsave(filePath, image)\n"
     ]
    },
    {
     "name": "stdout",
     "output_type": "stream",
     "text": [
      "C:\\Users\\Karl\\Desktop\\why didn't you choose me\\abstractImageTweakedpng\\abstractImageT702234.png\n"
     ]
    },
    {
     "name": "stderr",
     "output_type": "stream",
     "text": [
      "<ipython-input-9-2b69156255fe>:55: UserWarning: C:\\Users\\Karl\\Desktop\\why didn't you choose me\\abstractImageTweakedpng\\abstractImageT702234.png is a low contrast image\n",
      "  imsave(filePath, image)\n"
     ]
    },
    {
     "name": "stdout",
     "output_type": "stream",
     "text": [
      "C:\\Users\\Karl\\Desktop\\why didn't you choose me\\abstractImageTweakedpng\\abstractImageT702235.png\n"
     ]
    },
    {
     "name": "stderr",
     "output_type": "stream",
     "text": [
      "<ipython-input-9-2b69156255fe>:55: UserWarning: C:\\Users\\Karl\\Desktop\\why didn't you choose me\\abstractImageTweakedpng\\abstractImageT702235.png is a low contrast image\n",
      "  imsave(filePath, image)\n"
     ]
    },
    {
     "name": "stdout",
     "output_type": "stream",
     "text": [
      "C:\\Users\\Karl\\Desktop\\why didn't you choose me\\abstractImageTweakedpng\\abstractImageT702236.png\n"
     ]
    },
    {
     "name": "stderr",
     "output_type": "stream",
     "text": [
      "<ipython-input-9-2b69156255fe>:55: UserWarning: C:\\Users\\Karl\\Desktop\\why didn't you choose me\\abstractImageTweakedpng\\abstractImageT702236.png is a low contrast image\n",
      "  imsave(filePath, image)\n"
     ]
    },
    {
     "name": "stdout",
     "output_type": "stream",
     "text": [
      "C:\\Users\\Karl\\Desktop\\why didn't you choose me\\abstractImageTweakedpng\\abstractImageT702237.png\n"
     ]
    },
    {
     "name": "stderr",
     "output_type": "stream",
     "text": [
      "<ipython-input-9-2b69156255fe>:55: UserWarning: C:\\Users\\Karl\\Desktop\\why didn't you choose me\\abstractImageTweakedpng\\abstractImageT702237.png is a low contrast image\n",
      "  imsave(filePath, image)\n"
     ]
    },
    {
     "name": "stdout",
     "output_type": "stream",
     "text": [
      "C:\\Users\\Karl\\Desktop\\why didn't you choose me\\abstractImageTweakedpng\\abstractImageT702238.png\n"
     ]
    },
    {
     "name": "stderr",
     "output_type": "stream",
     "text": [
      "<ipython-input-9-2b69156255fe>:55: UserWarning: C:\\Users\\Karl\\Desktop\\why didn't you choose me\\abstractImageTweakedpng\\abstractImageT702238.png is a low contrast image\n",
      "  imsave(filePath, image)\n"
     ]
    },
    {
     "name": "stdout",
     "output_type": "stream",
     "text": [
      "C:\\Users\\Karl\\Desktop\\why didn't you choose me\\abstractImageTweakedpng\\abstractImageT702239.png\n"
     ]
    },
    {
     "name": "stderr",
     "output_type": "stream",
     "text": [
      "<ipython-input-9-2b69156255fe>:55: UserWarning: C:\\Users\\Karl\\Desktop\\why didn't you choose me\\abstractImageTweakedpng\\abstractImageT702239.png is a low contrast image\n",
      "  imsave(filePath, image)\n"
     ]
    },
    {
     "name": "stdout",
     "output_type": "stream",
     "text": [
      "C:\\Users\\Karl\\Desktop\\why didn't you choose me\\abstractImageTweakedpng\\abstractImageT702240.png\n"
     ]
    },
    {
     "name": "stderr",
     "output_type": "stream",
     "text": [
      "<ipython-input-9-2b69156255fe>:55: UserWarning: C:\\Users\\Karl\\Desktop\\why didn't you choose me\\abstractImageTweakedpng\\abstractImageT702240.png is a low contrast image\n",
      "  imsave(filePath, image)\n"
     ]
    },
    {
     "name": "stdout",
     "output_type": "stream",
     "text": [
      "C:\\Users\\Karl\\Desktop\\why didn't you choose me\\abstractImageTweakedpng\\abstractImageT702241.png\n"
     ]
    },
    {
     "name": "stderr",
     "output_type": "stream",
     "text": [
      "<ipython-input-9-2b69156255fe>:55: UserWarning: C:\\Users\\Karl\\Desktop\\why didn't you choose me\\abstractImageTweakedpng\\abstractImageT702241.png is a low contrast image\n",
      "  imsave(filePath, image)\n"
     ]
    },
    {
     "name": "stdout",
     "output_type": "stream",
     "text": [
      "C:\\Users\\Karl\\Desktop\\why didn't you choose me\\abstractImageTweakedpng\\abstractImageT702242.png\n"
     ]
    },
    {
     "name": "stderr",
     "output_type": "stream",
     "text": [
      "<ipython-input-9-2b69156255fe>:55: UserWarning: C:\\Users\\Karl\\Desktop\\why didn't you choose me\\abstractImageTweakedpng\\abstractImageT702242.png is a low contrast image\n",
      "  imsave(filePath, image)\n"
     ]
    },
    {
     "name": "stdout",
     "output_type": "stream",
     "text": [
      "C:\\Users\\Karl\\Desktop\\why didn't you choose me\\abstractImageTweakedpng\\abstractImageT702243.png\n"
     ]
    },
    {
     "name": "stderr",
     "output_type": "stream",
     "text": [
      "<ipython-input-9-2b69156255fe>:55: UserWarning: C:\\Users\\Karl\\Desktop\\why didn't you choose me\\abstractImageTweakedpng\\abstractImageT702243.png is a low contrast image\n",
      "  imsave(filePath, image)\n"
     ]
    },
    {
     "name": "stdout",
     "output_type": "stream",
     "text": [
      "C:\\Users\\Karl\\Desktop\\why didn't you choose me\\abstractImageTweakedpng\\abstractImageT702244.png\n"
     ]
    },
    {
     "name": "stderr",
     "output_type": "stream",
     "text": [
      "<ipython-input-9-2b69156255fe>:55: UserWarning: C:\\Users\\Karl\\Desktop\\why didn't you choose me\\abstractImageTweakedpng\\abstractImageT702244.png is a low contrast image\n",
      "  imsave(filePath, image)\n"
     ]
    },
    {
     "name": "stdout",
     "output_type": "stream",
     "text": [
      "C:\\Users\\Karl\\Desktop\\why didn't you choose me\\abstractImageTweakedpng\\abstractImageT702245.png\n"
     ]
    },
    {
     "name": "stderr",
     "output_type": "stream",
     "text": [
      "<ipython-input-9-2b69156255fe>:55: UserWarning: C:\\Users\\Karl\\Desktop\\why didn't you choose me\\abstractImageTweakedpng\\abstractImageT702245.png is a low contrast image\n",
      "  imsave(filePath, image)\n"
     ]
    },
    {
     "name": "stdout",
     "output_type": "stream",
     "text": [
      "C:\\Users\\Karl\\Desktop\\why didn't you choose me\\abstractImageTweakedpng\\abstractImageT702246.png\n"
     ]
    },
    {
     "name": "stderr",
     "output_type": "stream",
     "text": [
      "<ipython-input-9-2b69156255fe>:55: UserWarning: C:\\Users\\Karl\\Desktop\\why didn't you choose me\\abstractImageTweakedpng\\abstractImageT702246.png is a low contrast image\n",
      "  imsave(filePath, image)\n"
     ]
    },
    {
     "name": "stdout",
     "output_type": "stream",
     "text": [
      "C:\\Users\\Karl\\Desktop\\why didn't you choose me\\abstractImageTweakedpng\\abstractImageT702247.png\n"
     ]
    },
    {
     "name": "stderr",
     "output_type": "stream",
     "text": [
      "<ipython-input-9-2b69156255fe>:55: UserWarning: C:\\Users\\Karl\\Desktop\\why didn't you choose me\\abstractImageTweakedpng\\abstractImageT702247.png is a low contrast image\n",
      "  imsave(filePath, image)\n"
     ]
    },
    {
     "name": "stdout",
     "output_type": "stream",
     "text": [
      "C:\\Users\\Karl\\Desktop\\why didn't you choose me\\abstractImageTweakedpng\\abstractImageT702248.png\n"
     ]
    },
    {
     "name": "stderr",
     "output_type": "stream",
     "text": [
      "<ipython-input-9-2b69156255fe>:55: UserWarning: C:\\Users\\Karl\\Desktop\\why didn't you choose me\\abstractImageTweakedpng\\abstractImageT702248.png is a low contrast image\n",
      "  imsave(filePath, image)\n"
     ]
    },
    {
     "name": "stdout",
     "output_type": "stream",
     "text": [
      "C:\\Users\\Karl\\Desktop\\why didn't you choose me\\abstractImageTweakedpng\\abstractImageT702249.png\n"
     ]
    },
    {
     "name": "stderr",
     "output_type": "stream",
     "text": [
      "<ipython-input-9-2b69156255fe>:55: UserWarning: C:\\Users\\Karl\\Desktop\\why didn't you choose me\\abstractImageTweakedpng\\abstractImageT702249.png is a low contrast image\n",
      "  imsave(filePath, image)\n"
     ]
    },
    {
     "name": "stdout",
     "output_type": "stream",
     "text": [
      "C:\\Users\\Karl\\Desktop\\why didn't you choose me\\abstractImageTweakedpng\\abstractImageT702250.png\n"
     ]
    },
    {
     "name": "stderr",
     "output_type": "stream",
     "text": [
      "<ipython-input-9-2b69156255fe>:55: UserWarning: C:\\Users\\Karl\\Desktop\\why didn't you choose me\\abstractImageTweakedpng\\abstractImageT702250.png is a low contrast image\n",
      "  imsave(filePath, image)\n"
     ]
    },
    {
     "name": "stdout",
     "output_type": "stream",
     "text": [
      "C:\\Users\\Karl\\Desktop\\why didn't you choose me\\abstractImageTweakedpng\\abstractImageT702251.png\n"
     ]
    },
    {
     "name": "stderr",
     "output_type": "stream",
     "text": [
      "<ipython-input-9-2b69156255fe>:55: UserWarning: C:\\Users\\Karl\\Desktop\\why didn't you choose me\\abstractImageTweakedpng\\abstractImageT702251.png is a low contrast image\n",
      "  imsave(filePath, image)\n"
     ]
    },
    {
     "name": "stdout",
     "output_type": "stream",
     "text": [
      "C:\\Users\\Karl\\Desktop\\why didn't you choose me\\abstractImageTweakedpng\\abstractImageT702252.png\n"
     ]
    },
    {
     "name": "stderr",
     "output_type": "stream",
     "text": [
      "<ipython-input-9-2b69156255fe>:55: UserWarning: C:\\Users\\Karl\\Desktop\\why didn't you choose me\\abstractImageTweakedpng\\abstractImageT702252.png is a low contrast image\n",
      "  imsave(filePath, image)\n"
     ]
    },
    {
     "name": "stdout",
     "output_type": "stream",
     "text": [
      "C:\\Users\\Karl\\Desktop\\why didn't you choose me\\abstractImageTweakedpng\\abstractImageT702253.png\n"
     ]
    },
    {
     "name": "stderr",
     "output_type": "stream",
     "text": [
      "<ipython-input-9-2b69156255fe>:55: UserWarning: C:\\Users\\Karl\\Desktop\\why didn't you choose me\\abstractImageTweakedpng\\abstractImageT702253.png is a low contrast image\n",
      "  imsave(filePath, image)\n"
     ]
    },
    {
     "name": "stdout",
     "output_type": "stream",
     "text": [
      "C:\\Users\\Karl\\Desktop\\why didn't you choose me\\abstractImageTweakedpng\\abstractImageT702254.png\n"
     ]
    },
    {
     "name": "stderr",
     "output_type": "stream",
     "text": [
      "<ipython-input-9-2b69156255fe>:55: UserWarning: C:\\Users\\Karl\\Desktop\\why didn't you choose me\\abstractImageTweakedpng\\abstractImageT702254.png is a low contrast image\n",
      "  imsave(filePath, image)\n"
     ]
    },
    {
     "name": "stdout",
     "output_type": "stream",
     "text": [
      "C:\\Users\\Karl\\Desktop\\why didn't you choose me\\abstractImageTweakedpng\\abstractImageT702255.png\n"
     ]
    },
    {
     "name": "stderr",
     "output_type": "stream",
     "text": [
      "<ipython-input-9-2b69156255fe>:55: UserWarning: C:\\Users\\Karl\\Desktop\\why didn't you choose me\\abstractImageTweakedpng\\abstractImageT702255.png is a low contrast image\n",
      "  imsave(filePath, image)\n"
     ]
    },
    {
     "name": "stdout",
     "output_type": "stream",
     "text": [
      "C:\\Users\\Karl\\Desktop\\why didn't you choose me\\abstractImageTweakedpng\\abstractImageT702256.png\n"
     ]
    },
    {
     "name": "stderr",
     "output_type": "stream",
     "text": [
      "<ipython-input-9-2b69156255fe>:55: UserWarning: C:\\Users\\Karl\\Desktop\\why didn't you choose me\\abstractImageTweakedpng\\abstractImageT702256.png is a low contrast image\n",
      "  imsave(filePath, image)\n"
     ]
    },
    {
     "name": "stdout",
     "output_type": "stream",
     "text": [
      "C:\\Users\\Karl\\Desktop\\why didn't you choose me\\abstractImageTweakedpng\\abstractImageT702257.png\n"
     ]
    },
    {
     "name": "stderr",
     "output_type": "stream",
     "text": [
      "<ipython-input-9-2b69156255fe>:55: UserWarning: C:\\Users\\Karl\\Desktop\\why didn't you choose me\\abstractImageTweakedpng\\abstractImageT702257.png is a low contrast image\n",
      "  imsave(filePath, image)\n"
     ]
    },
    {
     "name": "stdout",
     "output_type": "stream",
     "text": [
      "C:\\Users\\Karl\\Desktop\\why didn't you choose me\\abstractImageTweakedpng\\abstractImageT702258.png\n"
     ]
    },
    {
     "name": "stderr",
     "output_type": "stream",
     "text": [
      "<ipython-input-9-2b69156255fe>:55: UserWarning: C:\\Users\\Karl\\Desktop\\why didn't you choose me\\abstractImageTweakedpng\\abstractImageT702258.png is a low contrast image\n",
      "  imsave(filePath, image)\n"
     ]
    },
    {
     "name": "stdout",
     "output_type": "stream",
     "text": [
      "C:\\Users\\Karl\\Desktop\\why didn't you choose me\\abstractImageTweakedpng\\abstractImageT702259.png\n"
     ]
    },
    {
     "name": "stderr",
     "output_type": "stream",
     "text": [
      "<ipython-input-9-2b69156255fe>:55: UserWarning: C:\\Users\\Karl\\Desktop\\why didn't you choose me\\abstractImageTweakedpng\\abstractImageT702259.png is a low contrast image\n",
      "  imsave(filePath, image)\n"
     ]
    },
    {
     "name": "stdout",
     "output_type": "stream",
     "text": [
      "C:\\Users\\Karl\\Desktop\\why didn't you choose me\\abstractImageTweakedpng\\abstractImageT702260.png\n"
     ]
    },
    {
     "name": "stderr",
     "output_type": "stream",
     "text": [
      "<ipython-input-9-2b69156255fe>:55: UserWarning: C:\\Users\\Karl\\Desktop\\why didn't you choose me\\abstractImageTweakedpng\\abstractImageT702260.png is a low contrast image\n",
      "  imsave(filePath, image)\n"
     ]
    },
    {
     "name": "stdout",
     "output_type": "stream",
     "text": [
      "C:\\Users\\Karl\\Desktop\\why didn't you choose me\\abstractImageTweakedpng\\abstractImageT702261.png\n"
     ]
    },
    {
     "name": "stderr",
     "output_type": "stream",
     "text": [
      "<ipython-input-9-2b69156255fe>:55: UserWarning: C:\\Users\\Karl\\Desktop\\why didn't you choose me\\abstractImageTweakedpng\\abstractImageT702261.png is a low contrast image\n",
      "  imsave(filePath, image)\n"
     ]
    },
    {
     "name": "stdout",
     "output_type": "stream",
     "text": [
      "C:\\Users\\Karl\\Desktop\\why didn't you choose me\\abstractImageTweakedpng\\abstractImageT702262.png\n"
     ]
    },
    {
     "name": "stderr",
     "output_type": "stream",
     "text": [
      "<ipython-input-9-2b69156255fe>:55: UserWarning: C:\\Users\\Karl\\Desktop\\why didn't you choose me\\abstractImageTweakedpng\\abstractImageT702262.png is a low contrast image\n",
      "  imsave(filePath, image)\n"
     ]
    },
    {
     "name": "stdout",
     "output_type": "stream",
     "text": [
      "C:\\Users\\Karl\\Desktop\\why didn't you choose me\\abstractImageTweakedpng\\abstractImageT702263.png\n"
     ]
    },
    {
     "name": "stderr",
     "output_type": "stream",
     "text": [
      "<ipython-input-9-2b69156255fe>:55: UserWarning: C:\\Users\\Karl\\Desktop\\why didn't you choose me\\abstractImageTweakedpng\\abstractImageT702263.png is a low contrast image\n",
      "  imsave(filePath, image)\n"
     ]
    },
    {
     "name": "stdout",
     "output_type": "stream",
     "text": [
      "C:\\Users\\Karl\\Desktop\\why didn't you choose me\\abstractImageTweakedpng\\abstractImageT702264.png\n"
     ]
    },
    {
     "name": "stderr",
     "output_type": "stream",
     "text": [
      "<ipython-input-9-2b69156255fe>:55: UserWarning: C:\\Users\\Karl\\Desktop\\why didn't you choose me\\abstractImageTweakedpng\\abstractImageT702264.png is a low contrast image\n",
      "  imsave(filePath, image)\n"
     ]
    },
    {
     "name": "stdout",
     "output_type": "stream",
     "text": [
      "C:\\Users\\Karl\\Desktop\\why didn't you choose me\\abstractImageTweakedpng\\abstractImageT702265.png\n"
     ]
    },
    {
     "name": "stderr",
     "output_type": "stream",
     "text": [
      "<ipython-input-9-2b69156255fe>:55: UserWarning: C:\\Users\\Karl\\Desktop\\why didn't you choose me\\abstractImageTweakedpng\\abstractImageT702265.png is a low contrast image\n",
      "  imsave(filePath, image)\n"
     ]
    },
    {
     "name": "stdout",
     "output_type": "stream",
     "text": [
      "C:\\Users\\Karl\\Desktop\\why didn't you choose me\\abstractImageTweakedpng\\abstractImageT702266.png\n"
     ]
    },
    {
     "name": "stderr",
     "output_type": "stream",
     "text": [
      "<ipython-input-9-2b69156255fe>:55: UserWarning: C:\\Users\\Karl\\Desktop\\why didn't you choose me\\abstractImageTweakedpng\\abstractImageT702266.png is a low contrast image\n",
      "  imsave(filePath, image)\n"
     ]
    },
    {
     "name": "stdout",
     "output_type": "stream",
     "text": [
      "C:\\Users\\Karl\\Desktop\\why didn't you choose me\\abstractImageTweakedpng\\abstractImageT702267.png\n"
     ]
    },
    {
     "name": "stderr",
     "output_type": "stream",
     "text": [
      "<ipython-input-9-2b69156255fe>:55: UserWarning: C:\\Users\\Karl\\Desktop\\why didn't you choose me\\abstractImageTweakedpng\\abstractImageT702267.png is a low contrast image\n",
      "  imsave(filePath, image)\n"
     ]
    },
    {
     "name": "stdout",
     "output_type": "stream",
     "text": [
      "C:\\Users\\Karl\\Desktop\\why didn't you choose me\\abstractImageTweakedpng\\abstractImageT702268.png\n"
     ]
    },
    {
     "name": "stderr",
     "output_type": "stream",
     "text": [
      "<ipython-input-9-2b69156255fe>:55: UserWarning: C:\\Users\\Karl\\Desktop\\why didn't you choose me\\abstractImageTweakedpng\\abstractImageT702268.png is a low contrast image\n",
      "  imsave(filePath, image)\n"
     ]
    },
    {
     "name": "stdout",
     "output_type": "stream",
     "text": [
      "C:\\Users\\Karl\\Desktop\\why didn't you choose me\\abstractImageTweakedpng\\abstractImageT702269.png\n"
     ]
    },
    {
     "name": "stderr",
     "output_type": "stream",
     "text": [
      "<ipython-input-9-2b69156255fe>:55: UserWarning: C:\\Users\\Karl\\Desktop\\why didn't you choose me\\abstractImageTweakedpng\\abstractImageT702269.png is a low contrast image\n",
      "  imsave(filePath, image)\n"
     ]
    },
    {
     "name": "stdout",
     "output_type": "stream",
     "text": [
      "C:\\Users\\Karl\\Desktop\\why didn't you choose me\\abstractImageTweakedpng\\abstractImageT702270.png\n"
     ]
    },
    {
     "name": "stderr",
     "output_type": "stream",
     "text": [
      "<ipython-input-9-2b69156255fe>:55: UserWarning: C:\\Users\\Karl\\Desktop\\why didn't you choose me\\abstractImageTweakedpng\\abstractImageT702270.png is a low contrast image\n",
      "  imsave(filePath, image)\n"
     ]
    },
    {
     "name": "stdout",
     "output_type": "stream",
     "text": [
      "C:\\Users\\Karl\\Desktop\\why didn't you choose me\\abstractImageTweakedpng\\abstractImageT702271.png\n"
     ]
    },
    {
     "name": "stderr",
     "output_type": "stream",
     "text": [
      "<ipython-input-9-2b69156255fe>:55: UserWarning: C:\\Users\\Karl\\Desktop\\why didn't you choose me\\abstractImageTweakedpng\\abstractImageT702271.png is a low contrast image\n",
      "  imsave(filePath, image)\n"
     ]
    },
    {
     "name": "stdout",
     "output_type": "stream",
     "text": [
      "C:\\Users\\Karl\\Desktop\\why didn't you choose me\\abstractImageTweakedpng\\abstractImageT702272.png\n"
     ]
    },
    {
     "name": "stderr",
     "output_type": "stream",
     "text": [
      "<ipython-input-9-2b69156255fe>:55: UserWarning: C:\\Users\\Karl\\Desktop\\why didn't you choose me\\abstractImageTweakedpng\\abstractImageT702272.png is a low contrast image\n",
      "  imsave(filePath, image)\n"
     ]
    },
    {
     "name": "stdout",
     "output_type": "stream",
     "text": [
      "C:\\Users\\Karl\\Desktop\\why didn't you choose me\\abstractImageTweakedpng\\abstractImageT702273.png\n"
     ]
    },
    {
     "name": "stderr",
     "output_type": "stream",
     "text": [
      "<ipython-input-9-2b69156255fe>:55: UserWarning: C:\\Users\\Karl\\Desktop\\why didn't you choose me\\abstractImageTweakedpng\\abstractImageT702273.png is a low contrast image\n",
      "  imsave(filePath, image)\n"
     ]
    },
    {
     "name": "stdout",
     "output_type": "stream",
     "text": [
      "C:\\Users\\Karl\\Desktop\\why didn't you choose me\\abstractImageTweakedpng\\abstractImageT702274.png\n"
     ]
    },
    {
     "name": "stderr",
     "output_type": "stream",
     "text": [
      "<ipython-input-9-2b69156255fe>:55: UserWarning: C:\\Users\\Karl\\Desktop\\why didn't you choose me\\abstractImageTweakedpng\\abstractImageT702274.png is a low contrast image\n",
      "  imsave(filePath, image)\n"
     ]
    },
    {
     "name": "stdout",
     "output_type": "stream",
     "text": [
      "C:\\Users\\Karl\\Desktop\\why didn't you choose me\\abstractImageTweakedpng\\abstractImageT702275.png\n"
     ]
    },
    {
     "name": "stderr",
     "output_type": "stream",
     "text": [
      "<ipython-input-9-2b69156255fe>:55: UserWarning: C:\\Users\\Karl\\Desktop\\why didn't you choose me\\abstractImageTweakedpng\\abstractImageT702275.png is a low contrast image\n",
      "  imsave(filePath, image)\n"
     ]
    },
    {
     "name": "stdout",
     "output_type": "stream",
     "text": [
      "C:\\Users\\Karl\\Desktop\\why didn't you choose me\\abstractImageTweakedpng\\abstractImageT702276.png\n"
     ]
    },
    {
     "name": "stderr",
     "output_type": "stream",
     "text": [
      "<ipython-input-9-2b69156255fe>:55: UserWarning: C:\\Users\\Karl\\Desktop\\why didn't you choose me\\abstractImageTweakedpng\\abstractImageT702276.png is a low contrast image\n",
      "  imsave(filePath, image)\n"
     ]
    },
    {
     "name": "stdout",
     "output_type": "stream",
     "text": [
      "C:\\Users\\Karl\\Desktop\\why didn't you choose me\\abstractImageTweakedpng\\abstractImageT702277.png\n"
     ]
    },
    {
     "name": "stderr",
     "output_type": "stream",
     "text": [
      "<ipython-input-9-2b69156255fe>:55: UserWarning: C:\\Users\\Karl\\Desktop\\why didn't you choose me\\abstractImageTweakedpng\\abstractImageT702277.png is a low contrast image\n",
      "  imsave(filePath, image)\n"
     ]
    },
    {
     "name": "stdout",
     "output_type": "stream",
     "text": [
      "C:\\Users\\Karl\\Desktop\\why didn't you choose me\\abstractImageTweakedpng\\abstractImageT702278.png\n"
     ]
    },
    {
     "name": "stderr",
     "output_type": "stream",
     "text": [
      "<ipython-input-9-2b69156255fe>:55: UserWarning: C:\\Users\\Karl\\Desktop\\why didn't you choose me\\abstractImageTweakedpng\\abstractImageT702278.png is a low contrast image\n",
      "  imsave(filePath, image)\n"
     ]
    },
    {
     "name": "stdout",
     "output_type": "stream",
     "text": [
      "C:\\Users\\Karl\\Desktop\\why didn't you choose me\\abstractImageTweakedpng\\abstractImageT702279.png\n"
     ]
    },
    {
     "name": "stderr",
     "output_type": "stream",
     "text": [
      "<ipython-input-9-2b69156255fe>:55: UserWarning: C:\\Users\\Karl\\Desktop\\why didn't you choose me\\abstractImageTweakedpng\\abstractImageT702279.png is a low contrast image\n",
      "  imsave(filePath, image)\n"
     ]
    },
    {
     "name": "stdout",
     "output_type": "stream",
     "text": [
      "C:\\Users\\Karl\\Desktop\\why didn't you choose me\\abstractImageTweakedpng\\abstractImageT702280.png\n"
     ]
    },
    {
     "name": "stderr",
     "output_type": "stream",
     "text": [
      "<ipython-input-9-2b69156255fe>:55: UserWarning: C:\\Users\\Karl\\Desktop\\why didn't you choose me\\abstractImageTweakedpng\\abstractImageT702280.png is a low contrast image\n",
      "  imsave(filePath, image)\n"
     ]
    },
    {
     "name": "stdout",
     "output_type": "stream",
     "text": [
      "C:\\Users\\Karl\\Desktop\\why didn't you choose me\\abstractImageTweakedpng\\abstractImageT702281.png\n"
     ]
    },
    {
     "name": "stderr",
     "output_type": "stream",
     "text": [
      "<ipython-input-9-2b69156255fe>:55: UserWarning: C:\\Users\\Karl\\Desktop\\why didn't you choose me\\abstractImageTweakedpng\\abstractImageT702281.png is a low contrast image\n",
      "  imsave(filePath, image)\n"
     ]
    },
    {
     "name": "stdout",
     "output_type": "stream",
     "text": [
      "C:\\Users\\Karl\\Desktop\\why didn't you choose me\\abstractImageTweakedpng\\abstractImageT702282.png\n"
     ]
    },
    {
     "name": "stderr",
     "output_type": "stream",
     "text": [
      "<ipython-input-9-2b69156255fe>:55: UserWarning: C:\\Users\\Karl\\Desktop\\why didn't you choose me\\abstractImageTweakedpng\\abstractImageT702282.png is a low contrast image\n",
      "  imsave(filePath, image)\n"
     ]
    },
    {
     "name": "stdout",
     "output_type": "stream",
     "text": [
      "C:\\Users\\Karl\\Desktop\\why didn't you choose me\\abstractImageTweakedpng\\abstractImageT702283.png\n"
     ]
    },
    {
     "name": "stderr",
     "output_type": "stream",
     "text": [
      "<ipython-input-9-2b69156255fe>:55: UserWarning: C:\\Users\\Karl\\Desktop\\why didn't you choose me\\abstractImageTweakedpng\\abstractImageT702283.png is a low contrast image\n",
      "  imsave(filePath, image)\n"
     ]
    },
    {
     "name": "stdout",
     "output_type": "stream",
     "text": [
      "C:\\Users\\Karl\\Desktop\\why didn't you choose me\\abstractImageTweakedpng\\abstractImageT702284.png\n"
     ]
    },
    {
     "name": "stderr",
     "output_type": "stream",
     "text": [
      "<ipython-input-9-2b69156255fe>:55: UserWarning: C:\\Users\\Karl\\Desktop\\why didn't you choose me\\abstractImageTweakedpng\\abstractImageT702284.png is a low contrast image\n",
      "  imsave(filePath, image)\n"
     ]
    },
    {
     "name": "stdout",
     "output_type": "stream",
     "text": [
      "C:\\Users\\Karl\\Desktop\\why didn't you choose me\\abstractImageTweakedpng\\abstractImageT702285.png\n"
     ]
    },
    {
     "name": "stderr",
     "output_type": "stream",
     "text": [
      "<ipython-input-9-2b69156255fe>:55: UserWarning: C:\\Users\\Karl\\Desktop\\why didn't you choose me\\abstractImageTweakedpng\\abstractImageT702285.png is a low contrast image\n",
      "  imsave(filePath, image)\n"
     ]
    },
    {
     "name": "stdout",
     "output_type": "stream",
     "text": [
      "C:\\Users\\Karl\\Desktop\\why didn't you choose me\\abstractImageTweakedpng\\abstractImageT702286.png\n"
     ]
    },
    {
     "name": "stderr",
     "output_type": "stream",
     "text": [
      "<ipython-input-9-2b69156255fe>:55: UserWarning: C:\\Users\\Karl\\Desktop\\why didn't you choose me\\abstractImageTweakedpng\\abstractImageT702286.png is a low contrast image\n",
      "  imsave(filePath, image)\n"
     ]
    },
    {
     "name": "stdout",
     "output_type": "stream",
     "text": [
      "C:\\Users\\Karl\\Desktop\\why didn't you choose me\\abstractImageTweakedpng\\abstractImageT702287.png\n"
     ]
    },
    {
     "name": "stderr",
     "output_type": "stream",
     "text": [
      "<ipython-input-9-2b69156255fe>:55: UserWarning: C:\\Users\\Karl\\Desktop\\why didn't you choose me\\abstractImageTweakedpng\\abstractImageT702287.png is a low contrast image\n",
      "  imsave(filePath, image)\n"
     ]
    },
    {
     "name": "stdout",
     "output_type": "stream",
     "text": [
      "C:\\Users\\Karl\\Desktop\\why didn't you choose me\\abstractImageTweakedpng\\abstractImageT702288.png\n"
     ]
    },
    {
     "name": "stderr",
     "output_type": "stream",
     "text": [
      "<ipython-input-9-2b69156255fe>:55: UserWarning: C:\\Users\\Karl\\Desktop\\why didn't you choose me\\abstractImageTweakedpng\\abstractImageT702288.png is a low contrast image\n",
      "  imsave(filePath, image)\n"
     ]
    },
    {
     "name": "stdout",
     "output_type": "stream",
     "text": [
      "C:\\Users\\Karl\\Desktop\\why didn't you choose me\\abstractImageTweakedpng\\abstractImageT702289.png\n"
     ]
    },
    {
     "name": "stderr",
     "output_type": "stream",
     "text": [
      "<ipython-input-9-2b69156255fe>:55: UserWarning: C:\\Users\\Karl\\Desktop\\why didn't you choose me\\abstractImageTweakedpng\\abstractImageT702289.png is a low contrast image\n",
      "  imsave(filePath, image)\n"
     ]
    },
    {
     "name": "stdout",
     "output_type": "stream",
     "text": [
      "C:\\Users\\Karl\\Desktop\\why didn't you choose me\\abstractImageTweakedpng\\abstractImageT702290.png\n"
     ]
    },
    {
     "name": "stderr",
     "output_type": "stream",
     "text": [
      "<ipython-input-9-2b69156255fe>:55: UserWarning: C:\\Users\\Karl\\Desktop\\why didn't you choose me\\abstractImageTweakedpng\\abstractImageT702290.png is a low contrast image\n",
      "  imsave(filePath, image)\n"
     ]
    },
    {
     "name": "stdout",
     "output_type": "stream",
     "text": [
      "C:\\Users\\Karl\\Desktop\\why didn't you choose me\\abstractImageTweakedpng\\abstractImageT702291.png\n"
     ]
    },
    {
     "name": "stderr",
     "output_type": "stream",
     "text": [
      "<ipython-input-9-2b69156255fe>:55: UserWarning: C:\\Users\\Karl\\Desktop\\why didn't you choose me\\abstractImageTweakedpng\\abstractImageT702291.png is a low contrast image\n",
      "  imsave(filePath, image)\n"
     ]
    },
    {
     "name": "stdout",
     "output_type": "stream",
     "text": [
      "C:\\Users\\Karl\\Desktop\\why didn't you choose me\\abstractImageTweakedpng\\abstractImageT702292.png\n"
     ]
    },
    {
     "name": "stderr",
     "output_type": "stream",
     "text": [
      "<ipython-input-9-2b69156255fe>:55: UserWarning: C:\\Users\\Karl\\Desktop\\why didn't you choose me\\abstractImageTweakedpng\\abstractImageT702292.png is a low contrast image\n",
      "  imsave(filePath, image)\n"
     ]
    },
    {
     "name": "stdout",
     "output_type": "stream",
     "text": [
      "C:\\Users\\Karl\\Desktop\\why didn't you choose me\\abstractImageTweakedpng\\abstractImageT702293.png\n"
     ]
    },
    {
     "name": "stderr",
     "output_type": "stream",
     "text": [
      "<ipython-input-9-2b69156255fe>:55: UserWarning: C:\\Users\\Karl\\Desktop\\why didn't you choose me\\abstractImageTweakedpng\\abstractImageT702293.png is a low contrast image\n",
      "  imsave(filePath, image)\n"
     ]
    },
    {
     "name": "stdout",
     "output_type": "stream",
     "text": [
      "C:\\Users\\Karl\\Desktop\\why didn't you choose me\\abstractImageTweakedpng\\abstractImageT702294.png\n"
     ]
    },
    {
     "name": "stderr",
     "output_type": "stream",
     "text": [
      "<ipython-input-9-2b69156255fe>:55: UserWarning: C:\\Users\\Karl\\Desktop\\why didn't you choose me\\abstractImageTweakedpng\\abstractImageT702294.png is a low contrast image\n",
      "  imsave(filePath, image)\n"
     ]
    },
    {
     "name": "stdout",
     "output_type": "stream",
     "text": [
      "C:\\Users\\Karl\\Desktop\\why didn't you choose me\\abstractImageTweakedpng\\abstractImageT702295.png\n"
     ]
    },
    {
     "name": "stderr",
     "output_type": "stream",
     "text": [
      "<ipython-input-9-2b69156255fe>:55: UserWarning: C:\\Users\\Karl\\Desktop\\why didn't you choose me\\abstractImageTweakedpng\\abstractImageT702295.png is a low contrast image\n",
      "  imsave(filePath, image)\n"
     ]
    },
    {
     "name": "stdout",
     "output_type": "stream",
     "text": [
      "C:\\Users\\Karl\\Desktop\\why didn't you choose me\\abstractImageTweakedpng\\abstractImageT702296.png\n"
     ]
    },
    {
     "name": "stderr",
     "output_type": "stream",
     "text": [
      "<ipython-input-9-2b69156255fe>:55: UserWarning: C:\\Users\\Karl\\Desktop\\why didn't you choose me\\abstractImageTweakedpng\\abstractImageT702296.png is a low contrast image\n",
      "  imsave(filePath, image)\n"
     ]
    },
    {
     "name": "stdout",
     "output_type": "stream",
     "text": [
      "C:\\Users\\Karl\\Desktop\\why didn't you choose me\\abstractImageTweakedpng\\abstractImageT702297.png\n"
     ]
    },
    {
     "name": "stderr",
     "output_type": "stream",
     "text": [
      "<ipython-input-9-2b69156255fe>:55: UserWarning: C:\\Users\\Karl\\Desktop\\why didn't you choose me\\abstractImageTweakedpng\\abstractImageT702297.png is a low contrast image\n",
      "  imsave(filePath, image)\n"
     ]
    },
    {
     "name": "stdout",
     "output_type": "stream",
     "text": [
      "C:\\Users\\Karl\\Desktop\\why didn't you choose me\\abstractImageTweakedpng\\abstractImageT702298.png\n"
     ]
    },
    {
     "name": "stderr",
     "output_type": "stream",
     "text": [
      "<ipython-input-9-2b69156255fe>:55: UserWarning: C:\\Users\\Karl\\Desktop\\why didn't you choose me\\abstractImageTweakedpng\\abstractImageT702298.png is a low contrast image\n",
      "  imsave(filePath, image)\n"
     ]
    },
    {
     "name": "stdout",
     "output_type": "stream",
     "text": [
      "C:\\Users\\Karl\\Desktop\\why didn't you choose me\\abstractImageTweakedpng\\abstractImageT702299.png\n"
     ]
    },
    {
     "name": "stderr",
     "output_type": "stream",
     "text": [
      "<ipython-input-9-2b69156255fe>:55: UserWarning: C:\\Users\\Karl\\Desktop\\why didn't you choose me\\abstractImageTweakedpng\\abstractImageT702299.png is a low contrast image\n",
      "  imsave(filePath, image)\n"
     ]
    },
    {
     "name": "stdout",
     "output_type": "stream",
     "text": [
      "C:\\Users\\Karl\\Desktop\\why didn't you choose me\\abstractImageTweakedpng\\abstractImageT702300.png\n"
     ]
    },
    {
     "name": "stderr",
     "output_type": "stream",
     "text": [
      "<ipython-input-9-2b69156255fe>:55: UserWarning: C:\\Users\\Karl\\Desktop\\why didn't you choose me\\abstractImageTweakedpng\\abstractImageT702300.png is a low contrast image\n",
      "  imsave(filePath, image)\n"
     ]
    },
    {
     "name": "stdout",
     "output_type": "stream",
     "text": [
      "C:\\Users\\Karl\\Desktop\\why didn't you choose me\\abstractImageTweakedpng\\abstractImageT702301.png\n"
     ]
    },
    {
     "name": "stderr",
     "output_type": "stream",
     "text": [
      "<ipython-input-9-2b69156255fe>:55: UserWarning: C:\\Users\\Karl\\Desktop\\why didn't you choose me\\abstractImageTweakedpng\\abstractImageT702301.png is a low contrast image\n",
      "  imsave(filePath, image)\n"
     ]
    },
    {
     "name": "stdout",
     "output_type": "stream",
     "text": [
      "C:\\Users\\Karl\\Desktop\\why didn't you choose me\\abstractImageTweakedpng\\abstractImageT702302.png\n"
     ]
    },
    {
     "name": "stderr",
     "output_type": "stream",
     "text": [
      "<ipython-input-9-2b69156255fe>:55: UserWarning: C:\\Users\\Karl\\Desktop\\why didn't you choose me\\abstractImageTweakedpng\\abstractImageT702302.png is a low contrast image\n",
      "  imsave(filePath, image)\n"
     ]
    },
    {
     "name": "stdout",
     "output_type": "stream",
     "text": [
      "C:\\Users\\Karl\\Desktop\\why didn't you choose me\\abstractImageTweakedpng\\abstractImageT702303.png\n"
     ]
    },
    {
     "name": "stderr",
     "output_type": "stream",
     "text": [
      "<ipython-input-9-2b69156255fe>:55: UserWarning: C:\\Users\\Karl\\Desktop\\why didn't you choose me\\abstractImageTweakedpng\\abstractImageT702303.png is a low contrast image\n",
      "  imsave(filePath, image)\n"
     ]
    },
    {
     "name": "stdout",
     "output_type": "stream",
     "text": [
      "C:\\Users\\Karl\\Desktop\\why didn't you choose me\\abstractImageTweakedpng\\abstractImageT702304.png\n"
     ]
    },
    {
     "name": "stderr",
     "output_type": "stream",
     "text": [
      "<ipython-input-9-2b69156255fe>:55: UserWarning: C:\\Users\\Karl\\Desktop\\why didn't you choose me\\abstractImageTweakedpng\\abstractImageT702304.png is a low contrast image\n",
      "  imsave(filePath, image)\n"
     ]
    },
    {
     "name": "stdout",
     "output_type": "stream",
     "text": [
      "C:\\Users\\Karl\\Desktop\\why didn't you choose me\\abstractImageTweakedpng\\abstractImageT702305.png\n"
     ]
    },
    {
     "name": "stderr",
     "output_type": "stream",
     "text": [
      "<ipython-input-9-2b69156255fe>:55: UserWarning: C:\\Users\\Karl\\Desktop\\why didn't you choose me\\abstractImageTweakedpng\\abstractImageT702305.png is a low contrast image\n",
      "  imsave(filePath, image)\n"
     ]
    },
    {
     "name": "stdout",
     "output_type": "stream",
     "text": [
      "C:\\Users\\Karl\\Desktop\\why didn't you choose me\\abstractImageTweakedpng\\abstractImageT702306.png\n"
     ]
    },
    {
     "name": "stderr",
     "output_type": "stream",
     "text": [
      "<ipython-input-9-2b69156255fe>:55: UserWarning: C:\\Users\\Karl\\Desktop\\why didn't you choose me\\abstractImageTweakedpng\\abstractImageT702306.png is a low contrast image\n",
      "  imsave(filePath, image)\n"
     ]
    },
    {
     "name": "stdout",
     "output_type": "stream",
     "text": [
      "C:\\Users\\Karl\\Desktop\\why didn't you choose me\\abstractImageTweakedpng\\abstractImageT702307.png\n"
     ]
    },
    {
     "name": "stderr",
     "output_type": "stream",
     "text": [
      "<ipython-input-9-2b69156255fe>:55: UserWarning: C:\\Users\\Karl\\Desktop\\why didn't you choose me\\abstractImageTweakedpng\\abstractImageT702307.png is a low contrast image\n",
      "  imsave(filePath, image)\n"
     ]
    },
    {
     "name": "stdout",
     "output_type": "stream",
     "text": [
      "C:\\Users\\Karl\\Desktop\\why didn't you choose me\\abstractImageTweakedpng\\abstractImageT702308.png\n"
     ]
    },
    {
     "name": "stderr",
     "output_type": "stream",
     "text": [
      "<ipython-input-9-2b69156255fe>:55: UserWarning: C:\\Users\\Karl\\Desktop\\why didn't you choose me\\abstractImageTweakedpng\\abstractImageT702308.png is a low contrast image\n",
      "  imsave(filePath, image)\n"
     ]
    },
    {
     "name": "stdout",
     "output_type": "stream",
     "text": [
      "C:\\Users\\Karl\\Desktop\\why didn't you choose me\\abstractImageTweakedpng\\abstractImageT702309.png\n"
     ]
    },
    {
     "name": "stderr",
     "output_type": "stream",
     "text": [
      "<ipython-input-9-2b69156255fe>:55: UserWarning: C:\\Users\\Karl\\Desktop\\why didn't you choose me\\abstractImageTweakedpng\\abstractImageT702309.png is a low contrast image\n",
      "  imsave(filePath, image)\n"
     ]
    },
    {
     "name": "stdout",
     "output_type": "stream",
     "text": [
      "C:\\Users\\Karl\\Desktop\\why didn't you choose me\\abstractImageTweakedpng\\abstractImageT702310.png\n"
     ]
    },
    {
     "name": "stderr",
     "output_type": "stream",
     "text": [
      "<ipython-input-9-2b69156255fe>:55: UserWarning: C:\\Users\\Karl\\Desktop\\why didn't you choose me\\abstractImageTweakedpng\\abstractImageT702310.png is a low contrast image\n",
      "  imsave(filePath, image)\n"
     ]
    },
    {
     "name": "stdout",
     "output_type": "stream",
     "text": [
      "C:\\Users\\Karl\\Desktop\\why didn't you choose me\\abstractImageTweakedpng\\abstractImageT702311.png\n"
     ]
    },
    {
     "name": "stderr",
     "output_type": "stream",
     "text": [
      "<ipython-input-9-2b69156255fe>:55: UserWarning: C:\\Users\\Karl\\Desktop\\why didn't you choose me\\abstractImageTweakedpng\\abstractImageT702311.png is a low contrast image\n",
      "  imsave(filePath, image)\n"
     ]
    },
    {
     "name": "stdout",
     "output_type": "stream",
     "text": [
      "C:\\Users\\Karl\\Desktop\\why didn't you choose me\\abstractImageTweakedpng\\abstractImageT702312.png\n"
     ]
    },
    {
     "name": "stderr",
     "output_type": "stream",
     "text": [
      "<ipython-input-9-2b69156255fe>:55: UserWarning: C:\\Users\\Karl\\Desktop\\why didn't you choose me\\abstractImageTweakedpng\\abstractImageT702312.png is a low contrast image\n",
      "  imsave(filePath, image)\n"
     ]
    },
    {
     "name": "stdout",
     "output_type": "stream",
     "text": [
      "C:\\Users\\Karl\\Desktop\\why didn't you choose me\\abstractImageTweakedpng\\abstractImageT702313.png\n"
     ]
    },
    {
     "name": "stderr",
     "output_type": "stream",
     "text": [
      "<ipython-input-9-2b69156255fe>:55: UserWarning: C:\\Users\\Karl\\Desktop\\why didn't you choose me\\abstractImageTweakedpng\\abstractImageT702313.png is a low contrast image\n",
      "  imsave(filePath, image)\n"
     ]
    },
    {
     "name": "stdout",
     "output_type": "stream",
     "text": [
      "C:\\Users\\Karl\\Desktop\\why didn't you choose me\\abstractImageTweakedpng\\abstractImageT702314.png\n"
     ]
    },
    {
     "name": "stderr",
     "output_type": "stream",
     "text": [
      "<ipython-input-9-2b69156255fe>:55: UserWarning: C:\\Users\\Karl\\Desktop\\why didn't you choose me\\abstractImageTweakedpng\\abstractImageT702314.png is a low contrast image\n",
      "  imsave(filePath, image)\n"
     ]
    },
    {
     "name": "stdout",
     "output_type": "stream",
     "text": [
      "C:\\Users\\Karl\\Desktop\\why didn't you choose me\\abstractImageTweakedpng\\abstractImageT702315.png\n"
     ]
    },
    {
     "name": "stderr",
     "output_type": "stream",
     "text": [
      "<ipython-input-9-2b69156255fe>:55: UserWarning: C:\\Users\\Karl\\Desktop\\why didn't you choose me\\abstractImageTweakedpng\\abstractImageT702315.png is a low contrast image\n",
      "  imsave(filePath, image)\n"
     ]
    },
    {
     "name": "stdout",
     "output_type": "stream",
     "text": [
      "C:\\Users\\Karl\\Desktop\\why didn't you choose me\\abstractImageTweakedpng\\abstractImageT702316.png\n"
     ]
    },
    {
     "name": "stderr",
     "output_type": "stream",
     "text": [
      "<ipython-input-9-2b69156255fe>:55: UserWarning: C:\\Users\\Karl\\Desktop\\why didn't you choose me\\abstractImageTweakedpng\\abstractImageT702316.png is a low contrast image\n",
      "  imsave(filePath, image)\n"
     ]
    },
    {
     "name": "stdout",
     "output_type": "stream",
     "text": [
      "C:\\Users\\Karl\\Desktop\\why didn't you choose me\\abstractImageTweakedpng\\abstractImageT702317.png\n"
     ]
    },
    {
     "name": "stderr",
     "output_type": "stream",
     "text": [
      "<ipython-input-9-2b69156255fe>:55: UserWarning: C:\\Users\\Karl\\Desktop\\why didn't you choose me\\abstractImageTweakedpng\\abstractImageT702317.png is a low contrast image\n",
      "  imsave(filePath, image)\n"
     ]
    },
    {
     "name": "stdout",
     "output_type": "stream",
     "text": [
      "C:\\Users\\Karl\\Desktop\\why didn't you choose me\\abstractImageTweakedpng\\abstractImageT702318.png\n"
     ]
    },
    {
     "name": "stderr",
     "output_type": "stream",
     "text": [
      "<ipython-input-9-2b69156255fe>:55: UserWarning: C:\\Users\\Karl\\Desktop\\why didn't you choose me\\abstractImageTweakedpng\\abstractImageT702318.png is a low contrast image\n",
      "  imsave(filePath, image)\n"
     ]
    },
    {
     "name": "stdout",
     "output_type": "stream",
     "text": [
      "C:\\Users\\Karl\\Desktop\\why didn't you choose me\\abstractImageTweakedpng\\abstractImageT702319.png\n"
     ]
    },
    {
     "name": "stderr",
     "output_type": "stream",
     "text": [
      "<ipython-input-9-2b69156255fe>:55: UserWarning: C:\\Users\\Karl\\Desktop\\why didn't you choose me\\abstractImageTweakedpng\\abstractImageT702319.png is a low contrast image\n",
      "  imsave(filePath, image)\n"
     ]
    },
    {
     "name": "stdout",
     "output_type": "stream",
     "text": [
      "C:\\Users\\Karl\\Desktop\\why didn't you choose me\\abstractImageTweakedpng\\abstractImageT702320.png\n"
     ]
    },
    {
     "name": "stderr",
     "output_type": "stream",
     "text": [
      "<ipython-input-9-2b69156255fe>:55: UserWarning: C:\\Users\\Karl\\Desktop\\why didn't you choose me\\abstractImageTweakedpng\\abstractImageT702320.png is a low contrast image\n",
      "  imsave(filePath, image)\n"
     ]
    },
    {
     "name": "stdout",
     "output_type": "stream",
     "text": [
      "C:\\Users\\Karl\\Desktop\\why didn't you choose me\\abstractImageTweakedpng\\abstractImageT702321.png\n"
     ]
    },
    {
     "name": "stderr",
     "output_type": "stream",
     "text": [
      "<ipython-input-9-2b69156255fe>:55: UserWarning: C:\\Users\\Karl\\Desktop\\why didn't you choose me\\abstractImageTweakedpng\\abstractImageT702321.png is a low contrast image\n",
      "  imsave(filePath, image)\n"
     ]
    },
    {
     "name": "stdout",
     "output_type": "stream",
     "text": [
      "C:\\Users\\Karl\\Desktop\\why didn't you choose me\\abstractImageTweakedpng\\abstractImageT702322.png\n"
     ]
    },
    {
     "name": "stderr",
     "output_type": "stream",
     "text": [
      "<ipython-input-9-2b69156255fe>:55: UserWarning: C:\\Users\\Karl\\Desktop\\why didn't you choose me\\abstractImageTweakedpng\\abstractImageT702322.png is a low contrast image\n",
      "  imsave(filePath, image)\n"
     ]
    },
    {
     "name": "stdout",
     "output_type": "stream",
     "text": [
      "C:\\Users\\Karl\\Desktop\\why didn't you choose me\\abstractImageTweakedpng\\abstractImageT702323.png\n"
     ]
    },
    {
     "name": "stderr",
     "output_type": "stream",
     "text": [
      "<ipython-input-9-2b69156255fe>:55: UserWarning: C:\\Users\\Karl\\Desktop\\why didn't you choose me\\abstractImageTweakedpng\\abstractImageT702323.png is a low contrast image\n",
      "  imsave(filePath, image)\n"
     ]
    },
    {
     "name": "stdout",
     "output_type": "stream",
     "text": [
      "C:\\Users\\Karl\\Desktop\\why didn't you choose me\\abstractImageTweakedpng\\abstractImageT702324.png\n"
     ]
    },
    {
     "name": "stderr",
     "output_type": "stream",
     "text": [
      "<ipython-input-9-2b69156255fe>:55: UserWarning: C:\\Users\\Karl\\Desktop\\why didn't you choose me\\abstractImageTweakedpng\\abstractImageT702324.png is a low contrast image\n",
      "  imsave(filePath, image)\n"
     ]
    },
    {
     "name": "stdout",
     "output_type": "stream",
     "text": [
      "C:\\Users\\Karl\\Desktop\\why didn't you choose me\\abstractImageTweakedpng\\abstractImageT702325.png\n"
     ]
    },
    {
     "name": "stderr",
     "output_type": "stream",
     "text": [
      "<ipython-input-9-2b69156255fe>:55: UserWarning: C:\\Users\\Karl\\Desktop\\why didn't you choose me\\abstractImageTweakedpng\\abstractImageT702325.png is a low contrast image\n",
      "  imsave(filePath, image)\n"
     ]
    },
    {
     "name": "stdout",
     "output_type": "stream",
     "text": [
      "C:\\Users\\Karl\\Desktop\\why didn't you choose me\\abstractImageTweakedpng\\abstractImageT702326.png\n"
     ]
    },
    {
     "name": "stderr",
     "output_type": "stream",
     "text": [
      "<ipython-input-9-2b69156255fe>:55: UserWarning: C:\\Users\\Karl\\Desktop\\why didn't you choose me\\abstractImageTweakedpng\\abstractImageT702326.png is a low contrast image\n",
      "  imsave(filePath, image)\n"
     ]
    },
    {
     "name": "stdout",
     "output_type": "stream",
     "text": [
      "C:\\Users\\Karl\\Desktop\\why didn't you choose me\\abstractImageTweakedpng\\abstractImageT702327.png\n"
     ]
    },
    {
     "name": "stderr",
     "output_type": "stream",
     "text": [
      "<ipython-input-9-2b69156255fe>:55: UserWarning: C:\\Users\\Karl\\Desktop\\why didn't you choose me\\abstractImageTweakedpng\\abstractImageT702327.png is a low contrast image\n",
      "  imsave(filePath, image)\n"
     ]
    },
    {
     "name": "stdout",
     "output_type": "stream",
     "text": [
      "C:\\Users\\Karl\\Desktop\\why didn't you choose me\\abstractImageTweakedpng\\abstractImageT702328.png\n"
     ]
    },
    {
     "name": "stderr",
     "output_type": "stream",
     "text": [
      "<ipython-input-9-2b69156255fe>:55: UserWarning: C:\\Users\\Karl\\Desktop\\why didn't you choose me\\abstractImageTweakedpng\\abstractImageT702328.png is a low contrast image\n",
      "  imsave(filePath, image)\n"
     ]
    },
    {
     "name": "stdout",
     "output_type": "stream",
     "text": [
      "C:\\Users\\Karl\\Desktop\\why didn't you choose me\\abstractImageTweakedpng\\abstractImageT702329.png\n"
     ]
    },
    {
     "name": "stderr",
     "output_type": "stream",
     "text": [
      "<ipython-input-9-2b69156255fe>:55: UserWarning: C:\\Users\\Karl\\Desktop\\why didn't you choose me\\abstractImageTweakedpng\\abstractImageT702329.png is a low contrast image\n",
      "  imsave(filePath, image)\n"
     ]
    },
    {
     "name": "stdout",
     "output_type": "stream",
     "text": [
      "C:\\Users\\Karl\\Desktop\\why didn't you choose me\\abstractImageTweakedpng\\abstractImageT702330.png\n"
     ]
    },
    {
     "name": "stderr",
     "output_type": "stream",
     "text": [
      "<ipython-input-9-2b69156255fe>:55: UserWarning: C:\\Users\\Karl\\Desktop\\why didn't you choose me\\abstractImageTweakedpng\\abstractImageT702330.png is a low contrast image\n",
      "  imsave(filePath, image)\n"
     ]
    },
    {
     "name": "stdout",
     "output_type": "stream",
     "text": [
      "C:\\Users\\Karl\\Desktop\\why didn't you choose me\\abstractImageTweakedpng\\abstractImageT702331.png\n"
     ]
    },
    {
     "name": "stderr",
     "output_type": "stream",
     "text": [
      "<ipython-input-9-2b69156255fe>:55: UserWarning: C:\\Users\\Karl\\Desktop\\why didn't you choose me\\abstractImageTweakedpng\\abstractImageT702331.png is a low contrast image\n",
      "  imsave(filePath, image)\n"
     ]
    },
    {
     "name": "stdout",
     "output_type": "stream",
     "text": [
      "C:\\Users\\Karl\\Desktop\\why didn't you choose me\\abstractImageTweakedpng\\abstractImageT702332.png\n"
     ]
    },
    {
     "name": "stderr",
     "output_type": "stream",
     "text": [
      "<ipython-input-9-2b69156255fe>:55: UserWarning: C:\\Users\\Karl\\Desktop\\why didn't you choose me\\abstractImageTweakedpng\\abstractImageT702332.png is a low contrast image\n",
      "  imsave(filePath, image)\n"
     ]
    },
    {
     "name": "stdout",
     "output_type": "stream",
     "text": [
      "C:\\Users\\Karl\\Desktop\\why didn't you choose me\\abstractImageTweakedpng\\abstractImageT702333.png\n"
     ]
    },
    {
     "name": "stderr",
     "output_type": "stream",
     "text": [
      "<ipython-input-9-2b69156255fe>:55: UserWarning: C:\\Users\\Karl\\Desktop\\why didn't you choose me\\abstractImageTweakedpng\\abstractImageT702333.png is a low contrast image\n",
      "  imsave(filePath, image)\n"
     ]
    },
    {
     "name": "stdout",
     "output_type": "stream",
     "text": [
      "C:\\Users\\Karl\\Desktop\\why didn't you choose me\\abstractImageTweakedpng\\abstractImageT702334.png\n"
     ]
    },
    {
     "name": "stderr",
     "output_type": "stream",
     "text": [
      "<ipython-input-9-2b69156255fe>:55: UserWarning: C:\\Users\\Karl\\Desktop\\why didn't you choose me\\abstractImageTweakedpng\\abstractImageT702334.png is a low contrast image\n",
      "  imsave(filePath, image)\n"
     ]
    },
    {
     "name": "stdout",
     "output_type": "stream",
     "text": [
      "C:\\Users\\Karl\\Desktop\\why didn't you choose me\\abstractImageTweakedpng\\abstractImageT702335.png\n"
     ]
    },
    {
     "name": "stderr",
     "output_type": "stream",
     "text": [
      "<ipython-input-9-2b69156255fe>:55: UserWarning: C:\\Users\\Karl\\Desktop\\why didn't you choose me\\abstractImageTweakedpng\\abstractImageT702335.png is a low contrast image\n",
      "  imsave(filePath, image)\n"
     ]
    },
    {
     "name": "stdout",
     "output_type": "stream",
     "text": [
      "C:\\Users\\Karl\\Desktop\\why didn't you choose me\\abstractImageTweakedpng\\abstractImageT702336.png\n"
     ]
    },
    {
     "name": "stderr",
     "output_type": "stream",
     "text": [
      "<ipython-input-9-2b69156255fe>:55: UserWarning: C:\\Users\\Karl\\Desktop\\why didn't you choose me\\abstractImageTweakedpng\\abstractImageT702336.png is a low contrast image\n",
      "  imsave(filePath, image)\n"
     ]
    },
    {
     "name": "stdout",
     "output_type": "stream",
     "text": [
      "C:\\Users\\Karl\\Desktop\\why didn't you choose me\\abstractImageTweakedpng\\abstractImageT702337.png\n"
     ]
    },
    {
     "name": "stderr",
     "output_type": "stream",
     "text": [
      "<ipython-input-9-2b69156255fe>:55: UserWarning: C:\\Users\\Karl\\Desktop\\why didn't you choose me\\abstractImageTweakedpng\\abstractImageT702337.png is a low contrast image\n",
      "  imsave(filePath, image)\n"
     ]
    },
    {
     "name": "stdout",
     "output_type": "stream",
     "text": [
      "C:\\Users\\Karl\\Desktop\\why didn't you choose me\\abstractImageTweakedpng\\abstractImageT702338.png\n"
     ]
    },
    {
     "name": "stderr",
     "output_type": "stream",
     "text": [
      "<ipython-input-9-2b69156255fe>:55: UserWarning: C:\\Users\\Karl\\Desktop\\why didn't you choose me\\abstractImageTweakedpng\\abstractImageT702338.png is a low contrast image\n",
      "  imsave(filePath, image)\n"
     ]
    },
    {
     "name": "stdout",
     "output_type": "stream",
     "text": [
      "C:\\Users\\Karl\\Desktop\\why didn't you choose me\\abstractImageTweakedpng\\abstractImageT702339.png\n"
     ]
    },
    {
     "name": "stderr",
     "output_type": "stream",
     "text": [
      "<ipython-input-9-2b69156255fe>:55: UserWarning: C:\\Users\\Karl\\Desktop\\why didn't you choose me\\abstractImageTweakedpng\\abstractImageT702339.png is a low contrast image\n",
      "  imsave(filePath, image)\n"
     ]
    },
    {
     "name": "stdout",
     "output_type": "stream",
     "text": [
      "C:\\Users\\Karl\\Desktop\\why didn't you choose me\\abstractImageTweakedpng\\abstractImageT702340.png\n"
     ]
    },
    {
     "name": "stderr",
     "output_type": "stream",
     "text": [
      "<ipython-input-9-2b69156255fe>:55: UserWarning: C:\\Users\\Karl\\Desktop\\why didn't you choose me\\abstractImageTweakedpng\\abstractImageT702340.png is a low contrast image\n",
      "  imsave(filePath, image)\n"
     ]
    },
    {
     "name": "stdout",
     "output_type": "stream",
     "text": [
      "C:\\Users\\Karl\\Desktop\\why didn't you choose me\\abstractImageTweakedpng\\abstractImageT702341.png\n"
     ]
    },
    {
     "name": "stderr",
     "output_type": "stream",
     "text": [
      "<ipython-input-9-2b69156255fe>:55: UserWarning: C:\\Users\\Karl\\Desktop\\why didn't you choose me\\abstractImageTweakedpng\\abstractImageT702341.png is a low contrast image\n",
      "  imsave(filePath, image)\n"
     ]
    },
    {
     "name": "stdout",
     "output_type": "stream",
     "text": [
      "C:\\Users\\Karl\\Desktop\\why didn't you choose me\\abstractImageTweakedpng\\abstractImageT702342.png\n"
     ]
    },
    {
     "name": "stderr",
     "output_type": "stream",
     "text": [
      "<ipython-input-9-2b69156255fe>:55: UserWarning: C:\\Users\\Karl\\Desktop\\why didn't you choose me\\abstractImageTweakedpng\\abstractImageT702342.png is a low contrast image\n",
      "  imsave(filePath, image)\n"
     ]
    },
    {
     "name": "stdout",
     "output_type": "stream",
     "text": [
      "C:\\Users\\Karl\\Desktop\\why didn't you choose me\\abstractImageTweakedpng\\abstractImageT702343.png\n"
     ]
    },
    {
     "name": "stderr",
     "output_type": "stream",
     "text": [
      "<ipython-input-9-2b69156255fe>:55: UserWarning: C:\\Users\\Karl\\Desktop\\why didn't you choose me\\abstractImageTweakedpng\\abstractImageT702343.png is a low contrast image\n",
      "  imsave(filePath, image)\n"
     ]
    },
    {
     "name": "stdout",
     "output_type": "stream",
     "text": [
      "C:\\Users\\Karl\\Desktop\\why didn't you choose me\\abstractImageTweakedpng\\abstractImageT702344.png\n"
     ]
    },
    {
     "name": "stderr",
     "output_type": "stream",
     "text": [
      "<ipython-input-9-2b69156255fe>:55: UserWarning: C:\\Users\\Karl\\Desktop\\why didn't you choose me\\abstractImageTweakedpng\\abstractImageT702344.png is a low contrast image\n",
      "  imsave(filePath, image)\n"
     ]
    },
    {
     "name": "stdout",
     "output_type": "stream",
     "text": [
      "C:\\Users\\Karl\\Desktop\\why didn't you choose me\\abstractImageTweakedpng\\abstractImageT702345.png\n"
     ]
    },
    {
     "name": "stderr",
     "output_type": "stream",
     "text": [
      "<ipython-input-9-2b69156255fe>:55: UserWarning: C:\\Users\\Karl\\Desktop\\why didn't you choose me\\abstractImageTweakedpng\\abstractImageT702345.png is a low contrast image\n",
      "  imsave(filePath, image)\n"
     ]
    },
    {
     "name": "stdout",
     "output_type": "stream",
     "text": [
      "C:\\Users\\Karl\\Desktop\\why didn't you choose me\\abstractImageTweakedpng\\abstractImageT702346.png\n"
     ]
    },
    {
     "name": "stderr",
     "output_type": "stream",
     "text": [
      "<ipython-input-9-2b69156255fe>:55: UserWarning: C:\\Users\\Karl\\Desktop\\why didn't you choose me\\abstractImageTweakedpng\\abstractImageT702346.png is a low contrast image\n",
      "  imsave(filePath, image)\n"
     ]
    },
    {
     "name": "stdout",
     "output_type": "stream",
     "text": [
      "C:\\Users\\Karl\\Desktop\\why didn't you choose me\\abstractImageTweakedpng\\abstractImageT702347.png\n"
     ]
    },
    {
     "name": "stderr",
     "output_type": "stream",
     "text": [
      "<ipython-input-9-2b69156255fe>:55: UserWarning: C:\\Users\\Karl\\Desktop\\why didn't you choose me\\abstractImageTweakedpng\\abstractImageT702347.png is a low contrast image\n",
      "  imsave(filePath, image)\n"
     ]
    },
    {
     "name": "stdout",
     "output_type": "stream",
     "text": [
      "C:\\Users\\Karl\\Desktop\\why didn't you choose me\\abstractImageTweakedpng\\abstractImageT702348.png\n"
     ]
    },
    {
     "name": "stderr",
     "output_type": "stream",
     "text": [
      "<ipython-input-9-2b69156255fe>:55: UserWarning: C:\\Users\\Karl\\Desktop\\why didn't you choose me\\abstractImageTweakedpng\\abstractImageT702348.png is a low contrast image\n",
      "  imsave(filePath, image)\n"
     ]
    },
    {
     "name": "stdout",
     "output_type": "stream",
     "text": [
      "C:\\Users\\Karl\\Desktop\\why didn't you choose me\\abstractImageTweakedpng\\abstractImageT702349.png\n"
     ]
    },
    {
     "name": "stderr",
     "output_type": "stream",
     "text": [
      "<ipython-input-9-2b69156255fe>:55: UserWarning: C:\\Users\\Karl\\Desktop\\why didn't you choose me\\abstractImageTweakedpng\\abstractImageT702349.png is a low contrast image\n",
      "  imsave(filePath, image)\n"
     ]
    },
    {
     "name": "stdout",
     "output_type": "stream",
     "text": [
      "C:\\Users\\Karl\\Desktop\\why didn't you choose me\\abstractImageTweakedpng\\abstractImageT702350.png\n"
     ]
    },
    {
     "name": "stderr",
     "output_type": "stream",
     "text": [
      "<ipython-input-9-2b69156255fe>:55: UserWarning: C:\\Users\\Karl\\Desktop\\why didn't you choose me\\abstractImageTweakedpng\\abstractImageT702350.png is a low contrast image\n",
      "  imsave(filePath, image)\n"
     ]
    },
    {
     "name": "stdout",
     "output_type": "stream",
     "text": [
      "C:\\Users\\Karl\\Desktop\\why didn't you choose me\\abstractImageTweakedpng\\abstractImageT702351.png\n"
     ]
    },
    {
     "name": "stderr",
     "output_type": "stream",
     "text": [
      "<ipython-input-9-2b69156255fe>:55: UserWarning: C:\\Users\\Karl\\Desktop\\why didn't you choose me\\abstractImageTweakedpng\\abstractImageT702351.png is a low contrast image\n",
      "  imsave(filePath, image)\n"
     ]
    },
    {
     "name": "stdout",
     "output_type": "stream",
     "text": [
      "C:\\Users\\Karl\\Desktop\\why didn't you choose me\\abstractImageTweakedpng\\abstractImageT702352.png\n"
     ]
    },
    {
     "name": "stderr",
     "output_type": "stream",
     "text": [
      "<ipython-input-9-2b69156255fe>:55: UserWarning: C:\\Users\\Karl\\Desktop\\why didn't you choose me\\abstractImageTweakedpng\\abstractImageT702352.png is a low contrast image\n",
      "  imsave(filePath, image)\n"
     ]
    },
    {
     "name": "stdout",
     "output_type": "stream",
     "text": [
      "C:\\Users\\Karl\\Desktop\\why didn't you choose me\\abstractImageTweakedpng\\abstractImageT702353.png\n"
     ]
    },
    {
     "name": "stderr",
     "output_type": "stream",
     "text": [
      "<ipython-input-9-2b69156255fe>:55: UserWarning: C:\\Users\\Karl\\Desktop\\why didn't you choose me\\abstractImageTweakedpng\\abstractImageT702353.png is a low contrast image\n",
      "  imsave(filePath, image)\n"
     ]
    },
    {
     "name": "stdout",
     "output_type": "stream",
     "text": [
      "C:\\Users\\Karl\\Desktop\\why didn't you choose me\\abstractImageTweakedpng\\abstractImageT702354.png\n"
     ]
    },
    {
     "name": "stderr",
     "output_type": "stream",
     "text": [
      "<ipython-input-9-2b69156255fe>:55: UserWarning: C:\\Users\\Karl\\Desktop\\why didn't you choose me\\abstractImageTweakedpng\\abstractImageT702354.png is a low contrast image\n",
      "  imsave(filePath, image)\n"
     ]
    },
    {
     "name": "stdout",
     "output_type": "stream",
     "text": [
      "C:\\Users\\Karl\\Desktop\\why didn't you choose me\\abstractImageTweakedpng\\abstractImageT702355.png\n"
     ]
    },
    {
     "name": "stderr",
     "output_type": "stream",
     "text": [
      "<ipython-input-9-2b69156255fe>:55: UserWarning: C:\\Users\\Karl\\Desktop\\why didn't you choose me\\abstractImageTweakedpng\\abstractImageT702355.png is a low contrast image\n",
      "  imsave(filePath, image)\n"
     ]
    },
    {
     "name": "stdout",
     "output_type": "stream",
     "text": [
      "C:\\Users\\Karl\\Desktop\\why didn't you choose me\\abstractImageTweakedpng\\abstractImageT702356.png\n"
     ]
    },
    {
     "name": "stderr",
     "output_type": "stream",
     "text": [
      "<ipython-input-9-2b69156255fe>:55: UserWarning: C:\\Users\\Karl\\Desktop\\why didn't you choose me\\abstractImageTweakedpng\\abstractImageT702356.png is a low contrast image\n",
      "  imsave(filePath, image)\n"
     ]
    },
    {
     "name": "stdout",
     "output_type": "stream",
     "text": [
      "C:\\Users\\Karl\\Desktop\\why didn't you choose me\\abstractImageTweakedpng\\abstractImageT702357.png\n"
     ]
    },
    {
     "name": "stderr",
     "output_type": "stream",
     "text": [
      "<ipython-input-9-2b69156255fe>:55: UserWarning: C:\\Users\\Karl\\Desktop\\why didn't you choose me\\abstractImageTweakedpng\\abstractImageT702357.png is a low contrast image\n",
      "  imsave(filePath, image)\n"
     ]
    },
    {
     "name": "stdout",
     "output_type": "stream",
     "text": [
      "C:\\Users\\Karl\\Desktop\\why didn't you choose me\\abstractImageTweakedpng\\abstractImageT702358.png\n"
     ]
    },
    {
     "name": "stderr",
     "output_type": "stream",
     "text": [
      "<ipython-input-9-2b69156255fe>:55: UserWarning: C:\\Users\\Karl\\Desktop\\why didn't you choose me\\abstractImageTweakedpng\\abstractImageT702358.png is a low contrast image\n",
      "  imsave(filePath, image)\n"
     ]
    },
    {
     "name": "stdout",
     "output_type": "stream",
     "text": [
      "C:\\Users\\Karl\\Desktop\\why didn't you choose me\\abstractImageTweakedpng\\abstractImageT702359.png\n"
     ]
    },
    {
     "name": "stderr",
     "output_type": "stream",
     "text": [
      "<ipython-input-9-2b69156255fe>:55: UserWarning: C:\\Users\\Karl\\Desktop\\why didn't you choose me\\abstractImageTweakedpng\\abstractImageT702359.png is a low contrast image\n",
      "  imsave(filePath, image)\n"
     ]
    },
    {
     "name": "stdout",
     "output_type": "stream",
     "text": [
      "C:\\Users\\Karl\\Desktop\\why didn't you choose me\\abstractImageTweakedpng\\abstractImageT702360.png\n"
     ]
    },
    {
     "name": "stderr",
     "output_type": "stream",
     "text": [
      "<ipython-input-9-2b69156255fe>:55: UserWarning: C:\\Users\\Karl\\Desktop\\why didn't you choose me\\abstractImageTweakedpng\\abstractImageT702360.png is a low contrast image\n",
      "  imsave(filePath, image)\n"
     ]
    },
    {
     "name": "stdout",
     "output_type": "stream",
     "text": [
      "C:\\Users\\Karl\\Desktop\\why didn't you choose me\\abstractImageTweakedpng\\abstractImageT702361.png\n"
     ]
    },
    {
     "name": "stderr",
     "output_type": "stream",
     "text": [
      "<ipython-input-9-2b69156255fe>:55: UserWarning: C:\\Users\\Karl\\Desktop\\why didn't you choose me\\abstractImageTweakedpng\\abstractImageT702361.png is a low contrast image\n",
      "  imsave(filePath, image)\n"
     ]
    },
    {
     "name": "stdout",
     "output_type": "stream",
     "text": [
      "C:\\Users\\Karl\\Desktop\\why didn't you choose me\\abstractImageTweakedpng\\abstractImageT702362.png\n"
     ]
    },
    {
     "name": "stderr",
     "output_type": "stream",
     "text": [
      "<ipython-input-9-2b69156255fe>:55: UserWarning: C:\\Users\\Karl\\Desktop\\why didn't you choose me\\abstractImageTweakedpng\\abstractImageT702362.png is a low contrast image\n",
      "  imsave(filePath, image)\n"
     ]
    },
    {
     "name": "stdout",
     "output_type": "stream",
     "text": [
      "C:\\Users\\Karl\\Desktop\\why didn't you choose me\\abstractImageTweakedpng\\abstractImageT702363.png\n"
     ]
    },
    {
     "name": "stderr",
     "output_type": "stream",
     "text": [
      "<ipython-input-9-2b69156255fe>:55: UserWarning: C:\\Users\\Karl\\Desktop\\why didn't you choose me\\abstractImageTweakedpng\\abstractImageT702363.png is a low contrast image\n",
      "  imsave(filePath, image)\n"
     ]
    },
    {
     "name": "stdout",
     "output_type": "stream",
     "text": [
      "C:\\Users\\Karl\\Desktop\\why didn't you choose me\\abstractImageTweakedpng\\abstractImageT702364.png\n"
     ]
    },
    {
     "name": "stderr",
     "output_type": "stream",
     "text": [
      "<ipython-input-9-2b69156255fe>:55: UserWarning: C:\\Users\\Karl\\Desktop\\why didn't you choose me\\abstractImageTweakedpng\\abstractImageT702364.png is a low contrast image\n",
      "  imsave(filePath, image)\n"
     ]
    },
    {
     "name": "stdout",
     "output_type": "stream",
     "text": [
      "C:\\Users\\Karl\\Desktop\\why didn't you choose me\\abstractImageTweakedpng\\abstractImageT702365.png\n"
     ]
    },
    {
     "name": "stderr",
     "output_type": "stream",
     "text": [
      "<ipython-input-9-2b69156255fe>:55: UserWarning: C:\\Users\\Karl\\Desktop\\why didn't you choose me\\abstractImageTweakedpng\\abstractImageT702365.png is a low contrast image\n",
      "  imsave(filePath, image)\n"
     ]
    },
    {
     "name": "stdout",
     "output_type": "stream",
     "text": [
      "C:\\Users\\Karl\\Desktop\\why didn't you choose me\\abstractImageTweakedpng\\abstractImageT702366.png\n"
     ]
    },
    {
     "name": "stderr",
     "output_type": "stream",
     "text": [
      "<ipython-input-9-2b69156255fe>:55: UserWarning: C:\\Users\\Karl\\Desktop\\why didn't you choose me\\abstractImageTweakedpng\\abstractImageT702366.png is a low contrast image\n",
      "  imsave(filePath, image)\n"
     ]
    },
    {
     "name": "stdout",
     "output_type": "stream",
     "text": [
      "C:\\Users\\Karl\\Desktop\\why didn't you choose me\\abstractImageTweakedpng\\abstractImageT702367.png\n"
     ]
    },
    {
     "name": "stderr",
     "output_type": "stream",
     "text": [
      "<ipython-input-9-2b69156255fe>:55: UserWarning: C:\\Users\\Karl\\Desktop\\why didn't you choose me\\abstractImageTweakedpng\\abstractImageT702367.png is a low contrast image\n",
      "  imsave(filePath, image)\n"
     ]
    },
    {
     "name": "stdout",
     "output_type": "stream",
     "text": [
      "C:\\Users\\Karl\\Desktop\\why didn't you choose me\\abstractImageTweakedpng\\abstractImageT702368.png\n"
     ]
    },
    {
     "name": "stderr",
     "output_type": "stream",
     "text": [
      "<ipython-input-9-2b69156255fe>:55: UserWarning: C:\\Users\\Karl\\Desktop\\why didn't you choose me\\abstractImageTweakedpng\\abstractImageT702368.png is a low contrast image\n",
      "  imsave(filePath, image)\n"
     ]
    },
    {
     "name": "stdout",
     "output_type": "stream",
     "text": [
      "C:\\Users\\Karl\\Desktop\\why didn't you choose me\\abstractImageTweakedpng\\abstractImageT702369.png\n"
     ]
    },
    {
     "name": "stderr",
     "output_type": "stream",
     "text": [
      "<ipython-input-9-2b69156255fe>:55: UserWarning: C:\\Users\\Karl\\Desktop\\why didn't you choose me\\abstractImageTweakedpng\\abstractImageT702369.png is a low contrast image\n",
      "  imsave(filePath, image)\n"
     ]
    },
    {
     "name": "stdout",
     "output_type": "stream",
     "text": [
      "C:\\Users\\Karl\\Desktop\\why didn't you choose me\\abstractImageTweakedpng\\abstractImageT702370.png\n"
     ]
    },
    {
     "name": "stderr",
     "output_type": "stream",
     "text": [
      "<ipython-input-9-2b69156255fe>:55: UserWarning: C:\\Users\\Karl\\Desktop\\why didn't you choose me\\abstractImageTweakedpng\\abstractImageT702370.png is a low contrast image\n",
      "  imsave(filePath, image)\n"
     ]
    },
    {
     "name": "stdout",
     "output_type": "stream",
     "text": [
      "C:\\Users\\Karl\\Desktop\\why didn't you choose me\\abstractImageTweakedpng\\abstractImageT702371.png\n"
     ]
    },
    {
     "name": "stderr",
     "output_type": "stream",
     "text": [
      "<ipython-input-9-2b69156255fe>:55: UserWarning: C:\\Users\\Karl\\Desktop\\why didn't you choose me\\abstractImageTweakedpng\\abstractImageT702371.png is a low contrast image\n",
      "  imsave(filePath, image)\n"
     ]
    },
    {
     "name": "stdout",
     "output_type": "stream",
     "text": [
      "C:\\Users\\Karl\\Desktop\\why didn't you choose me\\abstractImageTweakedpng\\abstractImageT702372.png\n"
     ]
    },
    {
     "name": "stderr",
     "output_type": "stream",
     "text": [
      "<ipython-input-9-2b69156255fe>:55: UserWarning: C:\\Users\\Karl\\Desktop\\why didn't you choose me\\abstractImageTweakedpng\\abstractImageT702372.png is a low contrast image\n",
      "  imsave(filePath, image)\n"
     ]
    },
    {
     "name": "stdout",
     "output_type": "stream",
     "text": [
      "C:\\Users\\Karl\\Desktop\\why didn't you choose me\\abstractImageTweakedpng\\abstractImageT702373.png\n"
     ]
    },
    {
     "name": "stderr",
     "output_type": "stream",
     "text": [
      "<ipython-input-9-2b69156255fe>:55: UserWarning: C:\\Users\\Karl\\Desktop\\why didn't you choose me\\abstractImageTweakedpng\\abstractImageT702373.png is a low contrast image\n",
      "  imsave(filePath, image)\n"
     ]
    },
    {
     "name": "stdout",
     "output_type": "stream",
     "text": [
      "C:\\Users\\Karl\\Desktop\\why didn't you choose me\\abstractImageTweakedpng\\abstractImageT702374.png\n"
     ]
    },
    {
     "name": "stderr",
     "output_type": "stream",
     "text": [
      "<ipython-input-9-2b69156255fe>:55: UserWarning: C:\\Users\\Karl\\Desktop\\why didn't you choose me\\abstractImageTweakedpng\\abstractImageT702374.png is a low contrast image\n",
      "  imsave(filePath, image)\n"
     ]
    },
    {
     "name": "stdout",
     "output_type": "stream",
     "text": [
      "C:\\Users\\Karl\\Desktop\\why didn't you choose me\\abstractImageTweakedpng\\abstractImageT702375.png\n"
     ]
    },
    {
     "name": "stderr",
     "output_type": "stream",
     "text": [
      "<ipython-input-9-2b69156255fe>:55: UserWarning: C:\\Users\\Karl\\Desktop\\why didn't you choose me\\abstractImageTweakedpng\\abstractImageT702375.png is a low contrast image\n",
      "  imsave(filePath, image)\n"
     ]
    },
    {
     "name": "stdout",
     "output_type": "stream",
     "text": [
      "C:\\Users\\Karl\\Desktop\\why didn't you choose me\\abstractImageTweakedpng\\abstractImageT702376.png\n"
     ]
    },
    {
     "name": "stderr",
     "output_type": "stream",
     "text": [
      "<ipython-input-9-2b69156255fe>:55: UserWarning: C:\\Users\\Karl\\Desktop\\why didn't you choose me\\abstractImageTweakedpng\\abstractImageT702376.png is a low contrast image\n",
      "  imsave(filePath, image)\n"
     ]
    },
    {
     "name": "stdout",
     "output_type": "stream",
     "text": [
      "C:\\Users\\Karl\\Desktop\\why didn't you choose me\\abstractImageTweakedpng\\abstractImageT702377.png\n"
     ]
    },
    {
     "name": "stderr",
     "output_type": "stream",
     "text": [
      "<ipython-input-9-2b69156255fe>:55: UserWarning: C:\\Users\\Karl\\Desktop\\why didn't you choose me\\abstractImageTweakedpng\\abstractImageT702377.png is a low contrast image\n",
      "  imsave(filePath, image)\n"
     ]
    },
    {
     "name": "stdout",
     "output_type": "stream",
     "text": [
      "C:\\Users\\Karl\\Desktop\\why didn't you choose me\\abstractImageTweakedpng\\abstractImageT702378.png\n"
     ]
    },
    {
     "name": "stderr",
     "output_type": "stream",
     "text": [
      "<ipython-input-9-2b69156255fe>:55: UserWarning: C:\\Users\\Karl\\Desktop\\why didn't you choose me\\abstractImageTweakedpng\\abstractImageT702378.png is a low contrast image\n",
      "  imsave(filePath, image)\n"
     ]
    },
    {
     "name": "stdout",
     "output_type": "stream",
     "text": [
      "C:\\Users\\Karl\\Desktop\\why didn't you choose me\\abstractImageTweakedpng\\abstractImageT702379.png\n"
     ]
    },
    {
     "name": "stderr",
     "output_type": "stream",
     "text": [
      "<ipython-input-9-2b69156255fe>:55: UserWarning: C:\\Users\\Karl\\Desktop\\why didn't you choose me\\abstractImageTweakedpng\\abstractImageT702379.png is a low contrast image\n",
      "  imsave(filePath, image)\n"
     ]
    },
    {
     "name": "stdout",
     "output_type": "stream",
     "text": [
      "C:\\Users\\Karl\\Desktop\\why didn't you choose me\\abstractImageTweakedpng\\abstractImageT702380.png\n"
     ]
    },
    {
     "name": "stderr",
     "output_type": "stream",
     "text": [
      "<ipython-input-9-2b69156255fe>:55: UserWarning: C:\\Users\\Karl\\Desktop\\why didn't you choose me\\abstractImageTweakedpng\\abstractImageT702380.png is a low contrast image\n",
      "  imsave(filePath, image)\n"
     ]
    },
    {
     "name": "stdout",
     "output_type": "stream",
     "text": [
      "C:\\Users\\Karl\\Desktop\\why didn't you choose me\\abstractImageTweakedpng\\abstractImageT702381.png\n"
     ]
    },
    {
     "name": "stderr",
     "output_type": "stream",
     "text": [
      "<ipython-input-9-2b69156255fe>:55: UserWarning: C:\\Users\\Karl\\Desktop\\why didn't you choose me\\abstractImageTweakedpng\\abstractImageT702381.png is a low contrast image\n",
      "  imsave(filePath, image)\n"
     ]
    },
    {
     "name": "stdout",
     "output_type": "stream",
     "text": [
      "C:\\Users\\Karl\\Desktop\\why didn't you choose me\\abstractImageTweakedpng\\abstractImageT702382.png\n"
     ]
    },
    {
     "name": "stderr",
     "output_type": "stream",
     "text": [
      "<ipython-input-9-2b69156255fe>:55: UserWarning: C:\\Users\\Karl\\Desktop\\why didn't you choose me\\abstractImageTweakedpng\\abstractImageT702382.png is a low contrast image\n",
      "  imsave(filePath, image)\n"
     ]
    },
    {
     "name": "stdout",
     "output_type": "stream",
     "text": [
      "C:\\Users\\Karl\\Desktop\\why didn't you choose me\\abstractImageTweakedpng\\abstractImageT702383.png\n"
     ]
    },
    {
     "name": "stderr",
     "output_type": "stream",
     "text": [
      "<ipython-input-9-2b69156255fe>:55: UserWarning: C:\\Users\\Karl\\Desktop\\why didn't you choose me\\abstractImageTweakedpng\\abstractImageT702383.png is a low contrast image\n",
      "  imsave(filePath, image)\n"
     ]
    },
    {
     "name": "stdout",
     "output_type": "stream",
     "text": [
      "C:\\Users\\Karl\\Desktop\\why didn't you choose me\\abstractImageTweakedpng\\abstractImageT702384.png\n"
     ]
    },
    {
     "name": "stderr",
     "output_type": "stream",
     "text": [
      "<ipython-input-9-2b69156255fe>:55: UserWarning: C:\\Users\\Karl\\Desktop\\why didn't you choose me\\abstractImageTweakedpng\\abstractImageT702384.png is a low contrast image\n",
      "  imsave(filePath, image)\n"
     ]
    },
    {
     "name": "stdout",
     "output_type": "stream",
     "text": [
      "C:\\Users\\Karl\\Desktop\\why didn't you choose me\\abstractImageTweakedpng\\abstractImageT702385.png\n"
     ]
    },
    {
     "name": "stderr",
     "output_type": "stream",
     "text": [
      "<ipython-input-9-2b69156255fe>:55: UserWarning: C:\\Users\\Karl\\Desktop\\why didn't you choose me\\abstractImageTweakedpng\\abstractImageT702385.png is a low contrast image\n",
      "  imsave(filePath, image)\n"
     ]
    },
    {
     "name": "stdout",
     "output_type": "stream",
     "text": [
      "C:\\Users\\Karl\\Desktop\\why didn't you choose me\\abstractImageTweakedpng\\abstractImageT702386.png\n"
     ]
    },
    {
     "name": "stderr",
     "output_type": "stream",
     "text": [
      "<ipython-input-9-2b69156255fe>:55: UserWarning: C:\\Users\\Karl\\Desktop\\why didn't you choose me\\abstractImageTweakedpng\\abstractImageT702386.png is a low contrast image\n",
      "  imsave(filePath, image)\n"
     ]
    },
    {
     "name": "stdout",
     "output_type": "stream",
     "text": [
      "C:\\Users\\Karl\\Desktop\\why didn't you choose me\\abstractImageTweakedpng\\abstractImageT702387.png\n"
     ]
    },
    {
     "name": "stderr",
     "output_type": "stream",
     "text": [
      "<ipython-input-9-2b69156255fe>:55: UserWarning: C:\\Users\\Karl\\Desktop\\why didn't you choose me\\abstractImageTweakedpng\\abstractImageT702387.png is a low contrast image\n",
      "  imsave(filePath, image)\n"
     ]
    },
    {
     "name": "stdout",
     "output_type": "stream",
     "text": [
      "C:\\Users\\Karl\\Desktop\\why didn't you choose me\\abstractImageTweakedpng\\abstractImageT702388.png\n"
     ]
    },
    {
     "name": "stderr",
     "output_type": "stream",
     "text": [
      "<ipython-input-9-2b69156255fe>:55: UserWarning: C:\\Users\\Karl\\Desktop\\why didn't you choose me\\abstractImageTweakedpng\\abstractImageT702388.png is a low contrast image\n",
      "  imsave(filePath, image)\n"
     ]
    },
    {
     "name": "stdout",
     "output_type": "stream",
     "text": [
      "C:\\Users\\Karl\\Desktop\\why didn't you choose me\\abstractImageTweakedpng\\abstractImageT702389.png\n"
     ]
    },
    {
     "name": "stderr",
     "output_type": "stream",
     "text": [
      "<ipython-input-9-2b69156255fe>:55: UserWarning: C:\\Users\\Karl\\Desktop\\why didn't you choose me\\abstractImageTweakedpng\\abstractImageT702389.png is a low contrast image\n",
      "  imsave(filePath, image)\n"
     ]
    },
    {
     "name": "stdout",
     "output_type": "stream",
     "text": [
      "C:\\Users\\Karl\\Desktop\\why didn't you choose me\\abstractImageTweakedpng\\abstractImageT702390.png\n"
     ]
    },
    {
     "name": "stderr",
     "output_type": "stream",
     "text": [
      "<ipython-input-9-2b69156255fe>:55: UserWarning: C:\\Users\\Karl\\Desktop\\why didn't you choose me\\abstractImageTweakedpng\\abstractImageT702390.png is a low contrast image\n",
      "  imsave(filePath, image)\n"
     ]
    },
    {
     "name": "stdout",
     "output_type": "stream",
     "text": [
      "C:\\Users\\Karl\\Desktop\\why didn't you choose me\\abstractImageTweakedpng\\abstractImageT702391.png\n"
     ]
    },
    {
     "name": "stderr",
     "output_type": "stream",
     "text": [
      "<ipython-input-9-2b69156255fe>:55: UserWarning: C:\\Users\\Karl\\Desktop\\why didn't you choose me\\abstractImageTweakedpng\\abstractImageT702391.png is a low contrast image\n",
      "  imsave(filePath, image)\n"
     ]
    },
    {
     "name": "stdout",
     "output_type": "stream",
     "text": [
      "C:\\Users\\Karl\\Desktop\\why didn't you choose me\\abstractImageTweakedpng\\abstractImageT702392.png\n"
     ]
    },
    {
     "name": "stderr",
     "output_type": "stream",
     "text": [
      "<ipython-input-9-2b69156255fe>:55: UserWarning: C:\\Users\\Karl\\Desktop\\why didn't you choose me\\abstractImageTweakedpng\\abstractImageT702392.png is a low contrast image\n",
      "  imsave(filePath, image)\n"
     ]
    },
    {
     "name": "stdout",
     "output_type": "stream",
     "text": [
      "C:\\Users\\Karl\\Desktop\\why didn't you choose me\\abstractImageTweakedpng\\abstractImageT702393.png\n"
     ]
    },
    {
     "name": "stderr",
     "output_type": "stream",
     "text": [
      "<ipython-input-9-2b69156255fe>:55: UserWarning: C:\\Users\\Karl\\Desktop\\why didn't you choose me\\abstractImageTweakedpng\\abstractImageT702393.png is a low contrast image\n",
      "  imsave(filePath, image)\n"
     ]
    },
    {
     "name": "stdout",
     "output_type": "stream",
     "text": [
      "C:\\Users\\Karl\\Desktop\\why didn't you choose me\\abstractImageTweakedpng\\abstractImageT702394.png\n"
     ]
    },
    {
     "name": "stderr",
     "output_type": "stream",
     "text": [
      "<ipython-input-9-2b69156255fe>:55: UserWarning: C:\\Users\\Karl\\Desktop\\why didn't you choose me\\abstractImageTweakedpng\\abstractImageT702394.png is a low contrast image\n",
      "  imsave(filePath, image)\n"
     ]
    },
    {
     "name": "stdout",
     "output_type": "stream",
     "text": [
      "C:\\Users\\Karl\\Desktop\\why didn't you choose me\\abstractImageTweakedpng\\abstractImageT702395.png\n"
     ]
    },
    {
     "name": "stderr",
     "output_type": "stream",
     "text": [
      "<ipython-input-9-2b69156255fe>:55: UserWarning: C:\\Users\\Karl\\Desktop\\why didn't you choose me\\abstractImageTweakedpng\\abstractImageT702395.png is a low contrast image\n",
      "  imsave(filePath, image)\n"
     ]
    },
    {
     "name": "stdout",
     "output_type": "stream",
     "text": [
      "C:\\Users\\Karl\\Desktop\\why didn't you choose me\\abstractImageTweakedpng\\abstractImageT702396.png\n"
     ]
    },
    {
     "name": "stderr",
     "output_type": "stream",
     "text": [
      "<ipython-input-9-2b69156255fe>:55: UserWarning: C:\\Users\\Karl\\Desktop\\why didn't you choose me\\abstractImageTweakedpng\\abstractImageT702396.png is a low contrast image\n",
      "  imsave(filePath, image)\n"
     ]
    },
    {
     "name": "stdout",
     "output_type": "stream",
     "text": [
      "C:\\Users\\Karl\\Desktop\\why didn't you choose me\\abstractImageTweakedpng\\abstractImageT702397.png\n"
     ]
    },
    {
     "name": "stderr",
     "output_type": "stream",
     "text": [
      "<ipython-input-9-2b69156255fe>:55: UserWarning: C:\\Users\\Karl\\Desktop\\why didn't you choose me\\abstractImageTweakedpng\\abstractImageT702397.png is a low contrast image\n",
      "  imsave(filePath, image)\n"
     ]
    },
    {
     "name": "stdout",
     "output_type": "stream",
     "text": [
      "C:\\Users\\Karl\\Desktop\\why didn't you choose me\\abstractImageTweakedpng\\abstractImageT702398.png\n"
     ]
    },
    {
     "name": "stderr",
     "output_type": "stream",
     "text": [
      "<ipython-input-9-2b69156255fe>:55: UserWarning: C:\\Users\\Karl\\Desktop\\why didn't you choose me\\abstractImageTweakedpng\\abstractImageT702398.png is a low contrast image\n",
      "  imsave(filePath, image)\n"
     ]
    },
    {
     "name": "stdout",
     "output_type": "stream",
     "text": [
      "C:\\Users\\Karl\\Desktop\\why didn't you choose me\\abstractImageTweakedpng\\abstractImageT702399.png\n"
     ]
    },
    {
     "name": "stderr",
     "output_type": "stream",
     "text": [
      "<ipython-input-9-2b69156255fe>:55: UserWarning: C:\\Users\\Karl\\Desktop\\why didn't you choose me\\abstractImageTweakedpng\\abstractImageT702399.png is a low contrast image\n",
      "  imsave(filePath, image)\n"
     ]
    },
    {
     "name": "stdout",
     "output_type": "stream",
     "text": [
      "C:\\Users\\Karl\\Desktop\\why didn't you choose me\\abstractImageTweakedpng\\abstractImageT702400.png\n"
     ]
    },
    {
     "name": "stderr",
     "output_type": "stream",
     "text": [
      "<ipython-input-9-2b69156255fe>:55: UserWarning: C:\\Users\\Karl\\Desktop\\why didn't you choose me\\abstractImageTweakedpng\\abstractImageT702400.png is a low contrast image\n",
      "  imsave(filePath, image)\n"
     ]
    },
    {
     "name": "stdout",
     "output_type": "stream",
     "text": [
      "C:\\Users\\Karl\\Desktop\\why didn't you choose me\\abstractImageTweakedpng\\abstractImageT702401.png\n"
     ]
    },
    {
     "name": "stderr",
     "output_type": "stream",
     "text": [
      "<ipython-input-9-2b69156255fe>:55: UserWarning: C:\\Users\\Karl\\Desktop\\why didn't you choose me\\abstractImageTweakedpng\\abstractImageT702401.png is a low contrast image\n",
      "  imsave(filePath, image)\n"
     ]
    },
    {
     "name": "stdout",
     "output_type": "stream",
     "text": [
      "C:\\Users\\Karl\\Desktop\\why didn't you choose me\\abstractImageTweakedpng\\abstractImageT702402.png\n"
     ]
    },
    {
     "name": "stderr",
     "output_type": "stream",
     "text": [
      "<ipython-input-9-2b69156255fe>:55: UserWarning: C:\\Users\\Karl\\Desktop\\why didn't you choose me\\abstractImageTweakedpng\\abstractImageT702402.png is a low contrast image\n",
      "  imsave(filePath, image)\n"
     ]
    },
    {
     "name": "stdout",
     "output_type": "stream",
     "text": [
      "C:\\Users\\Karl\\Desktop\\why didn't you choose me\\abstractImageTweakedpng\\abstractImageT702403.png\n"
     ]
    },
    {
     "name": "stderr",
     "output_type": "stream",
     "text": [
      "<ipython-input-9-2b69156255fe>:55: UserWarning: C:\\Users\\Karl\\Desktop\\why didn't you choose me\\abstractImageTweakedpng\\abstractImageT702403.png is a low contrast image\n",
      "  imsave(filePath, image)\n"
     ]
    },
    {
     "name": "stdout",
     "output_type": "stream",
     "text": [
      "C:\\Users\\Karl\\Desktop\\why didn't you choose me\\abstractImageTweakedpng\\abstractImageT702404.png\n"
     ]
    },
    {
     "name": "stderr",
     "output_type": "stream",
     "text": [
      "<ipython-input-9-2b69156255fe>:55: UserWarning: C:\\Users\\Karl\\Desktop\\why didn't you choose me\\abstractImageTweakedpng\\abstractImageT702404.png is a low contrast image\n",
      "  imsave(filePath, image)\n"
     ]
    },
    {
     "name": "stdout",
     "output_type": "stream",
     "text": [
      "C:\\Users\\Karl\\Desktop\\why didn't you choose me\\abstractImageTweakedpng\\abstractImageT702405.png\n"
     ]
    },
    {
     "name": "stderr",
     "output_type": "stream",
     "text": [
      "<ipython-input-9-2b69156255fe>:55: UserWarning: C:\\Users\\Karl\\Desktop\\why didn't you choose me\\abstractImageTweakedpng\\abstractImageT702405.png is a low contrast image\n",
      "  imsave(filePath, image)\n"
     ]
    },
    {
     "name": "stdout",
     "output_type": "stream",
     "text": [
      "C:\\Users\\Karl\\Desktop\\why didn't you choose me\\abstractImageTweakedpng\\abstractImageT702406.png\n"
     ]
    },
    {
     "name": "stderr",
     "output_type": "stream",
     "text": [
      "<ipython-input-9-2b69156255fe>:55: UserWarning: C:\\Users\\Karl\\Desktop\\why didn't you choose me\\abstractImageTweakedpng\\abstractImageT702406.png is a low contrast image\n",
      "  imsave(filePath, image)\n"
     ]
    },
    {
     "name": "stdout",
     "output_type": "stream",
     "text": [
      "C:\\Users\\Karl\\Desktop\\why didn't you choose me\\abstractImageTweakedpng\\abstractImageT702407.png\n"
     ]
    },
    {
     "name": "stderr",
     "output_type": "stream",
     "text": [
      "<ipython-input-9-2b69156255fe>:55: UserWarning: C:\\Users\\Karl\\Desktop\\why didn't you choose me\\abstractImageTweakedpng\\abstractImageT702407.png is a low contrast image\n",
      "  imsave(filePath, image)\n"
     ]
    },
    {
     "name": "stdout",
     "output_type": "stream",
     "text": [
      "C:\\Users\\Karl\\Desktop\\why didn't you choose me\\abstractImageTweakedpng\\abstractImageT702408.png\n"
     ]
    },
    {
     "name": "stderr",
     "output_type": "stream",
     "text": [
      "<ipython-input-9-2b69156255fe>:55: UserWarning: C:\\Users\\Karl\\Desktop\\why didn't you choose me\\abstractImageTweakedpng\\abstractImageT702408.png is a low contrast image\n",
      "  imsave(filePath, image)\n"
     ]
    },
    {
     "name": "stdout",
     "output_type": "stream",
     "text": [
      "C:\\Users\\Karl\\Desktop\\why didn't you choose me\\abstractImageTweakedpng\\abstractImageT702409.png\n"
     ]
    },
    {
     "name": "stderr",
     "output_type": "stream",
     "text": [
      "<ipython-input-9-2b69156255fe>:55: UserWarning: C:\\Users\\Karl\\Desktop\\why didn't you choose me\\abstractImageTweakedpng\\abstractImageT702409.png is a low contrast image\n",
      "  imsave(filePath, image)\n"
     ]
    },
    {
     "name": "stdout",
     "output_type": "stream",
     "text": [
      "C:\\Users\\Karl\\Desktop\\why didn't you choose me\\abstractImageTweakedpng\\abstractImageT702410.png\n"
     ]
    },
    {
     "name": "stderr",
     "output_type": "stream",
     "text": [
      "<ipython-input-9-2b69156255fe>:55: UserWarning: C:\\Users\\Karl\\Desktop\\why didn't you choose me\\abstractImageTweakedpng\\abstractImageT702410.png is a low contrast image\n",
      "  imsave(filePath, image)\n"
     ]
    },
    {
     "name": "stdout",
     "output_type": "stream",
     "text": [
      "C:\\Users\\Karl\\Desktop\\why didn't you choose me\\abstractImageTweakedpng\\abstractImageT702411.png\n"
     ]
    },
    {
     "name": "stderr",
     "output_type": "stream",
     "text": [
      "<ipython-input-9-2b69156255fe>:55: UserWarning: C:\\Users\\Karl\\Desktop\\why didn't you choose me\\abstractImageTweakedpng\\abstractImageT702411.png is a low contrast image\n",
      "  imsave(filePath, image)\n"
     ]
    },
    {
     "name": "stdout",
     "output_type": "stream",
     "text": [
      "C:\\Users\\Karl\\Desktop\\why didn't you choose me\\abstractImageTweakedpng\\abstractImageT702412.png\n"
     ]
    },
    {
     "name": "stderr",
     "output_type": "stream",
     "text": [
      "<ipython-input-9-2b69156255fe>:55: UserWarning: C:\\Users\\Karl\\Desktop\\why didn't you choose me\\abstractImageTweakedpng\\abstractImageT702412.png is a low contrast image\n",
      "  imsave(filePath, image)\n"
     ]
    },
    {
     "name": "stdout",
     "output_type": "stream",
     "text": [
      "C:\\Users\\Karl\\Desktop\\why didn't you choose me\\abstractImageTweakedpng\\abstractImageT702413.png\n"
     ]
    },
    {
     "name": "stderr",
     "output_type": "stream",
     "text": [
      "<ipython-input-9-2b69156255fe>:55: UserWarning: C:\\Users\\Karl\\Desktop\\why didn't you choose me\\abstractImageTweakedpng\\abstractImageT702413.png is a low contrast image\n",
      "  imsave(filePath, image)\n"
     ]
    },
    {
     "name": "stdout",
     "output_type": "stream",
     "text": [
      "C:\\Users\\Karl\\Desktop\\why didn't you choose me\\abstractImageTweakedpng\\abstractImageT702414.png\n"
     ]
    },
    {
     "name": "stderr",
     "output_type": "stream",
     "text": [
      "<ipython-input-9-2b69156255fe>:55: UserWarning: C:\\Users\\Karl\\Desktop\\why didn't you choose me\\abstractImageTweakedpng\\abstractImageT702414.png is a low contrast image\n",
      "  imsave(filePath, image)\n"
     ]
    },
    {
     "name": "stdout",
     "output_type": "stream",
     "text": [
      "C:\\Users\\Karl\\Desktop\\why didn't you choose me\\abstractImageTweakedpng\\abstractImageT702415.png\n"
     ]
    },
    {
     "name": "stderr",
     "output_type": "stream",
     "text": [
      "<ipython-input-9-2b69156255fe>:55: UserWarning: C:\\Users\\Karl\\Desktop\\why didn't you choose me\\abstractImageTweakedpng\\abstractImageT702415.png is a low contrast image\n",
      "  imsave(filePath, image)\n"
     ]
    },
    {
     "name": "stdout",
     "output_type": "stream",
     "text": [
      "C:\\Users\\Karl\\Desktop\\why didn't you choose me\\abstractImageTweakedpng\\abstractImageT702416.png\n"
     ]
    },
    {
     "name": "stderr",
     "output_type": "stream",
     "text": [
      "<ipython-input-9-2b69156255fe>:55: UserWarning: C:\\Users\\Karl\\Desktop\\why didn't you choose me\\abstractImageTweakedpng\\abstractImageT702416.png is a low contrast image\n",
      "  imsave(filePath, image)\n"
     ]
    },
    {
     "name": "stdout",
     "output_type": "stream",
     "text": [
      "C:\\Users\\Karl\\Desktop\\why didn't you choose me\\abstractImageTweakedpng\\abstractImageT702417.png\n"
     ]
    },
    {
     "name": "stderr",
     "output_type": "stream",
     "text": [
      "<ipython-input-9-2b69156255fe>:55: UserWarning: C:\\Users\\Karl\\Desktop\\why didn't you choose me\\abstractImageTweakedpng\\abstractImageT702417.png is a low contrast image\n",
      "  imsave(filePath, image)\n"
     ]
    },
    {
     "name": "stdout",
     "output_type": "stream",
     "text": [
      "C:\\Users\\Karl\\Desktop\\why didn't you choose me\\abstractImageTweakedpng\\abstractImageT702418.png\n"
     ]
    },
    {
     "name": "stderr",
     "output_type": "stream",
     "text": [
      "<ipython-input-9-2b69156255fe>:55: UserWarning: C:\\Users\\Karl\\Desktop\\why didn't you choose me\\abstractImageTweakedpng\\abstractImageT702418.png is a low contrast image\n",
      "  imsave(filePath, image)\n"
     ]
    },
    {
     "name": "stdout",
     "output_type": "stream",
     "text": [
      "C:\\Users\\Karl\\Desktop\\why didn't you choose me\\abstractImageTweakedpng\\abstractImageT702419.png\n"
     ]
    },
    {
     "name": "stderr",
     "output_type": "stream",
     "text": [
      "<ipython-input-9-2b69156255fe>:55: UserWarning: C:\\Users\\Karl\\Desktop\\why didn't you choose me\\abstractImageTweakedpng\\abstractImageT702419.png is a low contrast image\n",
      "  imsave(filePath, image)\n"
     ]
    },
    {
     "name": "stdout",
     "output_type": "stream",
     "text": [
      "C:\\Users\\Karl\\Desktop\\why didn't you choose me\\abstractImageTweakedpng\\abstractImageT702420.png\n"
     ]
    },
    {
     "name": "stderr",
     "output_type": "stream",
     "text": [
      "<ipython-input-9-2b69156255fe>:55: UserWarning: C:\\Users\\Karl\\Desktop\\why didn't you choose me\\abstractImageTweakedpng\\abstractImageT702420.png is a low contrast image\n",
      "  imsave(filePath, image)\n"
     ]
    },
    {
     "name": "stdout",
     "output_type": "stream",
     "text": [
      "C:\\Users\\Karl\\Desktop\\why didn't you choose me\\abstractImageTweakedpng\\abstractImageT702421.png\n"
     ]
    },
    {
     "name": "stderr",
     "output_type": "stream",
     "text": [
      "<ipython-input-9-2b69156255fe>:55: UserWarning: C:\\Users\\Karl\\Desktop\\why didn't you choose me\\abstractImageTweakedpng\\abstractImageT702421.png is a low contrast image\n",
      "  imsave(filePath, image)\n"
     ]
    },
    {
     "name": "stdout",
     "output_type": "stream",
     "text": [
      "C:\\Users\\Karl\\Desktop\\why didn't you choose me\\abstractImageTweakedpng\\abstractImageT702422.png\n"
     ]
    },
    {
     "name": "stderr",
     "output_type": "stream",
     "text": [
      "<ipython-input-9-2b69156255fe>:55: UserWarning: C:\\Users\\Karl\\Desktop\\why didn't you choose me\\abstractImageTweakedpng\\abstractImageT702422.png is a low contrast image\n",
      "  imsave(filePath, image)\n"
     ]
    },
    {
     "name": "stdout",
     "output_type": "stream",
     "text": [
      "C:\\Users\\Karl\\Desktop\\why didn't you choose me\\abstractImageTweakedpng\\abstractImageT702423.png\n"
     ]
    },
    {
     "name": "stderr",
     "output_type": "stream",
     "text": [
      "<ipython-input-9-2b69156255fe>:55: UserWarning: C:\\Users\\Karl\\Desktop\\why didn't you choose me\\abstractImageTweakedpng\\abstractImageT702423.png is a low contrast image\n",
      "  imsave(filePath, image)\n"
     ]
    },
    {
     "name": "stdout",
     "output_type": "stream",
     "text": [
      "C:\\Users\\Karl\\Desktop\\why didn't you choose me\\abstractImageTweakedpng\\abstractImageT702424.png\n"
     ]
    },
    {
     "name": "stderr",
     "output_type": "stream",
     "text": [
      "<ipython-input-9-2b69156255fe>:55: UserWarning: C:\\Users\\Karl\\Desktop\\why didn't you choose me\\abstractImageTweakedpng\\abstractImageT702424.png is a low contrast image\n",
      "  imsave(filePath, image)\n"
     ]
    },
    {
     "name": "stdout",
     "output_type": "stream",
     "text": [
      "C:\\Users\\Karl\\Desktop\\why didn't you choose me\\abstractImageTweakedpng\\abstractImageT702425.png\n"
     ]
    },
    {
     "name": "stderr",
     "output_type": "stream",
     "text": [
      "<ipython-input-9-2b69156255fe>:55: UserWarning: C:\\Users\\Karl\\Desktop\\why didn't you choose me\\abstractImageTweakedpng\\abstractImageT702425.png is a low contrast image\n",
      "  imsave(filePath, image)\n"
     ]
    },
    {
     "name": "stdout",
     "output_type": "stream",
     "text": [
      "C:\\Users\\Karl\\Desktop\\why didn't you choose me\\abstractImageTweakedpng\\abstractImageT702426.png\n"
     ]
    },
    {
     "name": "stderr",
     "output_type": "stream",
     "text": [
      "<ipython-input-9-2b69156255fe>:55: UserWarning: C:\\Users\\Karl\\Desktop\\why didn't you choose me\\abstractImageTweakedpng\\abstractImageT702426.png is a low contrast image\n",
      "  imsave(filePath, image)\n"
     ]
    },
    {
     "name": "stdout",
     "output_type": "stream",
     "text": [
      "C:\\Users\\Karl\\Desktop\\why didn't you choose me\\abstractImageTweakedpng\\abstractImageT702427.png\n"
     ]
    },
    {
     "name": "stderr",
     "output_type": "stream",
     "text": [
      "<ipython-input-9-2b69156255fe>:55: UserWarning: C:\\Users\\Karl\\Desktop\\why didn't you choose me\\abstractImageTweakedpng\\abstractImageT702427.png is a low contrast image\n",
      "  imsave(filePath, image)\n"
     ]
    },
    {
     "name": "stdout",
     "output_type": "stream",
     "text": [
      "C:\\Users\\Karl\\Desktop\\why didn't you choose me\\abstractImageTweakedpng\\abstractImageT702428.png\n"
     ]
    },
    {
     "name": "stderr",
     "output_type": "stream",
     "text": [
      "<ipython-input-9-2b69156255fe>:55: UserWarning: C:\\Users\\Karl\\Desktop\\why didn't you choose me\\abstractImageTweakedpng\\abstractImageT702428.png is a low contrast image\n",
      "  imsave(filePath, image)\n"
     ]
    },
    {
     "name": "stdout",
     "output_type": "stream",
     "text": [
      "C:\\Users\\Karl\\Desktop\\why didn't you choose me\\abstractImageTweakedpng\\abstractImageT702429.png\n"
     ]
    },
    {
     "name": "stderr",
     "output_type": "stream",
     "text": [
      "<ipython-input-9-2b69156255fe>:55: UserWarning: C:\\Users\\Karl\\Desktop\\why didn't you choose me\\abstractImageTweakedpng\\abstractImageT702429.png is a low contrast image\n",
      "  imsave(filePath, image)\n"
     ]
    },
    {
     "name": "stdout",
     "output_type": "stream",
     "text": [
      "C:\\Users\\Karl\\Desktop\\why didn't you choose me\\abstractImageTweakedpng\\abstractImageT702430.png\n"
     ]
    },
    {
     "name": "stderr",
     "output_type": "stream",
     "text": [
      "<ipython-input-9-2b69156255fe>:55: UserWarning: C:\\Users\\Karl\\Desktop\\why didn't you choose me\\abstractImageTweakedpng\\abstractImageT702430.png is a low contrast image\n",
      "  imsave(filePath, image)\n"
     ]
    },
    {
     "name": "stdout",
     "output_type": "stream",
     "text": [
      "C:\\Users\\Karl\\Desktop\\why didn't you choose me\\abstractImageTweakedpng\\abstractImageT702431.png\n"
     ]
    },
    {
     "name": "stderr",
     "output_type": "stream",
     "text": [
      "<ipython-input-9-2b69156255fe>:55: UserWarning: C:\\Users\\Karl\\Desktop\\why didn't you choose me\\abstractImageTweakedpng\\abstractImageT702431.png is a low contrast image\n",
      "  imsave(filePath, image)\n"
     ]
    },
    {
     "name": "stdout",
     "output_type": "stream",
     "text": [
      "C:\\Users\\Karl\\Desktop\\why didn't you choose me\\abstractImageTweakedpng\\abstractImageT702432.png\n"
     ]
    },
    {
     "name": "stderr",
     "output_type": "stream",
     "text": [
      "<ipython-input-9-2b69156255fe>:55: UserWarning: C:\\Users\\Karl\\Desktop\\why didn't you choose me\\abstractImageTweakedpng\\abstractImageT702432.png is a low contrast image\n",
      "  imsave(filePath, image)\n"
     ]
    },
    {
     "name": "stdout",
     "output_type": "stream",
     "text": [
      "C:\\Users\\Karl\\Desktop\\why didn't you choose me\\abstractImageTweakedpng\\abstractImageT702433.png\n"
     ]
    },
    {
     "name": "stderr",
     "output_type": "stream",
     "text": [
      "<ipython-input-9-2b69156255fe>:55: UserWarning: C:\\Users\\Karl\\Desktop\\why didn't you choose me\\abstractImageTweakedpng\\abstractImageT702433.png is a low contrast image\n",
      "  imsave(filePath, image)\n"
     ]
    },
    {
     "name": "stdout",
     "output_type": "stream",
     "text": [
      "C:\\Users\\Karl\\Desktop\\why didn't you choose me\\abstractImageTweakedpng\\abstractImageT702434.png\n"
     ]
    },
    {
     "name": "stderr",
     "output_type": "stream",
     "text": [
      "<ipython-input-9-2b69156255fe>:55: UserWarning: C:\\Users\\Karl\\Desktop\\why didn't you choose me\\abstractImageTweakedpng\\abstractImageT702434.png is a low contrast image\n",
      "  imsave(filePath, image)\n"
     ]
    },
    {
     "name": "stdout",
     "output_type": "stream",
     "text": [
      "C:\\Users\\Karl\\Desktop\\why didn't you choose me\\abstractImageTweakedpng\\abstractImageT702435.png\n"
     ]
    },
    {
     "name": "stderr",
     "output_type": "stream",
     "text": [
      "<ipython-input-9-2b69156255fe>:55: UserWarning: C:\\Users\\Karl\\Desktop\\why didn't you choose me\\abstractImageTweakedpng\\abstractImageT702435.png is a low contrast image\n",
      "  imsave(filePath, image)\n"
     ]
    },
    {
     "name": "stdout",
     "output_type": "stream",
     "text": [
      "C:\\Users\\Karl\\Desktop\\why didn't you choose me\\abstractImageTweakedpng\\abstractImageT702436.png\n"
     ]
    },
    {
     "name": "stderr",
     "output_type": "stream",
     "text": [
      "<ipython-input-9-2b69156255fe>:55: UserWarning: C:\\Users\\Karl\\Desktop\\why didn't you choose me\\abstractImageTweakedpng\\abstractImageT702436.png is a low contrast image\n",
      "  imsave(filePath, image)\n"
     ]
    },
    {
     "name": "stdout",
     "output_type": "stream",
     "text": [
      "C:\\Users\\Karl\\Desktop\\why didn't you choose me\\abstractImageTweakedpng\\abstractImageT702437.png\n"
     ]
    },
    {
     "name": "stderr",
     "output_type": "stream",
     "text": [
      "<ipython-input-9-2b69156255fe>:55: UserWarning: C:\\Users\\Karl\\Desktop\\why didn't you choose me\\abstractImageTweakedpng\\abstractImageT702437.png is a low contrast image\n",
      "  imsave(filePath, image)\n"
     ]
    },
    {
     "name": "stdout",
     "output_type": "stream",
     "text": [
      "C:\\Users\\Karl\\Desktop\\why didn't you choose me\\abstractImageTweakedpng\\abstractImageT702438.png\n"
     ]
    },
    {
     "name": "stderr",
     "output_type": "stream",
     "text": [
      "<ipython-input-9-2b69156255fe>:55: UserWarning: C:\\Users\\Karl\\Desktop\\why didn't you choose me\\abstractImageTweakedpng\\abstractImageT702438.png is a low contrast image\n",
      "  imsave(filePath, image)\n"
     ]
    },
    {
     "name": "stdout",
     "output_type": "stream",
     "text": [
      "C:\\Users\\Karl\\Desktop\\why didn't you choose me\\abstractImageTweakedpng\\abstractImageT702439.png\n"
     ]
    },
    {
     "name": "stderr",
     "output_type": "stream",
     "text": [
      "<ipython-input-9-2b69156255fe>:55: UserWarning: C:\\Users\\Karl\\Desktop\\why didn't you choose me\\abstractImageTweakedpng\\abstractImageT702439.png is a low contrast image\n",
      "  imsave(filePath, image)\n"
     ]
    },
    {
     "name": "stdout",
     "output_type": "stream",
     "text": [
      "C:\\Users\\Karl\\Desktop\\why didn't you choose me\\abstractImageTweakedpng\\abstractImageT702440.png\n"
     ]
    },
    {
     "name": "stderr",
     "output_type": "stream",
     "text": [
      "<ipython-input-9-2b69156255fe>:55: UserWarning: C:\\Users\\Karl\\Desktop\\why didn't you choose me\\abstractImageTweakedpng\\abstractImageT702440.png is a low contrast image\n",
      "  imsave(filePath, image)\n"
     ]
    },
    {
     "name": "stdout",
     "output_type": "stream",
     "text": [
      "C:\\Users\\Karl\\Desktop\\why didn't you choose me\\abstractImageTweakedpng\\abstractImageT702441.png\n"
     ]
    },
    {
     "name": "stderr",
     "output_type": "stream",
     "text": [
      "<ipython-input-9-2b69156255fe>:55: UserWarning: C:\\Users\\Karl\\Desktop\\why didn't you choose me\\abstractImageTweakedpng\\abstractImageT702441.png is a low contrast image\n",
      "  imsave(filePath, image)\n"
     ]
    },
    {
     "name": "stdout",
     "output_type": "stream",
     "text": [
      "C:\\Users\\Karl\\Desktop\\why didn't you choose me\\abstractImageTweakedpng\\abstractImageT702442.png\n"
     ]
    },
    {
     "name": "stderr",
     "output_type": "stream",
     "text": [
      "<ipython-input-9-2b69156255fe>:55: UserWarning: C:\\Users\\Karl\\Desktop\\why didn't you choose me\\abstractImageTweakedpng\\abstractImageT702442.png is a low contrast image\n",
      "  imsave(filePath, image)\n"
     ]
    },
    {
     "name": "stdout",
     "output_type": "stream",
     "text": [
      "C:\\Users\\Karl\\Desktop\\why didn't you choose me\\abstractImageTweakedpng\\abstractImageT702443.png\n"
     ]
    },
    {
     "name": "stderr",
     "output_type": "stream",
     "text": [
      "<ipython-input-9-2b69156255fe>:55: UserWarning: C:\\Users\\Karl\\Desktop\\why didn't you choose me\\abstractImageTweakedpng\\abstractImageT702443.png is a low contrast image\n",
      "  imsave(filePath, image)\n"
     ]
    },
    {
     "name": "stdout",
     "output_type": "stream",
     "text": [
      "C:\\Users\\Karl\\Desktop\\why didn't you choose me\\abstractImageTweakedpng\\abstractImageT702444.png\n"
     ]
    },
    {
     "name": "stderr",
     "output_type": "stream",
     "text": [
      "<ipython-input-9-2b69156255fe>:55: UserWarning: C:\\Users\\Karl\\Desktop\\why didn't you choose me\\abstractImageTweakedpng\\abstractImageT702444.png is a low contrast image\n",
      "  imsave(filePath, image)\n"
     ]
    },
    {
     "name": "stdout",
     "output_type": "stream",
     "text": [
      "C:\\Users\\Karl\\Desktop\\why didn't you choose me\\abstractImageTweakedpng\\abstractImageT702445.png\n"
     ]
    },
    {
     "name": "stderr",
     "output_type": "stream",
     "text": [
      "<ipython-input-9-2b69156255fe>:55: UserWarning: C:\\Users\\Karl\\Desktop\\why didn't you choose me\\abstractImageTweakedpng\\abstractImageT702445.png is a low contrast image\n",
      "  imsave(filePath, image)\n"
     ]
    },
    {
     "name": "stdout",
     "output_type": "stream",
     "text": [
      "C:\\Users\\Karl\\Desktop\\why didn't you choose me\\abstractImageTweakedpng\\abstractImageT702446.png\n"
     ]
    },
    {
     "name": "stderr",
     "output_type": "stream",
     "text": [
      "<ipython-input-9-2b69156255fe>:55: UserWarning: C:\\Users\\Karl\\Desktop\\why didn't you choose me\\abstractImageTweakedpng\\abstractImageT702446.png is a low contrast image\n",
      "  imsave(filePath, image)\n"
     ]
    },
    {
     "name": "stdout",
     "output_type": "stream",
     "text": [
      "C:\\Users\\Karl\\Desktop\\why didn't you choose me\\abstractImageTweakedpng\\abstractImageT702447.png\n"
     ]
    },
    {
     "name": "stderr",
     "output_type": "stream",
     "text": [
      "<ipython-input-9-2b69156255fe>:55: UserWarning: C:\\Users\\Karl\\Desktop\\why didn't you choose me\\abstractImageTweakedpng\\abstractImageT702447.png is a low contrast image\n",
      "  imsave(filePath, image)\n"
     ]
    },
    {
     "name": "stdout",
     "output_type": "stream",
     "text": [
      "C:\\Users\\Karl\\Desktop\\why didn't you choose me\\abstractImageTweakedpng\\abstractImageT702448.png\n"
     ]
    },
    {
     "name": "stderr",
     "output_type": "stream",
     "text": [
      "<ipython-input-9-2b69156255fe>:55: UserWarning: C:\\Users\\Karl\\Desktop\\why didn't you choose me\\abstractImageTweakedpng\\abstractImageT702448.png is a low contrast image\n",
      "  imsave(filePath, image)\n"
     ]
    },
    {
     "name": "stdout",
     "output_type": "stream",
     "text": [
      "C:\\Users\\Karl\\Desktop\\why didn't you choose me\\abstractImageTweakedpng\\abstractImageT702449.png\n"
     ]
    },
    {
     "name": "stderr",
     "output_type": "stream",
     "text": [
      "<ipython-input-9-2b69156255fe>:55: UserWarning: C:\\Users\\Karl\\Desktop\\why didn't you choose me\\abstractImageTweakedpng\\abstractImageT702449.png is a low contrast image\n",
      "  imsave(filePath, image)\n"
     ]
    },
    {
     "name": "stdout",
     "output_type": "stream",
     "text": [
      "C:\\Users\\Karl\\Desktop\\why didn't you choose me\\abstractImageTweakedpng\\abstractImageT702450.png\n"
     ]
    },
    {
     "name": "stderr",
     "output_type": "stream",
     "text": [
      "<ipython-input-9-2b69156255fe>:55: UserWarning: C:\\Users\\Karl\\Desktop\\why didn't you choose me\\abstractImageTweakedpng\\abstractImageT702450.png is a low contrast image\n",
      "  imsave(filePath, image)\n"
     ]
    },
    {
     "name": "stdout",
     "output_type": "stream",
     "text": [
      "C:\\Users\\Karl\\Desktop\\why didn't you choose me\\abstractImageTweakedpng\\abstractImageT702451.png\n"
     ]
    },
    {
     "name": "stderr",
     "output_type": "stream",
     "text": [
      "<ipython-input-9-2b69156255fe>:55: UserWarning: C:\\Users\\Karl\\Desktop\\why didn't you choose me\\abstractImageTweakedpng\\abstractImageT702451.png is a low contrast image\n",
      "  imsave(filePath, image)\n"
     ]
    },
    {
     "name": "stdout",
     "output_type": "stream",
     "text": [
      "C:\\Users\\Karl\\Desktop\\why didn't you choose me\\abstractImageTweakedpng\\abstractImageT702452.png\n"
     ]
    },
    {
     "name": "stderr",
     "output_type": "stream",
     "text": [
      "<ipython-input-9-2b69156255fe>:55: UserWarning: C:\\Users\\Karl\\Desktop\\why didn't you choose me\\abstractImageTweakedpng\\abstractImageT702452.png is a low contrast image\n",
      "  imsave(filePath, image)\n"
     ]
    },
    {
     "name": "stdout",
     "output_type": "stream",
     "text": [
      "C:\\Users\\Karl\\Desktop\\why didn't you choose me\\abstractImageTweakedpng\\abstractImageT702453.png\n"
     ]
    },
    {
     "name": "stderr",
     "output_type": "stream",
     "text": [
      "<ipython-input-9-2b69156255fe>:55: UserWarning: C:\\Users\\Karl\\Desktop\\why didn't you choose me\\abstractImageTweakedpng\\abstractImageT702453.png is a low contrast image\n",
      "  imsave(filePath, image)\n"
     ]
    },
    {
     "name": "stdout",
     "output_type": "stream",
     "text": [
      "C:\\Users\\Karl\\Desktop\\why didn't you choose me\\abstractImageTweakedpng\\abstractImageT702454.png\n"
     ]
    },
    {
     "name": "stderr",
     "output_type": "stream",
     "text": [
      "<ipython-input-9-2b69156255fe>:55: UserWarning: C:\\Users\\Karl\\Desktop\\why didn't you choose me\\abstractImageTweakedpng\\abstractImageT702454.png is a low contrast image\n",
      "  imsave(filePath, image)\n"
     ]
    },
    {
     "name": "stdout",
     "output_type": "stream",
     "text": [
      "C:\\Users\\Karl\\Desktop\\why didn't you choose me\\abstractImageTweakedpng\\abstractImageT702455.png\n"
     ]
    },
    {
     "name": "stderr",
     "output_type": "stream",
     "text": [
      "<ipython-input-9-2b69156255fe>:55: UserWarning: C:\\Users\\Karl\\Desktop\\why didn't you choose me\\abstractImageTweakedpng\\abstractImageT702455.png is a low contrast image\n",
      "  imsave(filePath, image)\n"
     ]
    },
    {
     "name": "stdout",
     "output_type": "stream",
     "text": [
      "C:\\Users\\Karl\\Desktop\\why didn't you choose me\\abstractImageTweakedpng\\abstractImageT702456.png\n"
     ]
    },
    {
     "name": "stderr",
     "output_type": "stream",
     "text": [
      "<ipython-input-9-2b69156255fe>:55: UserWarning: C:\\Users\\Karl\\Desktop\\why didn't you choose me\\abstractImageTweakedpng\\abstractImageT702456.png is a low contrast image\n",
      "  imsave(filePath, image)\n"
     ]
    },
    {
     "name": "stdout",
     "output_type": "stream",
     "text": [
      "C:\\Users\\Karl\\Desktop\\why didn't you choose me\\abstractImageTweakedpng\\abstractImageT702457.png\n"
     ]
    },
    {
     "name": "stderr",
     "output_type": "stream",
     "text": [
      "<ipython-input-9-2b69156255fe>:55: UserWarning: C:\\Users\\Karl\\Desktop\\why didn't you choose me\\abstractImageTweakedpng\\abstractImageT702457.png is a low contrast image\n",
      "  imsave(filePath, image)\n"
     ]
    },
    {
     "name": "stdout",
     "output_type": "stream",
     "text": [
      "C:\\Users\\Karl\\Desktop\\why didn't you choose me\\abstractImageTweakedpng\\abstractImageT702458.png\n"
     ]
    },
    {
     "name": "stderr",
     "output_type": "stream",
     "text": [
      "<ipython-input-9-2b69156255fe>:55: UserWarning: C:\\Users\\Karl\\Desktop\\why didn't you choose me\\abstractImageTweakedpng\\abstractImageT702458.png is a low contrast image\n",
      "  imsave(filePath, image)\n"
     ]
    },
    {
     "name": "stdout",
     "output_type": "stream",
     "text": [
      "C:\\Users\\Karl\\Desktop\\why didn't you choose me\\abstractImageTweakedpng\\abstractImageT702459.png\n"
     ]
    },
    {
     "name": "stderr",
     "output_type": "stream",
     "text": [
      "<ipython-input-9-2b69156255fe>:55: UserWarning: C:\\Users\\Karl\\Desktop\\why didn't you choose me\\abstractImageTweakedpng\\abstractImageT702459.png is a low contrast image\n",
      "  imsave(filePath, image)\n"
     ]
    },
    {
     "name": "stdout",
     "output_type": "stream",
     "text": [
      "C:\\Users\\Karl\\Desktop\\why didn't you choose me\\abstractImageTweakedpng\\abstractImageT702460.png\n"
     ]
    },
    {
     "name": "stderr",
     "output_type": "stream",
     "text": [
      "<ipython-input-9-2b69156255fe>:55: UserWarning: C:\\Users\\Karl\\Desktop\\why didn't you choose me\\abstractImageTweakedpng\\abstractImageT702460.png is a low contrast image\n",
      "  imsave(filePath, image)\n"
     ]
    },
    {
     "name": "stdout",
     "output_type": "stream",
     "text": [
      "C:\\Users\\Karl\\Desktop\\why didn't you choose me\\abstractImageTweakedpng\\abstractImageT702461.png\n"
     ]
    },
    {
     "name": "stderr",
     "output_type": "stream",
     "text": [
      "<ipython-input-9-2b69156255fe>:55: UserWarning: C:\\Users\\Karl\\Desktop\\why didn't you choose me\\abstractImageTweakedpng\\abstractImageT702461.png is a low contrast image\n",
      "  imsave(filePath, image)\n"
     ]
    },
    {
     "name": "stdout",
     "output_type": "stream",
     "text": [
      "C:\\Users\\Karl\\Desktop\\why didn't you choose me\\abstractImageTweakedpng\\abstractImageT702462.png\n"
     ]
    },
    {
     "name": "stderr",
     "output_type": "stream",
     "text": [
      "<ipython-input-9-2b69156255fe>:55: UserWarning: C:\\Users\\Karl\\Desktop\\why didn't you choose me\\abstractImageTweakedpng\\abstractImageT702462.png is a low contrast image\n",
      "  imsave(filePath, image)\n"
     ]
    },
    {
     "name": "stdout",
     "output_type": "stream",
     "text": [
      "C:\\Users\\Karl\\Desktop\\why didn't you choose me\\abstractImageTweakedpng\\abstractImageT702463.png\n"
     ]
    },
    {
     "name": "stderr",
     "output_type": "stream",
     "text": [
      "<ipython-input-9-2b69156255fe>:55: UserWarning: C:\\Users\\Karl\\Desktop\\why didn't you choose me\\abstractImageTweakedpng\\abstractImageT702463.png is a low contrast image\n",
      "  imsave(filePath, image)\n"
     ]
    },
    {
     "name": "stdout",
     "output_type": "stream",
     "text": [
      "C:\\Users\\Karl\\Desktop\\why didn't you choose me\\abstractImageTweakedpng\\abstractImageT702464.png\n"
     ]
    },
    {
     "name": "stderr",
     "output_type": "stream",
     "text": [
      "<ipython-input-9-2b69156255fe>:55: UserWarning: C:\\Users\\Karl\\Desktop\\why didn't you choose me\\abstractImageTweakedpng\\abstractImageT702464.png is a low contrast image\n",
      "  imsave(filePath, image)\n"
     ]
    },
    {
     "name": "stdout",
     "output_type": "stream",
     "text": [
      "C:\\Users\\Karl\\Desktop\\why didn't you choose me\\abstractImageTweakedpng\\abstractImageT702465.png\n"
     ]
    },
    {
     "name": "stderr",
     "output_type": "stream",
     "text": [
      "<ipython-input-9-2b69156255fe>:55: UserWarning: C:\\Users\\Karl\\Desktop\\why didn't you choose me\\abstractImageTweakedpng\\abstractImageT702465.png is a low contrast image\n",
      "  imsave(filePath, image)\n"
     ]
    },
    {
     "name": "stdout",
     "output_type": "stream",
     "text": [
      "C:\\Users\\Karl\\Desktop\\why didn't you choose me\\abstractImageTweakedpng\\abstractImageT702466.png\n"
     ]
    },
    {
     "name": "stderr",
     "output_type": "stream",
     "text": [
      "<ipython-input-9-2b69156255fe>:55: UserWarning: C:\\Users\\Karl\\Desktop\\why didn't you choose me\\abstractImageTweakedpng\\abstractImageT702466.png is a low contrast image\n",
      "  imsave(filePath, image)\n"
     ]
    },
    {
     "name": "stdout",
     "output_type": "stream",
     "text": [
      "C:\\Users\\Karl\\Desktop\\why didn't you choose me\\abstractImageTweakedpng\\abstractImageT702467.png\n"
     ]
    },
    {
     "name": "stderr",
     "output_type": "stream",
     "text": [
      "<ipython-input-9-2b69156255fe>:55: UserWarning: C:\\Users\\Karl\\Desktop\\why didn't you choose me\\abstractImageTweakedpng\\abstractImageT702467.png is a low contrast image\n",
      "  imsave(filePath, image)\n"
     ]
    },
    {
     "name": "stdout",
     "output_type": "stream",
     "text": [
      "C:\\Users\\Karl\\Desktop\\why didn't you choose me\\abstractImageTweakedpng\\abstractImageT702468.png\n"
     ]
    },
    {
     "name": "stderr",
     "output_type": "stream",
     "text": [
      "<ipython-input-9-2b69156255fe>:55: UserWarning: C:\\Users\\Karl\\Desktop\\why didn't you choose me\\abstractImageTweakedpng\\abstractImageT702468.png is a low contrast image\n",
      "  imsave(filePath, image)\n"
     ]
    },
    {
     "name": "stdout",
     "output_type": "stream",
     "text": [
      "C:\\Users\\Karl\\Desktop\\why didn't you choose me\\abstractImageTweakedpng\\abstractImageT702469.png\n"
     ]
    },
    {
     "name": "stderr",
     "output_type": "stream",
     "text": [
      "<ipython-input-9-2b69156255fe>:55: UserWarning: C:\\Users\\Karl\\Desktop\\why didn't you choose me\\abstractImageTweakedpng\\abstractImageT702469.png is a low contrast image\n",
      "  imsave(filePath, image)\n"
     ]
    },
    {
     "name": "stdout",
     "output_type": "stream",
     "text": [
      "C:\\Users\\Karl\\Desktop\\why didn't you choose me\\abstractImageTweakedpng\\abstractImageT702470.png\n"
     ]
    },
    {
     "name": "stderr",
     "output_type": "stream",
     "text": [
      "<ipython-input-9-2b69156255fe>:55: UserWarning: C:\\Users\\Karl\\Desktop\\why didn't you choose me\\abstractImageTweakedpng\\abstractImageT702470.png is a low contrast image\n",
      "  imsave(filePath, image)\n"
     ]
    },
    {
     "name": "stdout",
     "output_type": "stream",
     "text": [
      "C:\\Users\\Karl\\Desktop\\why didn't you choose me\\abstractImageTweakedpng\\abstractImageT702471.png\n"
     ]
    },
    {
     "name": "stderr",
     "output_type": "stream",
     "text": [
      "<ipython-input-9-2b69156255fe>:55: UserWarning: C:\\Users\\Karl\\Desktop\\why didn't you choose me\\abstractImageTweakedpng\\abstractImageT702471.png is a low contrast image\n",
      "  imsave(filePath, image)\n"
     ]
    },
    {
     "name": "stdout",
     "output_type": "stream",
     "text": [
      "C:\\Users\\Karl\\Desktop\\why didn't you choose me\\abstractImageTweakedpng\\abstractImageT702472.png\n"
     ]
    },
    {
     "name": "stderr",
     "output_type": "stream",
     "text": [
      "<ipython-input-9-2b69156255fe>:55: UserWarning: C:\\Users\\Karl\\Desktop\\why didn't you choose me\\abstractImageTweakedpng\\abstractImageT702472.png is a low contrast image\n",
      "  imsave(filePath, image)\n"
     ]
    },
    {
     "name": "stdout",
     "output_type": "stream",
     "text": [
      "C:\\Users\\Karl\\Desktop\\why didn't you choose me\\abstractImageTweakedpng\\abstractImageT702473.png\n"
     ]
    },
    {
     "name": "stderr",
     "output_type": "stream",
     "text": [
      "<ipython-input-9-2b69156255fe>:55: UserWarning: C:\\Users\\Karl\\Desktop\\why didn't you choose me\\abstractImageTweakedpng\\abstractImageT702473.png is a low contrast image\n",
      "  imsave(filePath, image)\n"
     ]
    },
    {
     "name": "stdout",
     "output_type": "stream",
     "text": [
      "C:\\Users\\Karl\\Desktop\\why didn't you choose me\\abstractImageTweakedpng\\abstractImageT702474.png\n"
     ]
    },
    {
     "name": "stderr",
     "output_type": "stream",
     "text": [
      "<ipython-input-9-2b69156255fe>:55: UserWarning: C:\\Users\\Karl\\Desktop\\why didn't you choose me\\abstractImageTweakedpng\\abstractImageT702474.png is a low contrast image\n",
      "  imsave(filePath, image)\n"
     ]
    },
    {
     "name": "stdout",
     "output_type": "stream",
     "text": [
      "C:\\Users\\Karl\\Desktop\\why didn't you choose me\\abstractImageTweakedpng\\abstractImageT702475.png\n"
     ]
    },
    {
     "name": "stderr",
     "output_type": "stream",
     "text": [
      "<ipython-input-9-2b69156255fe>:55: UserWarning: C:\\Users\\Karl\\Desktop\\why didn't you choose me\\abstractImageTweakedpng\\abstractImageT702475.png is a low contrast image\n",
      "  imsave(filePath, image)\n"
     ]
    },
    {
     "name": "stdout",
     "output_type": "stream",
     "text": [
      "C:\\Users\\Karl\\Desktop\\why didn't you choose me\\abstractImageTweakedpng\\abstractImageT702476.png\n"
     ]
    },
    {
     "name": "stderr",
     "output_type": "stream",
     "text": [
      "<ipython-input-9-2b69156255fe>:55: UserWarning: C:\\Users\\Karl\\Desktop\\why didn't you choose me\\abstractImageTweakedpng\\abstractImageT702476.png is a low contrast image\n",
      "  imsave(filePath, image)\n"
     ]
    },
    {
     "name": "stdout",
     "output_type": "stream",
     "text": [
      "C:\\Users\\Karl\\Desktop\\why didn't you choose me\\abstractImageTweakedpng\\abstractImageT702477.png\n"
     ]
    },
    {
     "name": "stderr",
     "output_type": "stream",
     "text": [
      "<ipython-input-9-2b69156255fe>:55: UserWarning: C:\\Users\\Karl\\Desktop\\why didn't you choose me\\abstractImageTweakedpng\\abstractImageT702477.png is a low contrast image\n",
      "  imsave(filePath, image)\n"
     ]
    },
    {
     "name": "stdout",
     "output_type": "stream",
     "text": [
      "C:\\Users\\Karl\\Desktop\\why didn't you choose me\\abstractImageTweakedpng\\abstractImageT702478.png\n"
     ]
    },
    {
     "name": "stderr",
     "output_type": "stream",
     "text": [
      "<ipython-input-9-2b69156255fe>:55: UserWarning: C:\\Users\\Karl\\Desktop\\why didn't you choose me\\abstractImageTweakedpng\\abstractImageT702478.png is a low contrast image\n",
      "  imsave(filePath, image)\n"
     ]
    },
    {
     "name": "stdout",
     "output_type": "stream",
     "text": [
      "C:\\Users\\Karl\\Desktop\\why didn't you choose me\\abstractImageTweakedpng\\abstractImageT702479.png\n"
     ]
    },
    {
     "name": "stderr",
     "output_type": "stream",
     "text": [
      "<ipython-input-9-2b69156255fe>:55: UserWarning: C:\\Users\\Karl\\Desktop\\why didn't you choose me\\abstractImageTweakedpng\\abstractImageT702479.png is a low contrast image\n",
      "  imsave(filePath, image)\n"
     ]
    },
    {
     "name": "stdout",
     "output_type": "stream",
     "text": [
      "C:\\Users\\Karl\\Desktop\\why didn't you choose me\\abstractImageTweakedpng\\abstractImageT702480.png\n"
     ]
    },
    {
     "name": "stderr",
     "output_type": "stream",
     "text": [
      "<ipython-input-9-2b69156255fe>:55: UserWarning: C:\\Users\\Karl\\Desktop\\why didn't you choose me\\abstractImageTweakedpng\\abstractImageT702480.png is a low contrast image\n",
      "  imsave(filePath, image)\n"
     ]
    },
    {
     "name": "stdout",
     "output_type": "stream",
     "text": [
      "C:\\Users\\Karl\\Desktop\\why didn't you choose me\\abstractImageTweakedpng\\abstractImageT702481.png\n"
     ]
    },
    {
     "name": "stderr",
     "output_type": "stream",
     "text": [
      "<ipython-input-9-2b69156255fe>:55: UserWarning: C:\\Users\\Karl\\Desktop\\why didn't you choose me\\abstractImageTweakedpng\\abstractImageT702481.png is a low contrast image\n",
      "  imsave(filePath, image)\n"
     ]
    },
    {
     "name": "stdout",
     "output_type": "stream",
     "text": [
      "C:\\Users\\Karl\\Desktop\\why didn't you choose me\\abstractImageTweakedpng\\abstractImageT702482.png\n"
     ]
    },
    {
     "name": "stderr",
     "output_type": "stream",
     "text": [
      "<ipython-input-9-2b69156255fe>:55: UserWarning: C:\\Users\\Karl\\Desktop\\why didn't you choose me\\abstractImageTweakedpng\\abstractImageT702482.png is a low contrast image\n",
      "  imsave(filePath, image)\n"
     ]
    },
    {
     "name": "stdout",
     "output_type": "stream",
     "text": [
      "C:\\Users\\Karl\\Desktop\\why didn't you choose me\\abstractImageTweakedpng\\abstractImageT702483.png\n"
     ]
    },
    {
     "name": "stderr",
     "output_type": "stream",
     "text": [
      "<ipython-input-9-2b69156255fe>:55: UserWarning: C:\\Users\\Karl\\Desktop\\why didn't you choose me\\abstractImageTweakedpng\\abstractImageT702483.png is a low contrast image\n",
      "  imsave(filePath, image)\n"
     ]
    },
    {
     "name": "stdout",
     "output_type": "stream",
     "text": [
      "C:\\Users\\Karl\\Desktop\\why didn't you choose me\\abstractImageTweakedpng\\abstractImageT702484.png\n"
     ]
    },
    {
     "name": "stderr",
     "output_type": "stream",
     "text": [
      "<ipython-input-9-2b69156255fe>:55: UserWarning: C:\\Users\\Karl\\Desktop\\why didn't you choose me\\abstractImageTweakedpng\\abstractImageT702484.png is a low contrast image\n",
      "  imsave(filePath, image)\n"
     ]
    },
    {
     "name": "stdout",
     "output_type": "stream",
     "text": [
      "C:\\Users\\Karl\\Desktop\\why didn't you choose me\\abstractImageTweakedpng\\abstractImageT702485.png\n"
     ]
    },
    {
     "name": "stderr",
     "output_type": "stream",
     "text": [
      "<ipython-input-9-2b69156255fe>:55: UserWarning: C:\\Users\\Karl\\Desktop\\why didn't you choose me\\abstractImageTweakedpng\\abstractImageT702485.png is a low contrast image\n",
      "  imsave(filePath, image)\n"
     ]
    },
    {
     "name": "stdout",
     "output_type": "stream",
     "text": [
      "C:\\Users\\Karl\\Desktop\\why didn't you choose me\\abstractImageTweakedpng\\abstractImageT702486.png\n"
     ]
    },
    {
     "name": "stderr",
     "output_type": "stream",
     "text": [
      "<ipython-input-9-2b69156255fe>:55: UserWarning: C:\\Users\\Karl\\Desktop\\why didn't you choose me\\abstractImageTweakedpng\\abstractImageT702486.png is a low contrast image\n",
      "  imsave(filePath, image)\n"
     ]
    },
    {
     "name": "stdout",
     "output_type": "stream",
     "text": [
      "C:\\Users\\Karl\\Desktop\\why didn't you choose me\\abstractImageTweakedpng\\abstractImageT702487.png\n"
     ]
    },
    {
     "name": "stderr",
     "output_type": "stream",
     "text": [
      "<ipython-input-9-2b69156255fe>:55: UserWarning: C:\\Users\\Karl\\Desktop\\why didn't you choose me\\abstractImageTweakedpng\\abstractImageT702487.png is a low contrast image\n",
      "  imsave(filePath, image)\n"
     ]
    },
    {
     "name": "stdout",
     "output_type": "stream",
     "text": [
      "C:\\Users\\Karl\\Desktop\\why didn't you choose me\\abstractImageTweakedpng\\abstractImageT702488.png\n"
     ]
    },
    {
     "name": "stderr",
     "output_type": "stream",
     "text": [
      "<ipython-input-9-2b69156255fe>:55: UserWarning: C:\\Users\\Karl\\Desktop\\why didn't you choose me\\abstractImageTweakedpng\\abstractImageT702488.png is a low contrast image\n",
      "  imsave(filePath, image)\n"
     ]
    },
    {
     "name": "stdout",
     "output_type": "stream",
     "text": [
      "C:\\Users\\Karl\\Desktop\\why didn't you choose me\\abstractImageTweakedpng\\abstractImageT702489.png\n"
     ]
    },
    {
     "name": "stderr",
     "output_type": "stream",
     "text": [
      "<ipython-input-9-2b69156255fe>:55: UserWarning: C:\\Users\\Karl\\Desktop\\why didn't you choose me\\abstractImageTweakedpng\\abstractImageT702489.png is a low contrast image\n",
      "  imsave(filePath, image)\n"
     ]
    },
    {
     "name": "stdout",
     "output_type": "stream",
     "text": [
      "C:\\Users\\Karl\\Desktop\\why didn't you choose me\\abstractImageTweakedpng\\abstractImageT702490.png\n"
     ]
    },
    {
     "name": "stderr",
     "output_type": "stream",
     "text": [
      "<ipython-input-9-2b69156255fe>:55: UserWarning: C:\\Users\\Karl\\Desktop\\why didn't you choose me\\abstractImageTweakedpng\\abstractImageT702490.png is a low contrast image\n",
      "  imsave(filePath, image)\n"
     ]
    },
    {
     "name": "stdout",
     "output_type": "stream",
     "text": [
      "C:\\Users\\Karl\\Desktop\\why didn't you choose me\\abstractImageTweakedpng\\abstractImageT702491.png\n"
     ]
    },
    {
     "name": "stderr",
     "output_type": "stream",
     "text": [
      "<ipython-input-9-2b69156255fe>:55: UserWarning: C:\\Users\\Karl\\Desktop\\why didn't you choose me\\abstractImageTweakedpng\\abstractImageT702491.png is a low contrast image\n",
      "  imsave(filePath, image)\n"
     ]
    },
    {
     "name": "stdout",
     "output_type": "stream",
     "text": [
      "C:\\Users\\Karl\\Desktop\\why didn't you choose me\\abstractImageTweakedpng\\abstractImageT702492.png\n"
     ]
    },
    {
     "name": "stderr",
     "output_type": "stream",
     "text": [
      "<ipython-input-9-2b69156255fe>:55: UserWarning: C:\\Users\\Karl\\Desktop\\why didn't you choose me\\abstractImageTweakedpng\\abstractImageT702492.png is a low contrast image\n",
      "  imsave(filePath, image)\n"
     ]
    },
    {
     "name": "stdout",
     "output_type": "stream",
     "text": [
      "C:\\Users\\Karl\\Desktop\\why didn't you choose me\\abstractImageTweakedpng\\abstractImageT702493.png\n"
     ]
    },
    {
     "name": "stderr",
     "output_type": "stream",
     "text": [
      "<ipython-input-9-2b69156255fe>:55: UserWarning: C:\\Users\\Karl\\Desktop\\why didn't you choose me\\abstractImageTweakedpng\\abstractImageT702493.png is a low contrast image\n",
      "  imsave(filePath, image)\n"
     ]
    },
    {
     "name": "stdout",
     "output_type": "stream",
     "text": [
      "C:\\Users\\Karl\\Desktop\\why didn't you choose me\\abstractImageTweakedpng\\abstractImageT702494.png\n"
     ]
    },
    {
     "name": "stderr",
     "output_type": "stream",
     "text": [
      "<ipython-input-9-2b69156255fe>:55: UserWarning: C:\\Users\\Karl\\Desktop\\why didn't you choose me\\abstractImageTweakedpng\\abstractImageT702494.png is a low contrast image\n",
      "  imsave(filePath, image)\n"
     ]
    },
    {
     "name": "stdout",
     "output_type": "stream",
     "text": [
      "C:\\Users\\Karl\\Desktop\\why didn't you choose me\\abstractImageTweakedpng\\abstractImageT702495.png\n"
     ]
    },
    {
     "name": "stderr",
     "output_type": "stream",
     "text": [
      "<ipython-input-9-2b69156255fe>:55: UserWarning: C:\\Users\\Karl\\Desktop\\why didn't you choose me\\abstractImageTweakedpng\\abstractImageT702495.png is a low contrast image\n",
      "  imsave(filePath, image)\n"
     ]
    },
    {
     "name": "stdout",
     "output_type": "stream",
     "text": [
      "C:\\Users\\Karl\\Desktop\\why didn't you choose me\\abstractImageTweakedpng\\abstractImageT702496.png\n"
     ]
    },
    {
     "name": "stderr",
     "output_type": "stream",
     "text": [
      "<ipython-input-9-2b69156255fe>:55: UserWarning: C:\\Users\\Karl\\Desktop\\why didn't you choose me\\abstractImageTweakedpng\\abstractImageT702496.png is a low contrast image\n",
      "  imsave(filePath, image)\n"
     ]
    },
    {
     "name": "stdout",
     "output_type": "stream",
     "text": [
      "C:\\Users\\Karl\\Desktop\\why didn't you choose me\\abstractImageTweakedpng\\abstractImageT702497.png\n"
     ]
    },
    {
     "name": "stderr",
     "output_type": "stream",
     "text": [
      "<ipython-input-9-2b69156255fe>:55: UserWarning: C:\\Users\\Karl\\Desktop\\why didn't you choose me\\abstractImageTweakedpng\\abstractImageT702497.png is a low contrast image\n",
      "  imsave(filePath, image)\n"
     ]
    },
    {
     "name": "stdout",
     "output_type": "stream",
     "text": [
      "C:\\Users\\Karl\\Desktop\\why didn't you choose me\\abstractImageTweakedpng\\abstractImageT702498.png\n"
     ]
    },
    {
     "name": "stderr",
     "output_type": "stream",
     "text": [
      "<ipython-input-9-2b69156255fe>:55: UserWarning: C:\\Users\\Karl\\Desktop\\why didn't you choose me\\abstractImageTweakedpng\\abstractImageT702498.png is a low contrast image\n",
      "  imsave(filePath, image)\n"
     ]
    },
    {
     "name": "stdout",
     "output_type": "stream",
     "text": [
      "C:\\Users\\Karl\\Desktop\\why didn't you choose me\\abstractImageTweakedpng\\abstractImageT702499.png\n"
     ]
    },
    {
     "name": "stderr",
     "output_type": "stream",
     "text": [
      "<ipython-input-9-2b69156255fe>:55: UserWarning: C:\\Users\\Karl\\Desktop\\why didn't you choose me\\abstractImageTweakedpng\\abstractImageT702499.png is a low contrast image\n",
      "  imsave(filePath, image)\n"
     ]
    },
    {
     "name": "stdout",
     "output_type": "stream",
     "text": [
      "C:\\Users\\Karl\\Desktop\\why didn't you choose me\\abstractImageTweakedpng\\abstractImageT702500.png\n"
     ]
    },
    {
     "name": "stderr",
     "output_type": "stream",
     "text": [
      "<ipython-input-9-2b69156255fe>:55: UserWarning: C:\\Users\\Karl\\Desktop\\why didn't you choose me\\abstractImageTweakedpng\\abstractImageT702500.png is a low contrast image\n",
      "  imsave(filePath, image)\n"
     ]
    }
   ],
   "source": [
    "seed(1)\n",
    "image = io.imread(r\"C:\\Users\\Karl\\Desktop\\abstractImage.png\")\n",
    "size = image.shape\n",
    "yRange = size[0] -2\n",
    "xRange = size[1] -2\n",
    "count = 0\n",
    "\n",
    "#create 2500 frames. Can always omit frames during editing \n",
    "for l in range (0, 2500):\n",
    "  count += 1\n",
    "    #iterate over every pixel \n",
    "  for x in range (0, xRange):\n",
    "    for y in range (0, yRange):\n",
    "        \n",
    "        #how many pixels away will we swap with\n",
    "      jump = randint(1, maxJump)\n",
    "        #get random number to determine direction pixel travels\n",
    "      choice = randint(1,100)\n",
    "         #what cluster are we moving toward \n",
    "      cluster = findMainColor(image[y,x])\n",
    "    \n",
    "        #determine directions that move toward the cluster \n",
    "      right = goRight([y,x], cluster)\n",
    "      down = goDown([y,x], cluster)\n",
    "      \n",
    "        #move toward cluster in x axis \n",
    "      if choice <=  clusterCoefficient/2:\n",
    "        if right:\n",
    "            if x + jump <= xRange:\n",
    "                image[y,x], image[y,x+jump] = image[y,x+jump], image[y,x] \n",
    "        else:\n",
    "            if x - jump >= 0:\n",
    "                image[y,x], image[y,x-jump] = image[y,x-jump], image[y,x] \n",
    "        #move toward cluster in y axis\n",
    "      elif choice <=  clusterCoefficient:\n",
    "         if down:\n",
    "            if y + jump <= yRange:\n",
    "                image[y,x], image[y+jump,x] = image[y+jump,x], image[y,x] \n",
    "            \n",
    "         else:\n",
    "            if y - jump >= 0:\n",
    "                image[y,x], image[y-jump,x] = image[y-jump,x], image[y,x] \n",
    "          #move away from cluser in x axis       \n",
    "      elif choice <= clusterCoefficient + clusterCoefficient/2 :\n",
    "        if right:\n",
    "            if x - jump >= 0:\n",
    "                image[y,x], image[y,x-jump] = image[y,x-jump], image[y,x] \n",
    "        else: \n",
    "            if x + jump <= xRange:\n",
    "                image[y,x], image[y,x+jump] = image[y,x+jump], image[y,x] \n",
    "         #move away from cluster in y axis \n",
    "      else :\n",
    "        if down:\n",
    "             if y - jump >= 0:\n",
    "                image[y,x], image[y-jump,x] = image[y-jump,x], image[y,x] \n",
    "        else: \n",
    "           \n",
    "            if y + jump <= yRange:\n",
    "                image[y,x], image[y+jump,x] = image[y+jump,x], image[y,x] \n",
    "          #save file          \n",
    "  filePath = r\"C:\\Users\\Karl\\Desktop\\why didn't you choose me\\abstractImageTweakedpng\\abstractImageT70\" + f\"{count:04d}\" + \".png\" \n",
    "  print(filePath)\n",
    "  imsave(filePath, image)"
   ]
  },
  {
   "cell_type": "code",
   "execution_count": null,
   "id": "registered-covering",
   "metadata": {},
   "outputs": [],
   "source": []
  },
  {
   "cell_type": "code",
   "execution_count": null,
   "id": "listed-junior",
   "metadata": {},
   "outputs": [],
   "source": []
  }
 ],
 "metadata": {
  "kernelspec": {
   "display_name": "Python 3",
   "language": "python",
   "name": "python3"
  },
  "language_info": {
   "codemirror_mode": {
    "name": "ipython",
    "version": 3
   },
   "file_extension": ".py",
   "mimetype": "text/x-python",
   "name": "python",
   "nbconvert_exporter": "python",
   "pygments_lexer": "ipython3",
   "version": "3.9.7"
  }
 },
 "nbformat": 4,
 "nbformat_minor": 5
}
